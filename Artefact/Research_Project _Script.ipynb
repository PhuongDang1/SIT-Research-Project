{
  "nbformat": 4,
  "nbformat_minor": 0,
  "metadata": {
    "colab": {
      "name": "Current Research Project script.ipynb",
      "provenance": [],
      "collapsed_sections": [],
      "authorship_tag": "ABX9TyPVmardPGuDjFXa5uIrq8+V",
      "include_colab_link": true
    },
    "kernelspec": {
      "name": "python3",
      "display_name": "Python 3"
    },
    "language_info": {
      "name": "python"
    }
  },
  "cells": [
    {
      "cell_type": "markdown",
      "metadata": {
        "id": "view-in-github",
        "colab_type": "text"
      },
      "source": [
        "<a href=\"https://colab.research.google.com/github/PhuongDang1/SIT-Research-Project/blob/main/Artefact/Research_Project%20_Script.ipynb\" target=\"_parent\"><img src=\"https://colab.research.google.com/assets/colab-badge.svg\" alt=\"Open In Colab\"/></a>"
      ]
    },
    {
      "cell_type": "markdown",
      "metadata": {
        "id": "qPvksnLGpUvI"
      },
      "source": [
        "# **Loading Relevant Libraries**"
      ]
    },
    {
      "cell_type": "code",
      "metadata": {
        "colab": {
          "base_uri": "https://localhost:8080/"
        },
        "id": "0_PLx2vk5shp",
        "outputId": "17bb2bcc-22a0-4e74-8428-89ba2bc6b2f2"
      },
      "source": [
        "%tensorflow_version 2.x\n",
        "import pandas as pd\n",
        "import numpy as np\n",
        "from math import sqrt\n",
        "from numpy import concatenate\n",
        "from matplotlib import pyplot\n",
        "from pandas import DataFrame, concat\n",
        "from sklearn.preprocessing import MinMaxScaler, LabelEncoder\n",
        "from sklearn.metrics import mean_squared_error\n",
        "from keras.models import Sequential\n",
        "from keras.layers import LSTM, GRU,Reshape, Dense\n",
        "from numpy import array\n",
        "import tensorflow as tf\n",
        "from datetime import datetime\n",
        "from google.colab import drive\n",
        "import matplotlib.pyplot as plt\n",
        "from sklearn.metrics import accuracy_score, precision_score, recall_score\n",
        "from sklearn.model_selection import train_test_split\n",
        "from tensorflow.keras import layers, losses\n",
        "from tensorflow.keras.models import Model\n",
        "\n",
        "drive.mount('/content/drive')"
      ],
      "execution_count": 1,
      "outputs": [
        {
          "output_type": "stream",
          "name": "stdout",
          "text": [
            "Mounted at /content/drive\n"
          ]
        }
      ]
    },
    {
      "cell_type": "markdown",
      "metadata": {
        "id": "BLoJRwCzz8HW"
      },
      "source": [
        "# **Loading the data into a variable**"
      ]
    },
    {
      "cell_type": "code",
      "metadata": {
        "colab": {
          "base_uri": "https://localhost:8080/",
          "height": 414
        },
        "id": "4WIvnOxz6D5n",
        "outputId": "8ee5dd57-d7c6-4528-8e4b-8d4bd01824ef"
      },
      "source": [
        "dataset = pd.read_excel(\"/content/drive/My Drive/Covid_Dataset.xlsx\")\n",
        "dataset"
      ],
      "execution_count": 2,
      "outputs": [
        {
          "output_type": "execute_result",
          "data": {
            "text/html": [
              "<div>\n",
              "<style scoped>\n",
              "    .dataframe tbody tr th:only-of-type {\n",
              "        vertical-align: middle;\n",
              "    }\n",
              "\n",
              "    .dataframe tbody tr th {\n",
              "        vertical-align: top;\n",
              "    }\n",
              "\n",
              "    .dataframe thead th {\n",
              "        text-align: right;\n",
              "    }\n",
              "</style>\n",
              "<table border=\"1\" class=\"dataframe\">\n",
              "  <thead>\n",
              "    <tr style=\"text-align: right;\">\n",
              "      <th></th>\n",
              "      <th>dateRep</th>\n",
              "      <th>cases</th>\n",
              "      <th>deaths</th>\n",
              "      <th>countriesAndTerritories</th>\n",
              "      <th>Population Density 2020 (P/KM2)</th>\n",
              "      <th>continentExp</th>\n",
              "      <th>Wind Speed Minimum</th>\n",
              "      <th>Wind Speed Maximum</th>\n",
              "      <th>Wind Speed Median</th>\n",
              "      <th>Wind Speed Variance</th>\n",
              "    </tr>\n",
              "  </thead>\n",
              "  <tbody>\n",
              "    <tr>\n",
              "      <th>0</th>\n",
              "      <td>2019-12-31</td>\n",
              "      <td>0</td>\n",
              "      <td>0</td>\n",
              "      <td>India</td>\n",
              "      <td>464</td>\n",
              "      <td>Asia</td>\n",
              "      <td>0.4</td>\n",
              "      <td>2.2</td>\n",
              "      <td>1.7</td>\n",
              "      <td>3.58</td>\n",
              "    </tr>\n",
              "    <tr>\n",
              "      <th>1</th>\n",
              "      <td>2020-01-01</td>\n",
              "      <td>0</td>\n",
              "      <td>0</td>\n",
              "      <td>India</td>\n",
              "      <td>464</td>\n",
              "      <td>Asia</td>\n",
              "      <td>0.5</td>\n",
              "      <td>2.6</td>\n",
              "      <td>0.8</td>\n",
              "      <td>4.89</td>\n",
              "    </tr>\n",
              "    <tr>\n",
              "      <th>2</th>\n",
              "      <td>2020-01-02</td>\n",
              "      <td>0</td>\n",
              "      <td>0</td>\n",
              "      <td>India</td>\n",
              "      <td>464</td>\n",
              "      <td>Asia</td>\n",
              "      <td>0.5</td>\n",
              "      <td>1.6</td>\n",
              "      <td>0.7</td>\n",
              "      <td>1.40</td>\n",
              "    </tr>\n",
              "    <tr>\n",
              "      <th>3</th>\n",
              "      <td>2020-01-03</td>\n",
              "      <td>0</td>\n",
              "      <td>0</td>\n",
              "      <td>India</td>\n",
              "      <td>464</td>\n",
              "      <td>Asia</td>\n",
              "      <td>0.1</td>\n",
              "      <td>9.9</td>\n",
              "      <td>0.9</td>\n",
              "      <td>20.86</td>\n",
              "    </tr>\n",
              "    <tr>\n",
              "      <th>4</th>\n",
              "      <td>2020-01-04</td>\n",
              "      <td>0</td>\n",
              "      <td>0</td>\n",
              "      <td>India</td>\n",
              "      <td>464</td>\n",
              "      <td>Asia</td>\n",
              "      <td>0.1</td>\n",
              "      <td>11.8</td>\n",
              "      <td>0.8</td>\n",
              "      <td>20.96</td>\n",
              "    </tr>\n",
              "    <tr>\n",
              "      <th>...</th>\n",
              "      <td>...</td>\n",
              "      <td>...</td>\n",
              "      <td>...</td>\n",
              "      <td>...</td>\n",
              "      <td>...</td>\n",
              "      <td>...</td>\n",
              "      <td>...</td>\n",
              "      <td>...</td>\n",
              "      <td>...</td>\n",
              "      <td>...</td>\n",
              "    </tr>\n",
              "    <tr>\n",
              "      <th>1387</th>\n",
              "      <td>2020-12-10</td>\n",
              "      <td>220025</td>\n",
              "      <td>3124</td>\n",
              "      <td>United_States_of_America</td>\n",
              "      <td>36</td>\n",
              "      <td>America</td>\n",
              "      <td>0.1</td>\n",
              "      <td>18.0</td>\n",
              "      <td>3.8</td>\n",
              "      <td>114.01</td>\n",
              "    </tr>\n",
              "    <tr>\n",
              "      <th>1388</th>\n",
              "      <td>2020-12-11</td>\n",
              "      <td>224680</td>\n",
              "      <td>2748</td>\n",
              "      <td>United_States_of_America</td>\n",
              "      <td>36</td>\n",
              "      <td>America</td>\n",
              "      <td>0.1</td>\n",
              "      <td>12.0</td>\n",
              "      <td>2.5</td>\n",
              "      <td>51.39</td>\n",
              "    </tr>\n",
              "    <tr>\n",
              "      <th>1389</th>\n",
              "      <td>2020-12-12</td>\n",
              "      <td>234633</td>\n",
              "      <td>3343</td>\n",
              "      <td>United_States_of_America</td>\n",
              "      <td>36</td>\n",
              "      <td>America</td>\n",
              "      <td>0.1</td>\n",
              "      <td>8.5</td>\n",
              "      <td>2.5</td>\n",
              "      <td>25.50</td>\n",
              "    </tr>\n",
              "    <tr>\n",
              "      <th>1390</th>\n",
              "      <td>2020-12-13</td>\n",
              "      <td>216017</td>\n",
              "      <td>2315</td>\n",
              "      <td>United_States_of_America</td>\n",
              "      <td>36</td>\n",
              "      <td>America</td>\n",
              "      <td>0.8</td>\n",
              "      <td>15.0</td>\n",
              "      <td>3.6</td>\n",
              "      <td>77.38</td>\n",
              "    </tr>\n",
              "    <tr>\n",
              "      <th>1391</th>\n",
              "      <td>2020-12-14</td>\n",
              "      <td>189723</td>\n",
              "      <td>1340</td>\n",
              "      <td>United_States_of_America</td>\n",
              "      <td>36</td>\n",
              "      <td>America</td>\n",
              "      <td>0.2</td>\n",
              "      <td>18.0</td>\n",
              "      <td>3.8</td>\n",
              "      <td>126.47</td>\n",
              "    </tr>\n",
              "  </tbody>\n",
              "</table>\n",
              "<p>1392 rows × 10 columns</p>\n",
              "</div>"
            ],
            "text/plain": [
              "        dateRep   cases  ...  Wind Speed Median Wind Speed Variance\n",
              "0    2019-12-31       0  ...                1.7                3.58\n",
              "1    2020-01-01       0  ...                0.8                4.89\n",
              "2    2020-01-02       0  ...                0.7                1.40\n",
              "3    2020-01-03       0  ...                0.9               20.86\n",
              "4    2020-01-04       0  ...                0.8               20.96\n",
              "...         ...     ...  ...                ...                 ...\n",
              "1387 2020-12-10  220025  ...                3.8              114.01\n",
              "1388 2020-12-11  224680  ...                2.5               51.39\n",
              "1389 2020-12-12  234633  ...                2.5               25.50\n",
              "1390 2020-12-13  216017  ...                3.6               77.38\n",
              "1391 2020-12-14  189723  ...                3.8              126.47\n",
              "\n",
              "[1392 rows x 10 columns]"
            ]
          },
          "metadata": {},
          "execution_count": 2
        }
      ]
    },
    {
      "cell_type": "markdown",
      "metadata": {
        "id": "TsX5gyeDs9Qd"
      },
      "source": [
        "# **Preprocessing for confirmed cases test only**"
      ]
    },
    {
      "cell_type": "code",
      "metadata": {
        "id": "feBGtxJN78LO"
      },
      "source": [
        "new_index = dataset.iloc[:,0]\n",
        "new_index\n",
        "values = dataset.set_index(new_index)\n",
        "values = values.iloc[:,1:]\n",
        "values = values.iloc[:1500,0:2].astype('float32')\n",
        "values\n",
        "labels = dataset.iloc[:1500,-9]\n",
        "labels\n",
        "\n",
        "from sklearn.model_selection import train_test_split\n",
        "train_data, test_data, train_labels, test_labels = train_test_split(values, labels, test_size=0.20, random_state=88)"
      ],
      "execution_count": 3,
      "outputs": []
    },
    {
      "cell_type": "code",
      "metadata": {
        "id": "PHjKjPNa8GQF"
      },
      "source": [
        "train_labels = pd.array(train_labels)\n",
        "test_labels = pd.array(test_labels)"
      ],
      "execution_count": 4,
      "outputs": []
    },
    {
      "cell_type": "code",
      "metadata": {
        "colab": {
          "base_uri": "https://localhost:8080/"
        },
        "id": "JvCSz4lV8IAd",
        "outputId": "04c5cd5f-bb14-43c3-fd73-45fd2b20b8ba"
      },
      "source": [
        "train = train_data\n",
        "scalers={}\n",
        "for i in train_data.columns:\n",
        "    scaler = MinMaxScaler(feature_range=(-1,1))\n",
        "    s_s = scaler.fit_transform(train[i].values.reshape(-1,1))\n",
        "    s_s= np.reshape(s_s,len(s_s))\n",
        "    scalers['scaler_'+ i] = scaler\n",
        "    train[i]=s_s\n",
        "test = test_data\n",
        "for i in test_data.columns:\n",
        "    scaler = scalers['scaler_'+i]\n",
        "    s_s = scaler.transform(test[i].values.reshape(-1,1))\n",
        "    s_s= np.reshape(s_s,len(s_s))\n",
        "    scalers['scaler_'+i] = scaler\n",
        "    test[i]=s_s"
      ],
      "execution_count": 5,
      "outputs": [
        {
          "output_type": "stream",
          "name": "stderr",
          "text": [
            "/usr/local/lib/python3.7/dist-packages/ipykernel_launcher.py:8: SettingWithCopyWarning: \n",
            "A value is trying to be set on a copy of a slice from a DataFrame.\n",
            "Try using .loc[row_indexer,col_indexer] = value instead\n",
            "\n",
            "See the caveats in the documentation: https://pandas.pydata.org/pandas-docs/stable/user_guide/indexing.html#returning-a-view-versus-a-copy\n",
            "  \n",
            "/usr/local/lib/python3.7/dist-packages/ipykernel_launcher.py:8: SettingWithCopyWarning: \n",
            "A value is trying to be set on a copy of a slice from a DataFrame.\n",
            "Try using .loc[row_indexer,col_indexer] = value instead\n",
            "\n",
            "See the caveats in the documentation: https://pandas.pydata.org/pandas-docs/stable/user_guide/indexing.html#returning-a-view-versus-a-copy\n",
            "  \n",
            "/usr/local/lib/python3.7/dist-packages/ipykernel_launcher.py:15: SettingWithCopyWarning: \n",
            "A value is trying to be set on a copy of a slice from a DataFrame.\n",
            "Try using .loc[row_indexer,col_indexer] = value instead\n",
            "\n",
            "See the caveats in the documentation: https://pandas.pydata.org/pandas-docs/stable/user_guide/indexing.html#returning-a-view-versus-a-copy\n",
            "  from ipykernel import kernelapp as app\n",
            "/usr/local/lib/python3.7/dist-packages/ipykernel_launcher.py:15: SettingWithCopyWarning: \n",
            "A value is trying to be set on a copy of a slice from a DataFrame.\n",
            "Try using .loc[row_indexer,col_indexer] = value instead\n",
            "\n",
            "See the caveats in the documentation: https://pandas.pydata.org/pandas-docs/stable/user_guide/indexing.html#returning-a-view-versus-a-copy\n",
            "  from ipykernel import kernelapp as app\n"
          ]
        }
      ]
    },
    {
      "cell_type": "code",
      "metadata": {
        "id": "fzswL_oS8J-F"
      },
      "source": [
        "def split_series(series, n_past, n_future):\n",
        "  # n_past ==> no of past observations\n",
        "  # n_future ==> no of future observations \n",
        "  X, y = list(), list()\n",
        "  for window_start in range(len(series)):\n",
        "    past_end = window_start + n_past\n",
        "    future_end = past_end + n_future\n",
        "    if future_end > len(series):\n",
        "      break\n",
        "    # slicing the past and future parts of the window\n",
        "    past, future = series[window_start:past_end, :], series[past_end:future_end, :]\n",
        "    X.append(past)\n",
        "    y.append(future)\n",
        "  return np.array(X), np.array(y)"
      ],
      "execution_count": 6,
      "outputs": []
    },
    {
      "cell_type": "code",
      "metadata": {
        "id": "wjtIUR4E8Ldd"
      },
      "source": [
        "n_past = 10\n",
        "n_future = 20\n",
        "n_features = 2"
      ],
      "execution_count": 7,
      "outputs": []
    },
    {
      "cell_type": "code",
      "metadata": {
        "id": "kbFW1_eq8Nk2"
      },
      "source": [
        "X_train, y_train = split_series(train.values,n_past, n_future)\n",
        "X_train = X_train.reshape((X_train.shape[0], X_train.shape[1],n_features))\n",
        "y_train = y_train.reshape((y_train.shape[0], y_train.shape[1], n_features))\n",
        "X_test, y_test = split_series(test.values,n_past, n_future)\n",
        "X_test = X_test.reshape((X_test.shape[0], X_test.shape[1], n_features))\n",
        "y_test = y_test.reshape((y_test.shape[0], y_test.shape[1], n_features))"
      ],
      "execution_count": 8,
      "outputs": []
    },
    {
      "cell_type": "markdown",
      "metadata": {
        "id": "i-1pZwP42yJR"
      },
      "source": [
        "# **Designing the Model of LSTM**"
      ]
    },
    {
      "cell_type": "code",
      "metadata": {
        "colab": {
          "base_uri": "https://localhost:8080/"
        },
        "id": "cn9YcsGO8ZZI",
        "outputId": "ee31b282-d0ba-4d32-a0f1-6dae40c7610c"
      },
      "source": [
        "#LSTM\n",
        "encoder_inputs = tf.keras.layers.Input(shape=(n_past, n_features))\n",
        "encoder_l1 = tf.keras.layers.LSTM(2, activation='tanh',return_state=True) \n",
        "encoder_outputs1 = encoder_l1(encoder_inputs)\n",
        "encoder_states1 = encoder_outputs1[1:]\n",
        "decoder_inputs = tf.keras.layers.RepeatVector(n_future)(encoder_outputs1[0])\n",
        "decoder_l1 = tf.keras.layers.LSTM(2, return_sequences=True)(decoder_inputs,initial_state = encoder_states1)\n",
        "decoder_outputs1 = tf.keras.layers.TimeDistributed(tf.keras.layers.Dense(n_features))(decoder_l1)\n",
        "model_LSTM = tf.keras.models.Model(encoder_inputs,decoder_outputs1)\n",
        "\n",
        "model_LSTM.summary()"
      ],
      "execution_count": 15,
      "outputs": [
        {
          "output_type": "stream",
          "name": "stdout",
          "text": [
            "Model: \"model_2\"\n",
            "__________________________________________________________________________________________________\n",
            "Layer (type)                    Output Shape         Param #     Connected to                     \n",
            "==================================================================================================\n",
            "input_3 (InputLayer)            [(None, 10, 2)]      0                                            \n",
            "__________________________________________________________________________________________________\n",
            "lstm_4 (LSTM)                   [(None, 2), (None, 2 40          input_3[0][0]                    \n",
            "__________________________________________________________________________________________________\n",
            "repeat_vector_2 (RepeatVector)  (None, 20, 2)        0           lstm_4[0][0]                     \n",
            "__________________________________________________________________________________________________\n",
            "lstm_5 (LSTM)                   (None, 20, 2)        40          repeat_vector_2[0][0]            \n",
            "                                                                 lstm_4[0][1]                     \n",
            "                                                                 lstm_4[0][2]                     \n",
            "__________________________________________________________________________________________________\n",
            "time_distributed_2 (TimeDistrib (None, 20, 2)        6           lstm_5[0][0]                     \n",
            "==================================================================================================\n",
            "Total params: 86\n",
            "Trainable params: 86\n",
            "Non-trainable params: 0\n",
            "__________________________________________________________________________________________________\n"
          ]
        }
      ]
    },
    {
      "cell_type": "code",
      "metadata": {
        "id": "tCloTAYN-Srl"
      },
      "source": [
        "from keras import backend as K\n",
        "\n",
        "def mean_squared_error(y_true, y_pred):\n",
        "    return K.mean(K.square(y_pred - y_true), axis=-1)"
      ],
      "execution_count": 16,
      "outputs": []
    },
    {
      "cell_type": "markdown",
      "metadata": {
        "id": "RqbJMggvDxIN"
      },
      "source": [
        "# **Training of LSTM and evaluation**"
      ]
    },
    {
      "cell_type": "code",
      "metadata": {
        "colab": {
          "base_uri": "https://localhost:8080/"
        },
        "id": "DsWkacIG8e_F",
        "outputId": "752f5990-a9b9-4922-8461-1468deea87a5"
      },
      "source": [
        "reduce_lr = tf.keras.callbacks.LearningRateScheduler(lambda x: 1e-3 * 0.90 ** x)\n",
        "\n",
        "#loss test\n",
        "model_LSTM.compile(optimizer=tf.keras.optimizers.Adam(learning_rate=.1e-3), loss=tf.keras.losses.MeanSquaredError(),metrics=['accuracy', 'mean_squared_error'])\n",
        "#model_LSTM.compile(optimizer=tf.keras.optimizers.Adam(learning_rate=.1e-3), loss=tf.keras.losses.binary_crossentropy,metrics=['accuracy',mean_squared_error])\n",
        "#model_LSTM.compile(optimizer=tf.keras.optimizers.Adam(learning_rate=.1e-3), loss=tf.keras.losses.categorical_crossentropy,metrics=['accuracy',mean_squared_error])\n",
        "#model_LSTM.compile(optimizer=tf.keras.optimizers.Adam(learning_rate=.1e-3), loss=tf.keras.losses.MeanSquaredError(),metrics=['accuracy',mean_squared_error])\n",
        "\n",
        "#optimizer test\n",
        "#model_LSTM.compile(optimizer=tf.keras.optimizers.SGD(learning_rate=.1e-3), loss=tf.keras.losses.Huber(),metrics=['accuracy',mean_squared_error])\n",
        "#model_LSTM.compile(optimizer=tf.keras.optimizers.RMSprop(learning_rate=.1e-3), loss=tf.keras.losses.Huber(),metrics=['accuracy',mean_squared_error])\n",
        "#model_LSTM.compile(optimizer=tf.keras.optimizers.Adadelta(learning_rate=.1e-3), loss=tf.keras.losses.Huber(),metrics=['accuracy',mean_squared_error])\n",
        "\n",
        "history_LSTM = model_LSTM.fit(X_train,y_train,epochs=100,validation_data=(X_test,y_test),batch_size=25,verbose=1,callbacks=[reduce_lr])"
      ],
      "execution_count": 17,
      "outputs": [
        {
          "output_type": "stream",
          "name": "stdout",
          "text": [
            "Epoch 1/100\n",
            "44/44 [==============================] - 4s 32ms/step - loss: 0.6065 - accuracy: 0.4565 - mean_squared_error: 0.6065 - val_loss: 0.4885 - val_accuracy: 0.4138 - val_mean_squared_error: 0.4885\n",
            "Epoch 2/100\n",
            "44/44 [==============================] - 1s 14ms/step - loss: 0.3821 - accuracy: 0.4589 - mean_squared_error: 0.3821 - val_loss: 0.2763 - val_accuracy: 0.4228 - val_mean_squared_error: 0.2763\n",
            "Epoch 3/100\n",
            "44/44 [==============================] - 1s 14ms/step - loss: 0.2184 - accuracy: 0.4611 - mean_squared_error: 0.2184 - val_loss: 0.1601 - val_accuracy: 0.4262 - val_mean_squared_error: 0.1601\n",
            "Epoch 4/100\n",
            "44/44 [==============================] - 1s 12ms/step - loss: 0.1391 - accuracy: 0.4626 - mean_squared_error: 0.1391 - val_loss: 0.1081 - val_accuracy: 0.4338 - val_mean_squared_error: 0.1081\n",
            "Epoch 5/100\n",
            "44/44 [==============================] - 1s 12ms/step - loss: 0.1044 - accuracy: 0.4649 - mean_squared_error: 0.1044 - val_loss: 0.0850 - val_accuracy: 0.4336 - val_mean_squared_error: 0.0850\n",
            "Epoch 6/100\n",
            "44/44 [==============================] - 1s 13ms/step - loss: 0.0889 - accuracy: 0.4650 - mean_squared_error: 0.0889 - val_loss: 0.0740 - val_accuracy: 0.4334 - val_mean_squared_error: 0.0740\n",
            "Epoch 7/100\n",
            "44/44 [==============================] - 1s 13ms/step - loss: 0.0816 - accuracy: 0.4649 - mean_squared_error: 0.0816 - val_loss: 0.0685 - val_accuracy: 0.4334 - val_mean_squared_error: 0.0685\n",
            "Epoch 8/100\n",
            "44/44 [==============================] - 1s 15ms/step - loss: 0.0778 - accuracy: 0.4663 - mean_squared_error: 0.0778 - val_loss: 0.0654 - val_accuracy: 0.4434 - val_mean_squared_error: 0.0654\n",
            "Epoch 9/100\n",
            "44/44 [==============================] - 1s 12ms/step - loss: 0.0758 - accuracy: 0.4691 - mean_squared_error: 0.0758 - val_loss: 0.0636 - val_accuracy: 0.4428 - val_mean_squared_error: 0.0636\n",
            "Epoch 10/100\n",
            "44/44 [==============================] - 1s 13ms/step - loss: 0.0745 - accuracy: 0.4692 - mean_squared_error: 0.0745 - val_loss: 0.0625 - val_accuracy: 0.4430 - val_mean_squared_error: 0.0625\n",
            "Epoch 11/100\n",
            "44/44 [==============================] - 1s 12ms/step - loss: 0.0737 - accuracy: 0.4720 - mean_squared_error: 0.0737 - val_loss: 0.0618 - val_accuracy: 0.4534 - val_mean_squared_error: 0.0618\n",
            "Epoch 12/100\n",
            "44/44 [==============================] - 1s 13ms/step - loss: 0.0732 - accuracy: 0.4735 - mean_squared_error: 0.0732 - val_loss: 0.0613 - val_accuracy: 0.4528 - val_mean_squared_error: 0.0613\n",
            "Epoch 13/100\n",
            "44/44 [==============================] - 1s 12ms/step - loss: 0.0728 - accuracy: 0.4737 - mean_squared_error: 0.0728 - val_loss: 0.0609 - val_accuracy: 0.4542 - val_mean_squared_error: 0.0609\n",
            "Epoch 14/100\n",
            "44/44 [==============================] - 1s 12ms/step - loss: 0.0726 - accuracy: 0.4767 - mean_squared_error: 0.0726 - val_loss: 0.0606 - val_accuracy: 0.4634 - val_mean_squared_error: 0.0606\n",
            "Epoch 15/100\n",
            "44/44 [==============================] - 1s 14ms/step - loss: 0.0723 - accuracy: 0.4781 - mean_squared_error: 0.0723 - val_loss: 0.0604 - val_accuracy: 0.4624 - val_mean_squared_error: 0.0604\n",
            "Epoch 16/100\n",
            "44/44 [==============================] - 1s 12ms/step - loss: 0.0722 - accuracy: 0.4785 - mean_squared_error: 0.0722 - val_loss: 0.0602 - val_accuracy: 0.4690 - val_mean_squared_error: 0.0602\n",
            "Epoch 17/100\n",
            "44/44 [==============================] - 1s 12ms/step - loss: 0.0721 - accuracy: 0.4806 - mean_squared_error: 0.0721 - val_loss: 0.0601 - val_accuracy: 0.4720 - val_mean_squared_error: 0.0601\n",
            "Epoch 18/100\n",
            "44/44 [==============================] - 1s 12ms/step - loss: 0.0719 - accuracy: 0.4826 - mean_squared_error: 0.0719 - val_loss: 0.0600 - val_accuracy: 0.4722 - val_mean_squared_error: 0.0600\n",
            "Epoch 19/100\n",
            "44/44 [==============================] - 1s 12ms/step - loss: 0.0719 - accuracy: 0.4825 - mean_squared_error: 0.0719 - val_loss: 0.0599 - val_accuracy: 0.4760 - val_mean_squared_error: 0.0599\n",
            "Epoch 20/100\n",
            "44/44 [==============================] - 1s 12ms/step - loss: 0.0718 - accuracy: 0.4858 - mean_squared_error: 0.0718 - val_loss: 0.0598 - val_accuracy: 0.4800 - val_mean_squared_error: 0.0598\n",
            "Epoch 21/100\n",
            "44/44 [==============================] - 1s 12ms/step - loss: 0.0717 - accuracy: 0.4864 - mean_squared_error: 0.0717 - val_loss: 0.0597 - val_accuracy: 0.4808 - val_mean_squared_error: 0.0597\n",
            "Epoch 22/100\n",
            "44/44 [==============================] - 1s 12ms/step - loss: 0.0717 - accuracy: 0.4866 - mean_squared_error: 0.0717 - val_loss: 0.0597 - val_accuracy: 0.4822 - val_mean_squared_error: 0.0597\n",
            "Epoch 23/100\n",
            "44/44 [==============================] - 1s 13ms/step - loss: 0.0716 - accuracy: 0.4888 - mean_squared_error: 0.0716 - val_loss: 0.0596 - val_accuracy: 0.4862 - val_mean_squared_error: 0.0596\n",
            "Epoch 24/100\n",
            "44/44 [==============================] - 1s 12ms/step - loss: 0.0716 - accuracy: 0.4907 - mean_squared_error: 0.0716 - val_loss: 0.0596 - val_accuracy: 0.4880 - val_mean_squared_error: 0.0596\n",
            "Epoch 25/100\n",
            "44/44 [==============================] - 1s 15ms/step - loss: 0.0715 - accuracy: 0.4916 - mean_squared_error: 0.0715 - val_loss: 0.0596 - val_accuracy: 0.4898 - val_mean_squared_error: 0.0596\n",
            "Epoch 26/100\n",
            "44/44 [==============================] - 1s 15ms/step - loss: 0.0715 - accuracy: 0.4919 - mean_squared_error: 0.0715 - val_loss: 0.0595 - val_accuracy: 0.4930 - val_mean_squared_error: 0.0595\n",
            "Epoch 27/100\n",
            "44/44 [==============================] - 1s 13ms/step - loss: 0.0715 - accuracy: 0.4933 - mean_squared_error: 0.0715 - val_loss: 0.0595 - val_accuracy: 0.4928 - val_mean_squared_error: 0.0595\n",
            "Epoch 28/100\n",
            "44/44 [==============================] - 1s 12ms/step - loss: 0.0714 - accuracy: 0.4949 - mean_squared_error: 0.0714 - val_loss: 0.0595 - val_accuracy: 0.4948 - val_mean_squared_error: 0.0595\n",
            "Epoch 29/100\n",
            "44/44 [==============================] - 1s 12ms/step - loss: 0.0714 - accuracy: 0.4952 - mean_squared_error: 0.0714 - val_loss: 0.0594 - val_accuracy: 0.4962 - val_mean_squared_error: 0.0594\n",
            "Epoch 30/100\n",
            "44/44 [==============================] - 1s 12ms/step - loss: 0.0714 - accuracy: 0.4949 - mean_squared_error: 0.0714 - val_loss: 0.0594 - val_accuracy: 0.4970 - val_mean_squared_error: 0.0594\n",
            "Epoch 31/100\n",
            "44/44 [==============================] - 1s 13ms/step - loss: 0.0714 - accuracy: 0.4961 - mean_squared_error: 0.0714 - val_loss: 0.0594 - val_accuracy: 0.4984 - val_mean_squared_error: 0.0594\n",
            "Epoch 32/100\n",
            "44/44 [==============================] - 1s 12ms/step - loss: 0.0714 - accuracy: 0.4976 - mean_squared_error: 0.0714 - val_loss: 0.0594 - val_accuracy: 0.4990 - val_mean_squared_error: 0.0594\n",
            "Epoch 33/100\n",
            "44/44 [==============================] - 1s 12ms/step - loss: 0.0713 - accuracy: 0.4985 - mean_squared_error: 0.0713 - val_loss: 0.0594 - val_accuracy: 0.4992 - val_mean_squared_error: 0.0594\n",
            "Epoch 34/100\n",
            "44/44 [==============================] - 1s 12ms/step - loss: 0.0713 - accuracy: 0.4982 - mean_squared_error: 0.0713 - val_loss: 0.0593 - val_accuracy: 0.4996 - val_mean_squared_error: 0.0593\n",
            "Epoch 35/100\n",
            "44/44 [==============================] - 1s 12ms/step - loss: 0.0713 - accuracy: 0.4988 - mean_squared_error: 0.0713 - val_loss: 0.0593 - val_accuracy: 0.5004 - val_mean_squared_error: 0.0593\n",
            "Epoch 36/100\n",
            "44/44 [==============================] - 1s 12ms/step - loss: 0.0713 - accuracy: 0.5001 - mean_squared_error: 0.0713 - val_loss: 0.0593 - val_accuracy: 0.5024 - val_mean_squared_error: 0.0593\n",
            "Epoch 37/100\n",
            "44/44 [==============================] - 1s 12ms/step - loss: 0.0713 - accuracy: 0.5003 - mean_squared_error: 0.0713 - val_loss: 0.0593 - val_accuracy: 0.5056 - val_mean_squared_error: 0.0593\n",
            "Epoch 38/100\n",
            "44/44 [==============================] - 0s 11ms/step - loss: 0.0713 - accuracy: 0.5021 - mean_squared_error: 0.0713 - val_loss: 0.0593 - val_accuracy: 0.5058 - val_mean_squared_error: 0.0593\n",
            "Epoch 39/100\n",
            "44/44 [==============================] - 1s 13ms/step - loss: 0.0713 - accuracy: 0.5026 - mean_squared_error: 0.0713 - val_loss: 0.0593 - val_accuracy: 0.5090 - val_mean_squared_error: 0.0593\n",
            "Epoch 40/100\n",
            "44/44 [==============================] - 1s 12ms/step - loss: 0.0713 - accuracy: 0.5028 - mean_squared_error: 0.0713 - val_loss: 0.0593 - val_accuracy: 0.5112 - val_mean_squared_error: 0.0593\n",
            "Epoch 41/100\n",
            "44/44 [==============================] - 1s 13ms/step - loss: 0.0713 - accuracy: 0.5030 - mean_squared_error: 0.0713 - val_loss: 0.0593 - val_accuracy: 0.5100 - val_mean_squared_error: 0.0593\n",
            "Epoch 42/100\n",
            "44/44 [==============================] - 1s 13ms/step - loss: 0.0713 - accuracy: 0.5037 - mean_squared_error: 0.0713 - val_loss: 0.0593 - val_accuracy: 0.5110 - val_mean_squared_error: 0.0593\n",
            "Epoch 43/100\n",
            "44/44 [==============================] - 1s 12ms/step - loss: 0.0713 - accuracy: 0.5037 - mean_squared_error: 0.0713 - val_loss: 0.0593 - val_accuracy: 0.5116 - val_mean_squared_error: 0.0593\n",
            "Epoch 44/100\n",
            "44/44 [==============================] - 1s 12ms/step - loss: 0.0712 - accuracy: 0.5036 - mean_squared_error: 0.0712 - val_loss: 0.0593 - val_accuracy: 0.5114 - val_mean_squared_error: 0.0593\n",
            "Epoch 45/100\n",
            "44/44 [==============================] - 1s 12ms/step - loss: 0.0712 - accuracy: 0.5042 - mean_squared_error: 0.0712 - val_loss: 0.0593 - val_accuracy: 0.5106 - val_mean_squared_error: 0.0593\n",
            "Epoch 46/100\n",
            "44/44 [==============================] - 1s 13ms/step - loss: 0.0712 - accuracy: 0.5043 - mean_squared_error: 0.0712 - val_loss: 0.0593 - val_accuracy: 0.5118 - val_mean_squared_error: 0.0593\n",
            "Epoch 47/100\n",
            "44/44 [==============================] - 1s 12ms/step - loss: 0.0712 - accuracy: 0.5046 - mean_squared_error: 0.0712 - val_loss: 0.0593 - val_accuracy: 0.5118 - val_mean_squared_error: 0.0593\n",
            "Epoch 48/100\n",
            "44/44 [==============================] - 1s 12ms/step - loss: 0.0712 - accuracy: 0.5053 - mean_squared_error: 0.0712 - val_loss: 0.0593 - val_accuracy: 0.5134 - val_mean_squared_error: 0.0593\n",
            "Epoch 49/100\n",
            "44/44 [==============================] - 1s 13ms/step - loss: 0.0712 - accuracy: 0.5061 - mean_squared_error: 0.0712 - val_loss: 0.0593 - val_accuracy: 0.5142 - val_mean_squared_error: 0.0593\n",
            "Epoch 50/100\n",
            "44/44 [==============================] - 1s 14ms/step - loss: 0.0712 - accuracy: 0.5068 - mean_squared_error: 0.0712 - val_loss: 0.0592 - val_accuracy: 0.5136 - val_mean_squared_error: 0.0592\n",
            "Epoch 51/100\n",
            "44/44 [==============================] - 1s 12ms/step - loss: 0.0712 - accuracy: 0.5069 - mean_squared_error: 0.0712 - val_loss: 0.0592 - val_accuracy: 0.5134 - val_mean_squared_error: 0.0592\n",
            "Epoch 52/100\n",
            "44/44 [==============================] - 1s 13ms/step - loss: 0.0712 - accuracy: 0.5072 - mean_squared_error: 0.0712 - val_loss: 0.0592 - val_accuracy: 0.5142 - val_mean_squared_error: 0.0592\n",
            "Epoch 53/100\n",
            "44/44 [==============================] - 1s 13ms/step - loss: 0.0712 - accuracy: 0.5068 - mean_squared_error: 0.0712 - val_loss: 0.0592 - val_accuracy: 0.5136 - val_mean_squared_error: 0.0592\n",
            "Epoch 54/100\n",
            "44/44 [==============================] - 1s 12ms/step - loss: 0.0712 - accuracy: 0.5069 - mean_squared_error: 0.0712 - val_loss: 0.0592 - val_accuracy: 0.5142 - val_mean_squared_error: 0.0592\n",
            "Epoch 55/100\n",
            "44/44 [==============================] - 1s 13ms/step - loss: 0.0712 - accuracy: 0.5074 - mean_squared_error: 0.0712 - val_loss: 0.0592 - val_accuracy: 0.5144 - val_mean_squared_error: 0.0592\n",
            "Epoch 56/100\n",
            "44/44 [==============================] - 1s 12ms/step - loss: 0.0712 - accuracy: 0.5074 - mean_squared_error: 0.0712 - val_loss: 0.0592 - val_accuracy: 0.5142 - val_mean_squared_error: 0.0592\n",
            "Epoch 57/100\n",
            "44/44 [==============================] - 1s 14ms/step - loss: 0.0712 - accuracy: 0.5077 - mean_squared_error: 0.0712 - val_loss: 0.0592 - val_accuracy: 0.5142 - val_mean_squared_error: 0.0592\n",
            "Epoch 58/100\n",
            "44/44 [==============================] - 1s 13ms/step - loss: 0.0712 - accuracy: 0.5073 - mean_squared_error: 0.0712 - val_loss: 0.0592 - val_accuracy: 0.5142 - val_mean_squared_error: 0.0592\n",
            "Epoch 59/100\n",
            "44/44 [==============================] - 1s 12ms/step - loss: 0.0712 - accuracy: 0.5071 - mean_squared_error: 0.0712 - val_loss: 0.0592 - val_accuracy: 0.5146 - val_mean_squared_error: 0.0592\n",
            "Epoch 60/100\n",
            "44/44 [==============================] - 1s 12ms/step - loss: 0.0712 - accuracy: 0.5071 - mean_squared_error: 0.0712 - val_loss: 0.0592 - val_accuracy: 0.5150 - val_mean_squared_error: 0.0592\n",
            "Epoch 61/100\n",
            "44/44 [==============================] - 1s 13ms/step - loss: 0.0712 - accuracy: 0.5070 - mean_squared_error: 0.0712 - val_loss: 0.0592 - val_accuracy: 0.5150 - val_mean_squared_error: 0.0592\n",
            "Epoch 62/100\n",
            "44/44 [==============================] - 1s 13ms/step - loss: 0.0712 - accuracy: 0.5069 - mean_squared_error: 0.0712 - val_loss: 0.0592 - val_accuracy: 0.5152 - val_mean_squared_error: 0.0592\n",
            "Epoch 63/100\n",
            "44/44 [==============================] - 1s 13ms/step - loss: 0.0712 - accuracy: 0.5069 - mean_squared_error: 0.0712 - val_loss: 0.0592 - val_accuracy: 0.5152 - val_mean_squared_error: 0.0592\n",
            "Epoch 64/100\n",
            "44/44 [==============================] - 1s 13ms/step - loss: 0.0712 - accuracy: 0.5071 - mean_squared_error: 0.0712 - val_loss: 0.0592 - val_accuracy: 0.5154 - val_mean_squared_error: 0.0592\n",
            "Epoch 65/100\n",
            "44/44 [==============================] - 1s 12ms/step - loss: 0.0712 - accuracy: 0.5071 - mean_squared_error: 0.0712 - val_loss: 0.0592 - val_accuracy: 0.5154 - val_mean_squared_error: 0.0592\n",
            "Epoch 66/100\n",
            "44/44 [==============================] - 1s 12ms/step - loss: 0.0712 - accuracy: 0.5072 - mean_squared_error: 0.0712 - val_loss: 0.0592 - val_accuracy: 0.5158 - val_mean_squared_error: 0.0592\n",
            "Epoch 67/100\n",
            "44/44 [==============================] - 1s 14ms/step - loss: 0.0712 - accuracy: 0.5071 - mean_squared_error: 0.0712 - val_loss: 0.0592 - val_accuracy: 0.5162 - val_mean_squared_error: 0.0592\n",
            "Epoch 68/100\n",
            "44/44 [==============================] - 1s 13ms/step - loss: 0.0712 - accuracy: 0.5068 - mean_squared_error: 0.0712 - val_loss: 0.0592 - val_accuracy: 0.5166 - val_mean_squared_error: 0.0592\n",
            "Epoch 69/100\n",
            "44/44 [==============================] - 1s 12ms/step - loss: 0.0712 - accuracy: 0.5066 - mean_squared_error: 0.0712 - val_loss: 0.0592 - val_accuracy: 0.5166 - val_mean_squared_error: 0.0592\n",
            "Epoch 70/100\n",
            "44/44 [==============================] - 1s 12ms/step - loss: 0.0712 - accuracy: 0.5067 - mean_squared_error: 0.0712 - val_loss: 0.0592 - val_accuracy: 0.5164 - val_mean_squared_error: 0.0592\n",
            "Epoch 71/100\n",
            "44/44 [==============================] - 1s 13ms/step - loss: 0.0712 - accuracy: 0.5066 - mean_squared_error: 0.0712 - val_loss: 0.0592 - val_accuracy: 0.5160 - val_mean_squared_error: 0.0592\n",
            "Epoch 72/100\n",
            "44/44 [==============================] - 1s 12ms/step - loss: 0.0712 - accuracy: 0.5065 - mean_squared_error: 0.0712 - val_loss: 0.0592 - val_accuracy: 0.5166 - val_mean_squared_error: 0.0592\n",
            "Epoch 73/100\n",
            "44/44 [==============================] - 1s 12ms/step - loss: 0.0712 - accuracy: 0.5065 - mean_squared_error: 0.0712 - val_loss: 0.0592 - val_accuracy: 0.5164 - val_mean_squared_error: 0.0592\n",
            "Epoch 74/100\n",
            "44/44 [==============================] - 1s 12ms/step - loss: 0.0712 - accuracy: 0.5066 - mean_squared_error: 0.0712 - val_loss: 0.0592 - val_accuracy: 0.5166 - val_mean_squared_error: 0.0592\n",
            "Epoch 75/100\n",
            "44/44 [==============================] - 1s 13ms/step - loss: 0.0712 - accuracy: 0.5069 - mean_squared_error: 0.0712 - val_loss: 0.0592 - val_accuracy: 0.5168 - val_mean_squared_error: 0.0592\n",
            "Epoch 76/100\n",
            "44/44 [==============================] - 1s 12ms/step - loss: 0.0712 - accuracy: 0.5068 - mean_squared_error: 0.0712 - val_loss: 0.0592 - val_accuracy: 0.5166 - val_mean_squared_error: 0.0592\n",
            "Epoch 77/100\n",
            "44/44 [==============================] - 1s 12ms/step - loss: 0.0712 - accuracy: 0.5069 - mean_squared_error: 0.0712 - val_loss: 0.0592 - val_accuracy: 0.5162 - val_mean_squared_error: 0.0592\n",
            "Epoch 78/100\n",
            "44/44 [==============================] - 1s 13ms/step - loss: 0.0712 - accuracy: 0.5069 - mean_squared_error: 0.0712 - val_loss: 0.0592 - val_accuracy: 0.5166 - val_mean_squared_error: 0.0592\n",
            "Epoch 79/100\n",
            "44/44 [==============================] - 1s 12ms/step - loss: 0.0712 - accuracy: 0.5067 - mean_squared_error: 0.0712 - val_loss: 0.0592 - val_accuracy: 0.5164 - val_mean_squared_error: 0.0592\n",
            "Epoch 80/100\n",
            "44/44 [==============================] - 1s 12ms/step - loss: 0.0712 - accuracy: 0.5067 - mean_squared_error: 0.0712 - val_loss: 0.0592 - val_accuracy: 0.5164 - val_mean_squared_error: 0.0592\n",
            "Epoch 81/100\n",
            "44/44 [==============================] - 1s 12ms/step - loss: 0.0712 - accuracy: 0.5069 - mean_squared_error: 0.0712 - val_loss: 0.0592 - val_accuracy: 0.5170 - val_mean_squared_error: 0.0592\n",
            "Epoch 82/100\n",
            "44/44 [==============================] - 1s 12ms/step - loss: 0.0712 - accuracy: 0.5068 - mean_squared_error: 0.0712 - val_loss: 0.0592 - val_accuracy: 0.5170 - val_mean_squared_error: 0.0592\n",
            "Epoch 83/100\n",
            "44/44 [==============================] - 1s 12ms/step - loss: 0.0712 - accuracy: 0.5067 - mean_squared_error: 0.0712 - val_loss: 0.0592 - val_accuracy: 0.5170 - val_mean_squared_error: 0.0592\n",
            "Epoch 84/100\n",
            "44/44 [==============================] - 1s 12ms/step - loss: 0.0712 - accuracy: 0.5067 - mean_squared_error: 0.0712 - val_loss: 0.0592 - val_accuracy: 0.5170 - val_mean_squared_error: 0.0592\n",
            "Epoch 85/100\n",
            "44/44 [==============================] - 1s 12ms/step - loss: 0.0712 - accuracy: 0.5067 - mean_squared_error: 0.0712 - val_loss: 0.0592 - val_accuracy: 0.5176 - val_mean_squared_error: 0.0592\n",
            "Epoch 86/100\n",
            "44/44 [==============================] - 1s 12ms/step - loss: 0.0712 - accuracy: 0.5065 - mean_squared_error: 0.0712 - val_loss: 0.0592 - val_accuracy: 0.5176 - val_mean_squared_error: 0.0592\n",
            "Epoch 87/100\n",
            "44/44 [==============================] - 1s 12ms/step - loss: 0.0712 - accuracy: 0.5065 - mean_squared_error: 0.0712 - val_loss: 0.0592 - val_accuracy: 0.5176 - val_mean_squared_error: 0.0592\n",
            "Epoch 88/100\n",
            "44/44 [==============================] - 1s 12ms/step - loss: 0.0712 - accuracy: 0.5065 - mean_squared_error: 0.0712 - val_loss: 0.0592 - val_accuracy: 0.5176 - val_mean_squared_error: 0.0592\n",
            "Epoch 89/100\n",
            "44/44 [==============================] - 1s 13ms/step - loss: 0.0712 - accuracy: 0.5065 - mean_squared_error: 0.0712 - val_loss: 0.0592 - val_accuracy: 0.5176 - val_mean_squared_error: 0.0592\n",
            "Epoch 90/100\n",
            "44/44 [==============================] - 1s 12ms/step - loss: 0.0712 - accuracy: 0.5065 - mean_squared_error: 0.0712 - val_loss: 0.0592 - val_accuracy: 0.5176 - val_mean_squared_error: 0.0592\n",
            "Epoch 91/100\n",
            "44/44 [==============================] - 1s 13ms/step - loss: 0.0712 - accuracy: 0.5066 - mean_squared_error: 0.0712 - val_loss: 0.0592 - val_accuracy: 0.5176 - val_mean_squared_error: 0.0592\n",
            "Epoch 92/100\n",
            "44/44 [==============================] - 1s 12ms/step - loss: 0.0712 - accuracy: 0.5066 - mean_squared_error: 0.0712 - val_loss: 0.0592 - val_accuracy: 0.5176 - val_mean_squared_error: 0.0592\n",
            "Epoch 93/100\n",
            "44/44 [==============================] - 1s 15ms/step - loss: 0.0712 - accuracy: 0.5066 - mean_squared_error: 0.0712 - val_loss: 0.0592 - val_accuracy: 0.5174 - val_mean_squared_error: 0.0592\n",
            "Epoch 94/100\n",
            "44/44 [==============================] - 1s 13ms/step - loss: 0.0712 - accuracy: 0.5066 - mean_squared_error: 0.0712 - val_loss: 0.0592 - val_accuracy: 0.5174 - val_mean_squared_error: 0.0592\n",
            "Epoch 95/100\n",
            "44/44 [==============================] - 1s 12ms/step - loss: 0.0712 - accuracy: 0.5066 - mean_squared_error: 0.0712 - val_loss: 0.0592 - val_accuracy: 0.5174 - val_mean_squared_error: 0.0592\n",
            "Epoch 96/100\n",
            "44/44 [==============================] - 1s 12ms/step - loss: 0.0712 - accuracy: 0.5066 - mean_squared_error: 0.0712 - val_loss: 0.0592 - val_accuracy: 0.5174 - val_mean_squared_error: 0.0592\n",
            "Epoch 97/100\n",
            "44/44 [==============================] - 1s 13ms/step - loss: 0.0712 - accuracy: 0.5067 - mean_squared_error: 0.0712 - val_loss: 0.0592 - val_accuracy: 0.5174 - val_mean_squared_error: 0.0592\n",
            "Epoch 98/100\n",
            "44/44 [==============================] - 1s 13ms/step - loss: 0.0712 - accuracy: 0.5067 - mean_squared_error: 0.0712 - val_loss: 0.0592 - val_accuracy: 0.5174 - val_mean_squared_error: 0.0592\n",
            "Epoch 99/100\n",
            "44/44 [==============================] - 1s 13ms/step - loss: 0.0712 - accuracy: 0.5067 - mean_squared_error: 0.0712 - val_loss: 0.0592 - val_accuracy: 0.5174 - val_mean_squared_error: 0.0592\n",
            "Epoch 100/100\n",
            "44/44 [==============================] - 1s 13ms/step - loss: 0.0712 - accuracy: 0.5067 - mean_squared_error: 0.0712 - val_loss: 0.0592 - val_accuracy: 0.5174 - val_mean_squared_error: 0.0592\n"
          ]
        }
      ]
    },
    {
      "cell_type": "code",
      "metadata": {
        "colab": {
          "base_uri": "https://localhost:8080/"
        },
        "id": "C1xdm4kw8j9N",
        "outputId": "edc79f7b-85a8-4cbf-8d77-b837b824a44d"
      },
      "source": [
        "from sklearn.metrics import mean_squared_error\n",
        "loss, accuracy,mean_squared_error = model_LSTM.evaluate(X_test, y_test, verbose=0)\n",
        "print('Accuracy: %f' % accuracy)\n",
        "print('Error Rate: %f' % (1 - accuracy))\n",
        "print('Mean Squared Error: %f' % mean_squared_error)"
      ],
      "execution_count": 18,
      "outputs": [
        {
          "output_type": "stream",
          "name": "stdout",
          "text": [
            "Accuracy: 0.517400\n",
            "Error Rate: 0.482600\n",
            "Mean Squared Error: 0.059222\n"
          ]
        }
      ]
    },
    {
      "cell_type": "code",
      "metadata": {
        "colab": {
          "base_uri": "https://localhost:8080/",
          "height": 282
        },
        "id": "cLtdxiT1qfcs",
        "outputId": "194cf20a-40f8-4069-9cd1-64b3f837402d"
      },
      "source": [
        "pred_LSTM=model_LSTM.predict(X_test)\n",
        "#LSTM\n",
        "plt.plot(history_LSTM.history[\"loss\"], label=\"Training Loss\")\n",
        "plt.plot(history_LSTM.history[\"val_loss\"], label=\"Validation Loss\")\n",
        "plt.legend()"
      ],
      "execution_count": 19,
      "outputs": [
        {
          "output_type": "execute_result",
          "data": {
            "text/plain": [
              "<matplotlib.legend.Legend at 0x7f439d66c110>"
            ]
          },
          "metadata": {},
          "execution_count": 19
        },
        {
          "output_type": "display_data",
          "data": {
            "image/png": "[encoded data removed]",
            "text/plain": [
              "<Figure size 432x288 with 1 Axes>"
            ]
          },
          "metadata": {
            "needs_background": "light"
          }
        }
      ]
    },
    {
      "cell_type": "markdown",
      "metadata": {
        "id": "ZsWmfJTiFgia"
      },
      "source": [
        "# **Training of GRU and evaluation**"
      ]
    },
    {
      "cell_type": "code",
      "metadata": {
        "colab": {
          "base_uri": "https://localhost:8080/"
        },
        "id": "hLFjP9L31xGa",
        "outputId": "3758f5b9-1eae-4dc9-f3e2-cb8480a44aff"
      },
      "source": [
        "# GRU\n",
        "encoder_inputs = tf.keras.layers.Input(shape=(n_past, n_features))\n",
        "encoder_l1 = tf.keras.layers.GRU(2,return_sequences = True, return_state=True)\n",
        "encoder_outputs1 = encoder_l1(encoder_inputs)\n",
        "encoder_states1 = encoder_outputs1[1:]\n",
        "\n",
        "encoder_l2 = tf.keras.layers.GRU(2, return_state=True)\n",
        "encoder_outputs2 = encoder_l2(encoder_outputs1[0])\n",
        "encoder_states2 = encoder_outputs2[1:]\n",
        "\n",
        "decoder_inputs = tf.keras.layers.RepeatVector(n_future)(encoder_outputs2[0])\n",
        "decoder_l1 = tf.keras.layers.GRU(2, return_sequences=True)(decoder_inputs,initial_state = encoder_states1)\n",
        "decoder_l2 = tf.keras.layers.GRU(2, return_sequences=True)(decoder_l1,initial_state = encoder_states2)\n",
        "decoder_outputs2 = tf.keras.layers.TimeDistributed(tf.keras.layers.Dense(n_features))(decoder_l2)\n",
        "\n",
        "model_GRU = tf.keras.models.Model(encoder_inputs,decoder_outputs2)\n",
        "#\n",
        "model_GRU.summary()"
      ],
      "execution_count": 20,
      "outputs": [
        {
          "output_type": "stream",
          "name": "stdout",
          "text": [
            "Model: \"model_3\"\n",
            "__________________________________________________________________________________________________\n",
            "Layer (type)                    Output Shape         Param #     Connected to                     \n",
            "==================================================================================================\n",
            "input_4 (InputLayer)            [(None, 10, 2)]      0                                            \n",
            "__________________________________________________________________________________________________\n",
            "gru (GRU)                       [(None, 10, 2), (Non 36          input_4[0][0]                    \n",
            "__________________________________________________________________________________________________\n",
            "gru_1 (GRU)                     [(None, 2), (None, 2 36          gru[0][0]                        \n",
            "__________________________________________________________________________________________________\n",
            "repeat_vector_3 (RepeatVector)  (None, 20, 2)        0           gru_1[0][0]                      \n",
            "__________________________________________________________________________________________________\n",
            "gru_2 (GRU)                     (None, 20, 2)        36          repeat_vector_3[0][0]            \n",
            "                                                                 gru[0][1]                        \n",
            "__________________________________________________________________________________________________\n",
            "gru_3 (GRU)                     (None, 20, 2)        36          gru_2[0][0]                      \n",
            "                                                                 gru_1[0][1]                      \n",
            "__________________________________________________________________________________________________\n",
            "time_distributed_3 (TimeDistrib (None, 20, 2)        6           gru_3[0][0]                      \n",
            "==================================================================================================\n",
            "Total params: 150\n",
            "Trainable params: 150\n",
            "Non-trainable params: 0\n",
            "__________________________________________________________________________________________________\n"
          ]
        }
      ]
    },
    {
      "cell_type": "code",
      "metadata": {
        "id": "vLzCw7MBQVCv"
      },
      "source": [
        "#loss test\n",
        "reduce_lr = tf.keras.callbacks.LearningRateScheduler(lambda x: 1e-3 * 0.90 ** x)\n",
        "model_GRU.compile(optimizer=tf.keras.optimizers.Adam(learning_rate=.1e-3), loss=tf.keras.losses.MeanSquaredError(),metrics=['accuracy', 'mean_squared_error'])\n",
        "#model_GRU.compile(optimizer=tf.keras.optimizers.Adam(learning_rate=.1e-3), loss=tf.keras.losses.binary_crossentropy,metrics=['accuracy',mean_squared_error])\n",
        "#model_GRU.compile(optimizer=tf.keras.optimizers.Adam(learning_rate=.1e-3), loss=tf.keras.losses.categorical_crossentropy,metrics=['accuracy',mean_squared_error])\n",
        "#model_GRU.compile(optimizer=tf.keras.optimizers.Adam(learning_rate=.1e-3), loss=tf.keras.losses.MeanSquaredError(),metrics=['accuracy',mean_squared_error])\n",
        "\n",
        "#optimizer test\n",
        "#model_GRU.compile(optimizer=tf.keras.optimizers.SGD(learning_rate=.1e-3), loss=tf.keras.losses.Huber(),metrics=['accuracy', 'mean_squared_error'])\n",
        "#model_GRU.compile(optimizer=tf.keras.optimizers.RMSprop(learning_rate=.1e-3), loss=tf.keras.losses.Huber(),metrics=['accuracy', 'mean_squared_error'])\n",
        "#model_GRU.compilee(optimizer=tf.keras.optimizers.Adadelta(learning_rate=.1e-3), loss=tf.keras.losses.Huber(),metrics=['accuracy',mean_squared_error])"
      ],
      "execution_count": 21,
      "outputs": []
    },
    {
      "cell_type": "code",
      "metadata": {
        "colab": {
          "base_uri": "https://localhost:8080/"
        },
        "id": "rHoYQP_J1zqH",
        "outputId": "6b5b23ed-1fc4-4f17-d3ae-36b6cdeec1ae"
      },
      "source": [
        "model_GRU.compile(optimizer=tf.keras.optimizers.Adam(), loss=tf.keras.losses.MeanSquaredError(),metrics=['accuracy','mean_squared_error'])\n",
        "history_GRU = model_GRU.fit(X_train,y_train,epochs=100,validation_data=(X_test,y_test),batch_size=25,verbose=1,callbacks=[reduce_lr])"
      ],
      "execution_count": 22,
      "outputs": [
        {
          "output_type": "stream",
          "name": "stdout",
          "text": [
            "Epoch 1/100\n",
            "44/44 [==============================] - 8s 52ms/step - loss: 0.7229 - accuracy: 0.5276 - mean_squared_error: 0.7229 - val_loss: 0.6252 - val_accuracy: 0.5362 - val_mean_squared_error: 0.6252\n",
            "Epoch 2/100\n",
            "44/44 [==============================] - 1s 26ms/step - loss: 0.5485 - accuracy: 0.5179 - mean_squared_error: 0.5485 - val_loss: 0.4743 - val_accuracy: 0.5424 - val_mean_squared_error: 0.4743\n",
            "Epoch 3/100\n",
            "44/44 [==============================] - 1s 24ms/step - loss: 0.3999 - accuracy: 0.5238 - mean_squared_error: 0.3999 - val_loss: 0.3188 - val_accuracy: 0.5562 - val_mean_squared_error: 0.3188\n",
            "Epoch 4/100\n",
            "44/44 [==============================] - 1s 25ms/step - loss: 0.2488 - accuracy: 0.5343 - mean_squared_error: 0.2488 - val_loss: 0.1740 - val_accuracy: 0.5708 - val_mean_squared_error: 0.1740\n",
            "Epoch 5/100\n",
            "44/44 [==============================] - 1s 26ms/step - loss: 0.1400 - accuracy: 0.5353 - mean_squared_error: 0.1400 - val_loss: 0.1024 - val_accuracy: 0.5730 - val_mean_squared_error: 0.1024\n",
            "Epoch 6/100\n",
            "44/44 [==============================] - 1s 26ms/step - loss: 0.0993 - accuracy: 0.5353 - mean_squared_error: 0.0993 - val_loss: 0.0810 - val_accuracy: 0.5708 - val_mean_squared_error: 0.0810\n",
            "Epoch 7/100\n",
            "44/44 [==============================] - 1s 25ms/step - loss: 0.0871 - accuracy: 0.5331 - mean_squared_error: 0.0871 - val_loss: 0.0733 - val_accuracy: 0.5654 - val_mean_squared_error: 0.0733\n",
            "Epoch 8/100\n",
            "44/44 [==============================] - 1s 27ms/step - loss: 0.0822 - accuracy: 0.5276 - mean_squared_error: 0.0822 - val_loss: 0.0697 - val_accuracy: 0.5488 - val_mean_squared_error: 0.0697\n",
            "Epoch 9/100\n",
            "44/44 [==============================] - 1s 25ms/step - loss: 0.0796 - accuracy: 0.5171 - mean_squared_error: 0.0796 - val_loss: 0.0674 - val_accuracy: 0.5290 - val_mean_squared_error: 0.0674\n",
            "Epoch 10/100\n",
            "44/44 [==============================] - 1s 26ms/step - loss: 0.0779 - accuracy: 0.5130 - mean_squared_error: 0.0779 - val_loss: 0.0659 - val_accuracy: 0.5204 - val_mean_squared_error: 0.0659\n",
            "Epoch 11/100\n",
            "44/44 [==============================] - 1s 25ms/step - loss: 0.0766 - accuracy: 0.5125 - mean_squared_error: 0.0766 - val_loss: 0.0647 - val_accuracy: 0.5218 - val_mean_squared_error: 0.0647\n",
            "Epoch 12/100\n",
            "44/44 [==============================] - 1s 28ms/step - loss: 0.0757 - accuracy: 0.5131 - mean_squared_error: 0.0757 - val_loss: 0.0638 - val_accuracy: 0.5210 - val_mean_squared_error: 0.0638\n",
            "Epoch 13/100\n",
            "44/44 [==============================] - 1s 28ms/step - loss: 0.0750 - accuracy: 0.5118 - mean_squared_error: 0.0750 - val_loss: 0.0632 - val_accuracy: 0.5194 - val_mean_squared_error: 0.0632\n",
            "Epoch 14/100\n",
            "44/44 [==============================] - 1s 27ms/step - loss: 0.0745 - accuracy: 0.5124 - mean_squared_error: 0.0745 - val_loss: 0.0627 - val_accuracy: 0.5186 - val_mean_squared_error: 0.0627\n",
            "Epoch 15/100\n",
            "44/44 [==============================] - 1s 27ms/step - loss: 0.0741 - accuracy: 0.5116 - mean_squared_error: 0.0741 - val_loss: 0.0623 - val_accuracy: 0.5224 - val_mean_squared_error: 0.0623\n",
            "Epoch 16/100\n",
            "44/44 [==============================] - 1s 24ms/step - loss: 0.0737 - accuracy: 0.5133 - mean_squared_error: 0.0737 - val_loss: 0.0620 - val_accuracy: 0.5218 - val_mean_squared_error: 0.0620\n",
            "Epoch 17/100\n",
            "44/44 [==============================] - 1s 25ms/step - loss: 0.0735 - accuracy: 0.5143 - mean_squared_error: 0.0735 - val_loss: 0.0617 - val_accuracy: 0.5258 - val_mean_squared_error: 0.0617\n",
            "Epoch 18/100\n",
            "44/44 [==============================] - 1s 28ms/step - loss: 0.0732 - accuracy: 0.5142 - mean_squared_error: 0.0732 - val_loss: 0.0615 - val_accuracy: 0.5266 - val_mean_squared_error: 0.0615\n",
            "Epoch 19/100\n",
            "44/44 [==============================] - 1s 25ms/step - loss: 0.0731 - accuracy: 0.5140 - mean_squared_error: 0.0731 - val_loss: 0.0613 - val_accuracy: 0.5284 - val_mean_squared_error: 0.0613\n",
            "Epoch 20/100\n",
            "44/44 [==============================] - 1s 26ms/step - loss: 0.0729 - accuracy: 0.5145 - mean_squared_error: 0.0729 - val_loss: 0.0611 - val_accuracy: 0.5344 - val_mean_squared_error: 0.0611\n",
            "Epoch 21/100\n",
            "44/44 [==============================] - 1s 27ms/step - loss: 0.0728 - accuracy: 0.5154 - mean_squared_error: 0.0728 - val_loss: 0.0610 - val_accuracy: 0.5374 - val_mean_squared_error: 0.0610\n",
            "Epoch 22/100\n",
            "44/44 [==============================] - 1s 31ms/step - loss: 0.0727 - accuracy: 0.5168 - mean_squared_error: 0.0727 - val_loss: 0.0609 - val_accuracy: 0.5386 - val_mean_squared_error: 0.0609\n",
            "Epoch 23/100\n",
            "44/44 [==============================] - 1s 26ms/step - loss: 0.0726 - accuracy: 0.5156 - mean_squared_error: 0.0726 - val_loss: 0.0608 - val_accuracy: 0.5364 - val_mean_squared_error: 0.0608\n",
            "Epoch 24/100\n",
            "44/44 [==============================] - 1s 26ms/step - loss: 0.0725 - accuracy: 0.5175 - mean_squared_error: 0.0725 - val_loss: 0.0607 - val_accuracy: 0.5428 - val_mean_squared_error: 0.0607\n",
            "Epoch 25/100\n",
            "44/44 [==============================] - 1s 26ms/step - loss: 0.0724 - accuracy: 0.5177 - mean_squared_error: 0.0724 - val_loss: 0.0607 - val_accuracy: 0.5420 - val_mean_squared_error: 0.0607\n",
            "Epoch 26/100\n",
            "44/44 [==============================] - 1s 26ms/step - loss: 0.0724 - accuracy: 0.5173 - mean_squared_error: 0.0724 - val_loss: 0.0606 - val_accuracy: 0.5426 - val_mean_squared_error: 0.0606\n",
            "Epoch 27/100\n",
            "44/44 [==============================] - 1s 25ms/step - loss: 0.0723 - accuracy: 0.5179 - mean_squared_error: 0.0723 - val_loss: 0.0605 - val_accuracy: 0.5440 - val_mean_squared_error: 0.0605\n",
            "Epoch 28/100\n",
            "44/44 [==============================] - 1s 27ms/step - loss: 0.0723 - accuracy: 0.5178 - mean_squared_error: 0.0723 - val_loss: 0.0605 - val_accuracy: 0.5424 - val_mean_squared_error: 0.0605\n",
            "Epoch 29/100\n",
            "44/44 [==============================] - 1s 25ms/step - loss: 0.0722 - accuracy: 0.5185 - mean_squared_error: 0.0722 - val_loss: 0.0605 - val_accuracy: 0.5452 - val_mean_squared_error: 0.0605\n",
            "Epoch 30/100\n",
            "44/44 [==============================] - 1s 26ms/step - loss: 0.0722 - accuracy: 0.5185 - mean_squared_error: 0.0722 - val_loss: 0.0604 - val_accuracy: 0.5456 - val_mean_squared_error: 0.0604\n",
            "Epoch 31/100\n",
            "44/44 [==============================] - 1s 26ms/step - loss: 0.0722 - accuracy: 0.5185 - mean_squared_error: 0.0722 - val_loss: 0.0604 - val_accuracy: 0.5458 - val_mean_squared_error: 0.0604\n",
            "Epoch 32/100\n",
            "44/44 [==============================] - 1s 26ms/step - loss: 0.0721 - accuracy: 0.5184 - mean_squared_error: 0.0721 - val_loss: 0.0604 - val_accuracy: 0.5456 - val_mean_squared_error: 0.0604\n",
            "Epoch 33/100\n",
            "44/44 [==============================] - 1s 28ms/step - loss: 0.0721 - accuracy: 0.5193 - mean_squared_error: 0.0721 - val_loss: 0.0603 - val_accuracy: 0.5444 - val_mean_squared_error: 0.0603\n",
            "Epoch 34/100\n",
            "44/44 [==============================] - 1s 25ms/step - loss: 0.0721 - accuracy: 0.5207 - mean_squared_error: 0.0721 - val_loss: 0.0603 - val_accuracy: 0.5450 - val_mean_squared_error: 0.0603\n",
            "Epoch 35/100\n",
            "44/44 [==============================] - 1s 25ms/step - loss: 0.0721 - accuracy: 0.5208 - mean_squared_error: 0.0721 - val_loss: 0.0603 - val_accuracy: 0.5454 - val_mean_squared_error: 0.0603\n",
            "Epoch 36/100\n",
            "44/44 [==============================] - 1s 27ms/step - loss: 0.0721 - accuracy: 0.5205 - mean_squared_error: 0.0721 - val_loss: 0.0603 - val_accuracy: 0.5454 - val_mean_squared_error: 0.0603\n",
            "Epoch 37/100\n",
            "44/44 [==============================] - 1s 26ms/step - loss: 0.0720 - accuracy: 0.5204 - mean_squared_error: 0.0720 - val_loss: 0.0603 - val_accuracy: 0.5456 - val_mean_squared_error: 0.0603\n",
            "Epoch 38/100\n",
            "44/44 [==============================] - 1s 30ms/step - loss: 0.0720 - accuracy: 0.5208 - mean_squared_error: 0.0720 - val_loss: 0.0602 - val_accuracy: 0.5458 - val_mean_squared_error: 0.0602\n",
            "Epoch 39/100\n",
            "44/44 [==============================] - 1s 29ms/step - loss: 0.0720 - accuracy: 0.5209 - mean_squared_error: 0.0720 - val_loss: 0.0602 - val_accuracy: 0.5456 - val_mean_squared_error: 0.0602\n",
            "Epoch 40/100\n",
            "44/44 [==============================] - 1s 27ms/step - loss: 0.0720 - accuracy: 0.5210 - mean_squared_error: 0.0720 - val_loss: 0.0602 - val_accuracy: 0.5464 - val_mean_squared_error: 0.0602\n",
            "Epoch 41/100\n",
            "44/44 [==============================] - 1s 26ms/step - loss: 0.0720 - accuracy: 0.5209 - mean_squared_error: 0.0720 - val_loss: 0.0602 - val_accuracy: 0.5466 - val_mean_squared_error: 0.0602\n",
            "Epoch 42/100\n",
            "44/44 [==============================] - 1s 25ms/step - loss: 0.0720 - accuracy: 0.5211 - mean_squared_error: 0.0720 - val_loss: 0.0602 - val_accuracy: 0.5462 - val_mean_squared_error: 0.0602\n",
            "Epoch 43/100\n",
            "44/44 [==============================] - 1s 26ms/step - loss: 0.0720 - accuracy: 0.5208 - mean_squared_error: 0.0720 - val_loss: 0.0602 - val_accuracy: 0.5464 - val_mean_squared_error: 0.0602\n",
            "Epoch 44/100\n",
            "44/44 [==============================] - 1s 25ms/step - loss: 0.0720 - accuracy: 0.5210 - mean_squared_error: 0.0720 - val_loss: 0.0602 - val_accuracy: 0.5466 - val_mean_squared_error: 0.0602\n",
            "Epoch 45/100\n",
            "44/44 [==============================] - 1s 27ms/step - loss: 0.0720 - accuracy: 0.5213 - mean_squared_error: 0.0720 - val_loss: 0.0602 - val_accuracy: 0.5484 - val_mean_squared_error: 0.0602\n",
            "Epoch 46/100\n",
            "44/44 [==============================] - 1s 24ms/step - loss: 0.0720 - accuracy: 0.5213 - mean_squared_error: 0.0720 - val_loss: 0.0602 - val_accuracy: 0.5482 - val_mean_squared_error: 0.0602\n",
            "Epoch 47/100\n",
            "44/44 [==============================] - 1s 27ms/step - loss: 0.0719 - accuracy: 0.5211 - mean_squared_error: 0.0719 - val_loss: 0.0602 - val_accuracy: 0.5484 - val_mean_squared_error: 0.0602\n",
            "Epoch 48/100\n",
            "44/44 [==============================] - 1s 29ms/step - loss: 0.0719 - accuracy: 0.5214 - mean_squared_error: 0.0719 - val_loss: 0.0601 - val_accuracy: 0.5486 - val_mean_squared_error: 0.0601\n",
            "Epoch 49/100\n",
            "44/44 [==============================] - 1s 28ms/step - loss: 0.0719 - accuracy: 0.5215 - mean_squared_error: 0.0719 - val_loss: 0.0601 - val_accuracy: 0.5486 - val_mean_squared_error: 0.0601\n",
            "Epoch 50/100\n",
            "44/44 [==============================] - 1s 27ms/step - loss: 0.0719 - accuracy: 0.5215 - mean_squared_error: 0.0719 - val_loss: 0.0601 - val_accuracy: 0.5488 - val_mean_squared_error: 0.0601\n",
            "Epoch 51/100\n",
            "44/44 [==============================] - 1s 25ms/step - loss: 0.0719 - accuracy: 0.5217 - mean_squared_error: 0.0719 - val_loss: 0.0601 - val_accuracy: 0.5496 - val_mean_squared_error: 0.0601\n",
            "Epoch 52/100\n",
            "44/44 [==============================] - 1s 25ms/step - loss: 0.0719 - accuracy: 0.5213 - mean_squared_error: 0.0719 - val_loss: 0.0601 - val_accuracy: 0.5492 - val_mean_squared_error: 0.0601\n",
            "Epoch 53/100\n",
            "44/44 [==============================] - 1s 28ms/step - loss: 0.0719 - accuracy: 0.5215 - mean_squared_error: 0.0719 - val_loss: 0.0601 - val_accuracy: 0.5492 - val_mean_squared_error: 0.0601\n",
            "Epoch 54/100\n",
            "44/44 [==============================] - 1s 27ms/step - loss: 0.0719 - accuracy: 0.5218 - mean_squared_error: 0.0719 - val_loss: 0.0601 - val_accuracy: 0.5496 - val_mean_squared_error: 0.0601\n",
            "Epoch 55/100\n",
            "44/44 [==============================] - 1s 26ms/step - loss: 0.0719 - accuracy: 0.5220 - mean_squared_error: 0.0719 - val_loss: 0.0601 - val_accuracy: 0.5498 - val_mean_squared_error: 0.0601\n",
            "Epoch 56/100\n",
            "44/44 [==============================] - 1s 27ms/step - loss: 0.0719 - accuracy: 0.5218 - mean_squared_error: 0.0719 - val_loss: 0.0601 - val_accuracy: 0.5496 - val_mean_squared_error: 0.0601\n",
            "Epoch 57/100\n",
            "44/44 [==============================] - 1s 26ms/step - loss: 0.0719 - accuracy: 0.5220 - mean_squared_error: 0.0719 - val_loss: 0.0601 - val_accuracy: 0.5500 - val_mean_squared_error: 0.0601\n",
            "Epoch 58/100\n",
            "44/44 [==============================] - 1s 26ms/step - loss: 0.0719 - accuracy: 0.5219 - mean_squared_error: 0.0719 - val_loss: 0.0601 - val_accuracy: 0.5498 - val_mean_squared_error: 0.0601\n",
            "Epoch 59/100\n",
            "44/44 [==============================] - 1s 24ms/step - loss: 0.0719 - accuracy: 0.5222 - mean_squared_error: 0.0719 - val_loss: 0.0601 - val_accuracy: 0.5500 - val_mean_squared_error: 0.0601\n",
            "Epoch 60/100\n",
            "44/44 [==============================] - 1s 26ms/step - loss: 0.0719 - accuracy: 0.5222 - mean_squared_error: 0.0719 - val_loss: 0.0601 - val_accuracy: 0.5502 - val_mean_squared_error: 0.0601\n",
            "Epoch 61/100\n",
            "44/44 [==============================] - 1s 27ms/step - loss: 0.0719 - accuracy: 0.5222 - mean_squared_error: 0.0719 - val_loss: 0.0601 - val_accuracy: 0.5502 - val_mean_squared_error: 0.0601\n",
            "Epoch 62/100\n",
            "44/44 [==============================] - 1s 26ms/step - loss: 0.0719 - accuracy: 0.5222 - mean_squared_error: 0.0719 - val_loss: 0.0601 - val_accuracy: 0.5504 - val_mean_squared_error: 0.0601\n",
            "Epoch 63/100\n",
            "44/44 [==============================] - 1s 26ms/step - loss: 0.0719 - accuracy: 0.5221 - mean_squared_error: 0.0719 - val_loss: 0.0601 - val_accuracy: 0.5504 - val_mean_squared_error: 0.0601\n",
            "Epoch 64/100\n",
            "44/44 [==============================] - 1s 26ms/step - loss: 0.0719 - accuracy: 0.5221 - mean_squared_error: 0.0719 - val_loss: 0.0601 - val_accuracy: 0.5504 - val_mean_squared_error: 0.0601\n",
            "Epoch 65/100\n",
            "44/44 [==============================] - 1s 28ms/step - loss: 0.0719 - accuracy: 0.5221 - mean_squared_error: 0.0719 - val_loss: 0.0601 - val_accuracy: 0.5504 - val_mean_squared_error: 0.0601\n",
            "Epoch 66/100\n",
            "44/44 [==============================] - 1s 26ms/step - loss: 0.0719 - accuracy: 0.5221 - mean_squared_error: 0.0719 - val_loss: 0.0601 - val_accuracy: 0.5504 - val_mean_squared_error: 0.0601\n",
            "Epoch 67/100\n",
            "44/44 [==============================] - 1s 26ms/step - loss: 0.0719 - accuracy: 0.5221 - mean_squared_error: 0.0719 - val_loss: 0.0601 - val_accuracy: 0.5504 - val_mean_squared_error: 0.0601\n",
            "Epoch 68/100\n",
            "44/44 [==============================] - 1s 27ms/step - loss: 0.0719 - accuracy: 0.5221 - mean_squared_error: 0.0719 - val_loss: 0.0601 - val_accuracy: 0.5504 - val_mean_squared_error: 0.0601\n",
            "Epoch 69/100\n",
            "44/44 [==============================] - 1s 25ms/step - loss: 0.0719 - accuracy: 0.5222 - mean_squared_error: 0.0719 - val_loss: 0.0601 - val_accuracy: 0.5504 - val_mean_squared_error: 0.0601\n",
            "Epoch 70/100\n",
            "44/44 [==============================] - 1s 27ms/step - loss: 0.0719 - accuracy: 0.5222 - mean_squared_error: 0.0719 - val_loss: 0.0601 - val_accuracy: 0.5504 - val_mean_squared_error: 0.0601\n",
            "Epoch 71/100\n",
            "44/44 [==============================] - 1s 28ms/step - loss: 0.0719 - accuracy: 0.5222 - mean_squared_error: 0.0719 - val_loss: 0.0601 - val_accuracy: 0.5504 - val_mean_squared_error: 0.0601\n",
            "Epoch 72/100\n",
            "44/44 [==============================] - 1s 27ms/step - loss: 0.0719 - accuracy: 0.5221 - mean_squared_error: 0.0719 - val_loss: 0.0601 - val_accuracy: 0.5504 - val_mean_squared_error: 0.0601\n",
            "Epoch 73/100\n",
            "44/44 [==============================] - 1s 27ms/step - loss: 0.0719 - accuracy: 0.5221 - mean_squared_error: 0.0719 - val_loss: 0.0601 - val_accuracy: 0.5504 - val_mean_squared_error: 0.0601\n",
            "Epoch 74/100\n",
            "44/44 [==============================] - 1s 29ms/step - loss: 0.0719 - accuracy: 0.5222 - mean_squared_error: 0.0719 - val_loss: 0.0601 - val_accuracy: 0.5502 - val_mean_squared_error: 0.0601\n",
            "Epoch 75/100\n",
            "44/44 [==============================] - 1s 28ms/step - loss: 0.0719 - accuracy: 0.5222 - mean_squared_error: 0.0719 - val_loss: 0.0601 - val_accuracy: 0.5506 - val_mean_squared_error: 0.0601\n",
            "Epoch 76/100\n",
            "44/44 [==============================] - 1s 26ms/step - loss: 0.0719 - accuracy: 0.5223 - mean_squared_error: 0.0719 - val_loss: 0.0601 - val_accuracy: 0.5504 - val_mean_squared_error: 0.0601\n",
            "Epoch 77/100\n",
            "44/44 [==============================] - 1s 28ms/step - loss: 0.0719 - accuracy: 0.5223 - mean_squared_error: 0.0719 - val_loss: 0.0601 - val_accuracy: 0.5504 - val_mean_squared_error: 0.0601\n",
            "Epoch 78/100\n",
            "44/44 [==============================] - 1s 26ms/step - loss: 0.0719 - accuracy: 0.5223 - mean_squared_error: 0.0719 - val_loss: 0.0601 - val_accuracy: 0.5504 - val_mean_squared_error: 0.0601\n",
            "Epoch 79/100\n",
            "44/44 [==============================] - 1s 26ms/step - loss: 0.0719 - accuracy: 0.5223 - mean_squared_error: 0.0719 - val_loss: 0.0601 - val_accuracy: 0.5504 - val_mean_squared_error: 0.0601\n",
            "Epoch 80/100\n",
            "44/44 [==============================] - 1s 26ms/step - loss: 0.0719 - accuracy: 0.5222 - mean_squared_error: 0.0719 - val_loss: 0.0601 - val_accuracy: 0.5504 - val_mean_squared_error: 0.0601\n",
            "Epoch 81/100\n",
            "44/44 [==============================] - 1s 27ms/step - loss: 0.0719 - accuracy: 0.5222 - mean_squared_error: 0.0719 - val_loss: 0.0601 - val_accuracy: 0.5504 - val_mean_squared_error: 0.0601\n",
            "Epoch 82/100\n",
            "44/44 [==============================] - 1s 26ms/step - loss: 0.0719 - accuracy: 0.5223 - mean_squared_error: 0.0719 - val_loss: 0.0601 - val_accuracy: 0.5504 - val_mean_squared_error: 0.0601\n",
            "Epoch 83/100\n",
            "44/44 [==============================] - 1s 26ms/step - loss: 0.0719 - accuracy: 0.5223 - mean_squared_error: 0.0719 - val_loss: 0.0601 - val_accuracy: 0.5504 - val_mean_squared_error: 0.0601\n",
            "Epoch 84/100\n",
            "44/44 [==============================] - 1s 24ms/step - loss: 0.0719 - accuracy: 0.5223 - mean_squared_error: 0.0719 - val_loss: 0.0601 - val_accuracy: 0.5504 - val_mean_squared_error: 0.0601\n",
            "Epoch 85/100\n",
            "44/44 [==============================] - 1s 26ms/step - loss: 0.0719 - accuracy: 0.5223 - mean_squared_error: 0.0719 - val_loss: 0.0601 - val_accuracy: 0.5504 - val_mean_squared_error: 0.0601\n",
            "Epoch 86/100\n",
            "44/44 [==============================] - 1s 25ms/step - loss: 0.0719 - accuracy: 0.5223 - mean_squared_error: 0.0719 - val_loss: 0.0601 - val_accuracy: 0.5504 - val_mean_squared_error: 0.0601\n",
            "Epoch 87/100\n",
            "44/44 [==============================] - 1s 26ms/step - loss: 0.0719 - accuracy: 0.5223 - mean_squared_error: 0.0719 - val_loss: 0.0601 - val_accuracy: 0.5504 - val_mean_squared_error: 0.0601\n",
            "Epoch 88/100\n",
            "44/44 [==============================] - 1s 26ms/step - loss: 0.0719 - accuracy: 0.5223 - mean_squared_error: 0.0719 - val_loss: 0.0601 - val_accuracy: 0.5504 - val_mean_squared_error: 0.0601\n",
            "Epoch 89/100\n",
            "44/44 [==============================] - 1s 25ms/step - loss: 0.0719 - accuracy: 0.5223 - mean_squared_error: 0.0719 - val_loss: 0.0601 - val_accuracy: 0.5504 - val_mean_squared_error: 0.0601\n",
            "Epoch 90/100\n",
            "44/44 [==============================] - 1s 27ms/step - loss: 0.0719 - accuracy: 0.5223 - mean_squared_error: 0.0719 - val_loss: 0.0601 - val_accuracy: 0.5504 - val_mean_squared_error: 0.0601\n",
            "Epoch 91/100\n",
            "44/44 [==============================] - 1s 26ms/step - loss: 0.0719 - accuracy: 0.5223 - mean_squared_error: 0.0719 - val_loss: 0.0601 - val_accuracy: 0.5504 - val_mean_squared_error: 0.0601\n",
            "Epoch 92/100\n",
            "44/44 [==============================] - 1s 27ms/step - loss: 0.0719 - accuracy: 0.5223 - mean_squared_error: 0.0719 - val_loss: 0.0601 - val_accuracy: 0.5504 - val_mean_squared_error: 0.0601\n",
            "Epoch 93/100\n",
            "44/44 [==============================] - 1s 27ms/step - loss: 0.0719 - accuracy: 0.5223 - mean_squared_error: 0.0719 - val_loss: 0.0601 - val_accuracy: 0.5504 - val_mean_squared_error: 0.0601\n",
            "Epoch 94/100\n",
            "44/44 [==============================] - 1s 26ms/step - loss: 0.0719 - accuracy: 0.5223 - mean_squared_error: 0.0719 - val_loss: 0.0601 - val_accuracy: 0.5504 - val_mean_squared_error: 0.0601\n",
            "Epoch 95/100\n",
            "44/44 [==============================] - 1s 26ms/step - loss: 0.0719 - accuracy: 0.5223 - mean_squared_error: 0.0719 - val_loss: 0.0601 - val_accuracy: 0.5504 - val_mean_squared_error: 0.0601\n",
            "Epoch 96/100\n",
            "44/44 [==============================] - 1s 25ms/step - loss: 0.0719 - accuracy: 0.5223 - mean_squared_error: 0.0719 - val_loss: 0.0601 - val_accuracy: 0.5504 - val_mean_squared_error: 0.0601\n",
            "Epoch 97/100\n",
            "44/44 [==============================] - 1s 25ms/step - loss: 0.0719 - accuracy: 0.5223 - mean_squared_error: 0.0719 - val_loss: 0.0601 - val_accuracy: 0.5504 - val_mean_squared_error: 0.0601\n",
            "Epoch 98/100\n",
            "44/44 [==============================] - 1s 25ms/step - loss: 0.0719 - accuracy: 0.5223 - mean_squared_error: 0.0719 - val_loss: 0.0601 - val_accuracy: 0.5504 - val_mean_squared_error: 0.0601\n",
            "Epoch 99/100\n",
            "44/44 [==============================] - 1s 28ms/step - loss: 0.0719 - accuracy: 0.5223 - mean_squared_error: 0.0719 - val_loss: 0.0601 - val_accuracy: 0.5504 - val_mean_squared_error: 0.0601\n",
            "Epoch 100/100\n",
            "44/44 [==============================] - 1s 28ms/step - loss: 0.0719 - accuracy: 0.5223 - mean_squared_error: 0.0719 - val_loss: 0.0601 - val_accuracy: 0.5504 - val_mean_squared_error: 0.0601\n"
          ]
        }
      ]
    },
    {
      "cell_type": "code",
      "metadata": {
        "colab": {
          "base_uri": "https://localhost:8080/"
        },
        "id": "JlMIjoyx3ec6",
        "outputId": "0ccb4e28-93c8-477a-cca7-32fd73e2f2ca"
      },
      "source": [
        "from sklearn.metrics import mean_squared_error\n",
        "loss, accuracy,mean_squared_error = model_GRU.evaluate(X_test, y_test, verbose=0)\n",
        "print('Accuracy: %f' % accuracy)\n",
        "print('Error Rate: %f' % (1 - accuracy))\n",
        "print('Mean Squared Error: %f' % mean_squared_error)"
      ],
      "execution_count": 23,
      "outputs": [
        {
          "output_type": "stream",
          "name": "stdout",
          "text": [
            "Accuracy: 0.550400\n",
            "Error Rate: 0.449600\n",
            "Mean Squared Error: 0.060094\n"
          ]
        }
      ]
    },
    {
      "cell_type": "code",
      "metadata": {
        "colab": {
          "base_uri": "https://localhost:8080/",
          "height": 282
        },
        "id": "a6pnqbNlq2c_",
        "outputId": "21eeb403-e840-4551-84b8-bd60d4140ad9"
      },
      "source": [
        "pred_LSTM=model_GRU.predict(X_test)\n",
        "#GRU with factors\n",
        "plt.plot(history_GRU.history[\"loss\"], label=\"Training Loss\")\n",
        "plt.plot(history_GRU.history[\"val_loss\"], label=\"Validation Loss\")\n",
        "plt.legend()"
      ],
      "execution_count": 24,
      "outputs": [
        {
          "output_type": "execute_result",
          "data": {
            "text/plain": [
              "<matplotlib.legend.Legend at 0x7f439c0c2b90>"
            ]
          },
          "metadata": {},
          "execution_count": 24
        },
        {
          "output_type": "display_data",
          "data": {
            "image/png": "[encoded data removed]",
            "text/plain": [
              "<Figure size 432x288 with 1 Axes>"
            ]
          },
          "metadata": {
            "needs_background": "light"
          }
        }
      ]
    },
    {
      "cell_type": "markdown",
      "metadata": {
        "id": "j1nZaiyGWCaU"
      },
      "source": [
        "# **Preprocessing for confirmed cases with Wind Speed and Population density factors**"
      ]
    },
    {
      "cell_type": "code",
      "metadata": {
        "id": "PuMnJc-1tFGG"
      },
      "source": [
        "new_index = dataset.iloc[:,0]\n",
        "new_index\n",
        "values = dataset.set_index(new_index)\n",
        "values = values.iloc[:,1:]\n",
        "values = values.iloc[:1500,[0,1,3,5,6,7,8]].astype('float32')\n",
        "values\n",
        "labels = dataset.iloc[:1500,-9]\n",
        "labels\n",
        "\n",
        "from sklearn.model_selection import train_test_split\n",
        "train_data, test_data, train_labels, test_labels = train_test_split(values, labels, test_size=0.20, random_state=88)"
      ],
      "execution_count": 25,
      "outputs": []
    },
    {
      "cell_type": "code",
      "metadata": {
        "id": "vroNyHtsuBM2"
      },
      "source": [
        "train_labels = pd.array(train_labels)\n",
        "test_labels = pd.array(test_labels)"
      ],
      "execution_count": 26,
      "outputs": []
    },
    {
      "cell_type": "code",
      "metadata": {
        "colab": {
          "base_uri": "https://localhost:8080/"
        },
        "id": "H3Nsg_UjuGRP",
        "outputId": "f354461e-161e-44f4-86bf-2e5ac16f8ae9"
      },
      "source": [
        "train = train_data\n",
        "scalers={}\n",
        "for i in train_data.columns:\n",
        "    scaler = MinMaxScaler(feature_range=(-1,1))\n",
        "    s_s = scaler.fit_transform(train[i].values.reshape(-1,1))\n",
        "    s_s= np.reshape(s_s,len(s_s))\n",
        "    scalers['scaler_'+ i] = scaler\n",
        "    train[i]=s_s\n",
        "test = test_data\n",
        "for i in test_data.columns:\n",
        "    scaler = scalers['scaler_'+i]\n",
        "    s_s = scaler.transform(test[i].values.reshape(-1,1))\n",
        "    s_s= np.reshape(s_s,len(s_s))\n",
        "    scalers['scaler_'+i] = scaler\n",
        "    test[i]=s_s"
      ],
      "execution_count": 27,
      "outputs": [
        {
          "output_type": "stream",
          "name": "stderr",
          "text": [
            "/usr/local/lib/python3.7/dist-packages/ipykernel_launcher.py:8: SettingWithCopyWarning: \n",
            "A value is trying to be set on a copy of a slice from a DataFrame.\n",
            "Try using .loc[row_indexer,col_indexer] = value instead\n",
            "\n",
            "See the caveats in the documentation: https://pandas.pydata.org/pandas-docs/stable/user_guide/indexing.html#returning-a-view-versus-a-copy\n",
            "  \n",
            "/usr/local/lib/python3.7/dist-packages/ipykernel_launcher.py:8: SettingWithCopyWarning: \n",
            "A value is trying to be set on a copy of a slice from a DataFrame.\n",
            "Try using .loc[row_indexer,col_indexer] = value instead\n",
            "\n",
            "See the caveats in the documentation: https://pandas.pydata.org/pandas-docs/stable/user_guide/indexing.html#returning-a-view-versus-a-copy\n",
            "  \n",
            "/usr/local/lib/python3.7/dist-packages/ipykernel_launcher.py:8: SettingWithCopyWarning: \n",
            "A value is trying to be set on a copy of a slice from a DataFrame.\n",
            "Try using .loc[row_indexer,col_indexer] = value instead\n",
            "\n",
            "See the caveats in the documentation: https://pandas.pydata.org/pandas-docs/stable/user_guide/indexing.html#returning-a-view-versus-a-copy\n",
            "  \n",
            "/usr/local/lib/python3.7/dist-packages/ipykernel_launcher.py:8: SettingWithCopyWarning: \n",
            "A value is trying to be set on a copy of a slice from a DataFrame.\n",
            "Try using .loc[row_indexer,col_indexer] = value instead\n",
            "\n",
            "See the caveats in the documentation: https://pandas.pydata.org/pandas-docs/stable/user_guide/indexing.html#returning-a-view-versus-a-copy\n",
            "  \n",
            "/usr/local/lib/python3.7/dist-packages/ipykernel_launcher.py:8: SettingWithCopyWarning: \n",
            "A value is trying to be set on a copy of a slice from a DataFrame.\n",
            "Try using .loc[row_indexer,col_indexer] = value instead\n",
            "\n",
            "See the caveats in the documentation: https://pandas.pydata.org/pandas-docs/stable/user_guide/indexing.html#returning-a-view-versus-a-copy\n",
            "  \n",
            "/usr/local/lib/python3.7/dist-packages/ipykernel_launcher.py:8: SettingWithCopyWarning: \n",
            "A value is trying to be set on a copy of a slice from a DataFrame.\n",
            "Try using .loc[row_indexer,col_indexer] = value instead\n",
            "\n",
            "See the caveats in the documentation: https://pandas.pydata.org/pandas-docs/stable/user_guide/indexing.html#returning-a-view-versus-a-copy\n",
            "  \n",
            "/usr/local/lib/python3.7/dist-packages/ipykernel_launcher.py:8: SettingWithCopyWarning: \n",
            "A value is trying to be set on a copy of a slice from a DataFrame.\n",
            "Try using .loc[row_indexer,col_indexer] = value instead\n",
            "\n",
            "See the caveats in the documentation: https://pandas.pydata.org/pandas-docs/stable/user_guide/indexing.html#returning-a-view-versus-a-copy\n",
            "  \n",
            "/usr/local/lib/python3.7/dist-packages/ipykernel_launcher.py:15: SettingWithCopyWarning: \n",
            "A value is trying to be set on a copy of a slice from a DataFrame.\n",
            "Try using .loc[row_indexer,col_indexer] = value instead\n",
            "\n",
            "See the caveats in the documentation: https://pandas.pydata.org/pandas-docs/stable/user_guide/indexing.html#returning-a-view-versus-a-copy\n",
            "  from ipykernel import kernelapp as app\n",
            "/usr/local/lib/python3.7/dist-packages/ipykernel_launcher.py:15: SettingWithCopyWarning: \n",
            "A value is trying to be set on a copy of a slice from a DataFrame.\n",
            "Try using .loc[row_indexer,col_indexer] = value instead\n",
            "\n",
            "See the caveats in the documentation: https://pandas.pydata.org/pandas-docs/stable/user_guide/indexing.html#returning-a-view-versus-a-copy\n",
            "  from ipykernel import kernelapp as app\n",
            "/usr/local/lib/python3.7/dist-packages/ipykernel_launcher.py:15: SettingWithCopyWarning: \n",
            "A value is trying to be set on a copy of a slice from a DataFrame.\n",
            "Try using .loc[row_indexer,col_indexer] = value instead\n",
            "\n",
            "See the caveats in the documentation: https://pandas.pydata.org/pandas-docs/stable/user_guide/indexing.html#returning-a-view-versus-a-copy\n",
            "  from ipykernel import kernelapp as app\n",
            "/usr/local/lib/python3.7/dist-packages/ipykernel_launcher.py:15: SettingWithCopyWarning: \n",
            "A value is trying to be set on a copy of a slice from a DataFrame.\n",
            "Try using .loc[row_indexer,col_indexer] = value instead\n",
            "\n",
            "See the caveats in the documentation: https://pandas.pydata.org/pandas-docs/stable/user_guide/indexing.html#returning-a-view-versus-a-copy\n",
            "  from ipykernel import kernelapp as app\n",
            "/usr/local/lib/python3.7/dist-packages/ipykernel_launcher.py:15: SettingWithCopyWarning: \n",
            "A value is trying to be set on a copy of a slice from a DataFrame.\n",
            "Try using .loc[row_indexer,col_indexer] = value instead\n",
            "\n",
            "See the caveats in the documentation: https://pandas.pydata.org/pandas-docs/stable/user_guide/indexing.html#returning-a-view-versus-a-copy\n",
            "  from ipykernel import kernelapp as app\n",
            "/usr/local/lib/python3.7/dist-packages/ipykernel_launcher.py:15: SettingWithCopyWarning: \n",
            "A value is trying to be set on a copy of a slice from a DataFrame.\n",
            "Try using .loc[row_indexer,col_indexer] = value instead\n",
            "\n",
            "See the caveats in the documentation: https://pandas.pydata.org/pandas-docs/stable/user_guide/indexing.html#returning-a-view-versus-a-copy\n",
            "  from ipykernel import kernelapp as app\n",
            "/usr/local/lib/python3.7/dist-packages/ipykernel_launcher.py:15: SettingWithCopyWarning: \n",
            "A value is trying to be set on a copy of a slice from a DataFrame.\n",
            "Try using .loc[row_indexer,col_indexer] = value instead\n",
            "\n",
            "See the caveats in the documentation: https://pandas.pydata.org/pandas-docs/stable/user_guide/indexing.html#returning-a-view-versus-a-copy\n",
            "  from ipykernel import kernelapp as app\n"
          ]
        }
      ]
    },
    {
      "cell_type": "code",
      "metadata": {
        "id": "0vBU2N-puJov"
      },
      "source": [
        "def split_series(series, n_past, n_future):\n",
        "  # n_past ==> no of past observations\n",
        "  # n_future ==> no of future observations \n",
        "  X, y = list(), list()\n",
        "  for window_start in range(len(series)):\n",
        "    past_end = window_start + n_past\n",
        "    future_end = past_end + n_future\n",
        "    if future_end > len(series):\n",
        "      break\n",
        "    # slicing the past and future parts of the window\n",
        "    past, future = series[window_start:past_end, :], series[past_end:future_end, :]\n",
        "    X.append(past)\n",
        "    y.append(future)\n",
        "  return np.array(X), np.array(y)"
      ],
      "execution_count": null,
      "outputs": []
    },
    {
      "cell_type": "code",
      "metadata": {
        "id": "DpgxqnB6uNBh"
      },
      "source": [
        "n_past = 10\n",
        "n_future = 20\n",
        "n_features = 7"
      ],
      "execution_count": null,
      "outputs": []
    },
    {
      "cell_type": "code",
      "metadata": {
        "id": "3B8r_ug7uSXF"
      },
      "source": [
        "X_train, y_train = split_series(train.values,n_past, n_future)\n",
        "X_train = X_train.reshape((X_train.shape[0], X_train.shape[1],n_features))\n",
        "y_train = y_train.reshape((y_train.shape[0], y_train.shape[1], n_features))\n",
        "X_test, y_test = split_series(test.values,n_past, n_future)\n",
        "X_test = X_test.reshape((X_test.shape[0], X_test.shape[1], n_features))\n",
        "y_test = y_test.reshape((y_test.shape[0], y_test.shape[1], n_features))"
      ],
      "execution_count": null,
      "outputs": []
    },
    {
      "cell_type": "markdown",
      "metadata": {
        "id": "pQ2Ec34AfrkL"
      },
      "source": [
        "# **Designing the Model of LSTM**"
      ]
    },
    {
      "cell_type": "code",
      "metadata": {
        "colab": {
          "base_uri": "https://localhost:8080/"
        },
        "id": "2dfYYD3FuVuM",
        "outputId": "79c7a69a-5e68-41d5-b3f5-dab2b408cf9d"
      },
      "source": [
        "#LSTM\n",
        "encoder_inputs = tf.keras.layers.Input(shape=(n_past, n_features))\n",
        "encoder_l1 = tf.keras.layers.LSTM(2, activation='tanh',return_state=True) \n",
        "encoder_outputs1 = encoder_l1(encoder_inputs)\n",
        "encoder_states1 = encoder_outputs1[1:]\n",
        "decoder_inputs = tf.keras.layers.RepeatVector(n_future)(encoder_outputs1[0])\n",
        "decoder_l1 = tf.keras.layers.LSTM(2, return_sequences=True)(decoder_inputs,initial_state = encoder_states1)\n",
        "decoder_outputs1 = tf.keras.layers.TimeDistributed(tf.keras.layers.Dense(n_features))(decoder_l1)\n",
        "model_LSTM2 = tf.keras.models.Model(encoder_inputs,decoder_outputs1)\n",
        "\n",
        "model_LSTM2.summary()"
      ],
      "execution_count": null,
      "outputs": [
        {
          "output_type": "stream",
          "name": "stdout",
          "text": [
            "Model: \"model_6\"\n",
            "__________________________________________________________________________________________________\n",
            "Layer (type)                    Output Shape         Param #     Connected to                     \n",
            "==================================================================================================\n",
            "input_7 (InputLayer)            [(None, 10, 7)]      0                                            \n",
            "__________________________________________________________________________________________________\n",
            "lstm_12 (LSTM)                  [(None, 2), (None, 2 80          input_7[0][0]                    \n",
            "__________________________________________________________________________________________________\n",
            "repeat_vector_6 (RepeatVector)  (None, 20, 2)        0           lstm_12[0][0]                    \n",
            "__________________________________________________________________________________________________\n",
            "lstm_13 (LSTM)                  (None, 20, 2)        40          repeat_vector_6[0][0]            \n",
            "                                                                 lstm_12[0][1]                    \n",
            "                                                                 lstm_12[0][2]                    \n",
            "__________________________________________________________________________________________________\n",
            "time_distributed_6 (TimeDistrib (None, 20, 7)        21          lstm_13[0][0]                    \n",
            "==================================================================================================\n",
            "Total params: 141\n",
            "Trainable params: 141\n",
            "Non-trainable params: 0\n",
            "__________________________________________________________________________________________________\n"
          ]
        }
      ]
    },
    {
      "cell_type": "code",
      "metadata": {
        "id": "rMfBiVujuYCC"
      },
      "source": [
        "from keras import backend as K\n",
        "\n",
        "def mean_squared_error(y_true, y_pred):\n",
        "    return K.mean(K.square(y_pred - y_true), axis=-1)"
      ],
      "execution_count": null,
      "outputs": []
    },
    {
      "cell_type": "markdown",
      "metadata": {
        "id": "5QRrzEWagGS-"
      },
      "source": [
        "# **Training the Model of LSTM using factors and evaluation**"
      ]
    },
    {
      "cell_type": "code",
      "metadata": {
        "colab": {
          "base_uri": "https://localhost:8080/"
        },
        "id": "gcO1l7osua1w",
        "outputId": "8fdbc415-b211-477a-923d-ef30f34ffa6d"
      },
      "source": [
        "reduce_lr = tf.keras.callbacks.LearningRateScheduler(lambda x: 1e-3 * 0.90 ** x)\n",
        "\n",
        "#loss test\n",
        "model_LSTM2.compile(optimizer=tf.keras.optimizers.Adam(learning_rate=.1e-3), loss=tf.keras.losses.MeanSquaredError(),metrics=['accuracy', 'mean_squared_error'])\n",
        "#model_LSTM2.compile(optimizer=tf.keras.optimizers.Adam(learning_rate=.1e-3), loss=tf.keras.losses.binary_crossentropy,metrics=['accuracy',mean_squared_error])\n",
        "#model_LSTM2.compile(optimizer=tf.keras.optimizers.Adam(learning_rate=.1e-3), loss=tf.keras.losses.categorical_crossentropy,metrics=['accuracy',mean_squared_error])\n",
        "#model_LSTM2.compile(optimizer=tf.keras.optimizers.Adam(learning_rate=.1e-3), loss=tf.keras.losses.MeanSquaredError(),metrics=['accuracy',mean_squared_error])\n",
        "\n",
        "#optimizer test\n",
        "#model_LSTM2.compile(optimizer=tf.keras.optimizers.SGD(learning_rate=.1e-3), loss=tf.keras.losses.MeanSquaredError(),metrics=['accuracy', 'mean_squared_error'])\n",
        "#model_LSTM2.compile(optimizer=tf.keras.optimizers.RMSprop(learning_rate=.1e-3), loss=tf.keras.losses.Huber(),metrics=['accuracy', 'mean_squared_error'])\n",
        "#model_LSTM2.compile(optimizer=tf.keras.optimizers.Adadelta(learning_rate=.1e-3), loss=tf.keras.losses.Huber(),metrics=['accuracy',mean_squared_error])\n",
        "\n",
        "history_LSTM2 = model_LSTM2.fit(X_train,y_train,epochs=100,validation_data=(X_test,y_test),batch_size=25,verbose=1,callbacks=[reduce_lr])"
      ],
      "execution_count": null,
      "outputs": [
        {
          "output_type": "stream",
          "name": "stdout",
          "text": [
            "Epoch 1/100\n",
            "44/44 [==============================] - 5s 31ms/step - loss: 0.6742 - accuracy: 0.4076 - mean_squared_error: 0.6742 - val_loss: 0.6429 - val_accuracy: 0.3892 - val_mean_squared_error: 0.6429\n",
            "Epoch 2/100\n",
            "44/44 [==============================] - 1s 14ms/step - loss: 0.6032 - accuracy: 0.1961 - mean_squared_error: 0.6032 - val_loss: 0.5819 - val_accuracy: 0.0040 - val_mean_squared_error: 0.5819\n",
            "Epoch 3/100\n",
            "44/44 [==============================] - 1s 14ms/step - loss: 0.5370 - accuracy: 0.0018 - mean_squared_error: 0.5370 - val_loss: 0.5027 - val_accuracy: 0.0040 - val_mean_squared_error: 0.5027\n",
            "Epoch 4/100\n",
            "44/44 [==============================] - 1s 14ms/step - loss: 0.4328 - accuracy: 0.0018 - mean_squared_error: 0.4328 - val_loss: 0.3889 - val_accuracy: 0.0040 - val_mean_squared_error: 0.3889\n",
            "Epoch 5/100\n",
            "44/44 [==============================] - 1s 14ms/step - loss: 0.3362 - accuracy: 0.0018 - mean_squared_error: 0.3362 - val_loss: 0.3156 - val_accuracy: 0.0040 - val_mean_squared_error: 0.3156\n",
            "Epoch 6/100\n",
            "44/44 [==============================] - 1s 13ms/step - loss: 0.2791 - accuracy: 0.0018 - mean_squared_error: 0.2791 - val_loss: 0.2712 - val_accuracy: 0.0040 - val_mean_squared_error: 0.2712\n",
            "Epoch 7/100\n",
            "44/44 [==============================] - 1s 14ms/step - loss: 0.2436 - accuracy: 0.0050 - mean_squared_error: 0.2436 - val_loss: 0.2424 - val_accuracy: 0.0266 - val_mean_squared_error: 0.2424\n",
            "Epoch 8/100\n",
            "44/44 [==============================] - 1s 14ms/step - loss: 0.2197 - accuracy: 0.4689 - mean_squared_error: 0.2197 - val_loss: 0.2224 - val_accuracy: 0.6934 - val_mean_squared_error: 0.2224\n",
            "Epoch 9/100\n",
            "44/44 [==============================] - 1s 14ms/step - loss: 0.2028 - accuracy: 0.6934 - mean_squared_error: 0.2028 - val_loss: 0.2081 - val_accuracy: 0.6934 - val_mean_squared_error: 0.2081\n",
            "Epoch 10/100\n",
            "44/44 [==============================] - 1s 13ms/step - loss: 0.1903 - accuracy: 0.6934 - mean_squared_error: 0.1903 - val_loss: 0.1974 - val_accuracy: 0.6934 - val_mean_squared_error: 0.1974\n",
            "Epoch 11/100\n",
            "44/44 [==============================] - 1s 14ms/step - loss: 0.1808 - accuracy: 0.6934 - mean_squared_error: 0.1808 - val_loss: 0.1892 - val_accuracy: 0.6934 - val_mean_squared_error: 0.1892\n",
            "Epoch 12/100\n",
            "44/44 [==============================] - 1s 14ms/step - loss: 0.1734 - accuracy: 0.6934 - mean_squared_error: 0.1734 - val_loss: 0.1828 - val_accuracy: 0.6934 - val_mean_squared_error: 0.1828\n",
            "Epoch 13/100\n",
            "44/44 [==============================] - 1s 14ms/step - loss: 0.1676 - accuracy: 0.6934 - mean_squared_error: 0.1676 - val_loss: 0.1776 - val_accuracy: 0.6934 - val_mean_squared_error: 0.1776\n",
            "Epoch 14/100\n",
            "44/44 [==============================] - 1s 14ms/step - loss: 0.1629 - accuracy: 0.6934 - mean_squared_error: 0.1629 - val_loss: 0.1735 - val_accuracy: 0.6934 - val_mean_squared_error: 0.1735\n",
            "Epoch 15/100\n",
            "44/44 [==============================] - 1s 14ms/step - loss: 0.1590 - accuracy: 0.6934 - mean_squared_error: 0.1590 - val_loss: 0.1701 - val_accuracy: 0.6934 - val_mean_squared_error: 0.1701\n",
            "Epoch 16/100\n",
            "44/44 [==============================] - 1s 14ms/step - loss: 0.1559 - accuracy: 0.6934 - mean_squared_error: 0.1559 - val_loss: 0.1672 - val_accuracy: 0.6934 - val_mean_squared_error: 0.1672\n",
            "Epoch 17/100\n",
            "44/44 [==============================] - 1s 14ms/step - loss: 0.1532 - accuracy: 0.6934 - mean_squared_error: 0.1532 - val_loss: 0.1649 - val_accuracy: 0.6934 - val_mean_squared_error: 0.1649\n",
            "Epoch 18/100\n",
            "44/44 [==============================] - 1s 13ms/step - loss: 0.1510 - accuracy: 0.6934 - mean_squared_error: 0.1510 - val_loss: 0.1629 - val_accuracy: 0.6934 - val_mean_squared_error: 0.1629\n",
            "Epoch 19/100\n",
            "44/44 [==============================] - 1s 14ms/step - loss: 0.1491 - accuracy: 0.6934 - mean_squared_error: 0.1491 - val_loss: 0.1612 - val_accuracy: 0.6934 - val_mean_squared_error: 0.1612\n",
            "Epoch 20/100\n",
            "44/44 [==============================] - 1s 13ms/step - loss: 0.1475 - accuracy: 0.6934 - mean_squared_error: 0.1475 - val_loss: 0.1597 - val_accuracy: 0.6934 - val_mean_squared_error: 0.1597\n",
            "Epoch 21/100\n",
            "44/44 [==============================] - 1s 14ms/step - loss: 0.1461 - accuracy: 0.6934 - mean_squared_error: 0.1461 - val_loss: 0.1585 - val_accuracy: 0.6934 - val_mean_squared_error: 0.1585\n",
            "Epoch 22/100\n",
            "44/44 [==============================] - 1s 14ms/step - loss: 0.1449 - accuracy: 0.6934 - mean_squared_error: 0.1449 - val_loss: 0.1574 - val_accuracy: 0.6934 - val_mean_squared_error: 0.1574\n",
            "Epoch 23/100\n",
            "44/44 [==============================] - 1s 14ms/step - loss: 0.1438 - accuracy: 0.6934 - mean_squared_error: 0.1438 - val_loss: 0.1564 - val_accuracy: 0.6934 - val_mean_squared_error: 0.1564\n",
            "Epoch 24/100\n",
            "44/44 [==============================] - 1s 14ms/step - loss: 0.1429 - accuracy: 0.6934 - mean_squared_error: 0.1429 - val_loss: 0.1556 - val_accuracy: 0.6934 - val_mean_squared_error: 0.1556\n",
            "Epoch 25/100\n",
            "44/44 [==============================] - 1s 14ms/step - loss: 0.1421 - accuracy: 0.6934 - mean_squared_error: 0.1421 - val_loss: 0.1548 - val_accuracy: 0.6934 - val_mean_squared_error: 0.1548\n",
            "Epoch 26/100\n",
            "44/44 [==============================] - 1s 14ms/step - loss: 0.1414 - accuracy: 0.6934 - mean_squared_error: 0.1414 - val_loss: 0.1542 - val_accuracy: 0.6934 - val_mean_squared_error: 0.1542\n",
            "Epoch 27/100\n",
            "44/44 [==============================] - 1s 14ms/step - loss: 0.1408 - accuracy: 0.6934 - mean_squared_error: 0.1408 - val_loss: 0.1536 - val_accuracy: 0.6934 - val_mean_squared_error: 0.1536\n",
            "Epoch 28/100\n",
            "44/44 [==============================] - 1s 14ms/step - loss: 0.1402 - accuracy: 0.6934 - mean_squared_error: 0.1402 - val_loss: 0.1531 - val_accuracy: 0.6934 - val_mean_squared_error: 0.1531\n",
            "Epoch 29/100\n",
            "44/44 [==============================] - 1s 14ms/step - loss: 0.1398 - accuracy: 0.6934 - mean_squared_error: 0.1398 - val_loss: 0.1527 - val_accuracy: 0.6934 - val_mean_squared_error: 0.1527\n",
            "Epoch 30/100\n",
            "44/44 [==============================] - 1s 14ms/step - loss: 0.1393 - accuracy: 0.6934 - mean_squared_error: 0.1393 - val_loss: 0.1523 - val_accuracy: 0.6934 - val_mean_squared_error: 0.1523\n",
            "Epoch 31/100\n",
            "44/44 [==============================] - 1s 14ms/step - loss: 0.1389 - accuracy: 0.6934 - mean_squared_error: 0.1389 - val_loss: 0.1519 - val_accuracy: 0.6934 - val_mean_squared_error: 0.1519\n",
            "Epoch 32/100\n",
            "44/44 [==============================] - 1s 14ms/step - loss: 0.1386 - accuracy: 0.6934 - mean_squared_error: 0.1386 - val_loss: 0.1516 - val_accuracy: 0.6934 - val_mean_squared_error: 0.1516\n",
            "Epoch 33/100\n",
            "44/44 [==============================] - 1s 14ms/step - loss: 0.1383 - accuracy: 0.6934 - mean_squared_error: 0.1383 - val_loss: 0.1513 - val_accuracy: 0.6934 - val_mean_squared_error: 0.1513\n",
            "Epoch 34/100\n",
            "44/44 [==============================] - 1s 14ms/step - loss: 0.1380 - accuracy: 0.6934 - mean_squared_error: 0.1380 - val_loss: 0.1511 - val_accuracy: 0.6934 - val_mean_squared_error: 0.1511\n",
            "Epoch 35/100\n",
            "44/44 [==============================] - 1s 14ms/step - loss: 0.1378 - accuracy: 0.6934 - mean_squared_error: 0.1378 - val_loss: 0.1508 - val_accuracy: 0.6934 - val_mean_squared_error: 0.1508\n",
            "Epoch 36/100\n",
            "44/44 [==============================] - 1s 14ms/step - loss: 0.1376 - accuracy: 0.6934 - mean_squared_error: 0.1376 - val_loss: 0.1506 - val_accuracy: 0.6934 - val_mean_squared_error: 0.1506\n",
            "Epoch 37/100\n",
            "44/44 [==============================] - 1s 14ms/step - loss: 0.1374 - accuracy: 0.6934 - mean_squared_error: 0.1374 - val_loss: 0.1504 - val_accuracy: 0.6934 - val_mean_squared_error: 0.1504\n",
            "Epoch 38/100\n",
            "44/44 [==============================] - 1s 14ms/step - loss: 0.1372 - accuracy: 0.6934 - mean_squared_error: 0.1372 - val_loss: 0.1503 - val_accuracy: 0.6934 - val_mean_squared_error: 0.1503\n",
            "Epoch 39/100\n",
            "44/44 [==============================] - 1s 14ms/step - loss: 0.1370 - accuracy: 0.6934 - mean_squared_error: 0.1370 - val_loss: 0.1501 - val_accuracy: 0.6934 - val_mean_squared_error: 0.1501\n",
            "Epoch 40/100\n",
            "44/44 [==============================] - 1s 13ms/step - loss: 0.1369 - accuracy: 0.6934 - mean_squared_error: 0.1369 - val_loss: 0.1500 - val_accuracy: 0.6934 - val_mean_squared_error: 0.1500\n",
            "Epoch 41/100\n",
            "44/44 [==============================] - 1s 14ms/step - loss: 0.1367 - accuracy: 0.6934 - mean_squared_error: 0.1367 - val_loss: 0.1499 - val_accuracy: 0.6934 - val_mean_squared_error: 0.1499\n",
            "Epoch 42/100\n",
            "44/44 [==============================] - 1s 14ms/step - loss: 0.1366 - accuracy: 0.6934 - mean_squared_error: 0.1366 - val_loss: 0.1498 - val_accuracy: 0.6934 - val_mean_squared_error: 0.1498\n",
            "Epoch 43/100\n",
            "44/44 [==============================] - 1s 14ms/step - loss: 0.1365 - accuracy: 0.6934 - mean_squared_error: 0.1365 - val_loss: 0.1497 - val_accuracy: 0.6934 - val_mean_squared_error: 0.1497\n",
            "Epoch 44/100\n",
            "44/44 [==============================] - 1s 14ms/step - loss: 0.1364 - accuracy: 0.6934 - mean_squared_error: 0.1364 - val_loss: 0.1496 - val_accuracy: 0.6934 - val_mean_squared_error: 0.1496\n",
            "Epoch 45/100\n",
            "44/44 [==============================] - 1s 14ms/step - loss: 0.1363 - accuracy: 0.6934 - mean_squared_error: 0.1363 - val_loss: 0.1495 - val_accuracy: 0.6934 - val_mean_squared_error: 0.1495\n",
            "Epoch 46/100\n",
            "44/44 [==============================] - 1s 15ms/step - loss: 0.1363 - accuracy: 0.6934 - mean_squared_error: 0.1363 - val_loss: 0.1494 - val_accuracy: 0.6934 - val_mean_squared_error: 0.1494\n",
            "Epoch 47/100\n",
            "44/44 [==============================] - 1s 14ms/step - loss: 0.1362 - accuracy: 0.6934 - mean_squared_error: 0.1362 - val_loss: 0.1493 - val_accuracy: 0.6934 - val_mean_squared_error: 0.1493\n",
            "Epoch 48/100\n",
            "44/44 [==============================] - 1s 14ms/step - loss: 0.1361 - accuracy: 0.6934 - mean_squared_error: 0.1361 - val_loss: 0.1493 - val_accuracy: 0.6934 - val_mean_squared_error: 0.1493\n",
            "Epoch 49/100\n",
            "44/44 [==============================] - 1s 14ms/step - loss: 0.1361 - accuracy: 0.6934 - mean_squared_error: 0.1361 - val_loss: 0.1492 - val_accuracy: 0.6934 - val_mean_squared_error: 0.1492\n",
            "Epoch 50/100\n",
            "44/44 [==============================] - 1s 14ms/step - loss: 0.1360 - accuracy: 0.6934 - mean_squared_error: 0.1360 - val_loss: 0.1492 - val_accuracy: 0.6934 - val_mean_squared_error: 0.1492\n",
            "Epoch 51/100\n",
            "44/44 [==============================] - 1s 14ms/step - loss: 0.1360 - accuracy: 0.6934 - mean_squared_error: 0.1360 - val_loss: 0.1491 - val_accuracy: 0.6934 - val_mean_squared_error: 0.1491\n",
            "Epoch 52/100\n",
            "44/44 [==============================] - 1s 14ms/step - loss: 0.1359 - accuracy: 0.6934 - mean_squared_error: 0.1359 - val_loss: 0.1491 - val_accuracy: 0.6934 - val_mean_squared_error: 0.1491\n",
            "Epoch 53/100\n",
            "44/44 [==============================] - 1s 14ms/step - loss: 0.1359 - accuracy: 0.6934 - mean_squared_error: 0.1359 - val_loss: 0.1491 - val_accuracy: 0.6934 - val_mean_squared_error: 0.1491\n",
            "Epoch 54/100\n",
            "44/44 [==============================] - 1s 14ms/step - loss: 0.1359 - accuracy: 0.6934 - mean_squared_error: 0.1359 - val_loss: 0.1490 - val_accuracy: 0.6934 - val_mean_squared_error: 0.1490\n",
            "Epoch 55/100\n",
            "44/44 [==============================] - 1s 14ms/step - loss: 0.1358 - accuracy: 0.6934 - mean_squared_error: 0.1358 - val_loss: 0.1490 - val_accuracy: 0.6934 - val_mean_squared_error: 0.1490\n",
            "Epoch 56/100\n",
            "44/44 [==============================] - 1s 14ms/step - loss: 0.1358 - accuracy: 0.6934 - mean_squared_error: 0.1358 - val_loss: 0.1490 - val_accuracy: 0.6934 - val_mean_squared_error: 0.1490\n",
            "Epoch 57/100\n",
            "44/44 [==============================] - 1s 14ms/step - loss: 0.1358 - accuracy: 0.6934 - mean_squared_error: 0.1358 - val_loss: 0.1489 - val_accuracy: 0.6934 - val_mean_squared_error: 0.1489\n",
            "Epoch 58/100\n",
            "44/44 [==============================] - 1s 14ms/step - loss: 0.1357 - accuracy: 0.6934 - mean_squared_error: 0.1357 - val_loss: 0.1489 - val_accuracy: 0.6934 - val_mean_squared_error: 0.1489\n",
            "Epoch 59/100\n",
            "44/44 [==============================] - 1s 14ms/step - loss: 0.1357 - accuracy: 0.6934 - mean_squared_error: 0.1357 - val_loss: 0.1489 - val_accuracy: 0.6934 - val_mean_squared_error: 0.1489\n",
            "Epoch 60/100\n",
            "44/44 [==============================] - 1s 14ms/step - loss: 0.1357 - accuracy: 0.6934 - mean_squared_error: 0.1357 - val_loss: 0.1489 - val_accuracy: 0.6934 - val_mean_squared_error: 0.1489\n",
            "Epoch 61/100\n",
            "44/44 [==============================] - 1s 14ms/step - loss: 0.1357 - accuracy: 0.6934 - mean_squared_error: 0.1357 - val_loss: 0.1489 - val_accuracy: 0.6934 - val_mean_squared_error: 0.1489\n",
            "Epoch 62/100\n",
            "44/44 [==============================] - 1s 15ms/step - loss: 0.1357 - accuracy: 0.6934 - mean_squared_error: 0.1357 - val_loss: 0.1489 - val_accuracy: 0.6934 - val_mean_squared_error: 0.1489\n",
            "Epoch 63/100\n",
            "44/44 [==============================] - 1s 14ms/step - loss: 0.1357 - accuracy: 0.6934 - mean_squared_error: 0.1357 - val_loss: 0.1488 - val_accuracy: 0.6934 - val_mean_squared_error: 0.1488\n",
            "Epoch 64/100\n",
            "44/44 [==============================] - 1s 14ms/step - loss: 0.1356 - accuracy: 0.6934 - mean_squared_error: 0.1356 - val_loss: 0.1488 - val_accuracy: 0.6934 - val_mean_squared_error: 0.1488\n",
            "Epoch 65/100\n",
            "44/44 [==============================] - 1s 15ms/step - loss: 0.1356 - accuracy: 0.6934 - mean_squared_error: 0.1356 - val_loss: 0.1488 - val_accuracy: 0.6934 - val_mean_squared_error: 0.1488\n",
            "Epoch 66/100\n",
            "44/44 [==============================] - 1s 14ms/step - loss: 0.1356 - accuracy: 0.6934 - mean_squared_error: 0.1356 - val_loss: 0.1488 - val_accuracy: 0.6934 - val_mean_squared_error: 0.1488\n",
            "Epoch 67/100\n",
            "44/44 [==============================] - 1s 14ms/step - loss: 0.1356 - accuracy: 0.6934 - mean_squared_error: 0.1356 - val_loss: 0.1488 - val_accuracy: 0.6934 - val_mean_squared_error: 0.1488\n",
            "Epoch 68/100\n",
            "44/44 [==============================] - 1s 14ms/step - loss: 0.1356 - accuracy: 0.6934 - mean_squared_error: 0.1356 - val_loss: 0.1488 - val_accuracy: 0.6934 - val_mean_squared_error: 0.1488\n",
            "Epoch 69/100\n",
            "44/44 [==============================] - 1s 14ms/step - loss: 0.1356 - accuracy: 0.6934 - mean_squared_error: 0.1356 - val_loss: 0.1488 - val_accuracy: 0.6934 - val_mean_squared_error: 0.1488\n",
            "Epoch 70/100\n",
            "44/44 [==============================] - 1s 14ms/step - loss: 0.1356 - accuracy: 0.6934 - mean_squared_error: 0.1356 - val_loss: 0.1488 - val_accuracy: 0.6934 - val_mean_squared_error: 0.1488\n",
            "Epoch 71/100\n",
            "44/44 [==============================] - 1s 14ms/step - loss: 0.1356 - accuracy: 0.6934 - mean_squared_error: 0.1356 - val_loss: 0.1488 - val_accuracy: 0.6934 - val_mean_squared_error: 0.1488\n",
            "Epoch 72/100\n",
            "44/44 [==============================] - 1s 14ms/step - loss: 0.1356 - accuracy: 0.6934 - mean_squared_error: 0.1356 - val_loss: 0.1488 - val_accuracy: 0.6934 - val_mean_squared_error: 0.1488\n",
            "Epoch 73/100\n",
            "44/44 [==============================] - 1s 14ms/step - loss: 0.1356 - accuracy: 0.6934 - mean_squared_error: 0.1356 - val_loss: 0.1488 - val_accuracy: 0.6934 - val_mean_squared_error: 0.1488\n",
            "Epoch 74/100\n",
            "44/44 [==============================] - 1s 14ms/step - loss: 0.1356 - accuracy: 0.6934 - mean_squared_error: 0.1356 - val_loss: 0.1488 - val_accuracy: 0.6934 - val_mean_squared_error: 0.1488\n",
            "Epoch 75/100\n",
            "44/44 [==============================] - 1s 14ms/step - loss: 0.1356 - accuracy: 0.6934 - mean_squared_error: 0.1356 - val_loss: 0.1488 - val_accuracy: 0.6934 - val_mean_squared_error: 0.1488\n",
            "Epoch 76/100\n",
            "44/44 [==============================] - 1s 14ms/step - loss: 0.1356 - accuracy: 0.6934 - mean_squared_error: 0.1356 - val_loss: 0.1488 - val_accuracy: 0.6934 - val_mean_squared_error: 0.1488\n",
            "Epoch 77/100\n",
            "44/44 [==============================] - 1s 14ms/step - loss: 0.1355 - accuracy: 0.6934 - mean_squared_error: 0.1355 - val_loss: 0.1487 - val_accuracy: 0.6934 - val_mean_squared_error: 0.1487\n",
            "Epoch 78/100\n",
            "44/44 [==============================] - 1s 15ms/step - loss: 0.1355 - accuracy: 0.6934 - mean_squared_error: 0.1355 - val_loss: 0.1487 - val_accuracy: 0.6934 - val_mean_squared_error: 0.1487\n",
            "Epoch 79/100\n",
            "44/44 [==============================] - 1s 14ms/step - loss: 0.1355 - accuracy: 0.6934 - mean_squared_error: 0.1355 - val_loss: 0.1487 - val_accuracy: 0.6934 - val_mean_squared_error: 0.1487\n",
            "Epoch 80/100\n",
            "44/44 [==============================] - 1s 14ms/step - loss: 0.1355 - accuracy: 0.6934 - mean_squared_error: 0.1355 - val_loss: 0.1487 - val_accuracy: 0.6934 - val_mean_squared_error: 0.1487\n",
            "Epoch 81/100\n",
            "44/44 [==============================] - 1s 15ms/step - loss: 0.1355 - accuracy: 0.6934 - mean_squared_error: 0.1355 - val_loss: 0.1487 - val_accuracy: 0.6934 - val_mean_squared_error: 0.1487\n",
            "Epoch 82/100\n",
            "44/44 [==============================] - 1s 14ms/step - loss: 0.1355 - accuracy: 0.6934 - mean_squared_error: 0.1355 - val_loss: 0.1487 - val_accuracy: 0.6934 - val_mean_squared_error: 0.1487\n",
            "Epoch 83/100\n",
            "44/44 [==============================] - 1s 14ms/step - loss: 0.1355 - accuracy: 0.6934 - mean_squared_error: 0.1355 - val_loss: 0.1487 - val_accuracy: 0.6934 - val_mean_squared_error: 0.1487\n",
            "Epoch 84/100\n",
            "44/44 [==============================] - 1s 14ms/step - loss: 0.1355 - accuracy: 0.6934 - mean_squared_error: 0.1355 - val_loss: 0.1487 - val_accuracy: 0.6934 - val_mean_squared_error: 0.1487\n",
            "Epoch 85/100\n",
            "44/44 [==============================] - 1s 14ms/step - loss: 0.1355 - accuracy: 0.6934 - mean_squared_error: 0.1355 - val_loss: 0.1487 - val_accuracy: 0.6934 - val_mean_squared_error: 0.1487\n",
            "Epoch 86/100\n",
            "44/44 [==============================] - 1s 14ms/step - loss: 0.1355 - accuracy: 0.6934 - mean_squared_error: 0.1355 - val_loss: 0.1487 - val_accuracy: 0.6934 - val_mean_squared_error: 0.1487\n",
            "Epoch 87/100\n",
            "44/44 [==============================] - 1s 14ms/step - loss: 0.1355 - accuracy: 0.6934 - mean_squared_error: 0.1355 - val_loss: 0.1487 - val_accuracy: 0.6934 - val_mean_squared_error: 0.1487\n",
            "Epoch 88/100\n",
            "44/44 [==============================] - 1s 14ms/step - loss: 0.1355 - accuracy: 0.6934 - mean_squared_error: 0.1355 - val_loss: 0.1487 - val_accuracy: 0.6934 - val_mean_squared_error: 0.1487\n",
            "Epoch 89/100\n",
            "44/44 [==============================] - 1s 14ms/step - loss: 0.1355 - accuracy: 0.6934 - mean_squared_error: 0.1355 - val_loss: 0.1487 - val_accuracy: 0.6934 - val_mean_squared_error: 0.1487\n",
            "Epoch 90/100\n",
            "44/44 [==============================] - 1s 14ms/step - loss: 0.1355 - accuracy: 0.6934 - mean_squared_error: 0.1355 - val_loss: 0.1487 - val_accuracy: 0.6934 - val_mean_squared_error: 0.1487\n",
            "Epoch 91/100\n",
            "44/44 [==============================] - 1s 15ms/step - loss: 0.1355 - accuracy: 0.6934 - mean_squared_error: 0.1355 - val_loss: 0.1487 - val_accuracy: 0.6934 - val_mean_squared_error: 0.1487\n",
            "Epoch 92/100\n",
            "44/44 [==============================] - 1s 14ms/step - loss: 0.1355 - accuracy: 0.6934 - mean_squared_error: 0.1355 - val_loss: 0.1487 - val_accuracy: 0.6934 - val_mean_squared_error: 0.1487\n",
            "Epoch 93/100\n",
            "44/44 [==============================] - 1s 14ms/step - loss: 0.1355 - accuracy: 0.6934 - mean_squared_error: 0.1355 - val_loss: 0.1487 - val_accuracy: 0.6934 - val_mean_squared_error: 0.1487\n",
            "Epoch 94/100\n",
            "44/44 [==============================] - 1s 14ms/step - loss: 0.1355 - accuracy: 0.6934 - mean_squared_error: 0.1355 - val_loss: 0.1487 - val_accuracy: 0.6934 - val_mean_squared_error: 0.1487\n",
            "Epoch 95/100\n",
            "44/44 [==============================] - 1s 15ms/step - loss: 0.1355 - accuracy: 0.6934 - mean_squared_error: 0.1355 - val_loss: 0.1487 - val_accuracy: 0.6934 - val_mean_squared_error: 0.1487\n",
            "Epoch 96/100\n",
            "44/44 [==============================] - 1s 14ms/step - loss: 0.1355 - accuracy: 0.6934 - mean_squared_error: 0.1355 - val_loss: 0.1487 - val_accuracy: 0.6934 - val_mean_squared_error: 0.1487\n",
            "Epoch 97/100\n",
            "44/44 [==============================] - 1s 15ms/step - loss: 0.1355 - accuracy: 0.6934 - mean_squared_error: 0.1355 - val_loss: 0.1487 - val_accuracy: 0.6934 - val_mean_squared_error: 0.1487\n",
            "Epoch 98/100\n",
            "44/44 [==============================] - 1s 14ms/step - loss: 0.1355 - accuracy: 0.6934 - mean_squared_error: 0.1355 - val_loss: 0.1487 - val_accuracy: 0.6934 - val_mean_squared_error: 0.1487\n",
            "Epoch 99/100\n",
            "44/44 [==============================] - 1s 14ms/step - loss: 0.1355 - accuracy: 0.6934 - mean_squared_error: 0.1355 - val_loss: 0.1487 - val_accuracy: 0.6934 - val_mean_squared_error: 0.1487\n",
            "Epoch 100/100\n",
            "44/44 [==============================] - 1s 14ms/step - loss: 0.1355 - accuracy: 0.6934 - mean_squared_error: 0.1355 - val_loss: 0.1487 - val_accuracy: 0.6934 - val_mean_squared_error: 0.1487\n"
          ]
        }
      ]
    },
    {
      "cell_type": "code",
      "metadata": {
        "colab": {
          "base_uri": "https://localhost:8080/"
        },
        "id": "9tocgyNcu0Rz",
        "outputId": "fe04d322-2027-4489-d8d8-f919008e0847"
      },
      "source": [
        "from sklearn.metrics import mean_squared_error\n",
        "loss, accuracy,mean_squared_error = model_LSTM2.evaluate(X_test, y_test, verbose=0)\n",
        "print('Accuracy: %f' % accuracy)\n",
        "print('Error Rate: %f' % (1 - accuracy))\n",
        "print('Mean Squared Error: %f' % mean_squared_error)"
      ],
      "execution_count": null,
      "outputs": [
        {
          "output_type": "stream",
          "name": "stdout",
          "text": [
            "Accuracy: 0.693400\n",
            "Error Rate: 0.306600\n",
            "Mean Squared Error: 0.148720\n"
          ]
        }
      ]
    },
    {
      "cell_type": "code",
      "metadata": {
        "colab": {
          "base_uri": "https://localhost:8080/",
          "height": 286
        },
        "id": "LP0X3RTnpQXY",
        "outputId": "c457d212-0cc6-4cef-91aa-c7b548c31aa1"
      },
      "source": [
        "pred_LSTM=model_LSTM2.predict(X_test)\n",
        "#LSTM\n",
        "plt.plot(history_LSTM2.history[\"loss\"], label=\"Training Loss\")\n",
        "plt.plot(history_LSTM2.history[\"val_loss\"], label=\"Validation Loss\")\n",
        "plt.legend()"
      ],
      "execution_count": null,
      "outputs": [
        {
          "output_type": "execute_result",
          "data": {
            "text/plain": [
              "<matplotlib.legend.Legend at 0x7f1a9ebaf5d0>"
            ]
          },
          "metadata": {},
          "execution_count": 31
        },
        {
          "output_type": "display_data",
          "data": {
            "image/png": "[encoded data removed]",
            "text/plain": [
              "<Figure size 432x288 with 1 Axes>"
            ]
          },
          "metadata": {
            "needs_background": "light"
          }
        }
      ]
    },
    {
      "cell_type": "markdown",
      "metadata": {
        "id": "h0V7exwJgiIV"
      },
      "source": [
        "# **Designing of GRU model using factors**"
      ]
    },
    {
      "cell_type": "code",
      "metadata": {
        "colab": {
          "base_uri": "https://localhost:8080/"
        },
        "id": "uWZh7cjtggs7",
        "outputId": "c48d16de-6bb8-42ff-cf30-d5b02535998c"
      },
      "source": [
        "# GRU\n",
        "encoder_inputs = tf.keras.layers.Input(shape=(n_past, n_features))\n",
        "encoder_l1 = tf.keras.layers.GRU(2,return_sequences = True, return_state=True)\n",
        "encoder_outputs1 = encoder_l1(encoder_inputs)\n",
        "encoder_states1 = encoder_outputs1[1:]\n",
        "\n",
        "encoder_l2 = tf.keras.layers.GRU(2, return_state=True)\n",
        "encoder_outputs2 = encoder_l2(encoder_outputs1[0])\n",
        "encoder_states2 = encoder_outputs2[1:]\n",
        "\n",
        "decoder_inputs = tf.keras.layers.RepeatVector(n_future)(encoder_outputs2[0])\n",
        "decoder_l1 = tf.keras.layers.GRU(2, return_sequences=True)(decoder_inputs,initial_state = encoder_states1)\n",
        "decoder_l2 = tf.keras.layers.GRU(2, return_sequences=True)(decoder_l1,initial_state = encoder_states2)\n",
        "decoder_outputs2 = tf.keras.layers.TimeDistributed(tf.keras.layers.Dense(n_features))(decoder_l2)\n",
        "\n",
        "model_GRU2 = tf.keras.models.Model(encoder_inputs,decoder_outputs2)\n",
        "#\n",
        "model_GRU2.summary()"
      ],
      "execution_count": null,
      "outputs": [
        {
          "output_type": "stream",
          "name": "stdout",
          "text": [
            "Model: \"model_7\"\n",
            "__________________________________________________________________________________________________\n",
            "Layer (type)                    Output Shape         Param #     Connected to                     \n",
            "==================================================================================================\n",
            "input_8 (InputLayer)            [(None, 10, 7)]      0                                            \n",
            "__________________________________________________________________________________________________\n",
            "gru (GRU)                       [(None, 10, 2), (Non 66          input_8[0][0]                    \n",
            "__________________________________________________________________________________________________\n",
            "gru_1 (GRU)                     [(None, 2), (None, 2 36          gru[0][0]                        \n",
            "__________________________________________________________________________________________________\n",
            "repeat_vector_7 (RepeatVector)  (None, 20, 2)        0           gru_1[0][0]                      \n",
            "__________________________________________________________________________________________________\n",
            "gru_2 (GRU)                     (None, 20, 2)        36          repeat_vector_7[0][0]            \n",
            "                                                                 gru[0][1]                        \n",
            "__________________________________________________________________________________________________\n",
            "gru_3 (GRU)                     (None, 20, 2)        36          gru_2[0][0]                      \n",
            "                                                                 gru_1[0][1]                      \n",
            "__________________________________________________________________________________________________\n",
            "time_distributed_7 (TimeDistrib (None, 20, 7)        21          gru_3[0][0]                      \n",
            "==================================================================================================\n",
            "Total params: 195\n",
            "Trainable params: 195\n",
            "Non-trainable params: 0\n",
            "__________________________________________________________________________________________________\n"
          ]
        }
      ]
    },
    {
      "cell_type": "code",
      "metadata": {
        "id": "MR8n0_tWgtrp"
      },
      "source": [
        "#loss test\n",
        "reduce_lr = tf.keras.callbacks.LearningRateScheduler(lambda x: 1e-3 * 0.90 ** x)\n",
        "model_GRU2.compile(optimizer=tf.keras.optimizers.Adam(learning_rate=.1e-3), loss=tf.keras.losses.MeanSquaredError(),metrics=['accuracy', 'mean_squared_error'])\n",
        "#model_GRU.compile(optimizer=tf.keras.optimizers.Adam(learning_rate=.1e-3), loss=tf.keras.losses.binary_crossentropy,metrics=['accuracy',mean_squared_error])\n",
        "#model_GRU.compile(optimizer=tf.keras.optimizers.Adam(learning_rate=.1e-3), loss=tf.keras.losses.categorical_crossentropy,metrics=['accuracy',mean_squared_error])\n",
        "#model_GRU.compile(optimizer=tf.keras.optimizers.Adam(learning_rate=.1e-3), loss=tf.keras.losses.MeanSquaredError(),metrics=['accuracy',mean_squared_error])\n",
        "\n",
        "#optimizer test\n",
        "#model_GRU.compile(optimizer=tf.keras.optimizers.SGD(learning_rate=.1e-3), loss=tf.keras.losses.Huber(),metrics=['accuracy', 'mean_squared_error'])\n",
        "#model_GRU.compile(optimizer=tf.keras.optimizers.RMSprop(learning_rate=.1e-3), loss=tf.keras.losses.Huber(),metrics=['accuracy', 'mean_squared_error'])\n",
        "#model_GRU.compilee(optimizer=tf.keras.optimizers.Adadelta(learning_rate=.1e-3), loss=tf.keras.losses.Huber(),metrics=['accuracy',mean_squared_error])"
      ],
      "execution_count": null,
      "outputs": []
    },
    {
      "cell_type": "markdown",
      "metadata": {
        "id": "TmptVWJCg_oA"
      },
      "source": [
        "# **Training the Model of LSTM using factors and evaluation**"
      ]
    },
    {
      "cell_type": "code",
      "metadata": {
        "colab": {
          "base_uri": "https://localhost:8080/"
        },
        "id": "nGJoJu9yg5Ck",
        "outputId": "a3a229bc-0595-4714-a02f-c6b3a0e27d67"
      },
      "source": [
        "model_GRU2.compile(optimizer=tf.keras.optimizers.Adam(), loss=tf.keras.losses.MeanSquaredError(),metrics=['accuracy','mean_squared_error'])\n",
        "history_GRU2 = model_GRU2.fit(X_train,y_train,epochs=100,validation_data=(X_test,y_test),batch_size=32,verbose=1,callbacks=[reduce_lr])"
      ],
      "execution_count": null,
      "outputs": [
        {
          "output_type": "stream",
          "name": "stdout",
          "text": [
            "Epoch 1/100\n",
            "34/34 [==============================] - 9s 68ms/step - loss: 0.6271 - accuracy: 0.4058 - mean_squared_error: 0.6271 - val_loss: 0.5597 - val_accuracy: 0.5908 - val_mean_squared_error: 0.5597\n",
            "Epoch 2/100\n",
            "34/34 [==============================] - 1s 30ms/step - loss: 0.4989 - accuracy: 0.6012 - mean_squared_error: 0.4989 - val_loss: 0.4417 - val_accuracy: 0.6248 - val_mean_squared_error: 0.4417\n",
            "Epoch 3/100\n",
            "34/34 [==============================] - 1s 31ms/step - loss: 0.3886 - accuracy: 0.6250 - mean_squared_error: 0.3886 - val_loss: 0.3416 - val_accuracy: 0.6256 - val_mean_squared_error: 0.3416\n",
            "Epoch 4/100\n",
            "34/34 [==============================] - 1s 31ms/step - loss: 0.3030 - accuracy: 0.6257 - mean_squared_error: 0.3030 - val_loss: 0.2725 - val_accuracy: 0.6264 - val_mean_squared_error: 0.2725\n",
            "Epoch 5/100\n",
            "34/34 [==============================] - 1s 31ms/step - loss: 0.2467 - accuracy: 0.6357 - mean_squared_error: 0.2467 - val_loss: 0.2303 - val_accuracy: 0.6590 - val_mean_squared_error: 0.2303\n",
            "Epoch 6/100\n",
            "34/34 [==============================] - 1s 31ms/step - loss: 0.2123 - accuracy: 0.6589 - mean_squared_error: 0.2123 - val_loss: 0.2049 - val_accuracy: 0.6590 - val_mean_squared_error: 0.2049\n",
            "Epoch 7/100\n",
            "34/34 [==============================] - 1s 30ms/step - loss: 0.1909 - accuracy: 0.6589 - mean_squared_error: 0.1909 - val_loss: 0.1892 - val_accuracy: 0.6592 - val_mean_squared_error: 0.1892\n",
            "Epoch 8/100\n",
            "34/34 [==============================] - 1s 30ms/step - loss: 0.1770 - accuracy: 0.6590 - mean_squared_error: 0.1770 - val_loss: 0.1789 - val_accuracy: 0.6592 - val_mean_squared_error: 0.1789\n",
            "Epoch 9/100\n",
            "34/34 [==============================] - 1s 30ms/step - loss: 0.1676 - accuracy: 0.6591 - mean_squared_error: 0.1676 - val_loss: 0.1718 - val_accuracy: 0.6592 - val_mean_squared_error: 0.1718\n",
            "Epoch 10/100\n",
            "34/34 [==============================] - 1s 30ms/step - loss: 0.1608 - accuracy: 0.6594 - mean_squared_error: 0.1608 - val_loss: 0.1667 - val_accuracy: 0.6592 - val_mean_squared_error: 0.1667\n",
            "Epoch 11/100\n",
            "34/34 [==============================] - 1s 30ms/step - loss: 0.1558 - accuracy: 0.6597 - mean_squared_error: 0.1558 - val_loss: 0.1629 - val_accuracy: 0.6596 - val_mean_squared_error: 0.1629\n",
            "Epoch 12/100\n",
            "34/34 [==============================] - 1s 30ms/step - loss: 0.1520 - accuracy: 0.6601 - mean_squared_error: 0.1520 - val_loss: 0.1600 - val_accuracy: 0.6600 - val_mean_squared_error: 0.1600\n",
            "Epoch 13/100\n",
            "34/34 [==============================] - 1s 29ms/step - loss: 0.1491 - accuracy: 0.6603 - mean_squared_error: 0.1491 - val_loss: 0.1578 - val_accuracy: 0.6602 - val_mean_squared_error: 0.1578\n",
            "Epoch 14/100\n",
            "34/34 [==============================] - 1s 30ms/step - loss: 0.1468 - accuracy: 0.6610 - mean_squared_error: 0.1468 - val_loss: 0.1560 - val_accuracy: 0.6604 - val_mean_squared_error: 0.1560\n",
            "Epoch 15/100\n",
            "34/34 [==============================] - 1s 30ms/step - loss: 0.1449 - accuracy: 0.6621 - mean_squared_error: 0.1449 - val_loss: 0.1546 - val_accuracy: 0.6620 - val_mean_squared_error: 0.1546\n",
            "Epoch 16/100\n",
            "34/34 [==============================] - 1s 30ms/step - loss: 0.1434 - accuracy: 0.6647 - mean_squared_error: 0.1434 - val_loss: 0.1534 - val_accuracy: 0.6656 - val_mean_squared_error: 0.1534\n",
            "Epoch 17/100\n",
            "34/34 [==============================] - 1s 29ms/step - loss: 0.1421 - accuracy: 0.6685 - mean_squared_error: 0.1421 - val_loss: 0.1524 - val_accuracy: 0.6706 - val_mean_squared_error: 0.1524\n",
            "Epoch 18/100\n",
            "34/34 [==============================] - 1s 29ms/step - loss: 0.1411 - accuracy: 0.6738 - mean_squared_error: 0.1411 - val_loss: 0.1516 - val_accuracy: 0.6768 - val_mean_squared_error: 0.1516\n",
            "Epoch 19/100\n",
            "34/34 [==============================] - 1s 31ms/step - loss: 0.1402 - accuracy: 0.6813 - mean_squared_error: 0.1402 - val_loss: 0.1509 - val_accuracy: 0.6856 - val_mean_squared_error: 0.1509\n",
            "Epoch 20/100\n",
            "34/34 [==============================] - 1s 30ms/step - loss: 0.1394 - accuracy: 0.6903 - mean_squared_error: 0.1394 - val_loss: 0.1504 - val_accuracy: 0.6930 - val_mean_squared_error: 0.1504\n",
            "Epoch 21/100\n",
            "34/34 [==============================] - 1s 30ms/step - loss: 0.1388 - accuracy: 0.6931 - mean_squared_error: 0.1388 - val_loss: 0.1499 - val_accuracy: 0.6934 - val_mean_squared_error: 0.1499\n",
            "Epoch 22/100\n",
            "34/34 [==============================] - 1s 30ms/step - loss: 0.1382 - accuracy: 0.6934 - mean_squared_error: 0.1382 - val_loss: 0.1494 - val_accuracy: 0.6934 - val_mean_squared_error: 0.1494\n",
            "Epoch 23/100\n",
            "34/34 [==============================] - 1s 30ms/step - loss: 0.1378 - accuracy: 0.6934 - mean_squared_error: 0.1378 - val_loss: 0.1491 - val_accuracy: 0.6934 - val_mean_squared_error: 0.1491\n",
            "Epoch 24/100\n",
            "34/34 [==============================] - 1s 31ms/step - loss: 0.1373 - accuracy: 0.6934 - mean_squared_error: 0.1373 - val_loss: 0.1487 - val_accuracy: 0.6934 - val_mean_squared_error: 0.1487\n",
            "Epoch 25/100\n",
            "34/34 [==============================] - 1s 31ms/step - loss: 0.1370 - accuracy: 0.6934 - mean_squared_error: 0.1370 - val_loss: 0.1484 - val_accuracy: 0.6934 - val_mean_squared_error: 0.1484\n",
            "Epoch 26/100\n",
            "34/34 [==============================] - 1s 31ms/step - loss: 0.1367 - accuracy: 0.6934 - mean_squared_error: 0.1367 - val_loss: 0.1482 - val_accuracy: 0.6934 - val_mean_squared_error: 0.1482\n",
            "Epoch 27/100\n",
            "34/34 [==============================] - 1s 31ms/step - loss: 0.1364 - accuracy: 0.6934 - mean_squared_error: 0.1364 - val_loss: 0.1480 - val_accuracy: 0.6934 - val_mean_squared_error: 0.1480\n",
            "Epoch 28/100\n",
            "34/34 [==============================] - 1s 30ms/step - loss: 0.1361 - accuracy: 0.6934 - mean_squared_error: 0.1361 - val_loss: 0.1478 - val_accuracy: 0.6934 - val_mean_squared_error: 0.1478\n",
            "Epoch 29/100\n",
            "34/34 [==============================] - 1s 31ms/step - loss: 0.1359 - accuracy: 0.6934 - mean_squared_error: 0.1359 - val_loss: 0.1476 - val_accuracy: 0.6934 - val_mean_squared_error: 0.1476\n",
            "Epoch 30/100\n",
            "34/34 [==============================] - 1s 30ms/step - loss: 0.1357 - accuracy: 0.6934 - mean_squared_error: 0.1357 - val_loss: 0.1474 - val_accuracy: 0.6934 - val_mean_squared_error: 0.1474\n",
            "Epoch 31/100\n",
            "34/34 [==============================] - 1s 30ms/step - loss: 0.1355 - accuracy: 0.6934 - mean_squared_error: 0.1355 - val_loss: 0.1473 - val_accuracy: 0.6934 - val_mean_squared_error: 0.1473\n",
            "Epoch 32/100\n",
            "34/34 [==============================] - 1s 31ms/step - loss: 0.1353 - accuracy: 0.6934 - mean_squared_error: 0.1353 - val_loss: 0.1472 - val_accuracy: 0.6934 - val_mean_squared_error: 0.1472\n",
            "Epoch 33/100\n",
            "34/34 [==============================] - 1s 31ms/step - loss: 0.1352 - accuracy: 0.6934 - mean_squared_error: 0.1352 - val_loss: 0.1471 - val_accuracy: 0.6934 - val_mean_squared_error: 0.1471\n",
            "Epoch 34/100\n",
            "34/34 [==============================] - 1s 30ms/step - loss: 0.1351 - accuracy: 0.6934 - mean_squared_error: 0.1351 - val_loss: 0.1470 - val_accuracy: 0.6934 - val_mean_squared_error: 0.1470\n",
            "Epoch 35/100\n",
            "34/34 [==============================] - 1s 30ms/step - loss: 0.1350 - accuracy: 0.6934 - mean_squared_error: 0.1350 - val_loss: 0.1469 - val_accuracy: 0.6934 - val_mean_squared_error: 0.1469\n",
            "Epoch 36/100\n",
            "34/34 [==============================] - 1s 30ms/step - loss: 0.1349 - accuracy: 0.6934 - mean_squared_error: 0.1349 - val_loss: 0.1468 - val_accuracy: 0.6934 - val_mean_squared_error: 0.1468\n",
            "Epoch 37/100\n",
            "34/34 [==============================] - 1s 31ms/step - loss: 0.1348 - accuracy: 0.6934 - mean_squared_error: 0.1348 - val_loss: 0.1467 - val_accuracy: 0.6934 - val_mean_squared_error: 0.1467\n",
            "Epoch 38/100\n",
            "34/34 [==============================] - 1s 30ms/step - loss: 0.1347 - accuracy: 0.6934 - mean_squared_error: 0.1347 - val_loss: 0.1467 - val_accuracy: 0.6934 - val_mean_squared_error: 0.1467\n",
            "Epoch 39/100\n",
            "34/34 [==============================] - 1s 30ms/step - loss: 0.1346 - accuracy: 0.6934 - mean_squared_error: 0.1346 - val_loss: 0.1466 - val_accuracy: 0.6934 - val_mean_squared_error: 0.1466\n",
            "Epoch 40/100\n",
            "34/34 [==============================] - 1s 31ms/step - loss: 0.1345 - accuracy: 0.6934 - mean_squared_error: 0.1345 - val_loss: 0.1465 - val_accuracy: 0.6934 - val_mean_squared_error: 0.1465\n",
            "Epoch 41/100\n",
            "34/34 [==============================] - 1s 30ms/step - loss: 0.1345 - accuracy: 0.6934 - mean_squared_error: 0.1345 - val_loss: 0.1465 - val_accuracy: 0.6934 - val_mean_squared_error: 0.1465\n",
            "Epoch 42/100\n",
            "34/34 [==============================] - 1s 30ms/step - loss: 0.1344 - accuracy: 0.6934 - mean_squared_error: 0.1344 - val_loss: 0.1464 - val_accuracy: 0.6934 - val_mean_squared_error: 0.1464\n",
            "Epoch 43/100\n",
            "34/34 [==============================] - 1s 31ms/step - loss: 0.1344 - accuracy: 0.6934 - mean_squared_error: 0.1344 - val_loss: 0.1464 - val_accuracy: 0.6934 - val_mean_squared_error: 0.1464\n",
            "Epoch 44/100\n",
            "34/34 [==============================] - 1s 30ms/step - loss: 0.1343 - accuracy: 0.6934 - mean_squared_error: 0.1343 - val_loss: 0.1464 - val_accuracy: 0.6934 - val_mean_squared_error: 0.1464\n",
            "Epoch 45/100\n",
            "34/34 [==============================] - 1s 30ms/step - loss: 0.1343 - accuracy: 0.6934 - mean_squared_error: 0.1343 - val_loss: 0.1463 - val_accuracy: 0.6934 - val_mean_squared_error: 0.1463\n",
            "Epoch 46/100\n",
            "34/34 [==============================] - 1s 31ms/step - loss: 0.1342 - accuracy: 0.6934 - mean_squared_error: 0.1342 - val_loss: 0.1463 - val_accuracy: 0.6934 - val_mean_squared_error: 0.1463\n",
            "Epoch 47/100\n",
            "34/34 [==============================] - 1s 31ms/step - loss: 0.1342 - accuracy: 0.6934 - mean_squared_error: 0.1342 - val_loss: 0.1463 - val_accuracy: 0.6934 - val_mean_squared_error: 0.1463\n",
            "Epoch 48/100\n",
            "34/34 [==============================] - 1s 30ms/step - loss: 0.1342 - accuracy: 0.6934 - mean_squared_error: 0.1342 - val_loss: 0.1462 - val_accuracy: 0.6934 - val_mean_squared_error: 0.1462\n",
            "Epoch 49/100\n",
            "34/34 [==============================] - 1s 30ms/step - loss: 0.1341 - accuracy: 0.6934 - mean_squared_error: 0.1341 - val_loss: 0.1462 - val_accuracy: 0.6934 - val_mean_squared_error: 0.1462\n",
            "Epoch 50/100\n",
            "34/34 [==============================] - 1s 30ms/step - loss: 0.1341 - accuracy: 0.6934 - mean_squared_error: 0.1341 - val_loss: 0.1462 - val_accuracy: 0.6934 - val_mean_squared_error: 0.1462\n",
            "Epoch 51/100\n",
            "34/34 [==============================] - 1s 31ms/step - loss: 0.1341 - accuracy: 0.6934 - mean_squared_error: 0.1341 - val_loss: 0.1462 - val_accuracy: 0.6934 - val_mean_squared_error: 0.1462\n",
            "Epoch 52/100\n",
            "34/34 [==============================] - 1s 30ms/step - loss: 0.1341 - accuracy: 0.6934 - mean_squared_error: 0.1341 - val_loss: 0.1462 - val_accuracy: 0.6934 - val_mean_squared_error: 0.1462\n",
            "Epoch 53/100\n",
            "34/34 [==============================] - 1s 31ms/step - loss: 0.1340 - accuracy: 0.6934 - mean_squared_error: 0.1340 - val_loss: 0.1462 - val_accuracy: 0.6934 - val_mean_squared_error: 0.1462\n",
            "Epoch 54/100\n",
            "34/34 [==============================] - 1s 31ms/step - loss: 0.1340 - accuracy: 0.6934 - mean_squared_error: 0.1340 - val_loss: 0.1461 - val_accuracy: 0.6934 - val_mean_squared_error: 0.1461\n",
            "Epoch 55/100\n",
            "34/34 [==============================] - 1s 30ms/step - loss: 0.1340 - accuracy: 0.6934 - mean_squared_error: 0.1340 - val_loss: 0.1461 - val_accuracy: 0.6934 - val_mean_squared_error: 0.1461\n",
            "Epoch 56/100\n",
            "34/34 [==============================] - 1s 30ms/step - loss: 0.1340 - accuracy: 0.6934 - mean_squared_error: 0.1340 - val_loss: 0.1461 - val_accuracy: 0.6934 - val_mean_squared_error: 0.1461\n",
            "Epoch 57/100\n",
            "34/34 [==============================] - 1s 31ms/step - loss: 0.1340 - accuracy: 0.6934 - mean_squared_error: 0.1340 - val_loss: 0.1461 - val_accuracy: 0.6934 - val_mean_squared_error: 0.1461\n",
            "Epoch 58/100\n",
            "34/34 [==============================] - 1s 31ms/step - loss: 0.1340 - accuracy: 0.6934 - mean_squared_error: 0.1340 - val_loss: 0.1461 - val_accuracy: 0.6934 - val_mean_squared_error: 0.1461\n",
            "Epoch 59/100\n",
            "34/34 [==============================] - 1s 31ms/step - loss: 0.1340 - accuracy: 0.6934 - mean_squared_error: 0.1340 - val_loss: 0.1461 - val_accuracy: 0.6934 - val_mean_squared_error: 0.1461\n",
            "Epoch 60/100\n",
            "34/34 [==============================] - 1s 31ms/step - loss: 0.1339 - accuracy: 0.6934 - mean_squared_error: 0.1339 - val_loss: 0.1461 - val_accuracy: 0.6934 - val_mean_squared_error: 0.1461\n",
            "Epoch 61/100\n",
            "34/34 [==============================] - 1s 30ms/step - loss: 0.1339 - accuracy: 0.6934 - mean_squared_error: 0.1339 - val_loss: 0.1461 - val_accuracy: 0.6934 - val_mean_squared_error: 0.1461\n",
            "Epoch 62/100\n",
            "34/34 [==============================] - 1s 31ms/step - loss: 0.1339 - accuracy: 0.6934 - mean_squared_error: 0.1339 - val_loss: 0.1461 - val_accuracy: 0.6934 - val_mean_squared_error: 0.1461\n",
            "Epoch 63/100\n",
            "34/34 [==============================] - 1s 30ms/step - loss: 0.1339 - accuracy: 0.6934 - mean_squared_error: 0.1339 - val_loss: 0.1461 - val_accuracy: 0.6934 - val_mean_squared_error: 0.1461\n",
            "Epoch 64/100\n",
            "34/34 [==============================] - 1s 31ms/step - loss: 0.1339 - accuracy: 0.6934 - mean_squared_error: 0.1339 - val_loss: 0.1461 - val_accuracy: 0.6934 - val_mean_squared_error: 0.1461\n",
            "Epoch 65/100\n",
            "34/34 [==============================] - 1s 31ms/step - loss: 0.1339 - accuracy: 0.6934 - mean_squared_error: 0.1339 - val_loss: 0.1461 - val_accuracy: 0.6934 - val_mean_squared_error: 0.1461\n",
            "Epoch 66/100\n",
            "34/34 [==============================] - 1s 31ms/step - loss: 0.1339 - accuracy: 0.6934 - mean_squared_error: 0.1339 - val_loss: 0.1460 - val_accuracy: 0.6934 - val_mean_squared_error: 0.1460\n",
            "Epoch 67/100\n",
            "34/34 [==============================] - 1s 31ms/step - loss: 0.1339 - accuracy: 0.6934 - mean_squared_error: 0.1339 - val_loss: 0.1460 - val_accuracy: 0.6934 - val_mean_squared_error: 0.1460\n",
            "Epoch 68/100\n",
            "34/34 [==============================] - 1s 31ms/step - loss: 0.1339 - accuracy: 0.6934 - mean_squared_error: 0.1339 - val_loss: 0.1460 - val_accuracy: 0.6934 - val_mean_squared_error: 0.1460\n",
            "Epoch 69/100\n",
            "34/34 [==============================] - 1s 31ms/step - loss: 0.1339 - accuracy: 0.6934 - mean_squared_error: 0.1339 - val_loss: 0.1460 - val_accuracy: 0.6934 - val_mean_squared_error: 0.1460\n",
            "Epoch 70/100\n",
            "34/34 [==============================] - 1s 31ms/step - loss: 0.1339 - accuracy: 0.6934 - mean_squared_error: 0.1339 - val_loss: 0.1460 - val_accuracy: 0.6934 - val_mean_squared_error: 0.1460\n",
            "Epoch 71/100\n",
            "34/34 [==============================] - 1s 32ms/step - loss: 0.1339 - accuracy: 0.6934 - mean_squared_error: 0.1339 - val_loss: 0.1460 - val_accuracy: 0.6934 - val_mean_squared_error: 0.1460\n",
            "Epoch 72/100\n",
            "34/34 [==============================] - 1s 31ms/step - loss: 0.1339 - accuracy: 0.6934 - mean_squared_error: 0.1339 - val_loss: 0.1460 - val_accuracy: 0.6934 - val_mean_squared_error: 0.1460\n",
            "Epoch 73/100\n",
            "34/34 [==============================] - 1s 31ms/step - loss: 0.1339 - accuracy: 0.6934 - mean_squared_error: 0.1339 - val_loss: 0.1460 - val_accuracy: 0.6934 - val_mean_squared_error: 0.1460\n",
            "Epoch 74/100\n",
            "34/34 [==============================] - 1s 31ms/step - loss: 0.1339 - accuracy: 0.6934 - mean_squared_error: 0.1339 - val_loss: 0.1460 - val_accuracy: 0.6934 - val_mean_squared_error: 0.1460\n",
            "Epoch 75/100\n",
            "34/34 [==============================] - 1s 31ms/step - loss: 0.1339 - accuracy: 0.6934 - mean_squared_error: 0.1339 - val_loss: 0.1460 - val_accuracy: 0.6934 - val_mean_squared_error: 0.1460\n",
            "Epoch 76/100\n",
            "34/34 [==============================] - 1s 31ms/step - loss: 0.1339 - accuracy: 0.6934 - mean_squared_error: 0.1339 - val_loss: 0.1460 - val_accuracy: 0.6934 - val_mean_squared_error: 0.1460\n",
            "Epoch 77/100\n",
            "34/34 [==============================] - 1s 30ms/step - loss: 0.1339 - accuracy: 0.6934 - mean_squared_error: 0.1339 - val_loss: 0.1460 - val_accuracy: 0.6934 - val_mean_squared_error: 0.1460\n",
            "Epoch 78/100\n",
            "34/34 [==============================] - 1s 31ms/step - loss: 0.1339 - accuracy: 0.6934 - mean_squared_error: 0.1339 - val_loss: 0.1460 - val_accuracy: 0.6934 - val_mean_squared_error: 0.1460\n",
            "Epoch 79/100\n",
            "34/34 [==============================] - 1s 31ms/step - loss: 0.1339 - accuracy: 0.6934 - mean_squared_error: 0.1339 - val_loss: 0.1460 - val_accuracy: 0.6934 - val_mean_squared_error: 0.1460\n",
            "Epoch 80/100\n",
            "34/34 [==============================] - 1s 31ms/step - loss: 0.1339 - accuracy: 0.6934 - mean_squared_error: 0.1339 - val_loss: 0.1460 - val_accuracy: 0.6934 - val_mean_squared_error: 0.1460\n",
            "Epoch 81/100\n",
            "34/34 [==============================] - 1s 32ms/step - loss: 0.1339 - accuracy: 0.6934 - mean_squared_error: 0.1339 - val_loss: 0.1460 - val_accuracy: 0.6934 - val_mean_squared_error: 0.1460\n",
            "Epoch 82/100\n",
            "34/34 [==============================] - 1s 31ms/step - loss: 0.1339 - accuracy: 0.6934 - mean_squared_error: 0.1339 - val_loss: 0.1460 - val_accuracy: 0.6934 - val_mean_squared_error: 0.1460\n",
            "Epoch 83/100\n",
            "34/34 [==============================] - 1s 30ms/step - loss: 0.1339 - accuracy: 0.6934 - mean_squared_error: 0.1339 - val_loss: 0.1460 - val_accuracy: 0.6934 - val_mean_squared_error: 0.1460\n",
            "Epoch 84/100\n",
            "34/34 [==============================] - 1s 31ms/step - loss: 0.1339 - accuracy: 0.6934 - mean_squared_error: 0.1339 - val_loss: 0.1460 - val_accuracy: 0.6934 - val_mean_squared_error: 0.1460\n",
            "Epoch 85/100\n",
            "34/34 [==============================] - 1s 31ms/step - loss: 0.1339 - accuracy: 0.6934 - mean_squared_error: 0.1339 - val_loss: 0.1460 - val_accuracy: 0.6934 - val_mean_squared_error: 0.1460\n",
            "Epoch 86/100\n",
            "34/34 [==============================] - 1s 31ms/step - loss: 0.1339 - accuracy: 0.6934 - mean_squared_error: 0.1339 - val_loss: 0.1460 - val_accuracy: 0.6934 - val_mean_squared_error: 0.1460\n",
            "Epoch 87/100\n",
            "34/34 [==============================] - 1s 31ms/step - loss: 0.1339 - accuracy: 0.6934 - mean_squared_error: 0.1339 - val_loss: 0.1460 - val_accuracy: 0.6934 - val_mean_squared_error: 0.1460\n",
            "Epoch 88/100\n",
            "34/34 [==============================] - 1s 31ms/step - loss: 0.1339 - accuracy: 0.6934 - mean_squared_error: 0.1339 - val_loss: 0.1460 - val_accuracy: 0.6934 - val_mean_squared_error: 0.1460\n",
            "Epoch 89/100\n",
            "34/34 [==============================] - 1s 32ms/step - loss: 0.1339 - accuracy: 0.6934 - mean_squared_error: 0.1339 - val_loss: 0.1460 - val_accuracy: 0.6934 - val_mean_squared_error: 0.1460\n",
            "Epoch 90/100\n",
            "34/34 [==============================] - 1s 31ms/step - loss: 0.1338 - accuracy: 0.6934 - mean_squared_error: 0.1338 - val_loss: 0.1460 - val_accuracy: 0.6934 - val_mean_squared_error: 0.1460\n",
            "Epoch 91/100\n",
            "34/34 [==============================] - 1s 31ms/step - loss: 0.1338 - accuracy: 0.6934 - mean_squared_error: 0.1338 - val_loss: 0.1460 - val_accuracy: 0.6934 - val_mean_squared_error: 0.1460\n",
            "Epoch 92/100\n",
            "34/34 [==============================] - 1s 31ms/step - loss: 0.1338 - accuracy: 0.6934 - mean_squared_error: 0.1338 - val_loss: 0.1460 - val_accuracy: 0.6934 - val_mean_squared_error: 0.1460\n",
            "Epoch 93/100\n",
            "34/34 [==============================] - 1s 31ms/step - loss: 0.1338 - accuracy: 0.6934 - mean_squared_error: 0.1338 - val_loss: 0.1460 - val_accuracy: 0.6934 - val_mean_squared_error: 0.1460\n",
            "Epoch 94/100\n",
            "34/34 [==============================] - 1s 31ms/step - loss: 0.1338 - accuracy: 0.6934 - mean_squared_error: 0.1338 - val_loss: 0.1460 - val_accuracy: 0.6934 - val_mean_squared_error: 0.1460\n",
            "Epoch 95/100\n",
            "34/34 [==============================] - 1s 31ms/step - loss: 0.1338 - accuracy: 0.6934 - mean_squared_error: 0.1338 - val_loss: 0.1460 - val_accuracy: 0.6934 - val_mean_squared_error: 0.1460\n",
            "Epoch 96/100\n",
            "34/34 [==============================] - 1s 30ms/step - loss: 0.1338 - accuracy: 0.6934 - mean_squared_error: 0.1338 - val_loss: 0.1460 - val_accuracy: 0.6934 - val_mean_squared_error: 0.1460\n",
            "Epoch 97/100\n",
            "34/34 [==============================] - 1s 30ms/step - loss: 0.1338 - accuracy: 0.6934 - mean_squared_error: 0.1338 - val_loss: 0.1460 - val_accuracy: 0.6934 - val_mean_squared_error: 0.1460\n",
            "Epoch 98/100\n",
            "34/34 [==============================] - 1s 31ms/step - loss: 0.1338 - accuracy: 0.6934 - mean_squared_error: 0.1338 - val_loss: 0.1460 - val_accuracy: 0.6934 - val_mean_squared_error: 0.1460\n",
            "Epoch 99/100\n",
            "34/34 [==============================] - 1s 30ms/step - loss: 0.1338 - accuracy: 0.6934 - mean_squared_error: 0.1338 - val_loss: 0.1460 - val_accuracy: 0.6934 - val_mean_squared_error: 0.1460\n",
            "Epoch 100/100\n",
            "34/34 [==============================] - 1s 31ms/step - loss: 0.1338 - accuracy: 0.6934 - mean_squared_error: 0.1338 - val_loss: 0.1460 - val_accuracy: 0.6934 - val_mean_squared_error: 0.1460\n"
          ]
        }
      ]
    },
    {
      "cell_type": "code",
      "metadata": {
        "colab": {
          "base_uri": "https://localhost:8080/"
        },
        "id": "muAnOJZJhBoN",
        "outputId": "5f80e9f0-841f-4c46-e73d-0df43d4ce4d1"
      },
      "source": [
        "from sklearn.metrics import mean_squared_error\n",
        "loss, accuracy,mean_squared_error = model_GRU2.evaluate(X_test, y_test, verbose=0)\n",
        "print('Accuracy: %f' % accuracy)\n",
        "print('Error Rate: %f' % (1 - accuracy))\n",
        "print('Mean Squared Error: %f' % mean_squared_error)"
      ],
      "execution_count": null,
      "outputs": [
        {
          "output_type": "stream",
          "name": "stdout",
          "text": [
            "Accuracy: 0.693400\n",
            "Error Rate: 0.306600\n",
            "Mean Squared Error: 0.146006\n"
          ]
        }
      ]
    },
    {
      "cell_type": "code",
      "metadata": {
        "colab": {
          "base_uri": "https://localhost:8080/",
          "height": 282
        },
        "id": "AMW68nFipbzd",
        "outputId": "23febad4-102d-4a32-fbb1-bfc5ab335ebf"
      },
      "source": [
        "pred_LSTM=model_GRU2.predict(X_test)\n",
        "#GRU with factors\n",
        "plt.plot(history_GRU2.history[\"loss\"], label=\"Training Loss\")\n",
        "plt.plot(history_GRU2.history[\"val_loss\"], label=\"Validation Loss\")\n",
        "plt.legend()"
      ],
      "execution_count": null,
      "outputs": [
        {
          "output_type": "execute_result",
          "data": {
            "text/plain": [
              "<matplotlib.legend.Legend at 0x7f1a9a865050>"
            ]
          },
          "metadata": {},
          "execution_count": 38
        },
        {
          "output_type": "display_data",
          "data": {
            "image/png": "[encoded data removed]",
            "text/plain": [
              "<Figure size 432x288 with 1 Axes>"
            ]
          },
          "metadata": {
            "needs_background": "light"
          }
        }
      ]
    }
  ]
}