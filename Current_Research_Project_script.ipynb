{
  "nbformat": 4,
  "nbformat_minor": 0,
  "metadata": {
    "colab": {
      "name": "Current Research Project script.ipynb",
      "provenance": [],
      "collapsed_sections": [],
      "authorship_tag": "ABX9TyPVmardPGuDjFXa5uIrq8+V",
      "include_colab_link": true
    },
    "kernelspec": {
      "name": "python3",
      "display_name": "Python 3"
    },
    "language_info": {
      "name": "python"
    }
  },
  "cells": [
    {
      "cell_type": "markdown",
      "metadata": {
        "id": "view-in-github",
        "colab_type": "text"
      },
      "source": [
        "<a href=\"https://colab.research.google.com/github/PhuongDang1/SIT-Research-Project/blob/main/Current_Research_Project_script.ipynb\" target=\"_parent\"><img src=\"https://colab.research.google.com/assets/colab-badge.svg\" alt=\"Open In Colab\"/></a>"
      ]
    },
    {
      "cell_type": "markdown",
      "metadata": {
        "id": "qPvksnLGpUvI"
      },
      "source": [
        "# **Loading Relevant Libraries**"
      ]
    },
    {
      "cell_type": "code",
      "metadata": {
        "colab": {
          "base_uri": "https://localhost:8080/"
        },
        "id": "0_PLx2vk5shp",
        "outputId": "d9e3c9c5-fc0a-4c08-dfc6-dfda4baa1b71"
      },
      "source": [
        "%tensorflow_version 2.x\n",
        "import pandas as pd\n",
        "import numpy as np\n",
        "from math import sqrt\n",
        "from numpy import concatenate\n",
        "from matplotlib import pyplot\n",
        "from pandas import DataFrame, concat\n",
        "from sklearn.preprocessing import MinMaxScaler, LabelEncoder\n",
        "from sklearn.metrics import mean_squared_error\n",
        "from keras.models import Sequential\n",
        "from keras.layers import LSTM, GRU,Reshape, Dense\n",
        "from numpy import array\n",
        "import tensorflow as tf\n",
        "from datetime import datetime\n",
        "from google.colab import drive\n",
        "import matplotlib.pyplot as plt\n",
        "from sklearn.metrics import accuracy_score, precision_score, recall_score\n",
        "from sklearn.model_selection import train_test_split\n",
        "from tensorflow.keras import layers, losses\n",
        "from tensorflow.keras.models import Model\n",
        "\n",
        "drive.mount('/content/drive')"
      ],
      "execution_count": null,
      "outputs": [
        {
          "output_type": "stream",
          "name": "stdout",
          "text": [
            "Mounted at /content/drive\n"
          ]
        }
      ]
    },
    {
      "cell_type": "markdown",
      "metadata": {
        "id": "BLoJRwCzz8HW"
      },
      "source": [
        "# **Loading the data into a variable**"
      ]
    },
    {
      "cell_type": "code",
      "metadata": {
        "colab": {
          "base_uri": "https://localhost:8080/",
          "height": 414
        },
        "id": "4WIvnOxz6D5n",
        "outputId": "4ebe806a-a1e8-4f54-ab0c-236c95c68a49"
      },
      "source": [
        "dataset = pd.read_excel(\"/content/drive/My Drive/Covid_Dataset.xlsx\")\n",
        "dataset"
      ],
      "execution_count": null,
      "outputs": [
        {
          "output_type": "execute_result",
          "data": {
            "text/html": [
              "<div>\n",
              "<style scoped>\n",
              "    .dataframe tbody tr th:only-of-type {\n",
              "        vertical-align: middle;\n",
              "    }\n",
              "\n",
              "    .dataframe tbody tr th {\n",
              "        vertical-align: top;\n",
              "    }\n",
              "\n",
              "    .dataframe thead th {\n",
              "        text-align: right;\n",
              "    }\n",
              "</style>\n",
              "<table border=\"1\" class=\"dataframe\">\n",
              "  <thead>\n",
              "    <tr style=\"text-align: right;\">\n",
              "      <th></th>\n",
              "      <th>dateRep</th>\n",
              "      <th>cases</th>\n",
              "      <th>deaths</th>\n",
              "      <th>countriesAndTerritories</th>\n",
              "      <th>Population Density 2020 (P/KM2)</th>\n",
              "      <th>continentExp</th>\n",
              "      <th>Wind Speed Minimum</th>\n",
              "      <th>Wind Speed Maximum</th>\n",
              "      <th>Wind Speed Median</th>\n",
              "      <th>Wind Speed Variance</th>\n",
              "    </tr>\n",
              "  </thead>\n",
              "  <tbody>\n",
              "    <tr>\n",
              "      <th>0</th>\n",
              "      <td>2019-12-31</td>\n",
              "      <td>0</td>\n",
              "      <td>0</td>\n",
              "      <td>India</td>\n",
              "      <td>464</td>\n",
              "      <td>Asia</td>\n",
              "      <td>0.4</td>\n",
              "      <td>2.2</td>\n",
              "      <td>1.7</td>\n",
              "      <td>3.58</td>\n",
              "    </tr>\n",
              "    <tr>\n",
              "      <th>1</th>\n",
              "      <td>2020-01-01</td>\n",
              "      <td>0</td>\n",
              "      <td>0</td>\n",
              "      <td>India</td>\n",
              "      <td>464</td>\n",
              "      <td>Asia</td>\n",
              "      <td>0.5</td>\n",
              "      <td>2.6</td>\n",
              "      <td>0.8</td>\n",
              "      <td>4.89</td>\n",
              "    </tr>\n",
              "    <tr>\n",
              "      <th>2</th>\n",
              "      <td>2020-01-02</td>\n",
              "      <td>0</td>\n",
              "      <td>0</td>\n",
              "      <td>India</td>\n",
              "      <td>464</td>\n",
              "      <td>Asia</td>\n",
              "      <td>0.5</td>\n",
              "      <td>1.6</td>\n",
              "      <td>0.7</td>\n",
              "      <td>1.40</td>\n",
              "    </tr>\n",
              "    <tr>\n",
              "      <th>3</th>\n",
              "      <td>2020-01-03</td>\n",
              "      <td>0</td>\n",
              "      <td>0</td>\n",
              "      <td>India</td>\n",
              "      <td>464</td>\n",
              "      <td>Asia</td>\n",
              "      <td>0.1</td>\n",
              "      <td>9.9</td>\n",
              "      <td>0.9</td>\n",
              "      <td>20.86</td>\n",
              "    </tr>\n",
              "    <tr>\n",
              "      <th>4</th>\n",
              "      <td>2020-01-04</td>\n",
              "      <td>0</td>\n",
              "      <td>0</td>\n",
              "      <td>India</td>\n",
              "      <td>464</td>\n",
              "      <td>Asia</td>\n",
              "      <td>0.1</td>\n",
              "      <td>11.8</td>\n",
              "      <td>0.8</td>\n",
              "      <td>20.96</td>\n",
              "    </tr>\n",
              "    <tr>\n",
              "      <th>...</th>\n",
              "      <td>...</td>\n",
              "      <td>...</td>\n",
              "      <td>...</td>\n",
              "      <td>...</td>\n",
              "      <td>...</td>\n",
              "      <td>...</td>\n",
              "      <td>...</td>\n",
              "      <td>...</td>\n",
              "      <td>...</td>\n",
              "      <td>...</td>\n",
              "    </tr>\n",
              "    <tr>\n",
              "      <th>1387</th>\n",
              "      <td>2020-12-10</td>\n",
              "      <td>220025</td>\n",
              "      <td>3124</td>\n",
              "      <td>United_States_of_America</td>\n",
              "      <td>36</td>\n",
              "      <td>America</td>\n",
              "      <td>0.1</td>\n",
              "      <td>18.0</td>\n",
              "      <td>3.8</td>\n",
              "      <td>114.01</td>\n",
              "    </tr>\n",
              "    <tr>\n",
              "      <th>1388</th>\n",
              "      <td>2020-12-11</td>\n",
              "      <td>224680</td>\n",
              "      <td>2748</td>\n",
              "      <td>United_States_of_America</td>\n",
              "      <td>36</td>\n",
              "      <td>America</td>\n",
              "      <td>0.1</td>\n",
              "      <td>12.0</td>\n",
              "      <td>2.5</td>\n",
              "      <td>51.39</td>\n",
              "    </tr>\n",
              "    <tr>\n",
              "      <th>1389</th>\n",
              "      <td>2020-12-12</td>\n",
              "      <td>234633</td>\n",
              "      <td>3343</td>\n",
              "      <td>United_States_of_America</td>\n",
              "      <td>36</td>\n",
              "      <td>America</td>\n",
              "      <td>0.1</td>\n",
              "      <td>8.5</td>\n",
              "      <td>2.5</td>\n",
              "      <td>25.50</td>\n",
              "    </tr>\n",
              "    <tr>\n",
              "      <th>1390</th>\n",
              "      <td>2020-12-13</td>\n",
              "      <td>216017</td>\n",
              "      <td>2315</td>\n",
              "      <td>United_States_of_America</td>\n",
              "      <td>36</td>\n",
              "      <td>America</td>\n",
              "      <td>0.8</td>\n",
              "      <td>15.0</td>\n",
              "      <td>3.6</td>\n",
              "      <td>77.38</td>\n",
              "    </tr>\n",
              "    <tr>\n",
              "      <th>1391</th>\n",
              "      <td>2020-12-14</td>\n",
              "      <td>189723</td>\n",
              "      <td>1340</td>\n",
              "      <td>United_States_of_America</td>\n",
              "      <td>36</td>\n",
              "      <td>America</td>\n",
              "      <td>0.2</td>\n",
              "      <td>18.0</td>\n",
              "      <td>3.8</td>\n",
              "      <td>126.47</td>\n",
              "    </tr>\n",
              "  </tbody>\n",
              "</table>\n",
              "<p>1392 rows × 10 columns</p>\n",
              "</div>"
            ],
            "text/plain": [
              "        dateRep   cases  ...  Wind Speed Median Wind Speed Variance\n",
              "0    2019-12-31       0  ...                1.7                3.58\n",
              "1    2020-01-01       0  ...                0.8                4.89\n",
              "2    2020-01-02       0  ...                0.7                1.40\n",
              "3    2020-01-03       0  ...                0.9               20.86\n",
              "4    2020-01-04       0  ...                0.8               20.96\n",
              "...         ...     ...  ...                ...                 ...\n",
              "1387 2020-12-10  220025  ...                3.8              114.01\n",
              "1388 2020-12-11  224680  ...                2.5               51.39\n",
              "1389 2020-12-12  234633  ...                2.5               25.50\n",
              "1390 2020-12-13  216017  ...                3.6               77.38\n",
              "1391 2020-12-14  189723  ...                3.8              126.47\n",
              "\n",
              "[1392 rows x 10 columns]"
            ]
          },
          "metadata": {},
          "execution_count": 2
        }
      ]
    },
    {
      "cell_type": "markdown",
      "metadata": {
        "id": "TsX5gyeDs9Qd"
      },
      "source": [
        "# **Preprocessing for confirmed cases test only**"
      ]
    },
    {
      "cell_type": "code",
      "metadata": {
        "id": "feBGtxJN78LO"
      },
      "source": [
        "new_index = dataset.iloc[:,0]\n",
        "new_index\n",
        "values = dataset.set_index(new_index)\n",
        "values = values.iloc[:,1:]\n",
        "values = values.iloc[:1500,0:2].astype('float32')\n",
        "values\n",
        "labels = dataset.iloc[:1500,-9]\n",
        "labels\n",
        "\n",
        "from sklearn.model_selection import train_test_split\n",
        "train_data, test_data, train_labels, test_labels = train_test_split(values, labels, test_size=0.20, random_state=88)"
      ],
      "execution_count": null,
      "outputs": []
    },
    {
      "cell_type": "code",
      "metadata": {
        "id": "PHjKjPNa8GQF"
      },
      "source": [
        "train_labels = pd.array(train_labels)\n",
        "test_labels = pd.array(test_labels)"
      ],
      "execution_count": null,
      "outputs": []
    },
    {
      "cell_type": "code",
      "metadata": {
        "colab": {
          "base_uri": "https://localhost:8080/"
        },
        "id": "JvCSz4lV8IAd",
        "outputId": "48e46b10-9ed4-4f45-94b5-44896f416f03"
      },
      "source": [
        "train = train_data\n",
        "scalers={}\n",
        "for i in train_data.columns:\n",
        "    scaler = MinMaxScaler(feature_range=(-1,1))\n",
        "    s_s = scaler.fit_transform(train[i].values.reshape(-1,1))\n",
        "    s_s= np.reshape(s_s,len(s_s))\n",
        "    scalers['scaler_'+ i] = scaler\n",
        "    train[i]=s_s\n",
        "test = test_data\n",
        "for i in test_data.columns:\n",
        "    scaler = scalers['scaler_'+i]\n",
        "    s_s = scaler.transform(test[i].values.reshape(-1,1))\n",
        "    s_s= np.reshape(s_s,len(s_s))\n",
        "    scalers['scaler_'+i] = scaler\n",
        "    test[i]=s_s"
      ],
      "execution_count": null,
      "outputs": [
        {
          "output_type": "stream",
          "name": "stderr",
          "text": [
            "/usr/local/lib/python3.7/dist-packages/ipykernel_launcher.py:8: SettingWithCopyWarning: \n",
            "A value is trying to be set on a copy of a slice from a DataFrame.\n",
            "Try using .loc[row_indexer,col_indexer] = value instead\n",
            "\n",
            "See the caveats in the documentation: https://pandas.pydata.org/pandas-docs/stable/user_guide/indexing.html#returning-a-view-versus-a-copy\n",
            "  \n",
            "/usr/local/lib/python3.7/dist-packages/ipykernel_launcher.py:8: SettingWithCopyWarning: \n",
            "A value is trying to be set on a copy of a slice from a DataFrame.\n",
            "Try using .loc[row_indexer,col_indexer] = value instead\n",
            "\n",
            "See the caveats in the documentation: https://pandas.pydata.org/pandas-docs/stable/user_guide/indexing.html#returning-a-view-versus-a-copy\n",
            "  \n",
            "/usr/local/lib/python3.7/dist-packages/ipykernel_launcher.py:15: SettingWithCopyWarning: \n",
            "A value is trying to be set on a copy of a slice from a DataFrame.\n",
            "Try using .loc[row_indexer,col_indexer] = value instead\n",
            "\n",
            "See the caveats in the documentation: https://pandas.pydata.org/pandas-docs/stable/user_guide/indexing.html#returning-a-view-versus-a-copy\n",
            "  from ipykernel import kernelapp as app\n",
            "/usr/local/lib/python3.7/dist-packages/ipykernel_launcher.py:15: SettingWithCopyWarning: \n",
            "A value is trying to be set on a copy of a slice from a DataFrame.\n",
            "Try using .loc[row_indexer,col_indexer] = value instead\n",
            "\n",
            "See the caveats in the documentation: https://pandas.pydata.org/pandas-docs/stable/user_guide/indexing.html#returning-a-view-versus-a-copy\n",
            "  from ipykernel import kernelapp as app\n"
          ]
        }
      ]
    },
    {
      "cell_type": "code",
      "metadata": {
        "id": "fzswL_oS8J-F"
      },
      "source": [
        "def split_series(series, n_past, n_future):\n",
        "  # n_past ==> no of past observations\n",
        "  # n_future ==> no of future observations \n",
        "  X, y = list(), list()\n",
        "  for window_start in range(len(series)):\n",
        "    past_end = window_start + n_past\n",
        "    future_end = past_end + n_future\n",
        "    if future_end > len(series):\n",
        "      break\n",
        "    # slicing the past and future parts of the window\n",
        "    past, future = series[window_start:past_end, :], series[past_end:future_end, :]\n",
        "    X.append(past)\n",
        "    y.append(future)\n",
        "  return np.array(X), np.array(y)"
      ],
      "execution_count": null,
      "outputs": []
    },
    {
      "cell_type": "code",
      "metadata": {
        "id": "wjtIUR4E8Ldd"
      },
      "source": [
        "n_past = 10\n",
        "n_future = 20\n",
        "n_features = 2"
      ],
      "execution_count": null,
      "outputs": []
    },
    {
      "cell_type": "code",
      "metadata": {
        "id": "kbFW1_eq8Nk2"
      },
      "source": [
        "X_train, y_train = split_series(train.values,n_past, n_future)\n",
        "X_train = X_train.reshape((X_train.shape[0], X_train.shape[1],n_features))\n",
        "y_train = y_train.reshape((y_train.shape[0], y_train.shape[1], n_features))\n",
        "X_test, y_test = split_series(test.values,n_past, n_future)\n",
        "X_test = X_test.reshape((X_test.shape[0], X_test.shape[1], n_features))\n",
        "y_test = y_test.reshape((y_test.shape[0], y_test.shape[1], n_features))"
      ],
      "execution_count": null,
      "outputs": []
    },
    {
      "cell_type": "markdown",
      "metadata": {
        "id": "i-1pZwP42yJR"
      },
      "source": [
        "# **Designing the Model of LSTM**"
      ]
    },
    {
      "cell_type": "code",
      "metadata": {
        "colab": {
          "base_uri": "https://localhost:8080/"
        },
        "id": "cn9YcsGO8ZZI",
        "outputId": "b07aca8f-6057-4fc1-c38f-8541f79e19a8"
      },
      "source": [
        "#LSTM\n",
        "encoder_inputs = tf.keras.layers.Input(shape=(n_past, n_features))\n",
        "encoder_l1 = tf.keras.layers.LSTM(2, activation='tanh',return_state=True) \n",
        "encoder_outputs1 = encoder_l1(encoder_inputs)\n",
        "encoder_states1 = encoder_outputs1[1:]\n",
        "decoder_inputs = tf.keras.layers.RepeatVector(n_future)(encoder_outputs1[0])\n",
        "decoder_l1 = tf.keras.layers.LSTM(2, return_sequences=True)(decoder_inputs,initial_state = encoder_states1)\n",
        "decoder_outputs1 = tf.keras.layers.TimeDistributed(tf.keras.layers.Dense(n_features))(decoder_l1)\n",
        "model_LSTM = tf.keras.models.Model(encoder_inputs,decoder_outputs1)\n",
        "\n",
        "model_LSTM.summary()"
      ],
      "execution_count": null,
      "outputs": [
        {
          "output_type": "stream",
          "name": "stdout",
          "text": [
            "Model: \"model_8\"\n",
            "__________________________________________________________________________________________________\n",
            "Layer (type)                    Output Shape         Param #     Connected to                     \n",
            "==================================================================================================\n",
            "input_9 (InputLayer)            [(None, 10, 2)]      0                                            \n",
            "__________________________________________________________________________________________________\n",
            "lstm_14 (LSTM)                  [(None, 2), (None, 2 40          input_9[0][0]                    \n",
            "__________________________________________________________________________________________________\n",
            "repeat_vector_8 (RepeatVector)  (None, 20, 2)        0           lstm_14[0][0]                    \n",
            "__________________________________________________________________________________________________\n",
            "lstm_15 (LSTM)                  (None, 20, 2)        40          repeat_vector_8[0][0]            \n",
            "                                                                 lstm_14[0][1]                    \n",
            "                                                                 lstm_14[0][2]                    \n",
            "__________________________________________________________________________________________________\n",
            "time_distributed_8 (TimeDistrib (None, 20, 2)        6           lstm_15[0][0]                    \n",
            "==================================================================================================\n",
            "Total params: 86\n",
            "Trainable params: 86\n",
            "Non-trainable params: 0\n",
            "__________________________________________________________________________________________________\n"
          ]
        }
      ]
    },
    {
      "cell_type": "code",
      "metadata": {
        "id": "tCloTAYN-Srl"
      },
      "source": [
        "from keras import backend as K\n",
        "\n",
        "def mean_squared_error(y_true, y_pred):\n",
        "    return K.mean(K.square(y_pred - y_true), axis=-1)"
      ],
      "execution_count": null,
      "outputs": []
    },
    {
      "cell_type": "markdown",
      "metadata": {
        "id": "RqbJMggvDxIN"
      },
      "source": [
        "# **Training of LSTM and evaluation**"
      ]
    },
    {
      "cell_type": "code",
      "metadata": {
        "colab": {
          "base_uri": "https://localhost:8080/"
        },
        "id": "DsWkacIG8e_F",
        "outputId": "7b2184bc-7f31-4ccd-9948-342d0a379798"
      },
      "source": [
        "reduce_lr = tf.keras.callbacks.LearningRateScheduler(lambda x: 1e-3 * 0.90 ** x)\n",
        "\n",
        "#loss test\n",
        "model_LSTM.compile(optimizer=tf.keras.optimizers.Adam(learning_rate=.1e-3), loss=tf.keras.losses.MeanSquaredError(),metrics=['accuracy', 'mean_squared_error'])\n",
        "#model_LSTM.compile(optimizer=tf.keras.optimizers.Adam(learning_rate=.1e-3), loss=tf.keras.losses.binary_crossentropy,metrics=['accuracy',mean_squared_error])\n",
        "#model_LSTM.compile(optimizer=tf.keras.optimizers.Adam(learning_rate=.1e-3), loss=tf.keras.losses.categorical_crossentropy,metrics=['accuracy',mean_squared_error])\n",
        "#model_LSTM.compile(optimizer=tf.keras.optimizers.Adam(learning_rate=.1e-3), loss=tf.keras.losses.MeanSquaredError(),metrics=['accuracy',mean_squared_error])\n",
        "\n",
        "#optimizer test\n",
        "#model_LSTM.compile(optimizer=tf.keras.optimizers.SGD(learning_rate=.1e-3), loss=tf.keras.losses.Huber(),metrics=['accuracy',mean_squared_error])\n",
        "#model_LSTM.compile(optimizer=tf.keras.optimizers.RMSprop(learning_rate=.1e-3), loss=tf.keras.losses.Huber(),metrics=['accuracy',mean_squared_error])\n",
        "#model_LSTM.compile(optimizer=tf.keras.optimizers.Adadelta(learning_rate=.1e-3), loss=tf.keras.losses.Huber(),metrics=['accuracy',mean_squared_error])\n",
        "\n",
        "history_LSTM = model_LSTM.fit(X_train,y_train,epochs=100,validation_data=(X_test,y_test),batch_size=25,verbose=1,callbacks=[reduce_lr])"
      ],
      "execution_count": null,
      "outputs": [
        {
          "output_type": "stream",
          "name": "stdout",
          "text": [
            "Epoch 1/100\n",
            "44/44 [==============================] - 4s 30ms/step - loss: 0.7887 - accuracy: 0.5377 - mean_squared_error: 0.7887 - val_loss: 0.7065 - val_accuracy: 0.4838 - val_mean_squared_error: 0.7065\n",
            "Epoch 2/100\n",
            "44/44 [==============================] - 1s 14ms/step - loss: 0.6362 - accuracy: 0.4583 - mean_squared_error: 0.6362 - val_loss: 0.5763 - val_accuracy: 0.4138 - val_mean_squared_error: 0.5763\n",
            "Epoch 3/100\n",
            "44/44 [==============================] - 1s 14ms/step - loss: 0.5116 - accuracy: 0.4565 - mean_squared_error: 0.5116 - val_loss: 0.4472 - val_accuracy: 0.4138 - val_mean_squared_error: 0.4472\n",
            "Epoch 4/100\n",
            "44/44 [==============================] - 1s 14ms/step - loss: 0.3788 - accuracy: 0.4565 - mean_squared_error: 0.3788 - val_loss: 0.3054 - val_accuracy: 0.4138 - val_mean_squared_error: 0.3054\n",
            "Epoch 5/100\n",
            "44/44 [==============================] - 1s 14ms/step - loss: 0.2521 - accuracy: 0.4565 - mean_squared_error: 0.2521 - val_loss: 0.2007 - val_accuracy: 0.4138 - val_mean_squared_error: 0.2007\n",
            "Epoch 6/100\n",
            "44/44 [==============================] - 1s 14ms/step - loss: 0.1861 - accuracy: 0.4565 - mean_squared_error: 0.1861 - val_loss: 0.1618 - val_accuracy: 0.4138 - val_mean_squared_error: 0.1618\n",
            "Epoch 7/100\n",
            "44/44 [==============================] - 1s 15ms/step - loss: 0.1592 - accuracy: 0.4565 - mean_squared_error: 0.1592 - val_loss: 0.1395 - val_accuracy: 0.4138 - val_mean_squared_error: 0.1395\n",
            "Epoch 8/100\n",
            "44/44 [==============================] - 1s 14ms/step - loss: 0.1404 - accuracy: 0.4565 - mean_squared_error: 0.1404 - val_loss: 0.1226 - val_accuracy: 0.4138 - val_mean_squared_error: 0.1226\n",
            "Epoch 9/100\n",
            "44/44 [==============================] - 1s 14ms/step - loss: 0.1260 - accuracy: 0.4565 - mean_squared_error: 0.1260 - val_loss: 0.1097 - val_accuracy: 0.4138 - val_mean_squared_error: 0.1097\n",
            "Epoch 10/100\n",
            "44/44 [==============================] - 1s 14ms/step - loss: 0.1149 - accuracy: 0.4565 - mean_squared_error: 0.1149 - val_loss: 0.0998 - val_accuracy: 0.4138 - val_mean_squared_error: 0.0998\n",
            "Epoch 11/100\n",
            "44/44 [==============================] - 1s 15ms/step - loss: 0.1065 - accuracy: 0.4565 - mean_squared_error: 0.1065 - val_loss: 0.0922 - val_accuracy: 0.4138 - val_mean_squared_error: 0.0922\n",
            "Epoch 12/100\n",
            "44/44 [==============================] - 1s 15ms/step - loss: 0.1000 - accuracy: 0.4565 - mean_squared_error: 0.1000 - val_loss: 0.0864 - val_accuracy: 0.4138 - val_mean_squared_error: 0.0864\n",
            "Epoch 13/100\n",
            "44/44 [==============================] - 1s 14ms/step - loss: 0.0950 - accuracy: 0.4565 - mean_squared_error: 0.0950 - val_loss: 0.0818 - val_accuracy: 0.4138 - val_mean_squared_error: 0.0818\n",
            "Epoch 14/100\n",
            "44/44 [==============================] - 1s 14ms/step - loss: 0.0911 - accuracy: 0.4565 - mean_squared_error: 0.0911 - val_loss: 0.0783 - val_accuracy: 0.4138 - val_mean_squared_error: 0.0783\n",
            "Epoch 15/100\n",
            "44/44 [==============================] - 1s 15ms/step - loss: 0.0880 - accuracy: 0.4565 - mean_squared_error: 0.0880 - val_loss: 0.0755 - val_accuracy: 0.4138 - val_mean_squared_error: 0.0755\n",
            "Epoch 16/100\n",
            "44/44 [==============================] - 1s 14ms/step - loss: 0.0856 - accuracy: 0.4565 - mean_squared_error: 0.0856 - val_loss: 0.0733 - val_accuracy: 0.4138 - val_mean_squared_error: 0.0733\n",
            "Epoch 17/100\n",
            "44/44 [==============================] - 1s 14ms/step - loss: 0.0837 - accuracy: 0.4565 - mean_squared_error: 0.0837 - val_loss: 0.0715 - val_accuracy: 0.4138 - val_mean_squared_error: 0.0715\n",
            "Epoch 18/100\n",
            "44/44 [==============================] - 1s 14ms/step - loss: 0.0821 - accuracy: 0.4565 - mean_squared_error: 0.0821 - val_loss: 0.0700 - val_accuracy: 0.4138 - val_mean_squared_error: 0.0700\n",
            "Epoch 19/100\n",
            "44/44 [==============================] - 1s 15ms/step - loss: 0.0808 - accuracy: 0.4565 - mean_squared_error: 0.0808 - val_loss: 0.0688 - val_accuracy: 0.4138 - val_mean_squared_error: 0.0688\n",
            "Epoch 20/100\n",
            "44/44 [==============================] - 1s 14ms/step - loss: 0.0798 - accuracy: 0.4565 - mean_squared_error: 0.0798 - val_loss: 0.0678 - val_accuracy: 0.4138 - val_mean_squared_error: 0.0678\n",
            "Epoch 21/100\n",
            "44/44 [==============================] - 1s 14ms/step - loss: 0.0789 - accuracy: 0.4565 - mean_squared_error: 0.0789 - val_loss: 0.0670 - val_accuracy: 0.4138 - val_mean_squared_error: 0.0670\n",
            "Epoch 22/100\n",
            "44/44 [==============================] - 1s 14ms/step - loss: 0.0782 - accuracy: 0.4565 - mean_squared_error: 0.0782 - val_loss: 0.0663 - val_accuracy: 0.4138 - val_mean_squared_error: 0.0663\n",
            "Epoch 23/100\n",
            "44/44 [==============================] - 1s 14ms/step - loss: 0.0776 - accuracy: 0.4565 - mean_squared_error: 0.0776 - val_loss: 0.0657 - val_accuracy: 0.4138 - val_mean_squared_error: 0.0657\n",
            "Epoch 24/100\n",
            "44/44 [==============================] - 1s 14ms/step - loss: 0.0771 - accuracy: 0.4565 - mean_squared_error: 0.0771 - val_loss: 0.0652 - val_accuracy: 0.4138 - val_mean_squared_error: 0.0652\n",
            "Epoch 25/100\n",
            "44/44 [==============================] - 1s 14ms/step - loss: 0.0766 - accuracy: 0.4565 - mean_squared_error: 0.0766 - val_loss: 0.0648 - val_accuracy: 0.4138 - val_mean_squared_error: 0.0648\n",
            "Epoch 26/100\n",
            "44/44 [==============================] - 1s 14ms/step - loss: 0.0763 - accuracy: 0.4565 - mean_squared_error: 0.0763 - val_loss: 0.0645 - val_accuracy: 0.4138 - val_mean_squared_error: 0.0645\n",
            "Epoch 27/100\n",
            "44/44 [==============================] - 1s 14ms/step - loss: 0.0759 - accuracy: 0.4565 - mean_squared_error: 0.0759 - val_loss: 0.0641 - val_accuracy: 0.4138 - val_mean_squared_error: 0.0641\n",
            "Epoch 28/100\n",
            "44/44 [==============================] - 1s 15ms/step - loss: 0.0757 - accuracy: 0.4565 - mean_squared_error: 0.0757 - val_loss: 0.0639 - val_accuracy: 0.4138 - val_mean_squared_error: 0.0639\n",
            "Epoch 29/100\n",
            "44/44 [==============================] - 1s 14ms/step - loss: 0.0754 - accuracy: 0.4565 - mean_squared_error: 0.0754 - val_loss: 0.0636 - val_accuracy: 0.4138 - val_mean_squared_error: 0.0636\n",
            "Epoch 30/100\n",
            "44/44 [==============================] - 1s 14ms/step - loss: 0.0752 - accuracy: 0.4565 - mean_squared_error: 0.0752 - val_loss: 0.0634 - val_accuracy: 0.4138 - val_mean_squared_error: 0.0634\n",
            "Epoch 31/100\n",
            "44/44 [==============================] - 1s 15ms/step - loss: 0.0750 - accuracy: 0.4565 - mean_squared_error: 0.0750 - val_loss: 0.0632 - val_accuracy: 0.4138 - val_mean_squared_error: 0.0632\n",
            "Epoch 32/100\n",
            "44/44 [==============================] - 1s 14ms/step - loss: 0.0749 - accuracy: 0.4565 - mean_squared_error: 0.0749 - val_loss: 0.0631 - val_accuracy: 0.4138 - val_mean_squared_error: 0.0631\n",
            "Epoch 33/100\n",
            "44/44 [==============================] - 1s 14ms/step - loss: 0.0747 - accuracy: 0.4565 - mean_squared_error: 0.0747 - val_loss: 0.0629 - val_accuracy: 0.4138 - val_mean_squared_error: 0.0629\n",
            "Epoch 34/100\n",
            "44/44 [==============================] - 1s 14ms/step - loss: 0.0746 - accuracy: 0.4565 - mean_squared_error: 0.0746 - val_loss: 0.0628 - val_accuracy: 0.4138 - val_mean_squared_error: 0.0628\n",
            "Epoch 35/100\n",
            "44/44 [==============================] - 1s 14ms/step - loss: 0.0745 - accuracy: 0.4565 - mean_squared_error: 0.0745 - val_loss: 0.0627 - val_accuracy: 0.4138 - val_mean_squared_error: 0.0627\n",
            "Epoch 36/100\n",
            "44/44 [==============================] - 1s 14ms/step - loss: 0.0744 - accuracy: 0.4565 - mean_squared_error: 0.0744 - val_loss: 0.0626 - val_accuracy: 0.4138 - val_mean_squared_error: 0.0626\n",
            "Epoch 37/100\n",
            "44/44 [==============================] - 1s 14ms/step - loss: 0.0743 - accuracy: 0.4565 - mean_squared_error: 0.0743 - val_loss: 0.0625 - val_accuracy: 0.4138 - val_mean_squared_error: 0.0625\n",
            "Epoch 38/100\n",
            "44/44 [==============================] - 1s 14ms/step - loss: 0.0742 - accuracy: 0.4565 - mean_squared_error: 0.0742 - val_loss: 0.0624 - val_accuracy: 0.4138 - val_mean_squared_error: 0.0624\n",
            "Epoch 39/100\n",
            "44/44 [==============================] - 1s 14ms/step - loss: 0.0741 - accuracy: 0.4565 - mean_squared_error: 0.0741 - val_loss: 0.0623 - val_accuracy: 0.4138 - val_mean_squared_error: 0.0623\n",
            "Epoch 40/100\n",
            "44/44 [==============================] - 1s 14ms/step - loss: 0.0741 - accuracy: 0.4565 - mean_squared_error: 0.0741 - val_loss: 0.0623 - val_accuracy: 0.4138 - val_mean_squared_error: 0.0623\n",
            "Epoch 41/100\n",
            "44/44 [==============================] - 1s 14ms/step - loss: 0.0740 - accuracy: 0.4565 - mean_squared_error: 0.0740 - val_loss: 0.0622 - val_accuracy: 0.4138 - val_mean_squared_error: 0.0622\n",
            "Epoch 42/100\n",
            "44/44 [==============================] - 1s 14ms/step - loss: 0.0740 - accuracy: 0.4565 - mean_squared_error: 0.0740 - val_loss: 0.0622 - val_accuracy: 0.4138 - val_mean_squared_error: 0.0622\n",
            "Epoch 43/100\n",
            "44/44 [==============================] - 1s 14ms/step - loss: 0.0739 - accuracy: 0.4565 - mean_squared_error: 0.0739 - val_loss: 0.0621 - val_accuracy: 0.4138 - val_mean_squared_error: 0.0621\n",
            "Epoch 44/100\n",
            "44/44 [==============================] - 1s 14ms/step - loss: 0.0739 - accuracy: 0.4565 - mean_squared_error: 0.0739 - val_loss: 0.0621 - val_accuracy: 0.4138 - val_mean_squared_error: 0.0621\n",
            "Epoch 45/100\n",
            "44/44 [==============================] - 1s 14ms/step - loss: 0.0738 - accuracy: 0.4565 - mean_squared_error: 0.0738 - val_loss: 0.0620 - val_accuracy: 0.4138 - val_mean_squared_error: 0.0620\n",
            "Epoch 46/100\n",
            "44/44 [==============================] - 1s 15ms/step - loss: 0.0738 - accuracy: 0.4565 - mean_squared_error: 0.0738 - val_loss: 0.0620 - val_accuracy: 0.4138 - val_mean_squared_error: 0.0620\n",
            "Epoch 47/100\n",
            "44/44 [==============================] - 1s 14ms/step - loss: 0.0738 - accuracy: 0.4565 - mean_squared_error: 0.0738 - val_loss: 0.0620 - val_accuracy: 0.4138 - val_mean_squared_error: 0.0620\n",
            "Epoch 48/100\n",
            "44/44 [==============================] - 1s 15ms/step - loss: 0.0737 - accuracy: 0.4565 - mean_squared_error: 0.0737 - val_loss: 0.0619 - val_accuracy: 0.4138 - val_mean_squared_error: 0.0619\n",
            "Epoch 49/100\n",
            "44/44 [==============================] - 1s 15ms/step - loss: 0.0737 - accuracy: 0.4565 - mean_squared_error: 0.0737 - val_loss: 0.0619 - val_accuracy: 0.4138 - val_mean_squared_error: 0.0619\n",
            "Epoch 50/100\n",
            "44/44 [==============================] - 1s 14ms/step - loss: 0.0737 - accuracy: 0.4565 - mean_squared_error: 0.0737 - val_loss: 0.0619 - val_accuracy: 0.4138 - val_mean_squared_error: 0.0619\n",
            "Epoch 51/100\n",
            "44/44 [==============================] - 1s 15ms/step - loss: 0.0737 - accuracy: 0.4565 - mean_squared_error: 0.0737 - val_loss: 0.0619 - val_accuracy: 0.4138 - val_mean_squared_error: 0.0619\n",
            "Epoch 52/100\n",
            "44/44 [==============================] - 1s 14ms/step - loss: 0.0736 - accuracy: 0.4565 - mean_squared_error: 0.0736 - val_loss: 0.0618 - val_accuracy: 0.4138 - val_mean_squared_error: 0.0618\n",
            "Epoch 53/100\n",
            "44/44 [==============================] - 1s 14ms/step - loss: 0.0736 - accuracy: 0.4565 - mean_squared_error: 0.0736 - val_loss: 0.0618 - val_accuracy: 0.4138 - val_mean_squared_error: 0.0618\n",
            "Epoch 54/100\n",
            "44/44 [==============================] - 1s 14ms/step - loss: 0.0736 - accuracy: 0.4565 - mean_squared_error: 0.0736 - val_loss: 0.0618 - val_accuracy: 0.4138 - val_mean_squared_error: 0.0618\n",
            "Epoch 55/100\n",
            "44/44 [==============================] - 1s 15ms/step - loss: 0.0736 - accuracy: 0.4565 - mean_squared_error: 0.0736 - val_loss: 0.0618 - val_accuracy: 0.4138 - val_mean_squared_error: 0.0618\n",
            "Epoch 56/100\n",
            "44/44 [==============================] - 1s 15ms/step - loss: 0.0736 - accuracy: 0.4565 - mean_squared_error: 0.0736 - val_loss: 0.0618 - val_accuracy: 0.4138 - val_mean_squared_error: 0.0618\n",
            "Epoch 57/100\n",
            "44/44 [==============================] - 1s 14ms/step - loss: 0.0736 - accuracy: 0.4565 - mean_squared_error: 0.0736 - val_loss: 0.0618 - val_accuracy: 0.4138 - val_mean_squared_error: 0.0618\n",
            "Epoch 58/100\n",
            "44/44 [==============================] - 1s 16ms/step - loss: 0.0736 - accuracy: 0.4565 - mean_squared_error: 0.0736 - val_loss: 0.0618 - val_accuracy: 0.4138 - val_mean_squared_error: 0.0618\n",
            "Epoch 59/100\n",
            "44/44 [==============================] - 1s 15ms/step - loss: 0.0735 - accuracy: 0.4565 - mean_squared_error: 0.0735 - val_loss: 0.0618 - val_accuracy: 0.4138 - val_mean_squared_error: 0.0618\n",
            "Epoch 60/100\n",
            "44/44 [==============================] - 1s 15ms/step - loss: 0.0735 - accuracy: 0.4565 - mean_squared_error: 0.0735 - val_loss: 0.0617 - val_accuracy: 0.4138 - val_mean_squared_error: 0.0617\n",
            "Epoch 61/100\n",
            "44/44 [==============================] - 1s 15ms/step - loss: 0.0735 - accuracy: 0.4565 - mean_squared_error: 0.0735 - val_loss: 0.0617 - val_accuracy: 0.4138 - val_mean_squared_error: 0.0617\n",
            "Epoch 62/100\n",
            "44/44 [==============================] - 1s 15ms/step - loss: 0.0735 - accuracy: 0.4565 - mean_squared_error: 0.0735 - val_loss: 0.0617 - val_accuracy: 0.4138 - val_mean_squared_error: 0.0617\n",
            "Epoch 63/100\n",
            "44/44 [==============================] - 1s 15ms/step - loss: 0.0735 - accuracy: 0.4565 - mean_squared_error: 0.0735 - val_loss: 0.0617 - val_accuracy: 0.4138 - val_mean_squared_error: 0.0617\n",
            "Epoch 64/100\n",
            "44/44 [==============================] - 1s 15ms/step - loss: 0.0735 - accuracy: 0.4565 - mean_squared_error: 0.0735 - val_loss: 0.0617 - val_accuracy: 0.4138 - val_mean_squared_error: 0.0617\n",
            "Epoch 65/100\n",
            "44/44 [==============================] - 1s 15ms/step - loss: 0.0735 - accuracy: 0.4565 - mean_squared_error: 0.0735 - val_loss: 0.0617 - val_accuracy: 0.4138 - val_mean_squared_error: 0.0617\n",
            "Epoch 66/100\n",
            "44/44 [==============================] - 1s 14ms/step - loss: 0.0735 - accuracy: 0.4565 - mean_squared_error: 0.0735 - val_loss: 0.0617 - val_accuracy: 0.4138 - val_mean_squared_error: 0.0617\n",
            "Epoch 67/100\n",
            "44/44 [==============================] - 1s 15ms/step - loss: 0.0735 - accuracy: 0.4565 - mean_squared_error: 0.0735 - val_loss: 0.0617 - val_accuracy: 0.4138 - val_mean_squared_error: 0.0617\n",
            "Epoch 68/100\n",
            "44/44 [==============================] - 1s 15ms/step - loss: 0.0735 - accuracy: 0.4565 - mean_squared_error: 0.0735 - val_loss: 0.0617 - val_accuracy: 0.4138 - val_mean_squared_error: 0.0617\n",
            "Epoch 69/100\n",
            "44/44 [==============================] - 1s 14ms/step - loss: 0.0735 - accuracy: 0.4565 - mean_squared_error: 0.0735 - val_loss: 0.0617 - val_accuracy: 0.4138 - val_mean_squared_error: 0.0617\n",
            "Epoch 70/100\n",
            "44/44 [==============================] - 1s 15ms/step - loss: 0.0735 - accuracy: 0.4565 - mean_squared_error: 0.0735 - val_loss: 0.0617 - val_accuracy: 0.4138 - val_mean_squared_error: 0.0617\n",
            "Epoch 71/100\n",
            "44/44 [==============================] - 1s 14ms/step - loss: 0.0735 - accuracy: 0.4565 - mean_squared_error: 0.0735 - val_loss: 0.0617 - val_accuracy: 0.4138 - val_mean_squared_error: 0.0617\n",
            "Epoch 72/100\n",
            "44/44 [==============================] - 1s 15ms/step - loss: 0.0735 - accuracy: 0.4565 - mean_squared_error: 0.0735 - val_loss: 0.0617 - val_accuracy: 0.4138 - val_mean_squared_error: 0.0617\n",
            "Epoch 73/100\n",
            "44/44 [==============================] - 1s 15ms/step - loss: 0.0735 - accuracy: 0.4565 - mean_squared_error: 0.0735 - val_loss: 0.0617 - val_accuracy: 0.4138 - val_mean_squared_error: 0.0617\n",
            "Epoch 74/100\n",
            "44/44 [==============================] - 1s 14ms/step - loss: 0.0735 - accuracy: 0.4565 - mean_squared_error: 0.0735 - val_loss: 0.0617 - val_accuracy: 0.4138 - val_mean_squared_error: 0.0617\n",
            "Epoch 75/100\n",
            "44/44 [==============================] - 1s 15ms/step - loss: 0.0735 - accuracy: 0.4565 - mean_squared_error: 0.0735 - val_loss: 0.0617 - val_accuracy: 0.4138 - val_mean_squared_error: 0.0617\n",
            "Epoch 76/100\n",
            "44/44 [==============================] - 1s 15ms/step - loss: 0.0735 - accuracy: 0.4565 - mean_squared_error: 0.0735 - val_loss: 0.0617 - val_accuracy: 0.4138 - val_mean_squared_error: 0.0617\n",
            "Epoch 77/100\n",
            "44/44 [==============================] - 1s 15ms/step - loss: 0.0735 - accuracy: 0.4565 - mean_squared_error: 0.0735 - val_loss: 0.0617 - val_accuracy: 0.4138 - val_mean_squared_error: 0.0617\n",
            "Epoch 78/100\n",
            "44/44 [==============================] - 1s 15ms/step - loss: 0.0735 - accuracy: 0.4565 - mean_squared_error: 0.0735 - val_loss: 0.0617 - val_accuracy: 0.4138 - val_mean_squared_error: 0.0617\n",
            "Epoch 79/100\n",
            "44/44 [==============================] - 1s 14ms/step - loss: 0.0735 - accuracy: 0.4565 - mean_squared_error: 0.0735 - val_loss: 0.0617 - val_accuracy: 0.4138 - val_mean_squared_error: 0.0617\n",
            "Epoch 80/100\n",
            "44/44 [==============================] - 1s 15ms/step - loss: 0.0735 - accuracy: 0.4565 - mean_squared_error: 0.0735 - val_loss: 0.0617 - val_accuracy: 0.4138 - val_mean_squared_error: 0.0617\n",
            "Epoch 81/100\n",
            "44/44 [==============================] - 1s 15ms/step - loss: 0.0735 - accuracy: 0.4565 - mean_squared_error: 0.0735 - val_loss: 0.0617 - val_accuracy: 0.4138 - val_mean_squared_error: 0.0617\n",
            "Epoch 82/100\n",
            "44/44 [==============================] - 1s 15ms/step - loss: 0.0735 - accuracy: 0.4565 - mean_squared_error: 0.0735 - val_loss: 0.0617 - val_accuracy: 0.4138 - val_mean_squared_error: 0.0617\n",
            "Epoch 83/100\n",
            "44/44 [==============================] - 1s 14ms/step - loss: 0.0735 - accuracy: 0.4565 - mean_squared_error: 0.0735 - val_loss: 0.0617 - val_accuracy: 0.4138 - val_mean_squared_error: 0.0617\n",
            "Epoch 84/100\n",
            "44/44 [==============================] - 1s 15ms/step - loss: 0.0735 - accuracy: 0.4565 - mean_squared_error: 0.0735 - val_loss: 0.0617 - val_accuracy: 0.4138 - val_mean_squared_error: 0.0617\n",
            "Epoch 85/100\n",
            "44/44 [==============================] - 1s 15ms/step - loss: 0.0735 - accuracy: 0.4565 - mean_squared_error: 0.0735 - val_loss: 0.0617 - val_accuracy: 0.4138 - val_mean_squared_error: 0.0617\n",
            "Epoch 86/100\n",
            "44/44 [==============================] - 1s 15ms/step - loss: 0.0735 - accuracy: 0.4565 - mean_squared_error: 0.0735 - val_loss: 0.0617 - val_accuracy: 0.4138 - val_mean_squared_error: 0.0617\n",
            "Epoch 87/100\n",
            "44/44 [==============================] - 1s 15ms/step - loss: 0.0734 - accuracy: 0.4565 - mean_squared_error: 0.0734 - val_loss: 0.0617 - val_accuracy: 0.4138 - val_mean_squared_error: 0.0617\n",
            "Epoch 88/100\n",
            "44/44 [==============================] - 1s 15ms/step - loss: 0.0734 - accuracy: 0.4565 - mean_squared_error: 0.0734 - val_loss: 0.0617 - val_accuracy: 0.4138 - val_mean_squared_error: 0.0617\n",
            "Epoch 89/100\n",
            "44/44 [==============================] - 1s 15ms/step - loss: 0.0734 - accuracy: 0.4565 - mean_squared_error: 0.0734 - val_loss: 0.0617 - val_accuracy: 0.4138 - val_mean_squared_error: 0.0617\n",
            "Epoch 90/100\n",
            "44/44 [==============================] - 1s 14ms/step - loss: 0.0734 - accuracy: 0.4565 - mean_squared_error: 0.0734 - val_loss: 0.0617 - val_accuracy: 0.4138 - val_mean_squared_error: 0.0617\n",
            "Epoch 91/100\n",
            "44/44 [==============================] - 1s 15ms/step - loss: 0.0734 - accuracy: 0.4565 - mean_squared_error: 0.0734 - val_loss: 0.0617 - val_accuracy: 0.4138 - val_mean_squared_error: 0.0617\n",
            "Epoch 92/100\n",
            "44/44 [==============================] - 1s 15ms/step - loss: 0.0734 - accuracy: 0.4565 - mean_squared_error: 0.0734 - val_loss: 0.0617 - val_accuracy: 0.4138 - val_mean_squared_error: 0.0617\n",
            "Epoch 93/100\n",
            "44/44 [==============================] - 1s 15ms/step - loss: 0.0734 - accuracy: 0.4565 - mean_squared_error: 0.0734 - val_loss: 0.0617 - val_accuracy: 0.4138 - val_mean_squared_error: 0.0617\n",
            "Epoch 94/100\n",
            "44/44 [==============================] - 1s 15ms/step - loss: 0.0734 - accuracy: 0.4565 - mean_squared_error: 0.0734 - val_loss: 0.0617 - val_accuracy: 0.4138 - val_mean_squared_error: 0.0617\n",
            "Epoch 95/100\n",
            "44/44 [==============================] - 1s 15ms/step - loss: 0.0734 - accuracy: 0.4565 - mean_squared_error: 0.0734 - val_loss: 0.0617 - val_accuracy: 0.4138 - val_mean_squared_error: 0.0617\n",
            "Epoch 96/100\n",
            "44/44 [==============================] - 1s 15ms/step - loss: 0.0734 - accuracy: 0.4565 - mean_squared_error: 0.0734 - val_loss: 0.0617 - val_accuracy: 0.4138 - val_mean_squared_error: 0.0617\n",
            "Epoch 97/100\n",
            "44/44 [==============================] - 1s 15ms/step - loss: 0.0734 - accuracy: 0.4565 - mean_squared_error: 0.0734 - val_loss: 0.0617 - val_accuracy: 0.4138 - val_mean_squared_error: 0.0617\n",
            "Epoch 98/100\n",
            "44/44 [==============================] - 1s 15ms/step - loss: 0.0734 - accuracy: 0.4565 - mean_squared_error: 0.0734 - val_loss: 0.0617 - val_accuracy: 0.4138 - val_mean_squared_error: 0.0617\n",
            "Epoch 99/100\n",
            "44/44 [==============================] - 1s 15ms/step - loss: 0.0734 - accuracy: 0.4565 - mean_squared_error: 0.0734 - val_loss: 0.0617 - val_accuracy: 0.4138 - val_mean_squared_error: 0.0617\n",
            "Epoch 100/100\n",
            "44/44 [==============================] - 1s 15ms/step - loss: 0.0734 - accuracy: 0.4565 - mean_squared_error: 0.0734 - val_loss: 0.0617 - val_accuracy: 0.4138 - val_mean_squared_error: 0.0617\n"
          ]
        }
      ]
    },
    {
      "cell_type": "code",
      "metadata": {
        "colab": {
          "base_uri": "https://localhost:8080/"
        },
        "id": "C1xdm4kw8j9N",
        "outputId": "40709bb1-c5bf-4a85-f62c-402bbb0696f6"
      },
      "source": [
        "from sklearn.metrics import mean_squared_error\n",
        "loss, accuracy,mean_squared_error = model_LSTM.evaluate(X_test, y_test, verbose=0)\n",
        "print('Accuracy: %f' % accuracy)\n",
        "print('Error Rate: %f' % (1 - accuracy))\n",
        "print('Mean Squared Error: %f' % mean_squared_error)"
      ],
      "execution_count": null,
      "outputs": [
        {
          "output_type": "stream",
          "name": "stdout",
          "text": [
            "Accuracy: 0.413800\n",
            "Error Rate: 0.586200\n",
            "Mean Squared Error: 0.061654\n"
          ]
        }
      ]
    },
    {
      "cell_type": "code",
      "metadata": {
        "colab": {
          "base_uri": "https://localhost:8080/",
          "height": 282
        },
        "id": "cLtdxiT1qfcs",
        "outputId": "2834d4c1-e64c-4a61-9c8e-a856a307f0ae"
      },
      "source": [
        "pred_LSTM=model_LSTM.predict(X_test)\n",
        "#LSTM\n",
        "plt.plot(history_LSTM.history[\"loss\"], label=\"Training Loss\")\n",
        "plt.plot(history_LSTM.history[\"val_loss\"], label=\"Validation Loss\")\n",
        "plt.legend()"
      ],
      "execution_count": null,
      "outputs": [
        {
          "output_type": "execute_result",
          "data": {
            "text/plain": [
              "<matplotlib.legend.Legend at 0x7f1a9e847510>"
            ]
          },
          "metadata": {},
          "execution_count": 49
        },
        {
          "output_type": "display_data",
          "data": {
            "image/png": "[encoded data removed]",
            "text/plain": [
              "<Figure size 432x288 with 1 Axes>"
            ]
          },
          "metadata": {
            "needs_background": "light"
          }
        }
      ]
    },
    {
      "cell_type": "markdown",
      "metadata": {
        "id": "ZsWmfJTiFgia"
      },
      "source": [
        "# **Training of GRU and evaluation**"
      ]
    },
    {
      "cell_type": "code",
      "metadata": {
        "colab": {
          "base_uri": "https://localhost:8080/"
        },
        "id": "hLFjP9L31xGa",
        "outputId": "dedfaeef-ad84-41f1-9a58-6afe442f9c2c"
      },
      "source": [
        "# GRU\n",
        "encoder_inputs = tf.keras.layers.Input(shape=(n_past, n_features))\n",
        "encoder_l1 = tf.keras.layers.GRU(2,return_sequences = True, return_state=True)\n",
        "encoder_outputs1 = encoder_l1(encoder_inputs)\n",
        "encoder_states1 = encoder_outputs1[1:]\n",
        "\n",
        "encoder_l2 = tf.keras.layers.GRU(2, return_state=True)\n",
        "encoder_outputs2 = encoder_l2(encoder_outputs1[0])\n",
        "encoder_states2 = encoder_outputs2[1:]\n",
        "\n",
        "decoder_inputs = tf.keras.layers.RepeatVector(n_future)(encoder_outputs2[0])\n",
        "decoder_l1 = tf.keras.layers.GRU(2, return_sequences=True)(decoder_inputs,initial_state = encoder_states1)\n",
        "decoder_l2 = tf.keras.layers.GRU(2, return_sequences=True)(decoder_l1,initial_state = encoder_states2)\n",
        "decoder_outputs2 = tf.keras.layers.TimeDistributed(tf.keras.layers.Dense(n_features))(decoder_l2)\n",
        "\n",
        "model_GRU = tf.keras.models.Model(encoder_inputs,decoder_outputs2)\n",
        "#\n",
        "model_GRU.summary()"
      ],
      "execution_count": null,
      "outputs": [
        {
          "output_type": "stream",
          "name": "stdout",
          "text": [
            "Model: \"model_9\"\n",
            "__________________________________________________________________________________________________\n",
            "Layer (type)                    Output Shape         Param #     Connected to                     \n",
            "==================================================================================================\n",
            "input_10 (InputLayer)           [(None, 10, 2)]      0                                            \n",
            "__________________________________________________________________________________________________\n",
            "gru_4 (GRU)                     [(None, 10, 2), (Non 36          input_10[0][0]                   \n",
            "__________________________________________________________________________________________________\n",
            "gru_5 (GRU)                     [(None, 2), (None, 2 36          gru_4[0][0]                      \n",
            "__________________________________________________________________________________________________\n",
            "repeat_vector_9 (RepeatVector)  (None, 20, 2)        0           gru_5[0][0]                      \n",
            "__________________________________________________________________________________________________\n",
            "gru_6 (GRU)                     (None, 20, 2)        36          repeat_vector_9[0][0]            \n",
            "                                                                 gru_4[0][1]                      \n",
            "__________________________________________________________________________________________________\n",
            "gru_7 (GRU)                     (None, 20, 2)        36          gru_6[0][0]                      \n",
            "                                                                 gru_5[0][1]                      \n",
            "__________________________________________________________________________________________________\n",
            "time_distributed_9 (TimeDistrib (None, 20, 2)        6           gru_7[0][0]                      \n",
            "==================================================================================================\n",
            "Total params: 150\n",
            "Trainable params: 150\n",
            "Non-trainable params: 0\n",
            "__________________________________________________________________________________________________\n"
          ]
        }
      ]
    },
    {
      "cell_type": "code",
      "metadata": {
        "id": "vLzCw7MBQVCv"
      },
      "source": [
        "#loss test\n",
        "reduce_lr = tf.keras.callbacks.LearningRateScheduler(lambda x: 1e-3 * 0.90 ** x)\n",
        "model_GRU.compile(optimizer=tf.keras.optimizers.Adam(learning_rate=.1e-3), loss=tf.keras.losses.MeanSquaredError(),metrics=['accuracy', 'mean_squared_error'])\n",
        "#model_GRU.compile(optimizer=tf.keras.optimizers.Adam(learning_rate=.1e-3), loss=tf.keras.losses.binary_crossentropy,metrics=['accuracy',mean_squared_error])\n",
        "#model_GRU.compile(optimizer=tf.keras.optimizers.Adam(learning_rate=.1e-3), loss=tf.keras.losses.categorical_crossentropy,metrics=['accuracy',mean_squared_error])\n",
        "#model_GRU.compile(optimizer=tf.keras.optimizers.Adam(learning_rate=.1e-3), loss=tf.keras.losses.MeanSquaredError(),metrics=['accuracy',mean_squared_error])\n",
        "\n",
        "#optimizer test\n",
        "#model_GRU.compile(optimizer=tf.keras.optimizers.SGD(learning_rate=.1e-3), loss=tf.keras.losses.Huber(),metrics=['accuracy', 'mean_squared_error'])\n",
        "#model_GRU.compile(optimizer=tf.keras.optimizers.RMSprop(learning_rate=.1e-3), loss=tf.keras.losses.Huber(),metrics=['accuracy', 'mean_squared_error'])\n",
        "#model_GRU.compilee(optimizer=tf.keras.optimizers.Adadelta(learning_rate=.1e-3), loss=tf.keras.losses.Huber(),metrics=['accuracy',mean_squared_error])"
      ],
      "execution_count": null,
      "outputs": []
    },
    {
      "cell_type": "code",
      "metadata": {
        "colab": {
          "base_uri": "https://localhost:8080/"
        },
        "id": "rHoYQP_J1zqH",
        "outputId": "f0dd876a-c3d6-4108-86d3-afa2f1cce963"
      },
      "source": [
        "model_GRU.compile(optimizer=tf.keras.optimizers.Adam(), loss=tf.keras.losses.MeanSquaredError(),metrics=['accuracy','mean_squared_error'])\n",
        "history_GRU = model_GRU.fit(X_train,y_train,epochs=100,validation_data=(X_test,y_test),batch_size=25,verbose=1,callbacks=[reduce_lr])"
      ],
      "execution_count": null,
      "outputs": [
        {
          "output_type": "stream",
          "name": "stdout",
          "text": [
            "Epoch 1/100\n",
            "44/44 [==============================] - 19s 58ms/step - loss: 0.7186 - accuracy: 0.5423 - mean_squared_error: 0.7186 - val_loss: 0.6626 - val_accuracy: 0.5782 - val_mean_squared_error: 0.6626\n",
            "Epoch 2/100\n",
            "44/44 [==============================] - 1s 30ms/step - loss: 0.5902 - accuracy: 0.5426 - mean_squared_error: 0.5902 - val_loss: 0.5073 - val_accuracy: 0.5862 - val_mean_squared_error: 0.5073\n",
            "Epoch 3/100\n",
            "44/44 [==============================] - 1s 30ms/step - loss: 0.4048 - accuracy: 0.5435 - mean_squared_error: 0.4048 - val_loss: 0.2985 - val_accuracy: 0.5862 - val_mean_squared_error: 0.2985\n",
            "Epoch 4/100\n",
            "44/44 [==============================] - 1s 30ms/step - loss: 0.2384 - accuracy: 0.5435 - mean_squared_error: 0.2384 - val_loss: 0.1857 - val_accuracy: 0.5862 - val_mean_squared_error: 0.1857\n",
            "Epoch 5/100\n",
            "44/44 [==============================] - 1s 29ms/step - loss: 0.1674 - accuracy: 0.5435 - mean_squared_error: 0.1674 - val_loss: 0.1406 - val_accuracy: 0.5862 - val_mean_squared_error: 0.1406\n",
            "Epoch 6/100\n",
            "44/44 [==============================] - 1s 30ms/step - loss: 0.1348 - accuracy: 0.5435 - mean_squared_error: 0.1348 - val_loss: 0.1155 - val_accuracy: 0.5862 - val_mean_squared_error: 0.1155\n",
            "Epoch 7/100\n",
            "44/44 [==============================] - 1s 30ms/step - loss: 0.1155 - accuracy: 0.5435 - mean_squared_error: 0.1155 - val_loss: 0.0996 - val_accuracy: 0.5862 - val_mean_squared_error: 0.0996\n",
            "Epoch 8/100\n",
            "44/44 [==============================] - 1s 29ms/step - loss: 0.1030 - accuracy: 0.5435 - mean_squared_error: 0.1030 - val_loss: 0.0891 - val_accuracy: 0.5862 - val_mean_squared_error: 0.0891\n",
            "Epoch 9/100\n",
            "44/44 [==============================] - 1s 30ms/step - loss: 0.0947 - accuracy: 0.5435 - mean_squared_error: 0.0947 - val_loss: 0.0819 - val_accuracy: 0.5862 - val_mean_squared_error: 0.0819\n",
            "Epoch 10/100\n",
            "44/44 [==============================] - 1s 30ms/step - loss: 0.0889 - accuracy: 0.5435 - mean_squared_error: 0.0889 - val_loss: 0.0767 - val_accuracy: 0.5862 - val_mean_squared_error: 0.0767\n",
            "Epoch 11/100\n",
            "44/44 [==============================] - 1s 30ms/step - loss: 0.0847 - accuracy: 0.5435 - mean_squared_error: 0.0847 - val_loss: 0.0730 - val_accuracy: 0.5862 - val_mean_squared_error: 0.0730\n",
            "Epoch 12/100\n",
            "44/44 [==============================] - 1s 30ms/step - loss: 0.0818 - accuracy: 0.5435 - mean_squared_error: 0.0818 - val_loss: 0.0702 - val_accuracy: 0.5862 - val_mean_squared_error: 0.0702\n",
            "Epoch 13/100\n",
            "44/44 [==============================] - 1s 30ms/step - loss: 0.0795 - accuracy: 0.5435 - mean_squared_error: 0.0795 - val_loss: 0.0681 - val_accuracy: 0.5862 - val_mean_squared_error: 0.0681\n",
            "Epoch 14/100\n",
            "44/44 [==============================] - 1s 30ms/step - loss: 0.0779 - accuracy: 0.5435 - mean_squared_error: 0.0779 - val_loss: 0.0665 - val_accuracy: 0.5862 - val_mean_squared_error: 0.0665\n",
            "Epoch 15/100\n",
            "44/44 [==============================] - 1s 31ms/step - loss: 0.0766 - accuracy: 0.5435 - mean_squared_error: 0.0766 - val_loss: 0.0653 - val_accuracy: 0.5862 - val_mean_squared_error: 0.0653\n",
            "Epoch 16/100\n",
            "44/44 [==============================] - 1s 30ms/step - loss: 0.0756 - accuracy: 0.5435 - mean_squared_error: 0.0756 - val_loss: 0.0643 - val_accuracy: 0.5862 - val_mean_squared_error: 0.0643\n",
            "Epoch 17/100\n",
            "44/44 [==============================] - 1s 29ms/step - loss: 0.0749 - accuracy: 0.5435 - mean_squared_error: 0.0749 - val_loss: 0.0636 - val_accuracy: 0.5862 - val_mean_squared_error: 0.0636\n",
            "Epoch 18/100\n",
            "44/44 [==============================] - 1s 30ms/step - loss: 0.0743 - accuracy: 0.5435 - mean_squared_error: 0.0743 - val_loss: 0.0629 - val_accuracy: 0.5862 - val_mean_squared_error: 0.0629\n",
            "Epoch 19/100\n",
            "44/44 [==============================] - 1s 30ms/step - loss: 0.0738 - accuracy: 0.5435 - mean_squared_error: 0.0738 - val_loss: 0.0624 - val_accuracy: 0.5862 - val_mean_squared_error: 0.0624\n",
            "Epoch 20/100\n",
            "44/44 [==============================] - 1s 30ms/step - loss: 0.0734 - accuracy: 0.5435 - mean_squared_error: 0.0734 - val_loss: 0.0620 - val_accuracy: 0.5862 - val_mean_squared_error: 0.0620\n",
            "Epoch 21/100\n",
            "44/44 [==============================] - 1s 31ms/step - loss: 0.0730 - accuracy: 0.5435 - mean_squared_error: 0.0730 - val_loss: 0.0617 - val_accuracy: 0.5862 - val_mean_squared_error: 0.0617\n",
            "Epoch 22/100\n",
            "44/44 [==============================] - 1s 30ms/step - loss: 0.0728 - accuracy: 0.5435 - mean_squared_error: 0.0728 - val_loss: 0.0614 - val_accuracy: 0.5862 - val_mean_squared_error: 0.0614\n",
            "Epoch 23/100\n",
            "44/44 [==============================] - 1s 30ms/step - loss: 0.0726 - accuracy: 0.5435 - mean_squared_error: 0.0726 - val_loss: 0.0611 - val_accuracy: 0.5862 - val_mean_squared_error: 0.0611\n",
            "Epoch 24/100\n",
            "44/44 [==============================] - 1s 30ms/step - loss: 0.0724 - accuracy: 0.5435 - mean_squared_error: 0.0724 - val_loss: 0.0609 - val_accuracy: 0.5862 - val_mean_squared_error: 0.0609\n",
            "Epoch 25/100\n",
            "44/44 [==============================] - 1s 30ms/step - loss: 0.0722 - accuracy: 0.5435 - mean_squared_error: 0.0722 - val_loss: 0.0608 - val_accuracy: 0.5862 - val_mean_squared_error: 0.0608\n",
            "Epoch 26/100\n",
            "44/44 [==============================] - 1s 29ms/step - loss: 0.0721 - accuracy: 0.5435 - mean_squared_error: 0.0721 - val_loss: 0.0606 - val_accuracy: 0.5862 - val_mean_squared_error: 0.0606\n",
            "Epoch 27/100\n",
            "44/44 [==============================] - 1s 30ms/step - loss: 0.0720 - accuracy: 0.5435 - mean_squared_error: 0.0720 - val_loss: 0.0605 - val_accuracy: 0.5862 - val_mean_squared_error: 0.0605\n",
            "Epoch 28/100\n",
            "44/44 [==============================] - 1s 29ms/step - loss: 0.0719 - accuracy: 0.5435 - mean_squared_error: 0.0719 - val_loss: 0.0604 - val_accuracy: 0.5862 - val_mean_squared_error: 0.0604\n",
            "Epoch 29/100\n",
            "44/44 [==============================] - 1s 30ms/step - loss: 0.0718 - accuracy: 0.5435 - mean_squared_error: 0.0718 - val_loss: 0.0603 - val_accuracy: 0.5862 - val_mean_squared_error: 0.0603\n",
            "Epoch 30/100\n",
            "44/44 [==============================] - 1s 29ms/step - loss: 0.0717 - accuracy: 0.5435 - mean_squared_error: 0.0717 - val_loss: 0.0602 - val_accuracy: 0.5862 - val_mean_squared_error: 0.0602\n",
            "Epoch 31/100\n",
            "44/44 [==============================] - 1s 30ms/step - loss: 0.0717 - accuracy: 0.5435 - mean_squared_error: 0.0717 - val_loss: 0.0601 - val_accuracy: 0.5862 - val_mean_squared_error: 0.0601\n",
            "Epoch 32/100\n",
            "44/44 [==============================] - 1s 30ms/step - loss: 0.0716 - accuracy: 0.5435 - mean_squared_error: 0.0716 - val_loss: 0.0600 - val_accuracy: 0.5862 - val_mean_squared_error: 0.0600\n",
            "Epoch 33/100\n",
            "44/44 [==============================] - 1s 31ms/step - loss: 0.0716 - accuracy: 0.5435 - mean_squared_error: 0.0716 - val_loss: 0.0600 - val_accuracy: 0.5862 - val_mean_squared_error: 0.0600\n",
            "Epoch 34/100\n",
            "44/44 [==============================] - 1s 30ms/step - loss: 0.0715 - accuracy: 0.5435 - mean_squared_error: 0.0715 - val_loss: 0.0599 - val_accuracy: 0.5862 - val_mean_squared_error: 0.0599\n",
            "Epoch 35/100\n",
            "44/44 [==============================] - 1s 30ms/step - loss: 0.0715 - accuracy: 0.5435 - mean_squared_error: 0.0715 - val_loss: 0.0599 - val_accuracy: 0.5862 - val_mean_squared_error: 0.0599\n",
            "Epoch 36/100\n",
            "44/44 [==============================] - 1s 30ms/step - loss: 0.0714 - accuracy: 0.5435 - mean_squared_error: 0.0714 - val_loss: 0.0599 - val_accuracy: 0.5862 - val_mean_squared_error: 0.0599\n",
            "Epoch 37/100\n",
            "44/44 [==============================] - 1s 30ms/step - loss: 0.0714 - accuracy: 0.5435 - mean_squared_error: 0.0714 - val_loss: 0.0598 - val_accuracy: 0.5862 - val_mean_squared_error: 0.0598\n",
            "Epoch 38/100\n",
            "44/44 [==============================] - 1s 30ms/step - loss: 0.0714 - accuracy: 0.5435 - mean_squared_error: 0.0714 - val_loss: 0.0598 - val_accuracy: 0.5862 - val_mean_squared_error: 0.0598\n",
            "Epoch 39/100\n",
            "44/44 [==============================] - 1s 31ms/step - loss: 0.0714 - accuracy: 0.5435 - mean_squared_error: 0.0714 - val_loss: 0.0598 - val_accuracy: 0.5862 - val_mean_squared_error: 0.0598\n",
            "Epoch 40/100\n",
            "44/44 [==============================] - 1s 30ms/step - loss: 0.0713 - accuracy: 0.5435 - mean_squared_error: 0.0713 - val_loss: 0.0597 - val_accuracy: 0.5862 - val_mean_squared_error: 0.0597\n",
            "Epoch 41/100\n",
            "44/44 [==============================] - 1s 30ms/step - loss: 0.0713 - accuracy: 0.5435 - mean_squared_error: 0.0713 - val_loss: 0.0597 - val_accuracy: 0.5862 - val_mean_squared_error: 0.0597\n",
            "Epoch 42/100\n",
            "44/44 [==============================] - 1s 30ms/step - loss: 0.0713 - accuracy: 0.5435 - mean_squared_error: 0.0713 - val_loss: 0.0597 - val_accuracy: 0.5862 - val_mean_squared_error: 0.0597\n",
            "Epoch 43/100\n",
            "44/44 [==============================] - 1s 31ms/step - loss: 0.0713 - accuracy: 0.5435 - mean_squared_error: 0.0713 - val_loss: 0.0597 - val_accuracy: 0.5862 - val_mean_squared_error: 0.0597\n",
            "Epoch 44/100\n",
            "44/44 [==============================] - 1s 30ms/step - loss: 0.0713 - accuracy: 0.5435 - mean_squared_error: 0.0713 - val_loss: 0.0596 - val_accuracy: 0.5862 - val_mean_squared_error: 0.0596\n",
            "Epoch 45/100\n",
            "44/44 [==============================] - 1s 29ms/step - loss: 0.0713 - accuracy: 0.5435 - mean_squared_error: 0.0713 - val_loss: 0.0596 - val_accuracy: 0.5862 - val_mean_squared_error: 0.0596\n",
            "Epoch 46/100\n",
            "44/44 [==============================] - 1s 30ms/step - loss: 0.0712 - accuracy: 0.5435 - mean_squared_error: 0.0712 - val_loss: 0.0596 - val_accuracy: 0.5862 - val_mean_squared_error: 0.0596\n",
            "Epoch 47/100\n",
            "44/44 [==============================] - 1s 30ms/step - loss: 0.0712 - accuracy: 0.5435 - mean_squared_error: 0.0712 - val_loss: 0.0596 - val_accuracy: 0.5862 - val_mean_squared_error: 0.0596\n",
            "Epoch 48/100\n",
            "44/44 [==============================] - 1s 30ms/step - loss: 0.0712 - accuracy: 0.5435 - mean_squared_error: 0.0712 - val_loss: 0.0596 - val_accuracy: 0.5862 - val_mean_squared_error: 0.0596\n",
            "Epoch 49/100\n",
            "44/44 [==============================] - 1s 30ms/step - loss: 0.0712 - accuracy: 0.5435 - mean_squared_error: 0.0712 - val_loss: 0.0596 - val_accuracy: 0.5862 - val_mean_squared_error: 0.0596\n",
            "Epoch 50/100\n",
            "44/44 [==============================] - 1s 30ms/step - loss: 0.0712 - accuracy: 0.5435 - mean_squared_error: 0.0712 - val_loss: 0.0596 - val_accuracy: 0.5862 - val_mean_squared_error: 0.0596\n",
            "Epoch 51/100\n",
            "44/44 [==============================] - 1s 30ms/step - loss: 0.0712 - accuracy: 0.5435 - mean_squared_error: 0.0712 - val_loss: 0.0596 - val_accuracy: 0.5862 - val_mean_squared_error: 0.0596\n",
            "Epoch 52/100\n",
            "44/44 [==============================] - 1s 30ms/step - loss: 0.0712 - accuracy: 0.5435 - mean_squared_error: 0.0712 - val_loss: 0.0595 - val_accuracy: 0.5862 - val_mean_squared_error: 0.0595\n",
            "Epoch 53/100\n",
            "44/44 [==============================] - 1s 30ms/step - loss: 0.0712 - accuracy: 0.5435 - mean_squared_error: 0.0712 - val_loss: 0.0595 - val_accuracy: 0.5862 - val_mean_squared_error: 0.0595\n",
            "Epoch 54/100\n",
            "44/44 [==============================] - 1s 30ms/step - loss: 0.0712 - accuracy: 0.5435 - mean_squared_error: 0.0712 - val_loss: 0.0595 - val_accuracy: 0.5862 - val_mean_squared_error: 0.0595\n",
            "Epoch 55/100\n",
            "44/44 [==============================] - 1s 30ms/step - loss: 0.0712 - accuracy: 0.5435 - mean_squared_error: 0.0712 - val_loss: 0.0595 - val_accuracy: 0.5862 - val_mean_squared_error: 0.0595\n",
            "Epoch 56/100\n",
            "44/44 [==============================] - 1s 30ms/step - loss: 0.0712 - accuracy: 0.5435 - mean_squared_error: 0.0712 - val_loss: 0.0595 - val_accuracy: 0.5862 - val_mean_squared_error: 0.0595\n",
            "Epoch 57/100\n",
            "44/44 [==============================] - 1s 30ms/step - loss: 0.0712 - accuracy: 0.5435 - mean_squared_error: 0.0712 - val_loss: 0.0595 - val_accuracy: 0.5862 - val_mean_squared_error: 0.0595\n",
            "Epoch 58/100\n",
            "44/44 [==============================] - 1s 30ms/step - loss: 0.0712 - accuracy: 0.5435 - mean_squared_error: 0.0712 - val_loss: 0.0595 - val_accuracy: 0.5862 - val_mean_squared_error: 0.0595\n",
            "Epoch 59/100\n",
            "44/44 [==============================] - 1s 30ms/step - loss: 0.0712 - accuracy: 0.5435 - mean_squared_error: 0.0712 - val_loss: 0.0595 - val_accuracy: 0.5862 - val_mean_squared_error: 0.0595\n",
            "Epoch 60/100\n",
            "44/44 [==============================] - 1s 30ms/step - loss: 0.0712 - accuracy: 0.5435 - mean_squared_error: 0.0712 - val_loss: 0.0595 - val_accuracy: 0.5862 - val_mean_squared_error: 0.0595\n",
            "Epoch 61/100\n",
            "44/44 [==============================] - 1s 30ms/step - loss: 0.0712 - accuracy: 0.5435 - mean_squared_error: 0.0712 - val_loss: 0.0595 - val_accuracy: 0.5862 - val_mean_squared_error: 0.0595\n",
            "Epoch 62/100\n",
            "44/44 [==============================] - 1s 30ms/step - loss: 0.0712 - accuracy: 0.5435 - mean_squared_error: 0.0712 - val_loss: 0.0595 - val_accuracy: 0.5862 - val_mean_squared_error: 0.0595\n",
            "Epoch 63/100\n",
            "44/44 [==============================] - 1s 31ms/step - loss: 0.0712 - accuracy: 0.5435 - mean_squared_error: 0.0712 - val_loss: 0.0595 - val_accuracy: 0.5862 - val_mean_squared_error: 0.0595\n",
            "Epoch 64/100\n",
            "44/44 [==============================] - 1s 30ms/step - loss: 0.0712 - accuracy: 0.5435 - mean_squared_error: 0.0712 - val_loss: 0.0595 - val_accuracy: 0.5862 - val_mean_squared_error: 0.0595\n",
            "Epoch 65/100\n",
            "44/44 [==============================] - 1s 31ms/step - loss: 0.0712 - accuracy: 0.5435 - mean_squared_error: 0.0712 - val_loss: 0.0595 - val_accuracy: 0.5862 - val_mean_squared_error: 0.0595\n",
            "Epoch 66/100\n",
            "44/44 [==============================] - 1s 31ms/step - loss: 0.0712 - accuracy: 0.5435 - mean_squared_error: 0.0712 - val_loss: 0.0595 - val_accuracy: 0.5862 - val_mean_squared_error: 0.0595\n",
            "Epoch 67/100\n",
            "44/44 [==============================] - 1s 31ms/step - loss: 0.0711 - accuracy: 0.5435 - mean_squared_error: 0.0711 - val_loss: 0.0595 - val_accuracy: 0.5862 - val_mean_squared_error: 0.0595\n",
            "Epoch 68/100\n",
            "44/44 [==============================] - 1s 29ms/step - loss: 0.0711 - accuracy: 0.5435 - mean_squared_error: 0.0711 - val_loss: 0.0595 - val_accuracy: 0.5862 - val_mean_squared_error: 0.0595\n",
            "Epoch 69/100\n",
            "44/44 [==============================] - 1s 29ms/step - loss: 0.0711 - accuracy: 0.5435 - mean_squared_error: 0.0711 - val_loss: 0.0595 - val_accuracy: 0.5862 - val_mean_squared_error: 0.0595\n",
            "Epoch 70/100\n",
            "44/44 [==============================] - 1s 30ms/step - loss: 0.0711 - accuracy: 0.5435 - mean_squared_error: 0.0711 - val_loss: 0.0595 - val_accuracy: 0.5862 - val_mean_squared_error: 0.0595\n",
            "Epoch 71/100\n",
            "44/44 [==============================] - 1s 31ms/step - loss: 0.0711 - accuracy: 0.5435 - mean_squared_error: 0.0711 - val_loss: 0.0595 - val_accuracy: 0.5862 - val_mean_squared_error: 0.0595\n",
            "Epoch 72/100\n",
            "44/44 [==============================] - 1s 30ms/step - loss: 0.0711 - accuracy: 0.5435 - mean_squared_error: 0.0711 - val_loss: 0.0595 - val_accuracy: 0.5862 - val_mean_squared_error: 0.0595\n",
            "Epoch 73/100\n",
            "44/44 [==============================] - 1s 30ms/step - loss: 0.0711 - accuracy: 0.5435 - mean_squared_error: 0.0711 - val_loss: 0.0595 - val_accuracy: 0.5862 - val_mean_squared_error: 0.0595\n",
            "Epoch 74/100\n",
            "44/44 [==============================] - 1s 30ms/step - loss: 0.0711 - accuracy: 0.5435 - mean_squared_error: 0.0711 - val_loss: 0.0595 - val_accuracy: 0.5862 - val_mean_squared_error: 0.0595\n",
            "Epoch 75/100\n",
            "44/44 [==============================] - 1s 30ms/step - loss: 0.0711 - accuracy: 0.5435 - mean_squared_error: 0.0711 - val_loss: 0.0595 - val_accuracy: 0.5862 - val_mean_squared_error: 0.0595\n",
            "Epoch 76/100\n",
            "44/44 [==============================] - 1s 30ms/step - loss: 0.0711 - accuracy: 0.5435 - mean_squared_error: 0.0711 - val_loss: 0.0595 - val_accuracy: 0.5862 - val_mean_squared_error: 0.0595\n",
            "Epoch 77/100\n",
            "44/44 [==============================] - 1s 30ms/step - loss: 0.0711 - accuracy: 0.5435 - mean_squared_error: 0.0711 - val_loss: 0.0595 - val_accuracy: 0.5862 - val_mean_squared_error: 0.0595\n",
            "Epoch 78/100\n",
            "44/44 [==============================] - 1s 30ms/step - loss: 0.0711 - accuracy: 0.5435 - mean_squared_error: 0.0711 - val_loss: 0.0595 - val_accuracy: 0.5862 - val_mean_squared_error: 0.0595\n",
            "Epoch 79/100\n",
            "44/44 [==============================] - 1s 30ms/step - loss: 0.0711 - accuracy: 0.5435 - mean_squared_error: 0.0711 - val_loss: 0.0595 - val_accuracy: 0.5862 - val_mean_squared_error: 0.0595\n",
            "Epoch 80/100\n",
            "44/44 [==============================] - 1s 30ms/step - loss: 0.0711 - accuracy: 0.5435 - mean_squared_error: 0.0711 - val_loss: 0.0595 - val_accuracy: 0.5862 - val_mean_squared_error: 0.0595\n",
            "Epoch 81/100\n",
            "44/44 [==============================] - 1s 31ms/step - loss: 0.0711 - accuracy: 0.5435 - mean_squared_error: 0.0711 - val_loss: 0.0595 - val_accuracy: 0.5862 - val_mean_squared_error: 0.0595\n",
            "Epoch 82/100\n",
            "44/44 [==============================] - 1s 30ms/step - loss: 0.0711 - accuracy: 0.5435 - mean_squared_error: 0.0711 - val_loss: 0.0595 - val_accuracy: 0.5862 - val_mean_squared_error: 0.0595\n",
            "Epoch 83/100\n",
            "44/44 [==============================] - 1s 31ms/step - loss: 0.0711 - accuracy: 0.5435 - mean_squared_error: 0.0711 - val_loss: 0.0595 - val_accuracy: 0.5862 - val_mean_squared_error: 0.0595\n",
            "Epoch 84/100\n",
            "44/44 [==============================] - 1s 30ms/step - loss: 0.0711 - accuracy: 0.5435 - mean_squared_error: 0.0711 - val_loss: 0.0595 - val_accuracy: 0.5862 - val_mean_squared_error: 0.0595\n",
            "Epoch 85/100\n",
            "44/44 [==============================] - 1s 31ms/step - loss: 0.0711 - accuracy: 0.5435 - mean_squared_error: 0.0711 - val_loss: 0.0595 - val_accuracy: 0.5862 - val_mean_squared_error: 0.0595\n",
            "Epoch 86/100\n",
            "44/44 [==============================] - 1s 31ms/step - loss: 0.0711 - accuracy: 0.5435 - mean_squared_error: 0.0711 - val_loss: 0.0595 - val_accuracy: 0.5862 - val_mean_squared_error: 0.0595\n",
            "Epoch 87/100\n",
            "44/44 [==============================] - 1s 31ms/step - loss: 0.0711 - accuracy: 0.5435 - mean_squared_error: 0.0711 - val_loss: 0.0595 - val_accuracy: 0.5862 - val_mean_squared_error: 0.0595\n",
            "Epoch 88/100\n",
            "44/44 [==============================] - 1s 31ms/step - loss: 0.0711 - accuracy: 0.5435 - mean_squared_error: 0.0711 - val_loss: 0.0595 - val_accuracy: 0.5862 - val_mean_squared_error: 0.0595\n",
            "Epoch 89/100\n",
            "44/44 [==============================] - 1s 31ms/step - loss: 0.0711 - accuracy: 0.5435 - mean_squared_error: 0.0711 - val_loss: 0.0595 - val_accuracy: 0.5862 - val_mean_squared_error: 0.0595\n",
            "Epoch 90/100\n",
            "44/44 [==============================] - 1s 30ms/step - loss: 0.0711 - accuracy: 0.5435 - mean_squared_error: 0.0711 - val_loss: 0.0595 - val_accuracy: 0.5862 - val_mean_squared_error: 0.0595\n",
            "Epoch 91/100\n",
            "44/44 [==============================] - 1s 30ms/step - loss: 0.0711 - accuracy: 0.5435 - mean_squared_error: 0.0711 - val_loss: 0.0595 - val_accuracy: 0.5862 - val_mean_squared_error: 0.0595\n",
            "Epoch 92/100\n",
            "44/44 [==============================] - 1s 31ms/step - loss: 0.0711 - accuracy: 0.5435 - mean_squared_error: 0.0711 - val_loss: 0.0595 - val_accuracy: 0.5862 - val_mean_squared_error: 0.0595\n",
            "Epoch 93/100\n",
            "44/44 [==============================] - 1s 30ms/step - loss: 0.0711 - accuracy: 0.5435 - mean_squared_error: 0.0711 - val_loss: 0.0595 - val_accuracy: 0.5862 - val_mean_squared_error: 0.0595\n",
            "Epoch 94/100\n",
            "44/44 [==============================] - 1s 31ms/step - loss: 0.0711 - accuracy: 0.5435 - mean_squared_error: 0.0711 - val_loss: 0.0595 - val_accuracy: 0.5862 - val_mean_squared_error: 0.0595\n",
            "Epoch 95/100\n",
            "44/44 [==============================] - 1s 31ms/step - loss: 0.0711 - accuracy: 0.5435 - mean_squared_error: 0.0711 - val_loss: 0.0595 - val_accuracy: 0.5862 - val_mean_squared_error: 0.0595\n",
            "Epoch 96/100\n",
            "44/44 [==============================] - 1s 31ms/step - loss: 0.0711 - accuracy: 0.5435 - mean_squared_error: 0.0711 - val_loss: 0.0595 - val_accuracy: 0.5862 - val_mean_squared_error: 0.0595\n",
            "Epoch 97/100\n",
            "44/44 [==============================] - 1s 30ms/step - loss: 0.0711 - accuracy: 0.5435 - mean_squared_error: 0.0711 - val_loss: 0.0595 - val_accuracy: 0.5862 - val_mean_squared_error: 0.0595\n",
            "Epoch 98/100\n",
            "44/44 [==============================] - 1s 31ms/step - loss: 0.0711 - accuracy: 0.5435 - mean_squared_error: 0.0711 - val_loss: 0.0595 - val_accuracy: 0.5862 - val_mean_squared_error: 0.0595\n",
            "Epoch 99/100\n",
            "44/44 [==============================] - 1s 31ms/step - loss: 0.0711 - accuracy: 0.5435 - mean_squared_error: 0.0711 - val_loss: 0.0595 - val_accuracy: 0.5862 - val_mean_squared_error: 0.0595\n",
            "Epoch 100/100\n",
            "44/44 [==============================] - 1s 30ms/step - loss: 0.0711 - accuracy: 0.5435 - mean_squared_error: 0.0711 - val_loss: 0.0595 - val_accuracy: 0.5862 - val_mean_squared_error: 0.0595\n"
          ]
        }
      ]
    },
    {
      "cell_type": "code",
      "metadata": {
        "colab": {
          "base_uri": "https://localhost:8080/"
        },
        "id": "JlMIjoyx3ec6",
        "outputId": "27627392-2e0b-4bfd-aa95-20c4a928de8b"
      },
      "source": [
        "from sklearn.metrics import mean_squared_error\n",
        "loss, accuracy,mean_squared_error = model_GRU.evaluate(X_test, y_test, verbose=0)\n",
        "print('Accuracy: %f' % accuracy)\n",
        "print('Error Rate: %f' % (1 - accuracy))\n",
        "print('Mean Squared Error: %f' % mean_squared_error)"
      ],
      "execution_count": null,
      "outputs": [
        {
          "output_type": "stream",
          "name": "stdout",
          "text": [
            "Accuracy: 0.586200\n",
            "Error Rate: 0.413800\n",
            "Mean Squared Error: 0.059464\n"
          ]
        }
      ]
    },
    {
      "cell_type": "code",
      "metadata": {
        "colab": {
          "base_uri": "https://localhost:8080/"
        },
        "id": "a6pnqbNlq2c_",
        "outputId": "458bec08-33cd-4d50-f75d-17360e7941bb"
      },
      "source": [
        "pred_LSTM=model_GRU.predict(X_test)\n",
        "#GRU with factors\n",
        "plt.plot(history_GRU.history[\"loss\"], label=\"Training Loss\")\n",
        "plt.plot(history_GRU.history[\"val_loss\"], label=\"Validation Loss\")\n",
        "plt.legend()"
      ],
      "execution_count": null,
      "outputs": [
        {
          "output_type": "execute_result",
          "data": {
            "text/plain": [
              "<matplotlib.legend.Legend at 0x7f1aaa941e10>"
            ]
          },
          "metadata": {},
          "execution_count": 54
        },
        {
          "output_type": "display_data",
          "data": {
            "image/png": "[encoded data removed]",
            "text/plain": [
              "<Figure size 432x288 with 1 Axes>"
            ]
          },
          "metadata": {
            "needs_background": "light"
          }
        }
      ]
    },
    {
      "cell_type": "markdown",
      "metadata": {
        "id": "j1nZaiyGWCaU"
      },
      "source": [
        "# **Preprocessing for confirmed cases with Wind Speed and Population density factors**"
      ]
    },
    {
      "cell_type": "code",
      "metadata": {
        "id": "PuMnJc-1tFGG"
      },
      "source": [
        "new_index = dataset.iloc[:,0]\n",
        "new_index\n",
        "values = dataset.set_index(new_index)\n",
        "values = values.iloc[:,1:]\n",
        "values = values.iloc[:1500,[0,1,3,5,6,7,8]].astype('float32')\n",
        "values\n",
        "labels = dataset.iloc[:1500,-9]\n",
        "labels\n",
        "\n",
        "from sklearn.model_selection import train_test_split\n",
        "train_data, test_data, train_labels, test_labels = train_test_split(values, labels, test_size=0.20, random_state=88)"
      ],
      "execution_count": null,
      "outputs": []
    },
    {
      "cell_type": "code",
      "metadata": {
        "id": "vroNyHtsuBM2"
      },
      "source": [
        "train_labels = pd.array(train_labels)\n",
        "test_labels = pd.array(test_labels)"
      ],
      "execution_count": null,
      "outputs": []
    },
    {
      "cell_type": "code",
      "metadata": {
        "colab": {
          "base_uri": "https://localhost:8080/"
        },
        "id": "H3Nsg_UjuGRP",
        "outputId": "89875891-dbaf-46fa-f998-ef5d510c2746"
      },
      "source": [
        "train = train_data\n",
        "scalers={}\n",
        "for i in train_data.columns:\n",
        "    scaler = MinMaxScaler(feature_range=(-1,1))\n",
        "    s_s = scaler.fit_transform(train[i].values.reshape(-1,1))\n",
        "    s_s= np.reshape(s_s,len(s_s))\n",
        "    scalers['scaler_'+ i] = scaler\n",
        "    train[i]=s_s\n",
        "test = test_data\n",
        "for i in test_data.columns:\n",
        "    scaler = scalers['scaler_'+i]\n",
        "    s_s = scaler.transform(test[i].values.reshape(-1,1))\n",
        "    s_s= np.reshape(s_s,len(s_s))\n",
        "    scalers['scaler_'+i] = scaler\n",
        "    test[i]=s_s"
      ],
      "execution_count": null,
      "outputs": [
        {
          "output_type": "stream",
          "name": "stderr",
          "text": [
            "/usr/local/lib/python3.7/dist-packages/ipykernel_launcher.py:8: SettingWithCopyWarning: \n",
            "A value is trying to be set on a copy of a slice from a DataFrame.\n",
            "Try using .loc[row_indexer,col_indexer] = value instead\n",
            "\n",
            "See the caveats in the documentation: https://pandas.pydata.org/pandas-docs/stable/user_guide/indexing.html#returning-a-view-versus-a-copy\n",
            "  \n",
            "/usr/local/lib/python3.7/dist-packages/ipykernel_launcher.py:8: SettingWithCopyWarning: \n",
            "A value is trying to be set on a copy of a slice from a DataFrame.\n",
            "Try using .loc[row_indexer,col_indexer] = value instead\n",
            "\n",
            "See the caveats in the documentation: https://pandas.pydata.org/pandas-docs/stable/user_guide/indexing.html#returning-a-view-versus-a-copy\n",
            "  \n",
            "/usr/local/lib/python3.7/dist-packages/ipykernel_launcher.py:8: SettingWithCopyWarning: \n",
            "A value is trying to be set on a copy of a slice from a DataFrame.\n",
            "Try using .loc[row_indexer,col_indexer] = value instead\n",
            "\n",
            "See the caveats in the documentation: https://pandas.pydata.org/pandas-docs/stable/user_guide/indexing.html#returning-a-view-versus-a-copy\n",
            "  \n",
            "/usr/local/lib/python3.7/dist-packages/ipykernel_launcher.py:8: SettingWithCopyWarning: \n",
            "A value is trying to be set on a copy of a slice from a DataFrame.\n",
            "Try using .loc[row_indexer,col_indexer] = value instead\n",
            "\n",
            "See the caveats in the documentation: https://pandas.pydata.org/pandas-docs/stable/user_guide/indexing.html#returning-a-view-versus-a-copy\n",
            "  \n",
            "/usr/local/lib/python3.7/dist-packages/ipykernel_launcher.py:8: SettingWithCopyWarning: \n",
            "A value is trying to be set on a copy of a slice from a DataFrame.\n",
            "Try using .loc[row_indexer,col_indexer] = value instead\n",
            "\n",
            "See the caveats in the documentation: https://pandas.pydata.org/pandas-docs/stable/user_guide/indexing.html#returning-a-view-versus-a-copy\n",
            "  \n",
            "/usr/local/lib/python3.7/dist-packages/ipykernel_launcher.py:8: SettingWithCopyWarning: \n",
            "A value is trying to be set on a copy of a slice from a DataFrame.\n",
            "Try using .loc[row_indexer,col_indexer] = value instead\n",
            "\n",
            "See the caveats in the documentation: https://pandas.pydata.org/pandas-docs/stable/user_guide/indexing.html#returning-a-view-versus-a-copy\n",
            "  \n",
            "/usr/local/lib/python3.7/dist-packages/ipykernel_launcher.py:8: SettingWithCopyWarning: \n",
            "A value is trying to be set on a copy of a slice from a DataFrame.\n",
            "Try using .loc[row_indexer,col_indexer] = value instead\n",
            "\n",
            "See the caveats in the documentation: https://pandas.pydata.org/pandas-docs/stable/user_guide/indexing.html#returning-a-view-versus-a-copy\n",
            "  \n",
            "/usr/local/lib/python3.7/dist-packages/ipykernel_launcher.py:15: SettingWithCopyWarning: \n",
            "A value is trying to be set on a copy of a slice from a DataFrame.\n",
            "Try using .loc[row_indexer,col_indexer] = value instead\n",
            "\n",
            "See the caveats in the documentation: https://pandas.pydata.org/pandas-docs/stable/user_guide/indexing.html#returning-a-view-versus-a-copy\n",
            "  from ipykernel import kernelapp as app\n",
            "/usr/local/lib/python3.7/dist-packages/ipykernel_launcher.py:15: SettingWithCopyWarning: \n",
            "A value is trying to be set on a copy of a slice from a DataFrame.\n",
            "Try using .loc[row_indexer,col_indexer] = value instead\n",
            "\n",
            "See the caveats in the documentation: https://pandas.pydata.org/pandas-docs/stable/user_guide/indexing.html#returning-a-view-versus-a-copy\n",
            "  from ipykernel import kernelapp as app\n",
            "/usr/local/lib/python3.7/dist-packages/ipykernel_launcher.py:15: SettingWithCopyWarning: \n",
            "A value is trying to be set on a copy of a slice from a DataFrame.\n",
            "Try using .loc[row_indexer,col_indexer] = value instead\n",
            "\n",
            "See the caveats in the documentation: https://pandas.pydata.org/pandas-docs/stable/user_guide/indexing.html#returning-a-view-versus-a-copy\n",
            "  from ipykernel import kernelapp as app\n",
            "/usr/local/lib/python3.7/dist-packages/ipykernel_launcher.py:15: SettingWithCopyWarning: \n",
            "A value is trying to be set on a copy of a slice from a DataFrame.\n",
            "Try using .loc[row_indexer,col_indexer] = value instead\n",
            "\n",
            "See the caveats in the documentation: https://pandas.pydata.org/pandas-docs/stable/user_guide/indexing.html#returning-a-view-versus-a-copy\n",
            "  from ipykernel import kernelapp as app\n",
            "/usr/local/lib/python3.7/dist-packages/ipykernel_launcher.py:15: SettingWithCopyWarning: \n",
            "A value is trying to be set on a copy of a slice from a DataFrame.\n",
            "Try using .loc[row_indexer,col_indexer] = value instead\n",
            "\n",
            "See the caveats in the documentation: https://pandas.pydata.org/pandas-docs/stable/user_guide/indexing.html#returning-a-view-versus-a-copy\n",
            "  from ipykernel import kernelapp as app\n",
            "/usr/local/lib/python3.7/dist-packages/ipykernel_launcher.py:15: SettingWithCopyWarning: \n",
            "A value is trying to be set on a copy of a slice from a DataFrame.\n",
            "Try using .loc[row_indexer,col_indexer] = value instead\n",
            "\n",
            "See the caveats in the documentation: https://pandas.pydata.org/pandas-docs/stable/user_guide/indexing.html#returning-a-view-versus-a-copy\n",
            "  from ipykernel import kernelapp as app\n",
            "/usr/local/lib/python3.7/dist-packages/ipykernel_launcher.py:15: SettingWithCopyWarning: \n",
            "A value is trying to be set on a copy of a slice from a DataFrame.\n",
            "Try using .loc[row_indexer,col_indexer] = value instead\n",
            "\n",
            "See the caveats in the documentation: https://pandas.pydata.org/pandas-docs/stable/user_guide/indexing.html#returning-a-view-versus-a-copy\n",
            "  from ipykernel import kernelapp as app\n"
          ]
        }
      ]
    },
    {
      "cell_type": "code",
      "metadata": {
        "id": "0vBU2N-puJov"
      },
      "source": [
        "def split_series(series, n_past, n_future):\n",
        "  # n_past ==> no of past observations\n",
        "  # n_future ==> no of future observations \n",
        "  X, y = list(), list()\n",
        "  for window_start in range(len(series)):\n",
        "    past_end = window_start + n_past\n",
        "    future_end = past_end + n_future\n",
        "    if future_end > len(series):\n",
        "      break\n",
        "    # slicing the past and future parts of the window\n",
        "    past, future = series[window_start:past_end, :], series[past_end:future_end, :]\n",
        "    X.append(past)\n",
        "    y.append(future)\n",
        "  return np.array(X), np.array(y)"
      ],
      "execution_count": null,
      "outputs": []
    },
    {
      "cell_type": "code",
      "metadata": {
        "id": "DpgxqnB6uNBh"
      },
      "source": [
        "n_past = 10\n",
        "n_future = 20\n",
        "n_features = 7"
      ],
      "execution_count": null,
      "outputs": []
    },
    {
      "cell_type": "code",
      "metadata": {
        "id": "3B8r_ug7uSXF"
      },
      "source": [
        "X_train, y_train = split_series(train.values,n_past, n_future)\n",
        "X_train = X_train.reshape((X_train.shape[0], X_train.shape[1],n_features))\n",
        "y_train = y_train.reshape((y_train.shape[0], y_train.shape[1], n_features))\n",
        "X_test, y_test = split_series(test.values,n_past, n_future)\n",
        "X_test = X_test.reshape((X_test.shape[0], X_test.shape[1], n_features))\n",
        "y_test = y_test.reshape((y_test.shape[0], y_test.shape[1], n_features))"
      ],
      "execution_count": null,
      "outputs": []
    },
    {
      "cell_type": "markdown",
      "metadata": {
        "id": "pQ2Ec34AfrkL"
      },
      "source": [
        "# **Designing the Model of LSTM**"
      ]
    },
    {
      "cell_type": "code",
      "metadata": {
        "colab": {
          "base_uri": "https://localhost:8080/"
        },
        "id": "2dfYYD3FuVuM",
        "outputId": "79c7a69a-5e68-41d5-b3f5-dab2b408cf9d"
      },
      "source": [
        "#LSTM\n",
        "encoder_inputs = tf.keras.layers.Input(shape=(n_past, n_features))\n",
        "encoder_l1 = tf.keras.layers.LSTM(2, activation='tanh',return_state=True) \n",
        "encoder_outputs1 = encoder_l1(encoder_inputs)\n",
        "encoder_states1 = encoder_outputs1[1:]\n",
        "decoder_inputs = tf.keras.layers.RepeatVector(n_future)(encoder_outputs1[0])\n",
        "decoder_l1 = tf.keras.layers.LSTM(2, return_sequences=True)(decoder_inputs,initial_state = encoder_states1)\n",
        "decoder_outputs1 = tf.keras.layers.TimeDistributed(tf.keras.layers.Dense(n_features))(decoder_l1)\n",
        "model_LSTM2 = tf.keras.models.Model(encoder_inputs,decoder_outputs1)\n",
        "\n",
        "model_LSTM2.summary()"
      ],
      "execution_count": null,
      "outputs": [
        {
          "output_type": "stream",
          "name": "stdout",
          "text": [
            "Model: \"model_6\"\n",
            "__________________________________________________________________________________________________\n",
            "Layer (type)                    Output Shape         Param #     Connected to                     \n",
            "==================================================================================================\n",
            "input_7 (InputLayer)            [(None, 10, 7)]      0                                            \n",
            "__________________________________________________________________________________________________\n",
            "lstm_12 (LSTM)                  [(None, 2), (None, 2 80          input_7[0][0]                    \n",
            "__________________________________________________________________________________________________\n",
            "repeat_vector_6 (RepeatVector)  (None, 20, 2)        0           lstm_12[0][0]                    \n",
            "__________________________________________________________________________________________________\n",
            "lstm_13 (LSTM)                  (None, 20, 2)        40          repeat_vector_6[0][0]            \n",
            "                                                                 lstm_12[0][1]                    \n",
            "                                                                 lstm_12[0][2]                    \n",
            "__________________________________________________________________________________________________\n",
            "time_distributed_6 (TimeDistrib (None, 20, 7)        21          lstm_13[0][0]                    \n",
            "==================================================================================================\n",
            "Total params: 141\n",
            "Trainable params: 141\n",
            "Non-trainable params: 0\n",
            "__________________________________________________________________________________________________\n"
          ]
        }
      ]
    },
    {
      "cell_type": "code",
      "metadata": {
        "id": "rMfBiVujuYCC"
      },
      "source": [
        "from keras import backend as K\n",
        "\n",
        "def mean_squared_error(y_true, y_pred):\n",
        "    return K.mean(K.square(y_pred - y_true), axis=-1)"
      ],
      "execution_count": null,
      "outputs": []
    },
    {
      "cell_type": "markdown",
      "metadata": {
        "id": "5QRrzEWagGS-"
      },
      "source": [
        "# **Training the Model of LSTM using factors and evaluation**"
      ]
    },
    {
      "cell_type": "code",
      "metadata": {
        "colab": {
          "base_uri": "https://localhost:8080/"
        },
        "id": "gcO1l7osua1w",
        "outputId": "8fdbc415-b211-477a-923d-ef30f34ffa6d"
      },
      "source": [
        "reduce_lr = tf.keras.callbacks.LearningRateScheduler(lambda x: 1e-3 * 0.90 ** x)\n",
        "\n",
        "#loss test\n",
        "model_LSTM2.compile(optimizer=tf.keras.optimizers.Adam(learning_rate=.1e-3), loss=tf.keras.losses.MeanSquaredError(),metrics=['accuracy', 'mean_squared_error'])\n",
        "#model_LSTM2.compile(optimizer=tf.keras.optimizers.Adam(learning_rate=.1e-3), loss=tf.keras.losses.binary_crossentropy,metrics=['accuracy',mean_squared_error])\n",
        "#model_LSTM2.compile(optimizer=tf.keras.optimizers.Adam(learning_rate=.1e-3), loss=tf.keras.losses.categorical_crossentropy,metrics=['accuracy',mean_squared_error])\n",
        "#model_LSTM2.compile(optimizer=tf.keras.optimizers.Adam(learning_rate=.1e-3), loss=tf.keras.losses.MeanSquaredError(),metrics=['accuracy',mean_squared_error])\n",
        "\n",
        "#optimizer test\n",
        "#model_LSTM2.compile(optimizer=tf.keras.optimizers.SGD(learning_rate=.1e-3), loss=tf.keras.losses.MeanSquaredError(),metrics=['accuracy', 'mean_squared_error'])\n",
        "#model_LSTM2.compile(optimizer=tf.keras.optimizers.RMSprop(learning_rate=.1e-3), loss=tf.keras.losses.Huber(),metrics=['accuracy', 'mean_squared_error'])\n",
        "#model_LSTM2.compile(optimizer=tf.keras.optimizers.Adadelta(learning_rate=.1e-3), loss=tf.keras.losses.Huber(),metrics=['accuracy',mean_squared_error])\n",
        "\n",
        "history_LSTM2 = model_LSTM2.fit(X_train,y_train,epochs=100,validation_data=(X_test,y_test),batch_size=25,verbose=1,callbacks=[reduce_lr])"
      ],
      "execution_count": null,
      "outputs": [
        {
          "output_type": "stream",
          "name": "stdout",
          "text": [
            "Epoch 1/100\n",
            "44/44 [==============================] - 5s 31ms/step - loss: 0.6742 - accuracy: 0.4076 - mean_squared_error: 0.6742 - val_loss: 0.6429 - val_accuracy: 0.3892 - val_mean_squared_error: 0.6429\n",
            "Epoch 2/100\n",
            "44/44 [==============================] - 1s 14ms/step - loss: 0.6032 - accuracy: 0.1961 - mean_squared_error: 0.6032 - val_loss: 0.5819 - val_accuracy: 0.0040 - val_mean_squared_error: 0.5819\n",
            "Epoch 3/100\n",
            "44/44 [==============================] - 1s 14ms/step - loss: 0.5370 - accuracy: 0.0018 - mean_squared_error: 0.5370 - val_loss: 0.5027 - val_accuracy: 0.0040 - val_mean_squared_error: 0.5027\n",
            "Epoch 4/100\n",
            "44/44 [==============================] - 1s 14ms/step - loss: 0.4328 - accuracy: 0.0018 - mean_squared_error: 0.4328 - val_loss: 0.3889 - val_accuracy: 0.0040 - val_mean_squared_error: 0.3889\n",
            "Epoch 5/100\n",
            "44/44 [==============================] - 1s 14ms/step - loss: 0.3362 - accuracy: 0.0018 - mean_squared_error: 0.3362 - val_loss: 0.3156 - val_accuracy: 0.0040 - val_mean_squared_error: 0.3156\n",
            "Epoch 6/100\n",
            "44/44 [==============================] - 1s 13ms/step - loss: 0.2791 - accuracy: 0.0018 - mean_squared_error: 0.2791 - val_loss: 0.2712 - val_accuracy: 0.0040 - val_mean_squared_error: 0.2712\n",
            "Epoch 7/100\n",
            "44/44 [==============================] - 1s 14ms/step - loss: 0.2436 - accuracy: 0.0050 - mean_squared_error: 0.2436 - val_loss: 0.2424 - val_accuracy: 0.0266 - val_mean_squared_error: 0.2424\n",
            "Epoch 8/100\n",
            "44/44 [==============================] - 1s 14ms/step - loss: 0.2197 - accuracy: 0.4689 - mean_squared_error: 0.2197 - val_loss: 0.2224 - val_accuracy: 0.6934 - val_mean_squared_error: 0.2224\n",
            "Epoch 9/100\n",
            "44/44 [==============================] - 1s 14ms/step - loss: 0.2028 - accuracy: 0.6934 - mean_squared_error: 0.2028 - val_loss: 0.2081 - val_accuracy: 0.6934 - val_mean_squared_error: 0.2081\n",
            "Epoch 10/100\n",
            "44/44 [==============================] - 1s 13ms/step - loss: 0.1903 - accuracy: 0.6934 - mean_squared_error: 0.1903 - val_loss: 0.1974 - val_accuracy: 0.6934 - val_mean_squared_error: 0.1974\n",
            "Epoch 11/100\n",
            "44/44 [==============================] - 1s 14ms/step - loss: 0.1808 - accuracy: 0.6934 - mean_squared_error: 0.1808 - val_loss: 0.1892 - val_accuracy: 0.6934 - val_mean_squared_error: 0.1892\n",
            "Epoch 12/100\n",
            "44/44 [==============================] - 1s 14ms/step - loss: 0.1734 - accuracy: 0.6934 - mean_squared_error: 0.1734 - val_loss: 0.1828 - val_accuracy: 0.6934 - val_mean_squared_error: 0.1828\n",
            "Epoch 13/100\n",
            "44/44 [==============================] - 1s 14ms/step - loss: 0.1676 - accuracy: 0.6934 - mean_squared_error: 0.1676 - val_loss: 0.1776 - val_accuracy: 0.6934 - val_mean_squared_error: 0.1776\n",
            "Epoch 14/100\n",
            "44/44 [==============================] - 1s 14ms/step - loss: 0.1629 - accuracy: 0.6934 - mean_squared_error: 0.1629 - val_loss: 0.1735 - val_accuracy: 0.6934 - val_mean_squared_error: 0.1735\n",
            "Epoch 15/100\n",
            "44/44 [==============================] - 1s 14ms/step - loss: 0.1590 - accuracy: 0.6934 - mean_squared_error: 0.1590 - val_loss: 0.1701 - val_accuracy: 0.6934 - val_mean_squared_error: 0.1701\n",
            "Epoch 16/100\n",
            "44/44 [==============================] - 1s 14ms/step - loss: 0.1559 - accuracy: 0.6934 - mean_squared_error: 0.1559 - val_loss: 0.1672 - val_accuracy: 0.6934 - val_mean_squared_error: 0.1672\n",
            "Epoch 17/100\n",
            "44/44 [==============================] - 1s 14ms/step - loss: 0.1532 - accuracy: 0.6934 - mean_squared_error: 0.1532 - val_loss: 0.1649 - val_accuracy: 0.6934 - val_mean_squared_error: 0.1649\n",
            "Epoch 18/100\n",
            "44/44 [==============================] - 1s 13ms/step - loss: 0.1510 - accuracy: 0.6934 - mean_squared_error: 0.1510 - val_loss: 0.1629 - val_accuracy: 0.6934 - val_mean_squared_error: 0.1629\n",
            "Epoch 19/100\n",
            "44/44 [==============================] - 1s 14ms/step - loss: 0.1491 - accuracy: 0.6934 - mean_squared_error: 0.1491 - val_loss: 0.1612 - val_accuracy: 0.6934 - val_mean_squared_error: 0.1612\n",
            "Epoch 20/100\n",
            "44/44 [==============================] - 1s 13ms/step - loss: 0.1475 - accuracy: 0.6934 - mean_squared_error: 0.1475 - val_loss: 0.1597 - val_accuracy: 0.6934 - val_mean_squared_error: 0.1597\n",
            "Epoch 21/100\n",
            "44/44 [==============================] - 1s 14ms/step - loss: 0.1461 - accuracy: 0.6934 - mean_squared_error: 0.1461 - val_loss: 0.1585 - val_accuracy: 0.6934 - val_mean_squared_error: 0.1585\n",
            "Epoch 22/100\n",
            "44/44 [==============================] - 1s 14ms/step - loss: 0.1449 - accuracy: 0.6934 - mean_squared_error: 0.1449 - val_loss: 0.1574 - val_accuracy: 0.6934 - val_mean_squared_error: 0.1574\n",
            "Epoch 23/100\n",
            "44/44 [==============================] - 1s 14ms/step - loss: 0.1438 - accuracy: 0.6934 - mean_squared_error: 0.1438 - val_loss: 0.1564 - val_accuracy: 0.6934 - val_mean_squared_error: 0.1564\n",
            "Epoch 24/100\n",
            "44/44 [==============================] - 1s 14ms/step - loss: 0.1429 - accuracy: 0.6934 - mean_squared_error: 0.1429 - val_loss: 0.1556 - val_accuracy: 0.6934 - val_mean_squared_error: 0.1556\n",
            "Epoch 25/100\n",
            "44/44 [==============================] - 1s 14ms/step - loss: 0.1421 - accuracy: 0.6934 - mean_squared_error: 0.1421 - val_loss: 0.1548 - val_accuracy: 0.6934 - val_mean_squared_error: 0.1548\n",
            "Epoch 26/100\n",
            "44/44 [==============================] - 1s 14ms/step - loss: 0.1414 - accuracy: 0.6934 - mean_squared_error: 0.1414 - val_loss: 0.1542 - val_accuracy: 0.6934 - val_mean_squared_error: 0.1542\n",
            "Epoch 27/100\n",
            "44/44 [==============================] - 1s 14ms/step - loss: 0.1408 - accuracy: 0.6934 - mean_squared_error: 0.1408 - val_loss: 0.1536 - val_accuracy: 0.6934 - val_mean_squared_error: 0.1536\n",
            "Epoch 28/100\n",
            "44/44 [==============================] - 1s 14ms/step - loss: 0.1402 - accuracy: 0.6934 - mean_squared_error: 0.1402 - val_loss: 0.1531 - val_accuracy: 0.6934 - val_mean_squared_error: 0.1531\n",
            "Epoch 29/100\n",
            "44/44 [==============================] - 1s 14ms/step - loss: 0.1398 - accuracy: 0.6934 - mean_squared_error: 0.1398 - val_loss: 0.1527 - val_accuracy: 0.6934 - val_mean_squared_error: 0.1527\n",
            "Epoch 30/100\n",
            "44/44 [==============================] - 1s 14ms/step - loss: 0.1393 - accuracy: 0.6934 - mean_squared_error: 0.1393 - val_loss: 0.1523 - val_accuracy: 0.6934 - val_mean_squared_error: 0.1523\n",
            "Epoch 31/100\n",
            "44/44 [==============================] - 1s 14ms/step - loss: 0.1389 - accuracy: 0.6934 - mean_squared_error: 0.1389 - val_loss: 0.1519 - val_accuracy: 0.6934 - val_mean_squared_error: 0.1519\n",
            "Epoch 32/100\n",
            "44/44 [==============================] - 1s 14ms/step - loss: 0.1386 - accuracy: 0.6934 - mean_squared_error: 0.1386 - val_loss: 0.1516 - val_accuracy: 0.6934 - val_mean_squared_error: 0.1516\n",
            "Epoch 33/100\n",
            "44/44 [==============================] - 1s 14ms/step - loss: 0.1383 - accuracy: 0.6934 - mean_squared_error: 0.1383 - val_loss: 0.1513 - val_accuracy: 0.6934 - val_mean_squared_error: 0.1513\n",
            "Epoch 34/100\n",
            "44/44 [==============================] - 1s 14ms/step - loss: 0.1380 - accuracy: 0.6934 - mean_squared_error: 0.1380 - val_loss: 0.1511 - val_accuracy: 0.6934 - val_mean_squared_error: 0.1511\n",
            "Epoch 35/100\n",
            "44/44 [==============================] - 1s 14ms/step - loss: 0.1378 - accuracy: 0.6934 - mean_squared_error: 0.1378 - val_loss: 0.1508 - val_accuracy: 0.6934 - val_mean_squared_error: 0.1508\n",
            "Epoch 36/100\n",
            "44/44 [==============================] - 1s 14ms/step - loss: 0.1376 - accuracy: 0.6934 - mean_squared_error: 0.1376 - val_loss: 0.1506 - val_accuracy: 0.6934 - val_mean_squared_error: 0.1506\n",
            "Epoch 37/100\n",
            "44/44 [==============================] - 1s 14ms/step - loss: 0.1374 - accuracy: 0.6934 - mean_squared_error: 0.1374 - val_loss: 0.1504 - val_accuracy: 0.6934 - val_mean_squared_error: 0.1504\n",
            "Epoch 38/100\n",
            "44/44 [==============================] - 1s 14ms/step - loss: 0.1372 - accuracy: 0.6934 - mean_squared_error: 0.1372 - val_loss: 0.1503 - val_accuracy: 0.6934 - val_mean_squared_error: 0.1503\n",
            "Epoch 39/100\n",
            "44/44 [==============================] - 1s 14ms/step - loss: 0.1370 - accuracy: 0.6934 - mean_squared_error: 0.1370 - val_loss: 0.1501 - val_accuracy: 0.6934 - val_mean_squared_error: 0.1501\n",
            "Epoch 40/100\n",
            "44/44 [==============================] - 1s 13ms/step - loss: 0.1369 - accuracy: 0.6934 - mean_squared_error: 0.1369 - val_loss: 0.1500 - val_accuracy: 0.6934 - val_mean_squared_error: 0.1500\n",
            "Epoch 41/100\n",
            "44/44 [==============================] - 1s 14ms/step - loss: 0.1367 - accuracy: 0.6934 - mean_squared_error: 0.1367 - val_loss: 0.1499 - val_accuracy: 0.6934 - val_mean_squared_error: 0.1499\n",
            "Epoch 42/100\n",
            "44/44 [==============================] - 1s 14ms/step - loss: 0.1366 - accuracy: 0.6934 - mean_squared_error: 0.1366 - val_loss: 0.1498 - val_accuracy: 0.6934 - val_mean_squared_error: 0.1498\n",
            "Epoch 43/100\n",
            "44/44 [==============================] - 1s 14ms/step - loss: 0.1365 - accuracy: 0.6934 - mean_squared_error: 0.1365 - val_loss: 0.1497 - val_accuracy: 0.6934 - val_mean_squared_error: 0.1497\n",
            "Epoch 44/100\n",
            "44/44 [==============================] - 1s 14ms/step - loss: 0.1364 - accuracy: 0.6934 - mean_squared_error: 0.1364 - val_loss: 0.1496 - val_accuracy: 0.6934 - val_mean_squared_error: 0.1496\n",
            "Epoch 45/100\n",
            "44/44 [==============================] - 1s 14ms/step - loss: 0.1363 - accuracy: 0.6934 - mean_squared_error: 0.1363 - val_loss: 0.1495 - val_accuracy: 0.6934 - val_mean_squared_error: 0.1495\n",
            "Epoch 46/100\n",
            "44/44 [==============================] - 1s 15ms/step - loss: 0.1363 - accuracy: 0.6934 - mean_squared_error: 0.1363 - val_loss: 0.1494 - val_accuracy: 0.6934 - val_mean_squared_error: 0.1494\n",
            "Epoch 47/100\n",
            "44/44 [==============================] - 1s 14ms/step - loss: 0.1362 - accuracy: 0.6934 - mean_squared_error: 0.1362 - val_loss: 0.1493 - val_accuracy: 0.6934 - val_mean_squared_error: 0.1493\n",
            "Epoch 48/100\n",
            "44/44 [==============================] - 1s 14ms/step - loss: 0.1361 - accuracy: 0.6934 - mean_squared_error: 0.1361 - val_loss: 0.1493 - val_accuracy: 0.6934 - val_mean_squared_error: 0.1493\n",
            "Epoch 49/100\n",
            "44/44 [==============================] - 1s 14ms/step - loss: 0.1361 - accuracy: 0.6934 - mean_squared_error: 0.1361 - val_loss: 0.1492 - val_accuracy: 0.6934 - val_mean_squared_error: 0.1492\n",
            "Epoch 50/100\n",
            "44/44 [==============================] - 1s 14ms/step - loss: 0.1360 - accuracy: 0.6934 - mean_squared_error: 0.1360 - val_loss: 0.1492 - val_accuracy: 0.6934 - val_mean_squared_error: 0.1492\n",
            "Epoch 51/100\n",
            "44/44 [==============================] - 1s 14ms/step - loss: 0.1360 - accuracy: 0.6934 - mean_squared_error: 0.1360 - val_loss: 0.1491 - val_accuracy: 0.6934 - val_mean_squared_error: 0.1491\n",
            "Epoch 52/100\n",
            "44/44 [==============================] - 1s 14ms/step - loss: 0.1359 - accuracy: 0.6934 - mean_squared_error: 0.1359 - val_loss: 0.1491 - val_accuracy: 0.6934 - val_mean_squared_error: 0.1491\n",
            "Epoch 53/100\n",
            "44/44 [==============================] - 1s 14ms/step - loss: 0.1359 - accuracy: 0.6934 - mean_squared_error: 0.1359 - val_loss: 0.1491 - val_accuracy: 0.6934 - val_mean_squared_error: 0.1491\n",
            "Epoch 54/100\n",
            "44/44 [==============================] - 1s 14ms/step - loss: 0.1359 - accuracy: 0.6934 - mean_squared_error: 0.1359 - val_loss: 0.1490 - val_accuracy: 0.6934 - val_mean_squared_error: 0.1490\n",
            "Epoch 55/100\n",
            "44/44 [==============================] - 1s 14ms/step - loss: 0.1358 - accuracy: 0.6934 - mean_squared_error: 0.1358 - val_loss: 0.1490 - val_accuracy: 0.6934 - val_mean_squared_error: 0.1490\n",
            "Epoch 56/100\n",
            "44/44 [==============================] - 1s 14ms/step - loss: 0.1358 - accuracy: 0.6934 - mean_squared_error: 0.1358 - val_loss: 0.1490 - val_accuracy: 0.6934 - val_mean_squared_error: 0.1490\n",
            "Epoch 57/100\n",
            "44/44 [==============================] - 1s 14ms/step - loss: 0.1358 - accuracy: 0.6934 - mean_squared_error: 0.1358 - val_loss: 0.1489 - val_accuracy: 0.6934 - val_mean_squared_error: 0.1489\n",
            "Epoch 58/100\n",
            "44/44 [==============================] - 1s 14ms/step - loss: 0.1357 - accuracy: 0.6934 - mean_squared_error: 0.1357 - val_loss: 0.1489 - val_accuracy: 0.6934 - val_mean_squared_error: 0.1489\n",
            "Epoch 59/100\n",
            "44/44 [==============================] - 1s 14ms/step - loss: 0.1357 - accuracy: 0.6934 - mean_squared_error: 0.1357 - val_loss: 0.1489 - val_accuracy: 0.6934 - val_mean_squared_error: 0.1489\n",
            "Epoch 60/100\n",
            "44/44 [==============================] - 1s 14ms/step - loss: 0.1357 - accuracy: 0.6934 - mean_squared_error: 0.1357 - val_loss: 0.1489 - val_accuracy: 0.6934 - val_mean_squared_error: 0.1489\n",
            "Epoch 61/100\n",
            "44/44 [==============================] - 1s 14ms/step - loss: 0.1357 - accuracy: 0.6934 - mean_squared_error: 0.1357 - val_loss: 0.1489 - val_accuracy: 0.6934 - val_mean_squared_error: 0.1489\n",
            "Epoch 62/100\n",
            "44/44 [==============================] - 1s 15ms/step - loss: 0.1357 - accuracy: 0.6934 - mean_squared_error: 0.1357 - val_loss: 0.1489 - val_accuracy: 0.6934 - val_mean_squared_error: 0.1489\n",
            "Epoch 63/100\n",
            "44/44 [==============================] - 1s 14ms/step - loss: 0.1357 - accuracy: 0.6934 - mean_squared_error: 0.1357 - val_loss: 0.1488 - val_accuracy: 0.6934 - val_mean_squared_error: 0.1488\n",
            "Epoch 64/100\n",
            "44/44 [==============================] - 1s 14ms/step - loss: 0.1356 - accuracy: 0.6934 - mean_squared_error: 0.1356 - val_loss: 0.1488 - val_accuracy: 0.6934 - val_mean_squared_error: 0.1488\n",
            "Epoch 65/100\n",
            "44/44 [==============================] - 1s 15ms/step - loss: 0.1356 - accuracy: 0.6934 - mean_squared_error: 0.1356 - val_loss: 0.1488 - val_accuracy: 0.6934 - val_mean_squared_error: 0.1488\n",
            "Epoch 66/100\n",
            "44/44 [==============================] - 1s 14ms/step - loss: 0.1356 - accuracy: 0.6934 - mean_squared_error: 0.1356 - val_loss: 0.1488 - val_accuracy: 0.6934 - val_mean_squared_error: 0.1488\n",
            "Epoch 67/100\n",
            "44/44 [==============================] - 1s 14ms/step - loss: 0.1356 - accuracy: 0.6934 - mean_squared_error: 0.1356 - val_loss: 0.1488 - val_accuracy: 0.6934 - val_mean_squared_error: 0.1488\n",
            "Epoch 68/100\n",
            "44/44 [==============================] - 1s 14ms/step - loss: 0.1356 - accuracy: 0.6934 - mean_squared_error: 0.1356 - val_loss: 0.1488 - val_accuracy: 0.6934 - val_mean_squared_error: 0.1488\n",
            "Epoch 69/100\n",
            "44/44 [==============================] - 1s 14ms/step - loss: 0.1356 - accuracy: 0.6934 - mean_squared_error: 0.1356 - val_loss: 0.1488 - val_accuracy: 0.6934 - val_mean_squared_error: 0.1488\n",
            "Epoch 70/100\n",
            "44/44 [==============================] - 1s 14ms/step - loss: 0.1356 - accuracy: 0.6934 - mean_squared_error: 0.1356 - val_loss: 0.1488 - val_accuracy: 0.6934 - val_mean_squared_error: 0.1488\n",
            "Epoch 71/100\n",
            "44/44 [==============================] - 1s 14ms/step - loss: 0.1356 - accuracy: 0.6934 - mean_squared_error: 0.1356 - val_loss: 0.1488 - val_accuracy: 0.6934 - val_mean_squared_error: 0.1488\n",
            "Epoch 72/100\n",
            "44/44 [==============================] - 1s 14ms/step - loss: 0.1356 - accuracy: 0.6934 - mean_squared_error: 0.1356 - val_loss: 0.1488 - val_accuracy: 0.6934 - val_mean_squared_error: 0.1488\n",
            "Epoch 73/100\n",
            "44/44 [==============================] - 1s 14ms/step - loss: 0.1356 - accuracy: 0.6934 - mean_squared_error: 0.1356 - val_loss: 0.1488 - val_accuracy: 0.6934 - val_mean_squared_error: 0.1488\n",
            "Epoch 74/100\n",
            "44/44 [==============================] - 1s 14ms/step - loss: 0.1356 - accuracy: 0.6934 - mean_squared_error: 0.1356 - val_loss: 0.1488 - val_accuracy: 0.6934 - val_mean_squared_error: 0.1488\n",
            "Epoch 75/100\n",
            "44/44 [==============================] - 1s 14ms/step - loss: 0.1356 - accuracy: 0.6934 - mean_squared_error: 0.1356 - val_loss: 0.1488 - val_accuracy: 0.6934 - val_mean_squared_error: 0.1488\n",
            "Epoch 76/100\n",
            "44/44 [==============================] - 1s 14ms/step - loss: 0.1356 - accuracy: 0.6934 - mean_squared_error: 0.1356 - val_loss: 0.1488 - val_accuracy: 0.6934 - val_mean_squared_error: 0.1488\n",
            "Epoch 77/100\n",
            "44/44 [==============================] - 1s 14ms/step - loss: 0.1355 - accuracy: 0.6934 - mean_squared_error: 0.1355 - val_loss: 0.1487 - val_accuracy: 0.6934 - val_mean_squared_error: 0.1487\n",
            "Epoch 78/100\n",
            "44/44 [==============================] - 1s 15ms/step - loss: 0.1355 - accuracy: 0.6934 - mean_squared_error: 0.1355 - val_loss: 0.1487 - val_accuracy: 0.6934 - val_mean_squared_error: 0.1487\n",
            "Epoch 79/100\n",
            "44/44 [==============================] - 1s 14ms/step - loss: 0.1355 - accuracy: 0.6934 - mean_squared_error: 0.1355 - val_loss: 0.1487 - val_accuracy: 0.6934 - val_mean_squared_error: 0.1487\n",
            "Epoch 80/100\n",
            "44/44 [==============================] - 1s 14ms/step - loss: 0.1355 - accuracy: 0.6934 - mean_squared_error: 0.1355 - val_loss: 0.1487 - val_accuracy: 0.6934 - val_mean_squared_error: 0.1487\n",
            "Epoch 81/100\n",
            "44/44 [==============================] - 1s 15ms/step - loss: 0.1355 - accuracy: 0.6934 - mean_squared_error: 0.1355 - val_loss: 0.1487 - val_accuracy: 0.6934 - val_mean_squared_error: 0.1487\n",
            "Epoch 82/100\n",
            "44/44 [==============================] - 1s 14ms/step - loss: 0.1355 - accuracy: 0.6934 - mean_squared_error: 0.1355 - val_loss: 0.1487 - val_accuracy: 0.6934 - val_mean_squared_error: 0.1487\n",
            "Epoch 83/100\n",
            "44/44 [==============================] - 1s 14ms/step - loss: 0.1355 - accuracy: 0.6934 - mean_squared_error: 0.1355 - val_loss: 0.1487 - val_accuracy: 0.6934 - val_mean_squared_error: 0.1487\n",
            "Epoch 84/100\n",
            "44/44 [==============================] - 1s 14ms/step - loss: 0.1355 - accuracy: 0.6934 - mean_squared_error: 0.1355 - val_loss: 0.1487 - val_accuracy: 0.6934 - val_mean_squared_error: 0.1487\n",
            "Epoch 85/100\n",
            "44/44 [==============================] - 1s 14ms/step - loss: 0.1355 - accuracy: 0.6934 - mean_squared_error: 0.1355 - val_loss: 0.1487 - val_accuracy: 0.6934 - val_mean_squared_error: 0.1487\n",
            "Epoch 86/100\n",
            "44/44 [==============================] - 1s 14ms/step - loss: 0.1355 - accuracy: 0.6934 - mean_squared_error: 0.1355 - val_loss: 0.1487 - val_accuracy: 0.6934 - val_mean_squared_error: 0.1487\n",
            "Epoch 87/100\n",
            "44/44 [==============================] - 1s 14ms/step - loss: 0.1355 - accuracy: 0.6934 - mean_squared_error: 0.1355 - val_loss: 0.1487 - val_accuracy: 0.6934 - val_mean_squared_error: 0.1487\n",
            "Epoch 88/100\n",
            "44/44 [==============================] - 1s 14ms/step - loss: 0.1355 - accuracy: 0.6934 - mean_squared_error: 0.1355 - val_loss: 0.1487 - val_accuracy: 0.6934 - val_mean_squared_error: 0.1487\n",
            "Epoch 89/100\n",
            "44/44 [==============================] - 1s 14ms/step - loss: 0.1355 - accuracy: 0.6934 - mean_squared_error: 0.1355 - val_loss: 0.1487 - val_accuracy: 0.6934 - val_mean_squared_error: 0.1487\n",
            "Epoch 90/100\n",
            "44/44 [==============================] - 1s 14ms/step - loss: 0.1355 - accuracy: 0.6934 - mean_squared_error: 0.1355 - val_loss: 0.1487 - val_accuracy: 0.6934 - val_mean_squared_error: 0.1487\n",
            "Epoch 91/100\n",
            "44/44 [==============================] - 1s 15ms/step - loss: 0.1355 - accuracy: 0.6934 - mean_squared_error: 0.1355 - val_loss: 0.1487 - val_accuracy: 0.6934 - val_mean_squared_error: 0.1487\n",
            "Epoch 92/100\n",
            "44/44 [==============================] - 1s 14ms/step - loss: 0.1355 - accuracy: 0.6934 - mean_squared_error: 0.1355 - val_loss: 0.1487 - val_accuracy: 0.6934 - val_mean_squared_error: 0.1487\n",
            "Epoch 93/100\n",
            "44/44 [==============================] - 1s 14ms/step - loss: 0.1355 - accuracy: 0.6934 - mean_squared_error: 0.1355 - val_loss: 0.1487 - val_accuracy: 0.6934 - val_mean_squared_error: 0.1487\n",
            "Epoch 94/100\n",
            "44/44 [==============================] - 1s 14ms/step - loss: 0.1355 - accuracy: 0.6934 - mean_squared_error: 0.1355 - val_loss: 0.1487 - val_accuracy: 0.6934 - val_mean_squared_error: 0.1487\n",
            "Epoch 95/100\n",
            "44/44 [==============================] - 1s 15ms/step - loss: 0.1355 - accuracy: 0.6934 - mean_squared_error: 0.1355 - val_loss: 0.1487 - val_accuracy: 0.6934 - val_mean_squared_error: 0.1487\n",
            "Epoch 96/100\n",
            "44/44 [==============================] - 1s 14ms/step - loss: 0.1355 - accuracy: 0.6934 - mean_squared_error: 0.1355 - val_loss: 0.1487 - val_accuracy: 0.6934 - val_mean_squared_error: 0.1487\n",
            "Epoch 97/100\n",
            "44/44 [==============================] - 1s 15ms/step - loss: 0.1355 - accuracy: 0.6934 - mean_squared_error: 0.1355 - val_loss: 0.1487 - val_accuracy: 0.6934 - val_mean_squared_error: 0.1487\n",
            "Epoch 98/100\n",
            "44/44 [==============================] - 1s 14ms/step - loss: 0.1355 - accuracy: 0.6934 - mean_squared_error: 0.1355 - val_loss: 0.1487 - val_accuracy: 0.6934 - val_mean_squared_error: 0.1487\n",
            "Epoch 99/100\n",
            "44/44 [==============================] - 1s 14ms/step - loss: 0.1355 - accuracy: 0.6934 - mean_squared_error: 0.1355 - val_loss: 0.1487 - val_accuracy: 0.6934 - val_mean_squared_error: 0.1487\n",
            "Epoch 100/100\n",
            "44/44 [==============================] - 1s 14ms/step - loss: 0.1355 - accuracy: 0.6934 - mean_squared_error: 0.1355 - val_loss: 0.1487 - val_accuracy: 0.6934 - val_mean_squared_error: 0.1487\n"
          ]
        }
      ]
    },
    {
      "cell_type": "code",
      "metadata": {
        "colab": {
          "base_uri": "https://localhost:8080/"
        },
        "id": "9tocgyNcu0Rz",
        "outputId": "fe04d322-2027-4489-d8d8-f919008e0847"
      },
      "source": [
        "from sklearn.metrics import mean_squared_error\n",
        "loss, accuracy,mean_squared_error = model_LSTM2.evaluate(X_test, y_test, verbose=0)\n",
        "print('Accuracy: %f' % accuracy)\n",
        "print('Error Rate: %f' % (1 - accuracy))\n",
        "print('Mean Squared Error: %f' % mean_squared_error)"
      ],
      "execution_count": null,
      "outputs": [
        {
          "output_type": "stream",
          "name": "stdout",
          "text": [
            "Accuracy: 0.693400\n",
            "Error Rate: 0.306600\n",
            "Mean Squared Error: 0.148720\n"
          ]
        }
      ]
    },
    {
      "cell_type": "code",
      "metadata": {
        "colab": {
          "base_uri": "https://localhost:8080/",
          "height": 286
        },
        "id": "LP0X3RTnpQXY",
        "outputId": "c457d212-0cc6-4cef-91aa-c7b548c31aa1"
      },
      "source": [
        "pred_LSTM=model_LSTM2.predict(X_test)\n",
        "#LSTM\n",
        "plt.plot(history_LSTM2.history[\"loss\"], label=\"Training Loss\")\n",
        "plt.plot(history_LSTM2.history[\"val_loss\"], label=\"Validation Loss\")\n",
        "plt.legend()"
      ],
      "execution_count": null,
      "outputs": [
        {
          "output_type": "execute_result",
          "data": {
            "text/plain": [
              "<matplotlib.legend.Legend at 0x7f1a9ebaf5d0>"
            ]
          },
          "metadata": {},
          "execution_count": 31
        },
        {
          "output_type": "display_data",
          "data": {
            "image/png": "[encoded data removed]",
            "text/plain": [
              "<Figure size 432x288 with 1 Axes>"
            ]
          },
          "metadata": {
            "needs_background": "light"
          }
        }
      ]
    },
    {
      "cell_type": "markdown",
      "metadata": {
        "id": "h0V7exwJgiIV"
      },
      "source": [
        "# **Designing of GRU model using factors**"
      ]
    },
    {
      "cell_type": "code",
      "metadata": {
        "colab": {
          "base_uri": "https://localhost:8080/"
        },
        "id": "uWZh7cjtggs7",
        "outputId": "c48d16de-6bb8-42ff-cf30-d5b02535998c"
      },
      "source": [
        "# GRU\n",
        "encoder_inputs = tf.keras.layers.Input(shape=(n_past, n_features))\n",
        "encoder_l1 = tf.keras.layers.GRU(2,return_sequences = True, return_state=True)\n",
        "encoder_outputs1 = encoder_l1(encoder_inputs)\n",
        "encoder_states1 = encoder_outputs1[1:]\n",
        "\n",
        "encoder_l2 = tf.keras.layers.GRU(2, return_state=True)\n",
        "encoder_outputs2 = encoder_l2(encoder_outputs1[0])\n",
        "encoder_states2 = encoder_outputs2[1:]\n",
        "\n",
        "decoder_inputs = tf.keras.layers.RepeatVector(n_future)(encoder_outputs2[0])\n",
        "decoder_l1 = tf.keras.layers.GRU(2, return_sequences=True)(decoder_inputs,initial_state = encoder_states1)\n",
        "decoder_l2 = tf.keras.layers.GRU(2, return_sequences=True)(decoder_l1,initial_state = encoder_states2)\n",
        "decoder_outputs2 = tf.keras.layers.TimeDistributed(tf.keras.layers.Dense(n_features))(decoder_l2)\n",
        "\n",
        "model_GRU2 = tf.keras.models.Model(encoder_inputs,decoder_outputs2)\n",
        "#\n",
        "model_GRU2.summary()"
      ],
      "execution_count": null,
      "outputs": [
        {
          "output_type": "stream",
          "name": "stdout",
          "text": [
            "Model: \"model_7\"\n",
            "__________________________________________________________________________________________________\n",
            "Layer (type)                    Output Shape         Param #     Connected to                     \n",
            "==================================================================================================\n",
            "input_8 (InputLayer)            [(None, 10, 7)]      0                                            \n",
            "__________________________________________________________________________________________________\n",
            "gru (GRU)                       [(None, 10, 2), (Non 66          input_8[0][0]                    \n",
            "__________________________________________________________________________________________________\n",
            "gru_1 (GRU)                     [(None, 2), (None, 2 36          gru[0][0]                        \n",
            "__________________________________________________________________________________________________\n",
            "repeat_vector_7 (RepeatVector)  (None, 20, 2)        0           gru_1[0][0]                      \n",
            "__________________________________________________________________________________________________\n",
            "gru_2 (GRU)                     (None, 20, 2)        36          repeat_vector_7[0][0]            \n",
            "                                                                 gru[0][1]                        \n",
            "__________________________________________________________________________________________________\n",
            "gru_3 (GRU)                     (None, 20, 2)        36          gru_2[0][0]                      \n",
            "                                                                 gru_1[0][1]                      \n",
            "__________________________________________________________________________________________________\n",
            "time_distributed_7 (TimeDistrib (None, 20, 7)        21          gru_3[0][0]                      \n",
            "==================================================================================================\n",
            "Total params: 195\n",
            "Trainable params: 195\n",
            "Non-trainable params: 0\n",
            "__________________________________________________________________________________________________\n"
          ]
        }
      ]
    },
    {
      "cell_type": "code",
      "metadata": {
        "id": "MR8n0_tWgtrp"
      },
      "source": [
        "#loss test\n",
        "reduce_lr = tf.keras.callbacks.LearningRateScheduler(lambda x: 1e-3 * 0.90 ** x)\n",
        "model_GRU2.compile(optimizer=tf.keras.optimizers.Adam(learning_rate=.1e-3), loss=tf.keras.losses.MeanSquaredError(),metrics=['accuracy', 'mean_squared_error'])\n",
        "#model_GRU.compile(optimizer=tf.keras.optimizers.Adam(learning_rate=.1e-3), loss=tf.keras.losses.binary_crossentropy,metrics=['accuracy',mean_squared_error])\n",
        "#model_GRU.compile(optimizer=tf.keras.optimizers.Adam(learning_rate=.1e-3), loss=tf.keras.losses.categorical_crossentropy,metrics=['accuracy',mean_squared_error])\n",
        "#model_GRU.compile(optimizer=tf.keras.optimizers.Adam(learning_rate=.1e-3), loss=tf.keras.losses.MeanSquaredError(),metrics=['accuracy',mean_squared_error])\n",
        "\n",
        "#optimizer test\n",
        "#model_GRU.compile(optimizer=tf.keras.optimizers.SGD(learning_rate=.1e-3), loss=tf.keras.losses.Huber(),metrics=['accuracy', 'mean_squared_error'])\n",
        "#model_GRU.compile(optimizer=tf.keras.optimizers.RMSprop(learning_rate=.1e-3), loss=tf.keras.losses.Huber(),metrics=['accuracy', 'mean_squared_error'])\n",
        "#model_GRU.compilee(optimizer=tf.keras.optimizers.Adadelta(learning_rate=.1e-3), loss=tf.keras.losses.Huber(),metrics=['accuracy',mean_squared_error])"
      ],
      "execution_count": null,
      "outputs": []
    },
    {
      "cell_type": "markdown",
      "metadata": {
        "id": "TmptVWJCg_oA"
      },
      "source": [
        "# **Training the Model of LSTM using factors and evaluation**"
      ]
    },
    {
      "cell_type": "code",
      "metadata": {
        "colab": {
          "base_uri": "https://localhost:8080/"
        },
        "id": "nGJoJu9yg5Ck",
        "outputId": "a3a229bc-0595-4714-a02f-c6b3a0e27d67"
      },
      "source": [
        "model_GRU2.compile(optimizer=tf.keras.optimizers.Adam(), loss=tf.keras.losses.MeanSquaredError(),metrics=['accuracy','mean_squared_error'])\n",
        "history_GRU2 = model_GRU2.fit(X_train,y_train,epochs=100,validation_data=(X_test,y_test),batch_size=32,verbose=1,callbacks=[reduce_lr])"
      ],
      "execution_count": null,
      "outputs": [
        {
          "output_type": "stream",
          "name": "stdout",
          "text": [
            "Epoch 1/100\n",
            "34/34 [==============================] - 9s 68ms/step - loss: 0.6271 - accuracy: 0.4058 - mean_squared_error: 0.6271 - val_loss: 0.5597 - val_accuracy: 0.5908 - val_mean_squared_error: 0.5597\n",
            "Epoch 2/100\n",
            "34/34 [==============================] - 1s 30ms/step - loss: 0.4989 - accuracy: 0.6012 - mean_squared_error: 0.4989 - val_loss: 0.4417 - val_accuracy: 0.6248 - val_mean_squared_error: 0.4417\n",
            "Epoch 3/100\n",
            "34/34 [==============================] - 1s 31ms/step - loss: 0.3886 - accuracy: 0.6250 - mean_squared_error: 0.3886 - val_loss: 0.3416 - val_accuracy: 0.6256 - val_mean_squared_error: 0.3416\n",
            "Epoch 4/100\n",
            "34/34 [==============================] - 1s 31ms/step - loss: 0.3030 - accuracy: 0.6257 - mean_squared_error: 0.3030 - val_loss: 0.2725 - val_accuracy: 0.6264 - val_mean_squared_error: 0.2725\n",
            "Epoch 5/100\n",
            "34/34 [==============================] - 1s 31ms/step - loss: 0.2467 - accuracy: 0.6357 - mean_squared_error: 0.2467 - val_loss: 0.2303 - val_accuracy: 0.6590 - val_mean_squared_error: 0.2303\n",
            "Epoch 6/100\n",
            "34/34 [==============================] - 1s 31ms/step - loss: 0.2123 - accuracy: 0.6589 - mean_squared_error: 0.2123 - val_loss: 0.2049 - val_accuracy: 0.6590 - val_mean_squared_error: 0.2049\n",
            "Epoch 7/100\n",
            "34/34 [==============================] - 1s 30ms/step - loss: 0.1909 - accuracy: 0.6589 - mean_squared_error: 0.1909 - val_loss: 0.1892 - val_accuracy: 0.6592 - val_mean_squared_error: 0.1892\n",
            "Epoch 8/100\n",
            "34/34 [==============================] - 1s 30ms/step - loss: 0.1770 - accuracy: 0.6590 - mean_squared_error: 0.1770 - val_loss: 0.1789 - val_accuracy: 0.6592 - val_mean_squared_error: 0.1789\n",
            "Epoch 9/100\n",
            "34/34 [==============================] - 1s 30ms/step - loss: 0.1676 - accuracy: 0.6591 - mean_squared_error: 0.1676 - val_loss: 0.1718 - val_accuracy: 0.6592 - val_mean_squared_error: 0.1718\n",
            "Epoch 10/100\n",
            "34/34 [==============================] - 1s 30ms/step - loss: 0.1608 - accuracy: 0.6594 - mean_squared_error: 0.1608 - val_loss: 0.1667 - val_accuracy: 0.6592 - val_mean_squared_error: 0.1667\n",
            "Epoch 11/100\n",
            "34/34 [==============================] - 1s 30ms/step - loss: 0.1558 - accuracy: 0.6597 - mean_squared_error: 0.1558 - val_loss: 0.1629 - val_accuracy: 0.6596 - val_mean_squared_error: 0.1629\n",
            "Epoch 12/100\n",
            "34/34 [==============================] - 1s 30ms/step - loss: 0.1520 - accuracy: 0.6601 - mean_squared_error: 0.1520 - val_loss: 0.1600 - val_accuracy: 0.6600 - val_mean_squared_error: 0.1600\n",
            "Epoch 13/100\n",
            "34/34 [==============================] - 1s 29ms/step - loss: 0.1491 - accuracy: 0.6603 - mean_squared_error: 0.1491 - val_loss: 0.1578 - val_accuracy: 0.6602 - val_mean_squared_error: 0.1578\n",
            "Epoch 14/100\n",
            "34/34 [==============================] - 1s 30ms/step - loss: 0.1468 - accuracy: 0.6610 - mean_squared_error: 0.1468 - val_loss: 0.1560 - val_accuracy: 0.6604 - val_mean_squared_error: 0.1560\n",
            "Epoch 15/100\n",
            "34/34 [==============================] - 1s 30ms/step - loss: 0.1449 - accuracy: 0.6621 - mean_squared_error: 0.1449 - val_loss: 0.1546 - val_accuracy: 0.6620 - val_mean_squared_error: 0.1546\n",
            "Epoch 16/100\n",
            "34/34 [==============================] - 1s 30ms/step - loss: 0.1434 - accuracy: 0.6647 - mean_squared_error: 0.1434 - val_loss: 0.1534 - val_accuracy: 0.6656 - val_mean_squared_error: 0.1534\n",
            "Epoch 17/100\n",
            "34/34 [==============================] - 1s 29ms/step - loss: 0.1421 - accuracy: 0.6685 - mean_squared_error: 0.1421 - val_loss: 0.1524 - val_accuracy: 0.6706 - val_mean_squared_error: 0.1524\n",
            "Epoch 18/100\n",
            "34/34 [==============================] - 1s 29ms/step - loss: 0.1411 - accuracy: 0.6738 - mean_squared_error: 0.1411 - val_loss: 0.1516 - val_accuracy: 0.6768 - val_mean_squared_error: 0.1516\n",
            "Epoch 19/100\n",
            "34/34 [==============================] - 1s 31ms/step - loss: 0.1402 - accuracy: 0.6813 - mean_squared_error: 0.1402 - val_loss: 0.1509 - val_accuracy: 0.6856 - val_mean_squared_error: 0.1509\n",
            "Epoch 20/100\n",
            "34/34 [==============================] - 1s 30ms/step - loss: 0.1394 - accuracy: 0.6903 - mean_squared_error: 0.1394 - val_loss: 0.1504 - val_accuracy: 0.6930 - val_mean_squared_error: 0.1504\n",
            "Epoch 21/100\n",
            "34/34 [==============================] - 1s 30ms/step - loss: 0.1388 - accuracy: 0.6931 - mean_squared_error: 0.1388 - val_loss: 0.1499 - val_accuracy: 0.6934 - val_mean_squared_error: 0.1499\n",
            "Epoch 22/100\n",
            "34/34 [==============================] - 1s 30ms/step - loss: 0.1382 - accuracy: 0.6934 - mean_squared_error: 0.1382 - val_loss: 0.1494 - val_accuracy: 0.6934 - val_mean_squared_error: 0.1494\n",
            "Epoch 23/100\n",
            "34/34 [==============================] - 1s 30ms/step - loss: 0.1378 - accuracy: 0.6934 - mean_squared_error: 0.1378 - val_loss: 0.1491 - val_accuracy: 0.6934 - val_mean_squared_error: 0.1491\n",
            "Epoch 24/100\n",
            "34/34 [==============================] - 1s 31ms/step - loss: 0.1373 - accuracy: 0.6934 - mean_squared_error: 0.1373 - val_loss: 0.1487 - val_accuracy: 0.6934 - val_mean_squared_error: 0.1487\n",
            "Epoch 25/100\n",
            "34/34 [==============================] - 1s 31ms/step - loss: 0.1370 - accuracy: 0.6934 - mean_squared_error: 0.1370 - val_loss: 0.1484 - val_accuracy: 0.6934 - val_mean_squared_error: 0.1484\n",
            "Epoch 26/100\n",
            "34/34 [==============================] - 1s 31ms/step - loss: 0.1367 - accuracy: 0.6934 - mean_squared_error: 0.1367 - val_loss: 0.1482 - val_accuracy: 0.6934 - val_mean_squared_error: 0.1482\n",
            "Epoch 27/100\n",
            "34/34 [==============================] - 1s 31ms/step - loss: 0.1364 - accuracy: 0.6934 - mean_squared_error: 0.1364 - val_loss: 0.1480 - val_accuracy: 0.6934 - val_mean_squared_error: 0.1480\n",
            "Epoch 28/100\n",
            "34/34 [==============================] - 1s 30ms/step - loss: 0.1361 - accuracy: 0.6934 - mean_squared_error: 0.1361 - val_loss: 0.1478 - val_accuracy: 0.6934 - val_mean_squared_error: 0.1478\n",
            "Epoch 29/100\n",
            "34/34 [==============================] - 1s 31ms/step - loss: 0.1359 - accuracy: 0.6934 - mean_squared_error: 0.1359 - val_loss: 0.1476 - val_accuracy: 0.6934 - val_mean_squared_error: 0.1476\n",
            "Epoch 30/100\n",
            "34/34 [==============================] - 1s 30ms/step - loss: 0.1357 - accuracy: 0.6934 - mean_squared_error: 0.1357 - val_loss: 0.1474 - val_accuracy: 0.6934 - val_mean_squared_error: 0.1474\n",
            "Epoch 31/100\n",
            "34/34 [==============================] - 1s 30ms/step - loss: 0.1355 - accuracy: 0.6934 - mean_squared_error: 0.1355 - val_loss: 0.1473 - val_accuracy: 0.6934 - val_mean_squared_error: 0.1473\n",
            "Epoch 32/100\n",
            "34/34 [==============================] - 1s 31ms/step - loss: 0.1353 - accuracy: 0.6934 - mean_squared_error: 0.1353 - val_loss: 0.1472 - val_accuracy: 0.6934 - val_mean_squared_error: 0.1472\n",
            "Epoch 33/100\n",
            "34/34 [==============================] - 1s 31ms/step - loss: 0.1352 - accuracy: 0.6934 - mean_squared_error: 0.1352 - val_loss: 0.1471 - val_accuracy: 0.6934 - val_mean_squared_error: 0.1471\n",
            "Epoch 34/100\n",
            "34/34 [==============================] - 1s 30ms/step - loss: 0.1351 - accuracy: 0.6934 - mean_squared_error: 0.1351 - val_loss: 0.1470 - val_accuracy: 0.6934 - val_mean_squared_error: 0.1470\n",
            "Epoch 35/100\n",
            "34/34 [==============================] - 1s 30ms/step - loss: 0.1350 - accuracy: 0.6934 - mean_squared_error: 0.1350 - val_loss: 0.1469 - val_accuracy: 0.6934 - val_mean_squared_error: 0.1469\n",
            "Epoch 36/100\n",
            "34/34 [==============================] - 1s 30ms/step - loss: 0.1349 - accuracy: 0.6934 - mean_squared_error: 0.1349 - val_loss: 0.1468 - val_accuracy: 0.6934 - val_mean_squared_error: 0.1468\n",
            "Epoch 37/100\n",
            "34/34 [==============================] - 1s 31ms/step - loss: 0.1348 - accuracy: 0.6934 - mean_squared_error: 0.1348 - val_loss: 0.1467 - val_accuracy: 0.6934 - val_mean_squared_error: 0.1467\n",
            "Epoch 38/100\n",
            "34/34 [==============================] - 1s 30ms/step - loss: 0.1347 - accuracy: 0.6934 - mean_squared_error: 0.1347 - val_loss: 0.1467 - val_accuracy: 0.6934 - val_mean_squared_error: 0.1467\n",
            "Epoch 39/100\n",
            "34/34 [==============================] - 1s 30ms/step - loss: 0.1346 - accuracy: 0.6934 - mean_squared_error: 0.1346 - val_loss: 0.1466 - val_accuracy: 0.6934 - val_mean_squared_error: 0.1466\n",
            "Epoch 40/100\n",
            "34/34 [==============================] - 1s 31ms/step - loss: 0.1345 - accuracy: 0.6934 - mean_squared_error: 0.1345 - val_loss: 0.1465 - val_accuracy: 0.6934 - val_mean_squared_error: 0.1465\n",
            "Epoch 41/100\n",
            "34/34 [==============================] - 1s 30ms/step - loss: 0.1345 - accuracy: 0.6934 - mean_squared_error: 0.1345 - val_loss: 0.1465 - val_accuracy: 0.6934 - val_mean_squared_error: 0.1465\n",
            "Epoch 42/100\n",
            "34/34 [==============================] - 1s 30ms/step - loss: 0.1344 - accuracy: 0.6934 - mean_squared_error: 0.1344 - val_loss: 0.1464 - val_accuracy: 0.6934 - val_mean_squared_error: 0.1464\n",
            "Epoch 43/100\n",
            "34/34 [==============================] - 1s 31ms/step - loss: 0.1344 - accuracy: 0.6934 - mean_squared_error: 0.1344 - val_loss: 0.1464 - val_accuracy: 0.6934 - val_mean_squared_error: 0.1464\n",
            "Epoch 44/100\n",
            "34/34 [==============================] - 1s 30ms/step - loss: 0.1343 - accuracy: 0.6934 - mean_squared_error: 0.1343 - val_loss: 0.1464 - val_accuracy: 0.6934 - val_mean_squared_error: 0.1464\n",
            "Epoch 45/100\n",
            "34/34 [==============================] - 1s 30ms/step - loss: 0.1343 - accuracy: 0.6934 - mean_squared_error: 0.1343 - val_loss: 0.1463 - val_accuracy: 0.6934 - val_mean_squared_error: 0.1463\n",
            "Epoch 46/100\n",
            "34/34 [==============================] - 1s 31ms/step - loss: 0.1342 - accuracy: 0.6934 - mean_squared_error: 0.1342 - val_loss: 0.1463 - val_accuracy: 0.6934 - val_mean_squared_error: 0.1463\n",
            "Epoch 47/100\n",
            "34/34 [==============================] - 1s 31ms/step - loss: 0.1342 - accuracy: 0.6934 - mean_squared_error: 0.1342 - val_loss: 0.1463 - val_accuracy: 0.6934 - val_mean_squared_error: 0.1463\n",
            "Epoch 48/100\n",
            "34/34 [==============================] - 1s 30ms/step - loss: 0.1342 - accuracy: 0.6934 - mean_squared_error: 0.1342 - val_loss: 0.1462 - val_accuracy: 0.6934 - val_mean_squared_error: 0.1462\n",
            "Epoch 49/100\n",
            "34/34 [==============================] - 1s 30ms/step - loss: 0.1341 - accuracy: 0.6934 - mean_squared_error: 0.1341 - val_loss: 0.1462 - val_accuracy: 0.6934 - val_mean_squared_error: 0.1462\n",
            "Epoch 50/100\n",
            "34/34 [==============================] - 1s 30ms/step - loss: 0.1341 - accuracy: 0.6934 - mean_squared_error: 0.1341 - val_loss: 0.1462 - val_accuracy: 0.6934 - val_mean_squared_error: 0.1462\n",
            "Epoch 51/100\n",
            "34/34 [==============================] - 1s 31ms/step - loss: 0.1341 - accuracy: 0.6934 - mean_squared_error: 0.1341 - val_loss: 0.1462 - val_accuracy: 0.6934 - val_mean_squared_error: 0.1462\n",
            "Epoch 52/100\n",
            "34/34 [==============================] - 1s 30ms/step - loss: 0.1341 - accuracy: 0.6934 - mean_squared_error: 0.1341 - val_loss: 0.1462 - val_accuracy: 0.6934 - val_mean_squared_error: 0.1462\n",
            "Epoch 53/100\n",
            "34/34 [==============================] - 1s 31ms/step - loss: 0.1340 - accuracy: 0.6934 - mean_squared_error: 0.1340 - val_loss: 0.1462 - val_accuracy: 0.6934 - val_mean_squared_error: 0.1462\n",
            "Epoch 54/100\n",
            "34/34 [==============================] - 1s 31ms/step - loss: 0.1340 - accuracy: 0.6934 - mean_squared_error: 0.1340 - val_loss: 0.1461 - val_accuracy: 0.6934 - val_mean_squared_error: 0.1461\n",
            "Epoch 55/100\n",
            "34/34 [==============================] - 1s 30ms/step - loss: 0.1340 - accuracy: 0.6934 - mean_squared_error: 0.1340 - val_loss: 0.1461 - val_accuracy: 0.6934 - val_mean_squared_error: 0.1461\n",
            "Epoch 56/100\n",
            "34/34 [==============================] - 1s 30ms/step - loss: 0.1340 - accuracy: 0.6934 - mean_squared_error: 0.1340 - val_loss: 0.1461 - val_accuracy: 0.6934 - val_mean_squared_error: 0.1461\n",
            "Epoch 57/100\n",
            "34/34 [==============================] - 1s 31ms/step - loss: 0.1340 - accuracy: 0.6934 - mean_squared_error: 0.1340 - val_loss: 0.1461 - val_accuracy: 0.6934 - val_mean_squared_error: 0.1461\n",
            "Epoch 58/100\n",
            "34/34 [==============================] - 1s 31ms/step - loss: 0.1340 - accuracy: 0.6934 - mean_squared_error: 0.1340 - val_loss: 0.1461 - val_accuracy: 0.6934 - val_mean_squared_error: 0.1461\n",
            "Epoch 59/100\n",
            "34/34 [==============================] - 1s 31ms/step - loss: 0.1340 - accuracy: 0.6934 - mean_squared_error: 0.1340 - val_loss: 0.1461 - val_accuracy: 0.6934 - val_mean_squared_error: 0.1461\n",
            "Epoch 60/100\n",
            "34/34 [==============================] - 1s 31ms/step - loss: 0.1339 - accuracy: 0.6934 - mean_squared_error: 0.1339 - val_loss: 0.1461 - val_accuracy: 0.6934 - val_mean_squared_error: 0.1461\n",
            "Epoch 61/100\n",
            "34/34 [==============================] - 1s 30ms/step - loss: 0.1339 - accuracy: 0.6934 - mean_squared_error: 0.1339 - val_loss: 0.1461 - val_accuracy: 0.6934 - val_mean_squared_error: 0.1461\n",
            "Epoch 62/100\n",
            "34/34 [==============================] - 1s 31ms/step - loss: 0.1339 - accuracy: 0.6934 - mean_squared_error: 0.1339 - val_loss: 0.1461 - val_accuracy: 0.6934 - val_mean_squared_error: 0.1461\n",
            "Epoch 63/100\n",
            "34/34 [==============================] - 1s 30ms/step - loss: 0.1339 - accuracy: 0.6934 - mean_squared_error: 0.1339 - val_loss: 0.1461 - val_accuracy: 0.6934 - val_mean_squared_error: 0.1461\n",
            "Epoch 64/100\n",
            "34/34 [==============================] - 1s 31ms/step - loss: 0.1339 - accuracy: 0.6934 - mean_squared_error: 0.1339 - val_loss: 0.1461 - val_accuracy: 0.6934 - val_mean_squared_error: 0.1461\n",
            "Epoch 65/100\n",
            "34/34 [==============================] - 1s 31ms/step - loss: 0.1339 - accuracy: 0.6934 - mean_squared_error: 0.1339 - val_loss: 0.1461 - val_accuracy: 0.6934 - val_mean_squared_error: 0.1461\n",
            "Epoch 66/100\n",
            "34/34 [==============================] - 1s 31ms/step - loss: 0.1339 - accuracy: 0.6934 - mean_squared_error: 0.1339 - val_loss: 0.1460 - val_accuracy: 0.6934 - val_mean_squared_error: 0.1460\n",
            "Epoch 67/100\n",
            "34/34 [==============================] - 1s 31ms/step - loss: 0.1339 - accuracy: 0.6934 - mean_squared_error: 0.1339 - val_loss: 0.1460 - val_accuracy: 0.6934 - val_mean_squared_error: 0.1460\n",
            "Epoch 68/100\n",
            "34/34 [==============================] - 1s 31ms/step - loss: 0.1339 - accuracy: 0.6934 - mean_squared_error: 0.1339 - val_loss: 0.1460 - val_accuracy: 0.6934 - val_mean_squared_error: 0.1460\n",
            "Epoch 69/100\n",
            "34/34 [==============================] - 1s 31ms/step - loss: 0.1339 - accuracy: 0.6934 - mean_squared_error: 0.1339 - val_loss: 0.1460 - val_accuracy: 0.6934 - val_mean_squared_error: 0.1460\n",
            "Epoch 70/100\n",
            "34/34 [==============================] - 1s 31ms/step - loss: 0.1339 - accuracy: 0.6934 - mean_squared_error: 0.1339 - val_loss: 0.1460 - val_accuracy: 0.6934 - val_mean_squared_error: 0.1460\n",
            "Epoch 71/100\n",
            "34/34 [==============================] - 1s 32ms/step - loss: 0.1339 - accuracy: 0.6934 - mean_squared_error: 0.1339 - val_loss: 0.1460 - val_accuracy: 0.6934 - val_mean_squared_error: 0.1460\n",
            "Epoch 72/100\n",
            "34/34 [==============================] - 1s 31ms/step - loss: 0.1339 - accuracy: 0.6934 - mean_squared_error: 0.1339 - val_loss: 0.1460 - val_accuracy: 0.6934 - val_mean_squared_error: 0.1460\n",
            "Epoch 73/100\n",
            "34/34 [==============================] - 1s 31ms/step - loss: 0.1339 - accuracy: 0.6934 - mean_squared_error: 0.1339 - val_loss: 0.1460 - val_accuracy: 0.6934 - val_mean_squared_error: 0.1460\n",
            "Epoch 74/100\n",
            "34/34 [==============================] - 1s 31ms/step - loss: 0.1339 - accuracy: 0.6934 - mean_squared_error: 0.1339 - val_loss: 0.1460 - val_accuracy: 0.6934 - val_mean_squared_error: 0.1460\n",
            "Epoch 75/100\n",
            "34/34 [==============================] - 1s 31ms/step - loss: 0.1339 - accuracy: 0.6934 - mean_squared_error: 0.1339 - val_loss: 0.1460 - val_accuracy: 0.6934 - val_mean_squared_error: 0.1460\n",
            "Epoch 76/100\n",
            "34/34 [==============================] - 1s 31ms/step - loss: 0.1339 - accuracy: 0.6934 - mean_squared_error: 0.1339 - val_loss: 0.1460 - val_accuracy: 0.6934 - val_mean_squared_error: 0.1460\n",
            "Epoch 77/100\n",
            "34/34 [==============================] - 1s 30ms/step - loss: 0.1339 - accuracy: 0.6934 - mean_squared_error: 0.1339 - val_loss: 0.1460 - val_accuracy: 0.6934 - val_mean_squared_error: 0.1460\n",
            "Epoch 78/100\n",
            "34/34 [==============================] - 1s 31ms/step - loss: 0.1339 - accuracy: 0.6934 - mean_squared_error: 0.1339 - val_loss: 0.1460 - val_accuracy: 0.6934 - val_mean_squared_error: 0.1460\n",
            "Epoch 79/100\n",
            "34/34 [==============================] - 1s 31ms/step - loss: 0.1339 - accuracy: 0.6934 - mean_squared_error: 0.1339 - val_loss: 0.1460 - val_accuracy: 0.6934 - val_mean_squared_error: 0.1460\n",
            "Epoch 80/100\n",
            "34/34 [==============================] - 1s 31ms/step - loss: 0.1339 - accuracy: 0.6934 - mean_squared_error: 0.1339 - val_loss: 0.1460 - val_accuracy: 0.6934 - val_mean_squared_error: 0.1460\n",
            "Epoch 81/100\n",
            "34/34 [==============================] - 1s 32ms/step - loss: 0.1339 - accuracy: 0.6934 - mean_squared_error: 0.1339 - val_loss: 0.1460 - val_accuracy: 0.6934 - val_mean_squared_error: 0.1460\n",
            "Epoch 82/100\n",
            "34/34 [==============================] - 1s 31ms/step - loss: 0.1339 - accuracy: 0.6934 - mean_squared_error: 0.1339 - val_loss: 0.1460 - val_accuracy: 0.6934 - val_mean_squared_error: 0.1460\n",
            "Epoch 83/100\n",
            "34/34 [==============================] - 1s 30ms/step - loss: 0.1339 - accuracy: 0.6934 - mean_squared_error: 0.1339 - val_loss: 0.1460 - val_accuracy: 0.6934 - val_mean_squared_error: 0.1460\n",
            "Epoch 84/100\n",
            "34/34 [==============================] - 1s 31ms/step - loss: 0.1339 - accuracy: 0.6934 - mean_squared_error: 0.1339 - val_loss: 0.1460 - val_accuracy: 0.6934 - val_mean_squared_error: 0.1460\n",
            "Epoch 85/100\n",
            "34/34 [==============================] - 1s 31ms/step - loss: 0.1339 - accuracy: 0.6934 - mean_squared_error: 0.1339 - val_loss: 0.1460 - val_accuracy: 0.6934 - val_mean_squared_error: 0.1460\n",
            "Epoch 86/100\n",
            "34/34 [==============================] - 1s 31ms/step - loss: 0.1339 - accuracy: 0.6934 - mean_squared_error: 0.1339 - val_loss: 0.1460 - val_accuracy: 0.6934 - val_mean_squared_error: 0.1460\n",
            "Epoch 87/100\n",
            "34/34 [==============================] - 1s 31ms/step - loss: 0.1339 - accuracy: 0.6934 - mean_squared_error: 0.1339 - val_loss: 0.1460 - val_accuracy: 0.6934 - val_mean_squared_error: 0.1460\n",
            "Epoch 88/100\n",
            "34/34 [==============================] - 1s 31ms/step - loss: 0.1339 - accuracy: 0.6934 - mean_squared_error: 0.1339 - val_loss: 0.1460 - val_accuracy: 0.6934 - val_mean_squared_error: 0.1460\n",
            "Epoch 89/100\n",
            "34/34 [==============================] - 1s 32ms/step - loss: 0.1339 - accuracy: 0.6934 - mean_squared_error: 0.1339 - val_loss: 0.1460 - val_accuracy: 0.6934 - val_mean_squared_error: 0.1460\n",
            "Epoch 90/100\n",
            "34/34 [==============================] - 1s 31ms/step - loss: 0.1338 - accuracy: 0.6934 - mean_squared_error: 0.1338 - val_loss: 0.1460 - val_accuracy: 0.6934 - val_mean_squared_error: 0.1460\n",
            "Epoch 91/100\n",
            "34/34 [==============================] - 1s 31ms/step - loss: 0.1338 - accuracy: 0.6934 - mean_squared_error: 0.1338 - val_loss: 0.1460 - val_accuracy: 0.6934 - val_mean_squared_error: 0.1460\n",
            "Epoch 92/100\n",
            "34/34 [==============================] - 1s 31ms/step - loss: 0.1338 - accuracy: 0.6934 - mean_squared_error: 0.1338 - val_loss: 0.1460 - val_accuracy: 0.6934 - val_mean_squared_error: 0.1460\n",
            "Epoch 93/100\n",
            "34/34 [==============================] - 1s 31ms/step - loss: 0.1338 - accuracy: 0.6934 - mean_squared_error: 0.1338 - val_loss: 0.1460 - val_accuracy: 0.6934 - val_mean_squared_error: 0.1460\n",
            "Epoch 94/100\n",
            "34/34 [==============================] - 1s 31ms/step - loss: 0.1338 - accuracy: 0.6934 - mean_squared_error: 0.1338 - val_loss: 0.1460 - val_accuracy: 0.6934 - val_mean_squared_error: 0.1460\n",
            "Epoch 95/100\n",
            "34/34 [==============================] - 1s 31ms/step - loss: 0.1338 - accuracy: 0.6934 - mean_squared_error: 0.1338 - val_loss: 0.1460 - val_accuracy: 0.6934 - val_mean_squared_error: 0.1460\n",
            "Epoch 96/100\n",
            "34/34 [==============================] - 1s 30ms/step - loss: 0.1338 - accuracy: 0.6934 - mean_squared_error: 0.1338 - val_loss: 0.1460 - val_accuracy: 0.6934 - val_mean_squared_error: 0.1460\n",
            "Epoch 97/100\n",
            "34/34 [==============================] - 1s 30ms/step - loss: 0.1338 - accuracy: 0.6934 - mean_squared_error: 0.1338 - val_loss: 0.1460 - val_accuracy: 0.6934 - val_mean_squared_error: 0.1460\n",
            "Epoch 98/100\n",
            "34/34 [==============================] - 1s 31ms/step - loss: 0.1338 - accuracy: 0.6934 - mean_squared_error: 0.1338 - val_loss: 0.1460 - val_accuracy: 0.6934 - val_mean_squared_error: 0.1460\n",
            "Epoch 99/100\n",
            "34/34 [==============================] - 1s 30ms/step - loss: 0.1338 - accuracy: 0.6934 - mean_squared_error: 0.1338 - val_loss: 0.1460 - val_accuracy: 0.6934 - val_mean_squared_error: 0.1460\n",
            "Epoch 100/100\n",
            "34/34 [==============================] - 1s 31ms/step - loss: 0.1338 - accuracy: 0.6934 - mean_squared_error: 0.1338 - val_loss: 0.1460 - val_accuracy: 0.6934 - val_mean_squared_error: 0.1460\n"
          ]
        }
      ]
    },
    {
      "cell_type": "code",
      "metadata": {
        "colab": {
          "base_uri": "https://localhost:8080/"
        },
        "id": "muAnOJZJhBoN",
        "outputId": "5f80e9f0-841f-4c46-e73d-0df43d4ce4d1"
      },
      "source": [
        "from sklearn.metrics import mean_squared_error\n",
        "loss, accuracy,mean_squared_error = model_GRU2.evaluate(X_test, y_test, verbose=0)\n",
        "print('Accuracy: %f' % accuracy)\n",
        "print('Error Rate: %f' % (1 - accuracy))\n",
        "print('Mean Squared Error: %f' % mean_squared_error)"
      ],
      "execution_count": null,
      "outputs": [
        {
          "output_type": "stream",
          "name": "stdout",
          "text": [
            "Accuracy: 0.693400\n",
            "Error Rate: 0.306600\n",
            "Mean Squared Error: 0.146006\n"
          ]
        }
      ]
    },
    {
      "cell_type": "code",
      "metadata": {
        "colab": {
          "base_uri": "https://localhost:8080/",
          "height": 282
        },
        "id": "AMW68nFipbzd",
        "outputId": "23febad4-102d-4a32-fbb1-bfc5ab335ebf"
      },
      "source": [
        "pred_LSTM=model_GRU2.predict(X_test)\n",
        "#GRU with factors\n",
        "plt.plot(history_GRU2.history[\"loss\"], label=\"Training Loss\")\n",
        "plt.plot(history_GRU2.history[\"val_loss\"], label=\"Validation Loss\")\n",
        "plt.legend()"
      ],
      "execution_count": null,
      "outputs": [
        {
          "output_type": "execute_result",
          "data": {
            "text/plain": [
              "<matplotlib.legend.Legend at 0x7f1a9a865050>"
            ]
          },
          "metadata": {},
          "execution_count": 38
        },
        {
          "output_type": "display_data",
          "data": {
            "image/png": "[encoded data removed]",
            "text/plain": [
              "<Figure size 432x288 with 1 Axes>"
            ]
          },
          "metadata": {
            "needs_background": "light"
          }
        }
      ]
    }
  ]
}