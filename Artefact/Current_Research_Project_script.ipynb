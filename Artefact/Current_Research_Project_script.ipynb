{
  "nbformat": 4,
  "nbformat_minor": 0,
  "metadata": {
    "colab": {
      "name": "Current Research Project script.ipynb",
      "provenance": [],
      "collapsed_sections": []
    },
    "kernelspec": {
      "name": "python3",
      "display_name": "Python 3"
    },
    "language_info": {
      "name": "python"
    }
  },
  "cells": [
    {
      "cell_type": "code",
      "metadata": {
        "colab": {
          "base_uri": "https://localhost:8080/"
        },
        "id": "0_PLx2vk5shp",
        "outputId": "c59c0405-a2c4-4fcd-fea6-538d90dbe8de"
      },
      "source": [
        "%tensorflow_version 2.x\n",
        "import pandas as pd\n",
        "import numpy as np\n",
        "from math import sqrt\n",
        "from numpy import concatenate\n",
        "from matplotlib import pyplot\n",
        "from pandas import DataFrame, concat\n",
        "from sklearn.preprocessing import MinMaxScaler, LabelEncoder\n",
        "from sklearn.metrics import mean_squared_error\n",
        "from keras.models import Sequential\n",
        "from keras.layers import LSTM, GRU,Reshape, Dense\n",
        "from numpy import array\n",
        "import tensorflow as tf\n",
        "from datetime import datetime\n",
        "from google.colab import drive\n",
        "import matplotlib.pyplot as plt\n",
        "from sklearn.metrics import accuracy_score, precision_score, recall_score\n",
        "from sklearn.model_selection import train_test_split\n",
        "from tensorflow.keras import layers, losses\n",
        "from tensorflow.keras.models import Model\n",
        "\n",
        "drive.mount('/content/drive')"
      ],
      "execution_count": null,
      "outputs": [
        {
          "output_type": "stream",
          "name": "stdout",
          "text": [
            "Mounted at /content/drive\n"
          ]
        }
      ]
    },
    {
      "cell_type": "code",
      "metadata": {
        "id": "v6nVu-KOOmON",
        "colab": {
          "base_uri": "https://localhost:8080/"
        },
        "outputId": "741c88f9-a6f0-41f1-afa9-72d4851daa02"
      },
      "source": [
        "!nvidia-smi"
      ],
      "execution_count": null,
      "outputs": [
        {
          "output_type": "stream",
          "name": "stdout",
          "text": [
            "Mon Sep  6 13:36:38 2021       \n",
            "+-----------------------------------------------------------------------------+\n",
            "| NVIDIA-SMI 470.63.01    Driver Version: 460.32.03    CUDA Version: 11.2     |\n",
            "|-------------------------------+----------------------+----------------------+\n",
            "| GPU  Name        Persistence-M| Bus-Id        Disp.A | Volatile Uncorr. ECC |\n",
            "| Fan  Temp  Perf  Pwr:Usage/Cap|         Memory-Usage | GPU-Util  Compute M. |\n",
            "|                               |                      |               MIG M. |\n",
            "|===============================+======================+======================|\n",
            "|   0  Tesla K80           Off  | 00000000:00:04.0 Off |                    0 |\n",
            "| N/A   33C    P8    29W / 149W |      0MiB / 11441MiB |      0%      Default |\n",
            "|                               |                      |                  N/A |\n",
            "+-------------------------------+----------------------+----------------------+\n",
            "                                                                               \n",
            "+-----------------------------------------------------------------------------+\n",
            "| Processes:                                                                  |\n",
            "|  GPU   GI   CI        PID   Type   Process name                  GPU Memory |\n",
            "|        ID   ID                                                   Usage      |\n",
            "|=============================================================================|\n",
            "|  No running processes found                                                 |\n",
            "+-----------------------------------------------------------------------------+\n"
          ]
        }
      ]
    },
    {
      "cell_type": "code",
      "metadata": {
        "colab": {
          "base_uri": "https://localhost:8080/",
          "height": 631
        },
        "id": "4WIvnOxz6D5n",
        "outputId": "9b956002-3a16-4268-eea6-cc4ae0a755d0"
      },
      "source": [
        "dataset = pd.read_excel(\"/content/drive/My Drive/Covid_Dataset.xlsx\")\n",
        "dataset"
      ],
      "execution_count": null,
      "outputs": [
        {
          "output_type": "execute_result",
          "data": {
            "text/html": [
              "<div>\n",
              "<style scoped>\n",
              "    .dataframe tbody tr th:only-of-type {\n",
              "        vertical-align: middle;\n",
              "    }\n",
              "\n",
              "    .dataframe tbody tr th {\n",
              "        vertical-align: top;\n",
              "    }\n",
              "\n",
              "    .dataframe thead th {\n",
              "        text-align: right;\n",
              "    }\n",
              "</style>\n",
              "<table border=\"1\" class=\"dataframe\">\n",
              "  <thead>\n",
              "    <tr style=\"text-align: right;\">\n",
              "      <th></th>\n",
              "      <th>dateRep</th>\n",
              "      <th>cases</th>\n",
              "      <th>deaths</th>\n",
              "      <th>countriesAndTerritories</th>\n",
              "      <th>Population Density 2020 (P/KM2)</th>\n",
              "      <th>continentExp</th>\n",
              "      <th>Wind Speed Minimum</th>\n",
              "      <th>Wind Speed Maximum</th>\n",
              "      <th>Wind Speed Median</th>\n",
              "      <th>Wind Speed Variance</th>\n",
              "    </tr>\n",
              "  </thead>\n",
              "  <tbody>\n",
              "    <tr>\n",
              "      <th>0</th>\n",
              "      <td>2019-12-31</td>\n",
              "      <td>0</td>\n",
              "      <td>0</td>\n",
              "      <td>India</td>\n",
              "      <td>464</td>\n",
              "      <td>Asia</td>\n",
              "      <td>0.4</td>\n",
              "      <td>2.2</td>\n",
              "      <td>1.7</td>\n",
              "      <td>3.58</td>\n",
              "    </tr>\n",
              "    <tr>\n",
              "      <th>1</th>\n",
              "      <td>2020-01-01</td>\n",
              "      <td>0</td>\n",
              "      <td>0</td>\n",
              "      <td>India</td>\n",
              "      <td>464</td>\n",
              "      <td>Asia</td>\n",
              "      <td>0.5</td>\n",
              "      <td>2.6</td>\n",
              "      <td>0.8</td>\n",
              "      <td>4.89</td>\n",
              "    </tr>\n",
              "    <tr>\n",
              "      <th>2</th>\n",
              "      <td>2020-01-02</td>\n",
              "      <td>0</td>\n",
              "      <td>0</td>\n",
              "      <td>India</td>\n",
              "      <td>464</td>\n",
              "      <td>Asia</td>\n",
              "      <td>0.5</td>\n",
              "      <td>1.6</td>\n",
              "      <td>0.7</td>\n",
              "      <td>1.40</td>\n",
              "    </tr>\n",
              "    <tr>\n",
              "      <th>3</th>\n",
              "      <td>2020-01-03</td>\n",
              "      <td>0</td>\n",
              "      <td>0</td>\n",
              "      <td>India</td>\n",
              "      <td>464</td>\n",
              "      <td>Asia</td>\n",
              "      <td>0.1</td>\n",
              "      <td>9.9</td>\n",
              "      <td>0.9</td>\n",
              "      <td>20.86</td>\n",
              "    </tr>\n",
              "    <tr>\n",
              "      <th>4</th>\n",
              "      <td>2020-01-04</td>\n",
              "      <td>0</td>\n",
              "      <td>0</td>\n",
              "      <td>India</td>\n",
              "      <td>464</td>\n",
              "      <td>Asia</td>\n",
              "      <td>0.1</td>\n",
              "      <td>11.8</td>\n",
              "      <td>0.8</td>\n",
              "      <td>20.96</td>\n",
              "    </tr>\n",
              "    <tr>\n",
              "      <th>...</th>\n",
              "      <td>...</td>\n",
              "      <td>...</td>\n",
              "      <td>...</td>\n",
              "      <td>...</td>\n",
              "      <td>...</td>\n",
              "      <td>...</td>\n",
              "      <td>...</td>\n",
              "      <td>...</td>\n",
              "      <td>...</td>\n",
              "      <td>...</td>\n",
              "    </tr>\n",
              "    <tr>\n",
              "      <th>1387</th>\n",
              "      <td>2020-12-10</td>\n",
              "      <td>220025</td>\n",
              "      <td>3124</td>\n",
              "      <td>United_States_of_America</td>\n",
              "      <td>36</td>\n",
              "      <td>America</td>\n",
              "      <td>0.1</td>\n",
              "      <td>18.0</td>\n",
              "      <td>3.8</td>\n",
              "      <td>114.01</td>\n",
              "    </tr>\n",
              "    <tr>\n",
              "      <th>1388</th>\n",
              "      <td>2020-12-11</td>\n",
              "      <td>224680</td>\n",
              "      <td>2748</td>\n",
              "      <td>United_States_of_America</td>\n",
              "      <td>36</td>\n",
              "      <td>America</td>\n",
              "      <td>0.1</td>\n",
              "      <td>12.0</td>\n",
              "      <td>2.5</td>\n",
              "      <td>51.39</td>\n",
              "    </tr>\n",
              "    <tr>\n",
              "      <th>1389</th>\n",
              "      <td>2020-12-12</td>\n",
              "      <td>234633</td>\n",
              "      <td>3343</td>\n",
              "      <td>United_States_of_America</td>\n",
              "      <td>36</td>\n",
              "      <td>America</td>\n",
              "      <td>0.1</td>\n",
              "      <td>8.5</td>\n",
              "      <td>2.5</td>\n",
              "      <td>25.50</td>\n",
              "    </tr>\n",
              "    <tr>\n",
              "      <th>1390</th>\n",
              "      <td>2020-12-13</td>\n",
              "      <td>216017</td>\n",
              "      <td>2315</td>\n",
              "      <td>United_States_of_America</td>\n",
              "      <td>36</td>\n",
              "      <td>America</td>\n",
              "      <td>0.8</td>\n",
              "      <td>15.0</td>\n",
              "      <td>3.6</td>\n",
              "      <td>77.38</td>\n",
              "    </tr>\n",
              "    <tr>\n",
              "      <th>1391</th>\n",
              "      <td>2020-12-14</td>\n",
              "      <td>189723</td>\n",
              "      <td>1340</td>\n",
              "      <td>United_States_of_America</td>\n",
              "      <td>36</td>\n",
              "      <td>America</td>\n",
              "      <td>0.2</td>\n",
              "      <td>18.0</td>\n",
              "      <td>3.8</td>\n",
              "      <td>126.47</td>\n",
              "    </tr>\n",
              "  </tbody>\n",
              "</table>\n",
              "<p>1392 rows × 10 columns</p>\n",
              "</div>"
            ],
            "text/plain": [
              "        dateRep   cases  ...  Wind Speed Median Wind Speed Variance\n",
              "0    2019-12-31       0  ...                1.7                3.58\n",
              "1    2020-01-01       0  ...                0.8                4.89\n",
              "2    2020-01-02       0  ...                0.7                1.40\n",
              "3    2020-01-03       0  ...                0.9               20.86\n",
              "4    2020-01-04       0  ...                0.8               20.96\n",
              "...         ...     ...  ...                ...                 ...\n",
              "1387 2020-12-10  220025  ...                3.8              114.01\n",
              "1388 2020-12-11  224680  ...                2.5               51.39\n",
              "1389 2020-12-12  234633  ...                2.5               25.50\n",
              "1390 2020-12-13  216017  ...                3.6               77.38\n",
              "1391 2020-12-14  189723  ...                3.8              126.47\n",
              "\n",
              "[1392 rows x 10 columns]"
            ]
          },
          "metadata": {},
          "execution_count": 2
        }
      ]
    },
    {
      "cell_type": "markdown",
      "metadata": {
        "id": "TsX5gyeDs9Qd"
      },
      "source": [
        "**This part is just for the confirmed cases**"
      ]
    },
    {
      "cell_type": "code",
      "metadata": {
        "id": "feBGtxJN78LO"
      },
      "source": [
        "new_index = dataset.iloc[:,0]\n",
        "new_index\n",
        "values = dataset.set_index(new_index)\n",
        "values = values.iloc[:,1:]\n",
        "values = values.iloc[:1500,0:2].astype('float32')\n",
        "values\n",
        "labels = dataset.iloc[:1500,-9]\n",
        "labels\n",
        "\n",
        "from sklearn.model_selection import train_test_split\n",
        "train_data, test_data, train_labels, test_labels = train_test_split(values, labels, test_size=0.20, random_state=88)"
      ],
      "execution_count": null,
      "outputs": []
    },
    {
      "cell_type": "code",
      "metadata": {
        "id": "PHjKjPNa8GQF"
      },
      "source": [
        "train_labels = pd.array(train_labels)\n",
        "test_labels = pd.array(test_labels)"
      ],
      "execution_count": null,
      "outputs": []
    },
    {
      "cell_type": "code",
      "metadata": {
        "colab": {
          "base_uri": "https://localhost:8080/"
        },
        "id": "JvCSz4lV8IAd",
        "outputId": "800e3b77-3e8a-4024-a667-6b2926e22f97"
      },
      "source": [
        "train = train_data\n",
        "scalers={}\n",
        "for i in train_data.columns:\n",
        "    scaler = MinMaxScaler(feature_range=(-1,1))\n",
        "    s_s = scaler.fit_transform(train[i].values.reshape(-1,1))\n",
        "    s_s= np.reshape(s_s,len(s_s))\n",
        "    scalers['scaler_'+ i] = scaler\n",
        "    train[i]=s_s\n",
        "test = test_data\n",
        "for i in test_data.columns:\n",
        "    scaler = scalers['scaler_'+i]\n",
        "    s_s = scaler.transform(test[i].values.reshape(-1,1))\n",
        "    s_s= np.reshape(s_s,len(s_s))\n",
        "    scalers['scaler_'+i] = scaler\n",
        "    test[i]=s_s"
      ],
      "execution_count": null,
      "outputs": [
        {
          "output_type": "stream",
          "name": "stderr",
          "text": [
            "/usr/local/lib/python3.7/dist-packages/ipykernel_launcher.py:8: SettingWithCopyWarning: \n",
            "A value is trying to be set on a copy of a slice from a DataFrame.\n",
            "Try using .loc[row_indexer,col_indexer] = value instead\n",
            "\n",
            "See the caveats in the documentation: https://pandas.pydata.org/pandas-docs/stable/user_guide/indexing.html#returning-a-view-versus-a-copy\n",
            "  \n",
            "/usr/local/lib/python3.7/dist-packages/ipykernel_launcher.py:8: SettingWithCopyWarning: \n",
            "A value is trying to be set on a copy of a slice from a DataFrame.\n",
            "Try using .loc[row_indexer,col_indexer] = value instead\n",
            "\n",
            "See the caveats in the documentation: https://pandas.pydata.org/pandas-docs/stable/user_guide/indexing.html#returning-a-view-versus-a-copy\n",
            "  \n",
            "/usr/local/lib/python3.7/dist-packages/ipykernel_launcher.py:15: SettingWithCopyWarning: \n",
            "A value is trying to be set on a copy of a slice from a DataFrame.\n",
            "Try using .loc[row_indexer,col_indexer] = value instead\n",
            "\n",
            "See the caveats in the documentation: https://pandas.pydata.org/pandas-docs/stable/user_guide/indexing.html#returning-a-view-versus-a-copy\n",
            "  from ipykernel import kernelapp as app\n",
            "/usr/local/lib/python3.7/dist-packages/ipykernel_launcher.py:15: SettingWithCopyWarning: \n",
            "A value is trying to be set on a copy of a slice from a DataFrame.\n",
            "Try using .loc[row_indexer,col_indexer] = value instead\n",
            "\n",
            "See the caveats in the documentation: https://pandas.pydata.org/pandas-docs/stable/user_guide/indexing.html#returning-a-view-versus-a-copy\n",
            "  from ipykernel import kernelapp as app\n"
          ]
        }
      ]
    },
    {
      "cell_type": "code",
      "metadata": {
        "id": "fzswL_oS8J-F"
      },
      "source": [
        "def split_series(series, n_past, n_future):\n",
        "  # n_past ==> no of past observations\n",
        "  # n_future ==> no of future observations \n",
        "  X, y = list(), list()\n",
        "  for window_start in range(len(series)):\n",
        "    past_end = window_start + n_past\n",
        "    future_end = past_end + n_future\n",
        "    if future_end > len(series):\n",
        "      break\n",
        "    # slicing the past and future parts of the window\n",
        "    past, future = series[window_start:past_end, :], series[past_end:future_end, :]\n",
        "    X.append(past)\n",
        "    y.append(future)\n",
        "  return np.array(X), np.array(y)"
      ],
      "execution_count": null,
      "outputs": []
    },
    {
      "cell_type": "code",
      "metadata": {
        "id": "wjtIUR4E8Ldd"
      },
      "source": [
        "n_past = 10\n",
        "n_future = 20\n",
        "n_features = 2"
      ],
      "execution_count": null,
      "outputs": []
    },
    {
      "cell_type": "code",
      "metadata": {
        "id": "kbFW1_eq8Nk2"
      },
      "source": [
        "X_train, y_train = split_series(train.values,n_past, n_future)\n",
        "X_train = X_train.reshape((X_train.shape[0], X_train.shape[1],n_features))\n",
        "y_train = y_train.reshape((y_train.shape[0], y_train.shape[1], n_features))\n",
        "X_test, y_test = split_series(test.values,n_past, n_future)\n",
        "X_test = X_test.reshape((X_test.shape[0], X_test.shape[1], n_features))\n",
        "y_test = y_test.reshape((y_test.shape[0], y_test.shape[1], n_features))"
      ],
      "execution_count": null,
      "outputs": []
    },
    {
      "cell_type": "code",
      "metadata": {
        "colab": {
          "base_uri": "https://localhost:8080/"
        },
        "id": "cn9YcsGO8ZZI",
        "outputId": "7a047a82-2cae-45e6-d09e-85f1f140573d"
      },
      "source": [
        "#LSTM\n",
        "encoder_inputs = tf.keras.layers.Input(shape=(n_past, n_features))\n",
        "encoder_l1 = tf.keras.layers.LSTM(2, activation='tanh',return_state=True) \n",
        "encoder_outputs1 = encoder_l1(encoder_inputs)\n",
        "encoder_states1 = encoder_outputs1[1:]\n",
        "decoder_inputs = tf.keras.layers.RepeatVector(n_future)(encoder_outputs1[0])\n",
        "decoder_l1 = tf.keras.layers.LSTM(2, return_sequences=True)(decoder_inputs,initial_state = encoder_states1)\n",
        "decoder_outputs1 = tf.keras.layers.TimeDistributed(tf.keras.layers.Dense(n_features))(decoder_l1)\n",
        "model_LSTM = tf.keras.models.Model(encoder_inputs,decoder_outputs1)\n",
        "\n",
        "model_LSTM.summary()"
      ],
      "execution_count": null,
      "outputs": [
        {
          "output_type": "stream",
          "name": "stdout",
          "text": [
            "Model: \"model\"\n",
            "__________________________________________________________________________________________________\n",
            "Layer (type)                    Output Shape         Param #     Connected to                     \n",
            "==================================================================================================\n",
            "input_1 (InputLayer)            [(None, 10, 2)]      0                                            \n",
            "__________________________________________________________________________________________________\n",
            "lstm (LSTM)                     [(None, 2), (None, 2 40          input_1[0][0]                    \n",
            "__________________________________________________________________________________________________\n",
            "repeat_vector (RepeatVector)    (None, 20, 2)        0           lstm[0][0]                       \n",
            "__________________________________________________________________________________________________\n",
            "lstm_1 (LSTM)                   (None, 20, 2)        40          repeat_vector[0][0]              \n",
            "                                                                 lstm[0][1]                       \n",
            "                                                                 lstm[0][2]                       \n",
            "__________________________________________________________________________________________________\n",
            "time_distributed (TimeDistribut (None, 20, 2)        6           lstm_1[0][0]                     \n",
            "==================================================================================================\n",
            "Total params: 86\n",
            "Trainable params: 86\n",
            "Non-trainable params: 0\n",
            "__________________________________________________________________________________________________\n"
          ]
        }
      ]
    },
    {
      "cell_type": "code",
      "metadata": {
        "id": "tCloTAYN-Srl"
      },
      "source": [
        "from keras import backend as K\n",
        "\n",
        "def mean_squared_error(y_true, y_pred):\n",
        "    return K.mean(K.square(y_pred - y_true), axis=-1)"
      ],
      "execution_count": null,
      "outputs": []
    },
    {
      "cell_type": "code",
      "metadata": {
        "colab": {
          "base_uri": "https://localhost:8080/"
        },
        "id": "DsWkacIG8e_F",
        "outputId": "bd045302-a1fe-4f6f-8465-ca982b268f15"
      },
      "source": [
        "reduce_lr = tf.keras.callbacks.LearningRateScheduler(lambda x: 1e-3 * 0.90 ** x)\n",
        "\n",
        "#loss test\n",
        "model_LSTM.compile(optimizer=tf.keras.optimizers.Adam(learning_rate=.1e-3), loss=tf.keras.losses.MeanSquaredError(),metrics=['accuracy', 'mean_squared_error'])\n",
        "#model_LSTM.compile(optimizer=tf.keras.optimizers.Adam(learning_rate=.1e-3), loss=tf.keras.losses.binary_crossentropy,metrics=['accuracy',mean_squared_error])\n",
        "#model_LSTM.compile(optimizer=tf.keras.optimizers.Adam(learning_rate=.1e-3), loss=tf.keras.losses.categorical_crossentropy,metrics=['accuracy',mean_squared_error])\n",
        "#model_LSTM.compile(optimizer=tf.keras.optimizers.Adam(learning_rate=.1e-3), loss=tf.keras.losses.MeanSquaredError(),metrics=['accuracy',mean_squared_error])\n",
        "\n",
        "#optimizer test\n",
        "#model_LSTM.compile(optimizer=tf.keras.optimizers.SGD(learning_rate=.1e-3), loss=tf.keras.losses.Huber(),metrics=['accuracy',mean_squared_error])\n",
        "#model_LSTM.compile(optimizer=tf.keras.optimizers.RMSprop(learning_rate=.1e-3), loss=tf.keras.losses.Huber(),metrics=['accuracy',mean_squared_error])\n",
        "#model_LSTM.compile(optimizer=tf.keras.optimizers.Adadelta(learning_rate=.1e-3), loss=tf.keras.losses.Huber(),metrics=['accuracy',mean_squared_error])\n",
        "\n",
        "history_LSTM = model_LSTM.fit(X_train,y_train,epochs=100,validation_data=(X_test,y_test),batch_size=25,verbose=1,callbacks=[reduce_lr])"
      ],
      "execution_count": null,
      "outputs": [
        {
          "output_type": "stream",
          "name": "stdout",
          "text": [
            "Epoch 1/100\n",
            "44/44 [==============================] - 5s 34ms/step - loss: 0.7146 - accuracy: 0.4565 - mean_squared_error: 0.7146 - val_loss: 0.6454 - val_accuracy: 0.4138 - val_mean_squared_error: 0.6454\n",
            "Epoch 2/100\n",
            "44/44 [==============================] - 1s 15ms/step - loss: 0.5786 - accuracy: 0.4565 - mean_squared_error: 0.5786 - val_loss: 0.5133 - val_accuracy: 0.4138 - val_mean_squared_error: 0.5133\n",
            "Epoch 3/100\n",
            "44/44 [==============================] - 1s 15ms/step - loss: 0.4425 - accuracy: 0.4565 - mean_squared_error: 0.4425 - val_loss: 0.3642 - val_accuracy: 0.4138 - val_mean_squared_error: 0.3642\n",
            "Epoch 4/100\n",
            "44/44 [==============================] - 1s 16ms/step - loss: 0.2931 - accuracy: 0.4567 - mean_squared_error: 0.2931 - val_loss: 0.2159 - val_accuracy: 0.4190 - val_mean_squared_error: 0.2159\n",
            "Epoch 5/100\n",
            "44/44 [==============================] - 1s 15ms/step - loss: 0.1716 - accuracy: 0.4591 - mean_squared_error: 0.1716 - val_loss: 0.1228 - val_accuracy: 0.4438 - val_mean_squared_error: 0.1228\n",
            "Epoch 6/100\n",
            "44/44 [==============================] - 1s 15ms/step - loss: 0.1090 - accuracy: 0.4807 - mean_squared_error: 0.1090 - val_loss: 0.0834 - val_accuracy: 0.5494 - val_mean_squared_error: 0.0834\n",
            "Epoch 7/100\n",
            "44/44 [==============================] - 1s 16ms/step - loss: 0.0850 - accuracy: 0.5287 - mean_squared_error: 0.0850 - val_loss: 0.0689 - val_accuracy: 0.5772 - val_mean_squared_error: 0.0689\n",
            "Epoch 8/100\n",
            "44/44 [==============================] - 1s 15ms/step - loss: 0.0763 - accuracy: 0.5384 - mean_squared_error: 0.0763 - val_loss: 0.0632 - val_accuracy: 0.5826 - val_mean_squared_error: 0.0632\n",
            "Epoch 9/100\n",
            "44/44 [==============================] - 1s 15ms/step - loss: 0.0731 - accuracy: 0.5395 - mean_squared_error: 0.0731 - val_loss: 0.0609 - val_accuracy: 0.5832 - val_mean_squared_error: 0.0609\n",
            "Epoch 10/100\n",
            "44/44 [==============================] - 1s 16ms/step - loss: 0.0719 - accuracy: 0.5395 - mean_squared_error: 0.0719 - val_loss: 0.0599 - val_accuracy: 0.5832 - val_mean_squared_error: 0.0599\n",
            "Epoch 11/100\n",
            "44/44 [==============================] - 1s 16ms/step - loss: 0.0714 - accuracy: 0.5398 - mean_squared_error: 0.0714 - val_loss: 0.0595 - val_accuracy: 0.5836 - val_mean_squared_error: 0.0595\n",
            "Epoch 12/100\n",
            "44/44 [==============================] - 1s 15ms/step - loss: 0.0712 - accuracy: 0.5391 - mean_squared_error: 0.0712 - val_loss: 0.0592 - val_accuracy: 0.5834 - val_mean_squared_error: 0.0592\n",
            "Epoch 13/100\n",
            "44/44 [==============================] - 1s 16ms/step - loss: 0.0711 - accuracy: 0.5389 - mean_squared_error: 0.0711 - val_loss: 0.0591 - val_accuracy: 0.5840 - val_mean_squared_error: 0.0591\n",
            "Epoch 14/100\n",
            "44/44 [==============================] - 1s 16ms/step - loss: 0.0710 - accuracy: 0.5381 - mean_squared_error: 0.0710 - val_loss: 0.0590 - val_accuracy: 0.5834 - val_mean_squared_error: 0.0590\n",
            "Epoch 15/100\n",
            "44/44 [==============================] - 1s 15ms/step - loss: 0.0710 - accuracy: 0.5373 - mean_squared_error: 0.0710 - val_loss: 0.0590 - val_accuracy: 0.5830 - val_mean_squared_error: 0.0590\n",
            "Epoch 16/100\n",
            "44/44 [==============================] - 1s 15ms/step - loss: 0.0710 - accuracy: 0.5369 - mean_squared_error: 0.0710 - val_loss: 0.0589 - val_accuracy: 0.5828 - val_mean_squared_error: 0.0589\n",
            "Epoch 17/100\n",
            "44/44 [==============================] - 1s 16ms/step - loss: 0.0710 - accuracy: 0.5371 - mean_squared_error: 0.0710 - val_loss: 0.0589 - val_accuracy: 0.5826 - val_mean_squared_error: 0.0589\n",
            "Epoch 18/100\n",
            "44/44 [==============================] - 1s 16ms/step - loss: 0.0710 - accuracy: 0.5368 - mean_squared_error: 0.0710 - val_loss: 0.0589 - val_accuracy: 0.5826 - val_mean_squared_error: 0.0589\n",
            "Epoch 19/100\n",
            "44/44 [==============================] - 1s 16ms/step - loss: 0.0710 - accuracy: 0.5367 - mean_squared_error: 0.0710 - val_loss: 0.0589 - val_accuracy: 0.5832 - val_mean_squared_error: 0.0589\n",
            "Epoch 20/100\n",
            "44/44 [==============================] - 1s 16ms/step - loss: 0.0710 - accuracy: 0.5369 - mean_squared_error: 0.0710 - val_loss: 0.0589 - val_accuracy: 0.5832 - val_mean_squared_error: 0.0589\n",
            "Epoch 21/100\n",
            "44/44 [==============================] - 1s 15ms/step - loss: 0.0709 - accuracy: 0.5368 - mean_squared_error: 0.0709 - val_loss: 0.0589 - val_accuracy: 0.5828 - val_mean_squared_error: 0.0589\n",
            "Epoch 22/100\n",
            "44/44 [==============================] - 1s 15ms/step - loss: 0.0709 - accuracy: 0.5369 - mean_squared_error: 0.0709 - val_loss: 0.0588 - val_accuracy: 0.5828 - val_mean_squared_error: 0.0588\n",
            "Epoch 23/100\n",
            "44/44 [==============================] - 1s 17ms/step - loss: 0.0709 - accuracy: 0.5368 - mean_squared_error: 0.0709 - val_loss: 0.0588 - val_accuracy: 0.5828 - val_mean_squared_error: 0.0588\n",
            "Epoch 24/100\n",
            "44/44 [==============================] - 1s 16ms/step - loss: 0.0709 - accuracy: 0.5367 - mean_squared_error: 0.0709 - val_loss: 0.0588 - val_accuracy: 0.5828 - val_mean_squared_error: 0.0588\n",
            "Epoch 25/100\n",
            "44/44 [==============================] - 1s 15ms/step - loss: 0.0709 - accuracy: 0.5367 - mean_squared_error: 0.0709 - val_loss: 0.0588 - val_accuracy: 0.5828 - val_mean_squared_error: 0.0588\n",
            "Epoch 26/100\n",
            "44/44 [==============================] - 1s 16ms/step - loss: 0.0709 - accuracy: 0.5366 - mean_squared_error: 0.0709 - val_loss: 0.0588 - val_accuracy: 0.5828 - val_mean_squared_error: 0.0588\n",
            "Epoch 27/100\n",
            "44/44 [==============================] - 1s 16ms/step - loss: 0.0709 - accuracy: 0.5366 - mean_squared_error: 0.0709 - val_loss: 0.0588 - val_accuracy: 0.5828 - val_mean_squared_error: 0.0588\n",
            "Epoch 28/100\n",
            "44/44 [==============================] - 1s 16ms/step - loss: 0.0709 - accuracy: 0.5367 - mean_squared_error: 0.0709 - val_loss: 0.0588 - val_accuracy: 0.5830 - val_mean_squared_error: 0.0588\n",
            "Epoch 29/100\n",
            "44/44 [==============================] - 1s 16ms/step - loss: 0.0709 - accuracy: 0.5367 - mean_squared_error: 0.0709 - val_loss: 0.0588 - val_accuracy: 0.5832 - val_mean_squared_error: 0.0588\n",
            "Epoch 30/100\n",
            "44/44 [==============================] - 1s 16ms/step - loss: 0.0709 - accuracy: 0.5367 - mean_squared_error: 0.0709 - val_loss: 0.0588 - val_accuracy: 0.5832 - val_mean_squared_error: 0.0588\n",
            "Epoch 31/100\n",
            "44/44 [==============================] - 1s 16ms/step - loss: 0.0709 - accuracy: 0.5367 - mean_squared_error: 0.0709 - val_loss: 0.0588 - val_accuracy: 0.5832 - val_mean_squared_error: 0.0588\n",
            "Epoch 32/100\n",
            "44/44 [==============================] - 1s 16ms/step - loss: 0.0709 - accuracy: 0.5369 - mean_squared_error: 0.0709 - val_loss: 0.0588 - val_accuracy: 0.5830 - val_mean_squared_error: 0.0588\n",
            "Epoch 33/100\n",
            "44/44 [==============================] - 1s 15ms/step - loss: 0.0709 - accuracy: 0.5368 - mean_squared_error: 0.0709 - val_loss: 0.0588 - val_accuracy: 0.5830 - val_mean_squared_error: 0.0588\n",
            "Epoch 34/100\n",
            "44/44 [==============================] - 1s 16ms/step - loss: 0.0709 - accuracy: 0.5370 - mean_squared_error: 0.0709 - val_loss: 0.0588 - val_accuracy: 0.5830 - val_mean_squared_error: 0.0588\n",
            "Epoch 35/100\n",
            "44/44 [==============================] - 1s 16ms/step - loss: 0.0709 - accuracy: 0.5371 - mean_squared_error: 0.0709 - val_loss: 0.0588 - val_accuracy: 0.5830 - val_mean_squared_error: 0.0588\n",
            "Epoch 36/100\n",
            "44/44 [==============================] - 1s 17ms/step - loss: 0.0709 - accuracy: 0.5371 - mean_squared_error: 0.0709 - val_loss: 0.0588 - val_accuracy: 0.5828 - val_mean_squared_error: 0.0588\n",
            "Epoch 37/100\n",
            "44/44 [==============================] - 1s 16ms/step - loss: 0.0709 - accuracy: 0.5371 - mean_squared_error: 0.0709 - val_loss: 0.0588 - val_accuracy: 0.5830 - val_mean_squared_error: 0.0588\n",
            "Epoch 38/100\n",
            "44/44 [==============================] - 1s 16ms/step - loss: 0.0709 - accuracy: 0.5372 - mean_squared_error: 0.0709 - val_loss: 0.0588 - val_accuracy: 0.5828 - val_mean_squared_error: 0.0588\n",
            "Epoch 39/100\n",
            "44/44 [==============================] - 1s 16ms/step - loss: 0.0709 - accuracy: 0.5373 - mean_squared_error: 0.0709 - val_loss: 0.0588 - val_accuracy: 0.5828 - val_mean_squared_error: 0.0588\n",
            "Epoch 40/100\n",
            "44/44 [==============================] - 1s 16ms/step - loss: 0.0709 - accuracy: 0.5373 - mean_squared_error: 0.0709 - val_loss: 0.0588 - val_accuracy: 0.5828 - val_mean_squared_error: 0.0588\n",
            "Epoch 41/100\n",
            "44/44 [==============================] - 1s 17ms/step - loss: 0.0709 - accuracy: 0.5374 - mean_squared_error: 0.0709 - val_loss: 0.0588 - val_accuracy: 0.5828 - val_mean_squared_error: 0.0588\n",
            "Epoch 42/100\n",
            "44/44 [==============================] - 1s 16ms/step - loss: 0.0709 - accuracy: 0.5374 - mean_squared_error: 0.0709 - val_loss: 0.0588 - val_accuracy: 0.5828 - val_mean_squared_error: 0.0588\n",
            "Epoch 43/100\n",
            "44/44 [==============================] - 1s 16ms/step - loss: 0.0709 - accuracy: 0.5374 - mean_squared_error: 0.0709 - val_loss: 0.0588 - val_accuracy: 0.5828 - val_mean_squared_error: 0.0588\n",
            "Epoch 44/100\n",
            "44/44 [==============================] - 1s 16ms/step - loss: 0.0709 - accuracy: 0.5375 - mean_squared_error: 0.0709 - val_loss: 0.0588 - val_accuracy: 0.5830 - val_mean_squared_error: 0.0588\n",
            "Epoch 45/100\n",
            "44/44 [==============================] - 1s 16ms/step - loss: 0.0709 - accuracy: 0.5374 - mean_squared_error: 0.0709 - val_loss: 0.0588 - val_accuracy: 0.5830 - val_mean_squared_error: 0.0588\n",
            "Epoch 46/100\n",
            "44/44 [==============================] - 1s 16ms/step - loss: 0.0709 - accuracy: 0.5375 - mean_squared_error: 0.0709 - val_loss: 0.0588 - val_accuracy: 0.5830 - val_mean_squared_error: 0.0588\n",
            "Epoch 47/100\n",
            "44/44 [==============================] - 1s 17ms/step - loss: 0.0709 - accuracy: 0.5374 - mean_squared_error: 0.0709 - val_loss: 0.0588 - val_accuracy: 0.5828 - val_mean_squared_error: 0.0588\n",
            "Epoch 48/100\n",
            "44/44 [==============================] - 1s 16ms/step - loss: 0.0709 - accuracy: 0.5374 - mean_squared_error: 0.0709 - val_loss: 0.0588 - val_accuracy: 0.5830 - val_mean_squared_error: 0.0588\n",
            "Epoch 49/100\n",
            "44/44 [==============================] - 1s 16ms/step - loss: 0.0709 - accuracy: 0.5374 - mean_squared_error: 0.0709 - val_loss: 0.0588 - val_accuracy: 0.5830 - val_mean_squared_error: 0.0588\n",
            "Epoch 50/100\n",
            "44/44 [==============================] - 1s 16ms/step - loss: 0.0709 - accuracy: 0.5374 - mean_squared_error: 0.0709 - val_loss: 0.0588 - val_accuracy: 0.5830 - val_mean_squared_error: 0.0588\n",
            "Epoch 51/100\n",
            "44/44 [==============================] - 1s 16ms/step - loss: 0.0709 - accuracy: 0.5374 - mean_squared_error: 0.0709 - val_loss: 0.0588 - val_accuracy: 0.5830 - val_mean_squared_error: 0.0588\n",
            "Epoch 52/100\n",
            "44/44 [==============================] - 1s 16ms/step - loss: 0.0709 - accuracy: 0.5374 - mean_squared_error: 0.0709 - val_loss: 0.0588 - val_accuracy: 0.5830 - val_mean_squared_error: 0.0588\n",
            "Epoch 53/100\n",
            "44/44 [==============================] - 1s 16ms/step - loss: 0.0709 - accuracy: 0.5375 - mean_squared_error: 0.0709 - val_loss: 0.0588 - val_accuracy: 0.5830 - val_mean_squared_error: 0.0588\n",
            "Epoch 54/100\n",
            "44/44 [==============================] - 1s 16ms/step - loss: 0.0709 - accuracy: 0.5374 - mean_squared_error: 0.0709 - val_loss: 0.0588 - val_accuracy: 0.5830 - val_mean_squared_error: 0.0588\n",
            "Epoch 55/100\n",
            "44/44 [==============================] - 1s 16ms/step - loss: 0.0709 - accuracy: 0.5374 - mean_squared_error: 0.0709 - val_loss: 0.0588 - val_accuracy: 0.5830 - val_mean_squared_error: 0.0588\n",
            "Epoch 56/100\n",
            "44/44 [==============================] - 1s 16ms/step - loss: 0.0709 - accuracy: 0.5374 - mean_squared_error: 0.0709 - val_loss: 0.0588 - val_accuracy: 0.5828 - val_mean_squared_error: 0.0588\n",
            "Epoch 57/100\n",
            "44/44 [==============================] - 1s 16ms/step - loss: 0.0709 - accuracy: 0.5374 - mean_squared_error: 0.0709 - val_loss: 0.0588 - val_accuracy: 0.5828 - val_mean_squared_error: 0.0588\n",
            "Epoch 58/100\n",
            "44/44 [==============================] - 1s 16ms/step - loss: 0.0709 - accuracy: 0.5373 - mean_squared_error: 0.0709 - val_loss: 0.0588 - val_accuracy: 0.5828 - val_mean_squared_error: 0.0588\n",
            "Epoch 59/100\n",
            "44/44 [==============================] - 1s 16ms/step - loss: 0.0709 - accuracy: 0.5374 - mean_squared_error: 0.0709 - val_loss: 0.0588 - val_accuracy: 0.5828 - val_mean_squared_error: 0.0588\n",
            "Epoch 60/100\n",
            "44/44 [==============================] - 1s 16ms/step - loss: 0.0709 - accuracy: 0.5374 - mean_squared_error: 0.0709 - val_loss: 0.0588 - val_accuracy: 0.5828 - val_mean_squared_error: 0.0588\n",
            "Epoch 61/100\n",
            "44/44 [==============================] - 1s 16ms/step - loss: 0.0709 - accuracy: 0.5374 - mean_squared_error: 0.0709 - val_loss: 0.0588 - val_accuracy: 0.5828 - val_mean_squared_error: 0.0588\n",
            "Epoch 62/100\n",
            "44/44 [==============================] - 1s 17ms/step - loss: 0.0709 - accuracy: 0.5374 - mean_squared_error: 0.0709 - val_loss: 0.0588 - val_accuracy: 0.5828 - val_mean_squared_error: 0.0588\n",
            "Epoch 63/100\n",
            "44/44 [==============================] - 1s 16ms/step - loss: 0.0709 - accuracy: 0.5374 - mean_squared_error: 0.0709 - val_loss: 0.0588 - val_accuracy: 0.5828 - val_mean_squared_error: 0.0588\n",
            "Epoch 64/100\n",
            "44/44 [==============================] - 1s 17ms/step - loss: 0.0709 - accuracy: 0.5374 - mean_squared_error: 0.0709 - val_loss: 0.0588 - val_accuracy: 0.5828 - val_mean_squared_error: 0.0588\n",
            "Epoch 65/100\n",
            "44/44 [==============================] - 1s 17ms/step - loss: 0.0709 - accuracy: 0.5374 - mean_squared_error: 0.0709 - val_loss: 0.0588 - val_accuracy: 0.5828 - val_mean_squared_error: 0.0588\n",
            "Epoch 66/100\n",
            "44/44 [==============================] - 1s 18ms/step - loss: 0.0709 - accuracy: 0.5374 - mean_squared_error: 0.0709 - val_loss: 0.0588 - val_accuracy: 0.5828 - val_mean_squared_error: 0.0588\n",
            "Epoch 67/100\n",
            "44/44 [==============================] - 1s 16ms/step - loss: 0.0709 - accuracy: 0.5374 - mean_squared_error: 0.0709 - val_loss: 0.0588 - val_accuracy: 0.5828 - val_mean_squared_error: 0.0588\n",
            "Epoch 68/100\n",
            "44/44 [==============================] - 1s 16ms/step - loss: 0.0709 - accuracy: 0.5374 - mean_squared_error: 0.0709 - val_loss: 0.0588 - val_accuracy: 0.5828 - val_mean_squared_error: 0.0588\n",
            "Epoch 69/100\n",
            "44/44 [==============================] - 1s 16ms/step - loss: 0.0709 - accuracy: 0.5374 - mean_squared_error: 0.0709 - val_loss: 0.0588 - val_accuracy: 0.5828 - val_mean_squared_error: 0.0588\n",
            "Epoch 70/100\n",
            "44/44 [==============================] - 1s 17ms/step - loss: 0.0709 - accuracy: 0.5374 - mean_squared_error: 0.0709 - val_loss: 0.0588 - val_accuracy: 0.5828 - val_mean_squared_error: 0.0588\n",
            "Epoch 71/100\n",
            "44/44 [==============================] - 1s 17ms/step - loss: 0.0709 - accuracy: 0.5374 - mean_squared_error: 0.0709 - val_loss: 0.0588 - val_accuracy: 0.5828 - val_mean_squared_error: 0.0588\n",
            "Epoch 72/100\n",
            "44/44 [==============================] - 1s 17ms/step - loss: 0.0709 - accuracy: 0.5374 - mean_squared_error: 0.0709 - val_loss: 0.0588 - val_accuracy: 0.5828 - val_mean_squared_error: 0.0588\n",
            "Epoch 73/100\n",
            "44/44 [==============================] - 1s 16ms/step - loss: 0.0709 - accuracy: 0.5375 - mean_squared_error: 0.0709 - val_loss: 0.0588 - val_accuracy: 0.5828 - val_mean_squared_error: 0.0588\n",
            "Epoch 74/100\n",
            "44/44 [==============================] - 1s 16ms/step - loss: 0.0709 - accuracy: 0.5375 - mean_squared_error: 0.0709 - val_loss: 0.0588 - val_accuracy: 0.5828 - val_mean_squared_error: 0.0588\n",
            "Epoch 75/100\n",
            "44/44 [==============================] - 1s 16ms/step - loss: 0.0709 - accuracy: 0.5375 - mean_squared_error: 0.0709 - val_loss: 0.0588 - val_accuracy: 0.5828 - val_mean_squared_error: 0.0588\n",
            "Epoch 76/100\n",
            "44/44 [==============================] - 1s 16ms/step - loss: 0.0709 - accuracy: 0.5375 - mean_squared_error: 0.0709 - val_loss: 0.0588 - val_accuracy: 0.5828 - val_mean_squared_error: 0.0588\n",
            "Epoch 77/100\n",
            "44/44 [==============================] - 1s 16ms/step - loss: 0.0709 - accuracy: 0.5375 - mean_squared_error: 0.0709 - val_loss: 0.0588 - val_accuracy: 0.5828 - val_mean_squared_error: 0.0588\n",
            "Epoch 78/100\n",
            "44/44 [==============================] - 1s 17ms/step - loss: 0.0709 - accuracy: 0.5375 - mean_squared_error: 0.0709 - val_loss: 0.0588 - val_accuracy: 0.5828 - val_mean_squared_error: 0.0588\n",
            "Epoch 79/100\n",
            "44/44 [==============================] - 1s 17ms/step - loss: 0.0709 - accuracy: 0.5375 - mean_squared_error: 0.0709 - val_loss: 0.0588 - val_accuracy: 0.5828 - val_mean_squared_error: 0.0588\n",
            "Epoch 80/100\n",
            "44/44 [==============================] - 1s 17ms/step - loss: 0.0709 - accuracy: 0.5375 - mean_squared_error: 0.0709 - val_loss: 0.0588 - val_accuracy: 0.5828 - val_mean_squared_error: 0.0588\n",
            "Epoch 81/100\n",
            "44/44 [==============================] - 1s 16ms/step - loss: 0.0709 - accuracy: 0.5375 - mean_squared_error: 0.0709 - val_loss: 0.0588 - val_accuracy: 0.5828 - val_mean_squared_error: 0.0588\n",
            "Epoch 82/100\n",
            "44/44 [==============================] - 1s 16ms/step - loss: 0.0709 - accuracy: 0.5375 - mean_squared_error: 0.0709 - val_loss: 0.0588 - val_accuracy: 0.5828 - val_mean_squared_error: 0.0588\n",
            "Epoch 83/100\n",
            "44/44 [==============================] - 1s 16ms/step - loss: 0.0709 - accuracy: 0.5375 - mean_squared_error: 0.0709 - val_loss: 0.0588 - val_accuracy: 0.5828 - val_mean_squared_error: 0.0588\n",
            "Epoch 84/100\n",
            "44/44 [==============================] - 1s 16ms/step - loss: 0.0709 - accuracy: 0.5375 - mean_squared_error: 0.0709 - val_loss: 0.0588 - val_accuracy: 0.5828 - val_mean_squared_error: 0.0588\n",
            "Epoch 85/100\n",
            "44/44 [==============================] - 1s 17ms/step - loss: 0.0709 - accuracy: 0.5375 - mean_squared_error: 0.0709 - val_loss: 0.0588 - val_accuracy: 0.5828 - val_mean_squared_error: 0.0588\n",
            "Epoch 86/100\n",
            "44/44 [==============================] - 1s 16ms/step - loss: 0.0709 - accuracy: 0.5375 - mean_squared_error: 0.0709 - val_loss: 0.0588 - val_accuracy: 0.5828 - val_mean_squared_error: 0.0588\n",
            "Epoch 87/100\n",
            "44/44 [==============================] - 1s 16ms/step - loss: 0.0709 - accuracy: 0.5375 - mean_squared_error: 0.0709 - val_loss: 0.0588 - val_accuracy: 0.5828 - val_mean_squared_error: 0.0588\n",
            "Epoch 88/100\n",
            "44/44 [==============================] - 1s 16ms/step - loss: 0.0709 - accuracy: 0.5375 - mean_squared_error: 0.0709 - val_loss: 0.0588 - val_accuracy: 0.5828 - val_mean_squared_error: 0.0588\n",
            "Epoch 89/100\n",
            "44/44 [==============================] - 1s 15ms/step - loss: 0.0709 - accuracy: 0.5375 - mean_squared_error: 0.0709 - val_loss: 0.0588 - val_accuracy: 0.5828 - val_mean_squared_error: 0.0588\n",
            "Epoch 90/100\n",
            "44/44 [==============================] - 1s 17ms/step - loss: 0.0709 - accuracy: 0.5375 - mean_squared_error: 0.0709 - val_loss: 0.0588 - val_accuracy: 0.5828 - val_mean_squared_error: 0.0588\n",
            "Epoch 91/100\n",
            "44/44 [==============================] - 1s 16ms/step - loss: 0.0709 - accuracy: 0.5375 - mean_squared_error: 0.0709 - val_loss: 0.0588 - val_accuracy: 0.5828 - val_mean_squared_error: 0.0588\n",
            "Epoch 92/100\n",
            "44/44 [==============================] - 1s 16ms/step - loss: 0.0709 - accuracy: 0.5375 - mean_squared_error: 0.0709 - val_loss: 0.0588 - val_accuracy: 0.5828 - val_mean_squared_error: 0.0588\n",
            "Epoch 93/100\n",
            "44/44 [==============================] - 1s 16ms/step - loss: 0.0709 - accuracy: 0.5375 - mean_squared_error: 0.0709 - val_loss: 0.0588 - val_accuracy: 0.5828 - val_mean_squared_error: 0.0588\n",
            "Epoch 94/100\n",
            "44/44 [==============================] - 1s 16ms/step - loss: 0.0709 - accuracy: 0.5375 - mean_squared_error: 0.0709 - val_loss: 0.0588 - val_accuracy: 0.5828 - val_mean_squared_error: 0.0588\n",
            "Epoch 95/100\n",
            "44/44 [==============================] - 1s 16ms/step - loss: 0.0709 - accuracy: 0.5375 - mean_squared_error: 0.0709 - val_loss: 0.0588 - val_accuracy: 0.5828 - val_mean_squared_error: 0.0588\n",
            "Epoch 96/100\n",
            "44/44 [==============================] - 1s 16ms/step - loss: 0.0709 - accuracy: 0.5375 - mean_squared_error: 0.0709 - val_loss: 0.0588 - val_accuracy: 0.5828 - val_mean_squared_error: 0.0588\n",
            "Epoch 97/100\n",
            "44/44 [==============================] - 1s 16ms/step - loss: 0.0709 - accuracy: 0.5375 - mean_squared_error: 0.0709 - val_loss: 0.0588 - val_accuracy: 0.5828 - val_mean_squared_error: 0.0588\n",
            "Epoch 98/100\n",
            "44/44 [==============================] - 1s 16ms/step - loss: 0.0709 - accuracy: 0.5375 - mean_squared_error: 0.0709 - val_loss: 0.0588 - val_accuracy: 0.5828 - val_mean_squared_error: 0.0588\n",
            "Epoch 99/100\n",
            "44/44 [==============================] - 1s 16ms/step - loss: 0.0709 - accuracy: 0.5375 - mean_squared_error: 0.0709 - val_loss: 0.0588 - val_accuracy: 0.5828 - val_mean_squared_error: 0.0588\n",
            "Epoch 100/100\n",
            "44/44 [==============================] - 1s 15ms/step - loss: 0.0709 - accuracy: 0.5375 - mean_squared_error: 0.0709 - val_loss: 0.0588 - val_accuracy: 0.5828 - val_mean_squared_error: 0.0588\n"
          ]
        }
      ]
    },
    {
      "cell_type": "code",
      "metadata": {
        "colab": {
          "base_uri": "https://localhost:8080/"
        },
        "id": "C1xdm4kw8j9N",
        "outputId": "1fc355e0-57eb-44e1-8e2c-f44334f17b2b"
      },
      "source": [
        "from sklearn.metrics import mean_squared_error\n",
        "loss, accuracy,mean_squared_error = model_LSTM.evaluate(X_test, y_test, verbose=0)\n",
        "print('Accuracy: %f' % accuracy)\n",
        "print('Error Rate: %f' % (1 - accuracy))\n",
        "print('Mean Squared Error: %f' % mean_squared_error)"
      ],
      "execution_count": null,
      "outputs": [
        {
          "output_type": "stream",
          "name": "stdout",
          "text": [
            "Accuracy: 0.582800\n",
            "Error Rate: 0.417200\n",
            "Mean Squared Error: 0.058801\n"
          ]
        }
      ]
    },
    {
      "cell_type": "code",
      "metadata": {
        "id": "NlETKVLEADzk",
        "colab": {
          "base_uri": "https://localhost:8080/",
          "height": 282
        },
        "outputId": "18ed2b5a-0943-4333-86be-d8f8fd6c7e52"
      },
      "source": [
        "pred_LSTM=model_LSTM.predict(X_test)\n",
        "#LSTM\n",
        "plt.plot(history_LSTM.history[\"loss\"], label=\"Training Loss\")\n",
        "plt.plot(history_LSTM.history[\"val_loss\"], label=\"Validation Loss\")\n",
        "plt.legend()"
      ],
      "execution_count": null,
      "outputs": [
        {
          "output_type": "execute_result",
          "data": {
            "text/plain": [
              "<matplotlib.legend.Legend at 0x7f76c6eda6d0>"
            ]
          },
          "metadata": {},
          "execution_count": 13
        },
        {
          "output_type": "display_data",
          "data": {
            "image/png": "[encoded data removed]",
            "text/plain": [
              "<Figure size 432x288 with 1 Axes>"
            ]
          },
          "metadata": {
            "needs_background": "light"
          }
        }
      ]
    },
    {
      "cell_type": "code",
      "metadata": {
        "colab": {
          "base_uri": "https://localhost:8080/"
        },
        "id": "hLFjP9L31xGa",
        "outputId": "b65cc009-5f4f-43dd-c3dc-89070eaae861"
      },
      "source": [
        "# GRU\n",
        "encoder_inputs = tf.keras.layers.Input(shape=(n_past, n_features))\n",
        "encoder_l1 = tf.keras.layers.GRU(2,return_sequences = True, return_state=True)\n",
        "encoder_outputs1 = encoder_l1(encoder_inputs)\n",
        "encoder_states1 = encoder_outputs1[1:]\n",
        "\n",
        "encoder_l2 = tf.keras.layers.GRU(2, return_state=True)\n",
        "encoder_outputs2 = encoder_l2(encoder_outputs1[0])\n",
        "encoder_states2 = encoder_outputs2[1:]\n",
        "\n",
        "decoder_inputs = tf.keras.layers.RepeatVector(n_future)(encoder_outputs2[0])\n",
        "decoder_l1 = tf.keras.layers.GRU(2, return_sequences=True)(decoder_inputs,initial_state = encoder_states1)\n",
        "decoder_l2 = tf.keras.layers.GRU(2, return_sequences=True)(decoder_l1,initial_state = encoder_states2)\n",
        "decoder_outputs2 = tf.keras.layers.TimeDistributed(tf.keras.layers.Dense(n_features))(decoder_l2)\n",
        "\n",
        "model_GRU = tf.keras.models.Model(encoder_inputs,decoder_outputs2)\n",
        "#\n",
        "model_GRU.summary()"
      ],
      "execution_count": null,
      "outputs": [
        {
          "output_type": "stream",
          "name": "stdout",
          "text": [
            "Model: \"model_1\"\n",
            "__________________________________________________________________________________________________\n",
            "Layer (type)                    Output Shape         Param #     Connected to                     \n",
            "==================================================================================================\n",
            "input_2 (InputLayer)            [(None, 10, 2)]      0                                            \n",
            "__________________________________________________________________________________________________\n",
            "gru (GRU)                       [(None, 10, 2), (Non 36          input_2[0][0]                    \n",
            "__________________________________________________________________________________________________\n",
            "gru_1 (GRU)                     [(None, 2), (None, 2 36          gru[0][0]                        \n",
            "__________________________________________________________________________________________________\n",
            "repeat_vector_1 (RepeatVector)  (None, 20, 2)        0           gru_1[0][0]                      \n",
            "__________________________________________________________________________________________________\n",
            "gru_2 (GRU)                     (None, 20, 2)        36          repeat_vector_1[0][0]            \n",
            "                                                                 gru[0][1]                        \n",
            "__________________________________________________________________________________________________\n",
            "gru_3 (GRU)                     (None, 20, 2)        36          gru_2[0][0]                      \n",
            "                                                                 gru_1[0][1]                      \n",
            "__________________________________________________________________________________________________\n",
            "time_distributed_1 (TimeDistrib (None, 20, 2)        6           gru_3[0][0]                      \n",
            "==================================================================================================\n",
            "Total params: 150\n",
            "Trainable params: 150\n",
            "Non-trainable params: 0\n",
            "__________________________________________________________________________________________________\n"
          ]
        }
      ]
    },
    {
      "cell_type": "code",
      "metadata": {
        "colab": {
          "base_uri": "https://localhost:8080/",
          "height": 725
        },
        "id": "rHoYQP_J1zqH",
        "outputId": "c4ff0115-bf1e-4229-c4e6-43584677e222"
      },
      "source": [
        "model_GRU.compile(optimizer=tf.keras.optimizers.Adam(), loss=tf.keras.losses.MeanSquaredError(),metrics=['accuracy','mean_squared_error'])\n",
        "history_GRU = model_GRU.fit(X_train,y_train,epochs=100,validation_data=(X_test,y_test),batch_size=25,verbose=1,callbacks=[reduce_lr])"
      ],
      "execution_count": null,
      "outputs": [
        {
          "output_type": "stream",
          "name": "stdout",
          "text": [
            "Epoch 1/100\n"
          ]
        },
        {
          "output_type": "error",
          "ename": "ValueError",
          "evalue": "ignored",
          "traceback": [
            "\u001b[0;31m---------------------------------------------------------------------------\u001b[0m",
            "\u001b[0;31mValueError\u001b[0m                                Traceback (most recent call last)",
            "\u001b[0;32m<ipython-input-52-44bf0eca7079>\u001b[0m in \u001b[0;36m<module>\u001b[0;34m()\u001b[0m\n\u001b[1;32m      1\u001b[0m \u001b[0mmodel_GRU\u001b[0m\u001b[0;34m.\u001b[0m\u001b[0mcompile\u001b[0m\u001b[0;34m(\u001b[0m\u001b[0moptimizer\u001b[0m\u001b[0;34m=\u001b[0m\u001b[0mtf\u001b[0m\u001b[0;34m.\u001b[0m\u001b[0mkeras\u001b[0m\u001b[0;34m.\u001b[0m\u001b[0moptimizers\u001b[0m\u001b[0;34m.\u001b[0m\u001b[0mAdam\u001b[0m\u001b[0;34m(\u001b[0m\u001b[0;34m)\u001b[0m\u001b[0;34m,\u001b[0m \u001b[0mloss\u001b[0m\u001b[0;34m=\u001b[0m\u001b[0mtf\u001b[0m\u001b[0;34m.\u001b[0m\u001b[0mkeras\u001b[0m\u001b[0;34m.\u001b[0m\u001b[0mlosses\u001b[0m\u001b[0;34m.\u001b[0m\u001b[0mMeanSquaredError\u001b[0m\u001b[0;34m(\u001b[0m\u001b[0;34m)\u001b[0m\u001b[0;34m,\u001b[0m\u001b[0mmetrics\u001b[0m\u001b[0;34m=\u001b[0m\u001b[0;34m[\u001b[0m\u001b[0;34m'accuracy'\u001b[0m\u001b[0;34m,\u001b[0m\u001b[0;34m'mean_squared_error'\u001b[0m\u001b[0;34m]\u001b[0m\u001b[0;34m)\u001b[0m\u001b[0;34m\u001b[0m\u001b[0;34m\u001b[0m\u001b[0m\n\u001b[0;32m----> 2\u001b[0;31m \u001b[0mhistory_GRU\u001b[0m \u001b[0;34m=\u001b[0m \u001b[0mmodel_GRU\u001b[0m\u001b[0;34m.\u001b[0m\u001b[0mfit\u001b[0m\u001b[0;34m(\u001b[0m\u001b[0mX_train\u001b[0m\u001b[0;34m,\u001b[0m\u001b[0my_train\u001b[0m\u001b[0;34m,\u001b[0m\u001b[0mepochs\u001b[0m\u001b[0;34m=\u001b[0m\u001b[0;36m100\u001b[0m\u001b[0;34m,\u001b[0m\u001b[0mvalidation_data\u001b[0m\u001b[0;34m=\u001b[0m\u001b[0;34m(\u001b[0m\u001b[0mX_test\u001b[0m\u001b[0;34m,\u001b[0m\u001b[0my_test\u001b[0m\u001b[0;34m)\u001b[0m\u001b[0;34m,\u001b[0m\u001b[0mbatch_size\u001b[0m\u001b[0;34m=\u001b[0m\u001b[0;36m25\u001b[0m\u001b[0;34m,\u001b[0m\u001b[0mverbose\u001b[0m\u001b[0;34m=\u001b[0m\u001b[0;36m1\u001b[0m\u001b[0;34m,\u001b[0m\u001b[0mcallbacks\u001b[0m\u001b[0;34m=\u001b[0m\u001b[0;34m[\u001b[0m\u001b[0mreduce_lr\u001b[0m\u001b[0;34m]\u001b[0m\u001b[0;34m)\u001b[0m\u001b[0;34m\u001b[0m\u001b[0;34m\u001b[0m\u001b[0m\n\u001b[0m",
            "\u001b[0;32m/usr/local/lib/python3.7/dist-packages/keras/engine/training.py\u001b[0m in \u001b[0;36mfit\u001b[0;34m(self, x, y, batch_size, epochs, verbose, callbacks, validation_split, validation_data, shuffle, class_weight, sample_weight, initial_epoch, steps_per_epoch, validation_steps, validation_batch_size, validation_freq, max_queue_size, workers, use_multiprocessing)\u001b[0m\n\u001b[1;32m   1182\u001b[0m                 _r=1):\n\u001b[1;32m   1183\u001b[0m               \u001b[0mcallbacks\u001b[0m\u001b[0;34m.\u001b[0m\u001b[0mon_train_batch_begin\u001b[0m\u001b[0;34m(\u001b[0m\u001b[0mstep\u001b[0m\u001b[0;34m)\u001b[0m\u001b[0;34m\u001b[0m\u001b[0;34m\u001b[0m\u001b[0m\n\u001b[0;32m-> 1184\u001b[0;31m               \u001b[0mtmp_logs\u001b[0m \u001b[0;34m=\u001b[0m \u001b[0mself\u001b[0m\u001b[0;34m.\u001b[0m\u001b[0mtrain_function\u001b[0m\u001b[0;34m(\u001b[0m\u001b[0miterator\u001b[0m\u001b[0;34m)\u001b[0m\u001b[0;34m\u001b[0m\u001b[0;34m\u001b[0m\u001b[0m\n\u001b[0m\u001b[1;32m   1185\u001b[0m               \u001b[0;32mif\u001b[0m \u001b[0mdata_handler\u001b[0m\u001b[0;34m.\u001b[0m\u001b[0mshould_sync\u001b[0m\u001b[0;34m:\u001b[0m\u001b[0;34m\u001b[0m\u001b[0;34m\u001b[0m\u001b[0m\n\u001b[1;32m   1186\u001b[0m                 \u001b[0mcontext\u001b[0m\u001b[0;34m.\u001b[0m\u001b[0masync_wait\u001b[0m\u001b[0;34m(\u001b[0m\u001b[0;34m)\u001b[0m\u001b[0;34m\u001b[0m\u001b[0;34m\u001b[0m\u001b[0m\n",
            "\u001b[0;32m/usr/local/lib/python3.7/dist-packages/tensorflow/python/eager/def_function.py\u001b[0m in \u001b[0;36m__call__\u001b[0;34m(self, *args, **kwds)\u001b[0m\n\u001b[1;32m    883\u001b[0m \u001b[0;34m\u001b[0m\u001b[0m\n\u001b[1;32m    884\u001b[0m       \u001b[0;32mwith\u001b[0m \u001b[0mOptionalXlaContext\u001b[0m\u001b[0;34m(\u001b[0m\u001b[0mself\u001b[0m\u001b[0;34m.\u001b[0m\u001b[0m_jit_compile\u001b[0m\u001b[0;34m)\u001b[0m\u001b[0;34m:\u001b[0m\u001b[0;34m\u001b[0m\u001b[0;34m\u001b[0m\u001b[0m\n\u001b[0;32m--> 885\u001b[0;31m         \u001b[0mresult\u001b[0m \u001b[0;34m=\u001b[0m \u001b[0mself\u001b[0m\u001b[0;34m.\u001b[0m\u001b[0m_call\u001b[0m\u001b[0;34m(\u001b[0m\u001b[0;34m*\u001b[0m\u001b[0margs\u001b[0m\u001b[0;34m,\u001b[0m \u001b[0;34m**\u001b[0m\u001b[0mkwds\u001b[0m\u001b[0;34m)\u001b[0m\u001b[0;34m\u001b[0m\u001b[0;34m\u001b[0m\u001b[0m\n\u001b[0m\u001b[1;32m    886\u001b[0m \u001b[0;34m\u001b[0m\u001b[0m\n\u001b[1;32m    887\u001b[0m       \u001b[0mnew_tracing_count\u001b[0m \u001b[0;34m=\u001b[0m \u001b[0mself\u001b[0m\u001b[0;34m.\u001b[0m\u001b[0mexperimental_get_tracing_count\u001b[0m\u001b[0;34m(\u001b[0m\u001b[0;34m)\u001b[0m\u001b[0;34m\u001b[0m\u001b[0;34m\u001b[0m\u001b[0m\n",
            "\u001b[0;32m/usr/local/lib/python3.7/dist-packages/tensorflow/python/eager/def_function.py\u001b[0m in \u001b[0;36m_call\u001b[0;34m(self, *args, **kwds)\u001b[0m\n\u001b[1;32m    931\u001b[0m       \u001b[0;31m# This is the first call of __call__, so we have to initialize.\u001b[0m\u001b[0;34m\u001b[0m\u001b[0;34m\u001b[0m\u001b[0;34m\u001b[0m\u001b[0m\n\u001b[1;32m    932\u001b[0m       \u001b[0minitializers\u001b[0m \u001b[0;34m=\u001b[0m \u001b[0;34m[\u001b[0m\u001b[0;34m]\u001b[0m\u001b[0;34m\u001b[0m\u001b[0;34m\u001b[0m\u001b[0m\n\u001b[0;32m--> 933\u001b[0;31m       \u001b[0mself\u001b[0m\u001b[0;34m.\u001b[0m\u001b[0m_initialize\u001b[0m\u001b[0;34m(\u001b[0m\u001b[0margs\u001b[0m\u001b[0;34m,\u001b[0m \u001b[0mkwds\u001b[0m\u001b[0;34m,\u001b[0m \u001b[0madd_initializers_to\u001b[0m\u001b[0;34m=\u001b[0m\u001b[0minitializers\u001b[0m\u001b[0;34m)\u001b[0m\u001b[0;34m\u001b[0m\u001b[0;34m\u001b[0m\u001b[0m\n\u001b[0m\u001b[1;32m    934\u001b[0m     \u001b[0;32mfinally\u001b[0m\u001b[0;34m:\u001b[0m\u001b[0;34m\u001b[0m\u001b[0;34m\u001b[0m\u001b[0m\n\u001b[1;32m    935\u001b[0m       \u001b[0;31m# At this point we know that the initialization is complete (or less\u001b[0m\u001b[0;34m\u001b[0m\u001b[0;34m\u001b[0m\u001b[0;34m\u001b[0m\u001b[0m\n",
            "\u001b[0;32m/usr/local/lib/python3.7/dist-packages/tensorflow/python/eager/def_function.py\u001b[0m in \u001b[0;36m_initialize\u001b[0;34m(self, args, kwds, add_initializers_to)\u001b[0m\n\u001b[1;32m    758\u001b[0m     self._concrete_stateful_fn = (\n\u001b[1;32m    759\u001b[0m         self._stateful_fn._get_concrete_function_internal_garbage_collected(  # pylint: disable=protected-access\n\u001b[0;32m--> 760\u001b[0;31m             *args, **kwds))\n\u001b[0m\u001b[1;32m    761\u001b[0m \u001b[0;34m\u001b[0m\u001b[0m\n\u001b[1;32m    762\u001b[0m     \u001b[0;32mdef\u001b[0m \u001b[0minvalid_creator_scope\u001b[0m\u001b[0;34m(\u001b[0m\u001b[0;34m*\u001b[0m\u001b[0munused_args\u001b[0m\u001b[0;34m,\u001b[0m \u001b[0;34m**\u001b[0m\u001b[0munused_kwds\u001b[0m\u001b[0;34m)\u001b[0m\u001b[0;34m:\u001b[0m\u001b[0;34m\u001b[0m\u001b[0;34m\u001b[0m\u001b[0m\n",
            "\u001b[0;32m/usr/local/lib/python3.7/dist-packages/tensorflow/python/eager/function.py\u001b[0m in \u001b[0;36m_get_concrete_function_internal_garbage_collected\u001b[0;34m(self, *args, **kwargs)\u001b[0m\n\u001b[1;32m   3064\u001b[0m       \u001b[0margs\u001b[0m\u001b[0;34m,\u001b[0m \u001b[0mkwargs\u001b[0m \u001b[0;34m=\u001b[0m \u001b[0;32mNone\u001b[0m\u001b[0;34m,\u001b[0m \u001b[0;32mNone\u001b[0m\u001b[0;34m\u001b[0m\u001b[0;34m\u001b[0m\u001b[0m\n\u001b[1;32m   3065\u001b[0m     \u001b[0;32mwith\u001b[0m \u001b[0mself\u001b[0m\u001b[0;34m.\u001b[0m\u001b[0m_lock\u001b[0m\u001b[0;34m:\u001b[0m\u001b[0;34m\u001b[0m\u001b[0;34m\u001b[0m\u001b[0m\n\u001b[0;32m-> 3066\u001b[0;31m       \u001b[0mgraph_function\u001b[0m\u001b[0;34m,\u001b[0m \u001b[0m_\u001b[0m \u001b[0;34m=\u001b[0m \u001b[0mself\u001b[0m\u001b[0;34m.\u001b[0m\u001b[0m_maybe_define_function\u001b[0m\u001b[0;34m(\u001b[0m\u001b[0margs\u001b[0m\u001b[0;34m,\u001b[0m \u001b[0mkwargs\u001b[0m\u001b[0;34m)\u001b[0m\u001b[0;34m\u001b[0m\u001b[0;34m\u001b[0m\u001b[0m\n\u001b[0m\u001b[1;32m   3067\u001b[0m     \u001b[0;32mreturn\u001b[0m \u001b[0mgraph_function\u001b[0m\u001b[0;34m\u001b[0m\u001b[0;34m\u001b[0m\u001b[0m\n\u001b[1;32m   3068\u001b[0m \u001b[0;34m\u001b[0m\u001b[0m\n",
            "\u001b[0;32m/usr/local/lib/python3.7/dist-packages/tensorflow/python/eager/function.py\u001b[0m in \u001b[0;36m_maybe_define_function\u001b[0;34m(self, args, kwargs)\u001b[0m\n\u001b[1;32m   3461\u001b[0m \u001b[0;34m\u001b[0m\u001b[0m\n\u001b[1;32m   3462\u001b[0m           \u001b[0mself\u001b[0m\u001b[0;34m.\u001b[0m\u001b[0m_function_cache\u001b[0m\u001b[0;34m.\u001b[0m\u001b[0mmissed\u001b[0m\u001b[0;34m.\u001b[0m\u001b[0madd\u001b[0m\u001b[0;34m(\u001b[0m\u001b[0mcall_context_key\u001b[0m\u001b[0;34m)\u001b[0m\u001b[0;34m\u001b[0m\u001b[0;34m\u001b[0m\u001b[0m\n\u001b[0;32m-> 3463\u001b[0;31m           \u001b[0mgraph_function\u001b[0m \u001b[0;34m=\u001b[0m \u001b[0mself\u001b[0m\u001b[0;34m.\u001b[0m\u001b[0m_create_graph_function\u001b[0m\u001b[0;34m(\u001b[0m\u001b[0margs\u001b[0m\u001b[0;34m,\u001b[0m \u001b[0mkwargs\u001b[0m\u001b[0;34m)\u001b[0m\u001b[0;34m\u001b[0m\u001b[0;34m\u001b[0m\u001b[0m\n\u001b[0m\u001b[1;32m   3464\u001b[0m           \u001b[0mself\u001b[0m\u001b[0;34m.\u001b[0m\u001b[0m_function_cache\u001b[0m\u001b[0;34m.\u001b[0m\u001b[0mprimary\u001b[0m\u001b[0;34m[\u001b[0m\u001b[0mcache_key\u001b[0m\u001b[0;34m]\u001b[0m \u001b[0;34m=\u001b[0m \u001b[0mgraph_function\u001b[0m\u001b[0;34m\u001b[0m\u001b[0;34m\u001b[0m\u001b[0m\n\u001b[1;32m   3465\u001b[0m \u001b[0;34m\u001b[0m\u001b[0m\n",
            "\u001b[0;32m/usr/local/lib/python3.7/dist-packages/tensorflow/python/eager/function.py\u001b[0m in \u001b[0;36m_create_graph_function\u001b[0;34m(self, args, kwargs, override_flat_arg_shapes)\u001b[0m\n\u001b[1;32m   3306\u001b[0m             \u001b[0marg_names\u001b[0m\u001b[0;34m=\u001b[0m\u001b[0marg_names\u001b[0m\u001b[0;34m,\u001b[0m\u001b[0;34m\u001b[0m\u001b[0;34m\u001b[0m\u001b[0m\n\u001b[1;32m   3307\u001b[0m             \u001b[0moverride_flat_arg_shapes\u001b[0m\u001b[0;34m=\u001b[0m\u001b[0moverride_flat_arg_shapes\u001b[0m\u001b[0;34m,\u001b[0m\u001b[0;34m\u001b[0m\u001b[0;34m\u001b[0m\u001b[0m\n\u001b[0;32m-> 3308\u001b[0;31m             capture_by_value=self._capture_by_value),\n\u001b[0m\u001b[1;32m   3309\u001b[0m         \u001b[0mself\u001b[0m\u001b[0;34m.\u001b[0m\u001b[0m_function_attributes\u001b[0m\u001b[0;34m,\u001b[0m\u001b[0;34m\u001b[0m\u001b[0;34m\u001b[0m\u001b[0m\n\u001b[1;32m   3310\u001b[0m         \u001b[0mfunction_spec\u001b[0m\u001b[0;34m=\u001b[0m\u001b[0mself\u001b[0m\u001b[0;34m.\u001b[0m\u001b[0mfunction_spec\u001b[0m\u001b[0;34m,\u001b[0m\u001b[0;34m\u001b[0m\u001b[0;34m\u001b[0m\u001b[0m\n",
            "\u001b[0;32m/usr/local/lib/python3.7/dist-packages/tensorflow/python/framework/func_graph.py\u001b[0m in \u001b[0;36mfunc_graph_from_py_func\u001b[0;34m(name, python_func, args, kwargs, signature, func_graph, autograph, autograph_options, add_control_dependencies, arg_names, op_return_value, collections, capture_by_value, override_flat_arg_shapes, acd_record_initial_resource_uses)\u001b[0m\n\u001b[1;32m   1005\u001b[0m         \u001b[0m_\u001b[0m\u001b[0;34m,\u001b[0m \u001b[0moriginal_func\u001b[0m \u001b[0;34m=\u001b[0m \u001b[0mtf_decorator\u001b[0m\u001b[0;34m.\u001b[0m\u001b[0munwrap\u001b[0m\u001b[0;34m(\u001b[0m\u001b[0mpython_func\u001b[0m\u001b[0;34m)\u001b[0m\u001b[0;34m\u001b[0m\u001b[0;34m\u001b[0m\u001b[0m\n\u001b[1;32m   1006\u001b[0m \u001b[0;34m\u001b[0m\u001b[0m\n\u001b[0;32m-> 1007\u001b[0;31m       \u001b[0mfunc_outputs\u001b[0m \u001b[0;34m=\u001b[0m \u001b[0mpython_func\u001b[0m\u001b[0;34m(\u001b[0m\u001b[0;34m*\u001b[0m\u001b[0mfunc_args\u001b[0m\u001b[0;34m,\u001b[0m \u001b[0;34m**\u001b[0m\u001b[0mfunc_kwargs\u001b[0m\u001b[0;34m)\u001b[0m\u001b[0;34m\u001b[0m\u001b[0;34m\u001b[0m\u001b[0m\n\u001b[0m\u001b[1;32m   1008\u001b[0m \u001b[0;34m\u001b[0m\u001b[0m\n\u001b[1;32m   1009\u001b[0m       \u001b[0;31m# invariant: `func_outputs` contains only Tensors, CompositeTensors,\u001b[0m\u001b[0;34m\u001b[0m\u001b[0;34m\u001b[0m\u001b[0;34m\u001b[0m\u001b[0m\n",
            "\u001b[0;32m/usr/local/lib/python3.7/dist-packages/tensorflow/python/eager/def_function.py\u001b[0m in \u001b[0;36mwrapped_fn\u001b[0;34m(*args, **kwds)\u001b[0m\n\u001b[1;32m    666\u001b[0m         \u001b[0;31m# the function a weak reference to itself to avoid a reference cycle.\u001b[0m\u001b[0;34m\u001b[0m\u001b[0;34m\u001b[0m\u001b[0;34m\u001b[0m\u001b[0m\n\u001b[1;32m    667\u001b[0m         \u001b[0;32mwith\u001b[0m \u001b[0mOptionalXlaContext\u001b[0m\u001b[0;34m(\u001b[0m\u001b[0mcompile_with_xla\u001b[0m\u001b[0;34m)\u001b[0m\u001b[0;34m:\u001b[0m\u001b[0;34m\u001b[0m\u001b[0;34m\u001b[0m\u001b[0m\n\u001b[0;32m--> 668\u001b[0;31m           \u001b[0mout\u001b[0m \u001b[0;34m=\u001b[0m \u001b[0mweak_wrapped_fn\u001b[0m\u001b[0;34m(\u001b[0m\u001b[0;34m)\u001b[0m\u001b[0;34m.\u001b[0m\u001b[0m__wrapped__\u001b[0m\u001b[0;34m(\u001b[0m\u001b[0;34m*\u001b[0m\u001b[0margs\u001b[0m\u001b[0;34m,\u001b[0m \u001b[0;34m**\u001b[0m\u001b[0mkwds\u001b[0m\u001b[0;34m)\u001b[0m\u001b[0;34m\u001b[0m\u001b[0;34m\u001b[0m\u001b[0m\n\u001b[0m\u001b[1;32m    669\u001b[0m         \u001b[0;32mreturn\u001b[0m \u001b[0mout\u001b[0m\u001b[0;34m\u001b[0m\u001b[0;34m\u001b[0m\u001b[0m\n\u001b[1;32m    670\u001b[0m \u001b[0;34m\u001b[0m\u001b[0m\n",
            "\u001b[0;32m/usr/local/lib/python3.7/dist-packages/tensorflow/python/framework/func_graph.py\u001b[0m in \u001b[0;36mwrapper\u001b[0;34m(*args, **kwargs)\u001b[0m\n\u001b[1;32m    992\u001b[0m           \u001b[0;32mexcept\u001b[0m \u001b[0mException\u001b[0m \u001b[0;32mas\u001b[0m \u001b[0me\u001b[0m\u001b[0;34m:\u001b[0m  \u001b[0;31m# pylint:disable=broad-except\u001b[0m\u001b[0;34m\u001b[0m\u001b[0;34m\u001b[0m\u001b[0m\n\u001b[1;32m    993\u001b[0m             \u001b[0;32mif\u001b[0m \u001b[0mhasattr\u001b[0m\u001b[0;34m(\u001b[0m\u001b[0me\u001b[0m\u001b[0;34m,\u001b[0m \u001b[0;34m\"ag_error_metadata\"\u001b[0m\u001b[0;34m)\u001b[0m\u001b[0;34m:\u001b[0m\u001b[0;34m\u001b[0m\u001b[0;34m\u001b[0m\u001b[0m\n\u001b[0;32m--> 994\u001b[0;31m               \u001b[0;32mraise\u001b[0m \u001b[0me\u001b[0m\u001b[0;34m.\u001b[0m\u001b[0mag_error_metadata\u001b[0m\u001b[0;34m.\u001b[0m\u001b[0mto_exception\u001b[0m\u001b[0;34m(\u001b[0m\u001b[0me\u001b[0m\u001b[0;34m)\u001b[0m\u001b[0;34m\u001b[0m\u001b[0;34m\u001b[0m\u001b[0m\n\u001b[0m\u001b[1;32m    995\u001b[0m             \u001b[0;32melse\u001b[0m\u001b[0;34m:\u001b[0m\u001b[0;34m\u001b[0m\u001b[0;34m\u001b[0m\u001b[0m\n\u001b[1;32m    996\u001b[0m               \u001b[0;32mraise\u001b[0m\u001b[0;34m\u001b[0m\u001b[0;34m\u001b[0m\u001b[0m\n",
            "\u001b[0;31mValueError\u001b[0m: in user code:\n\n    /usr/local/lib/python3.7/dist-packages/keras/engine/training.py:853 train_function  *\n        return step_function(self, iterator)\n    /usr/local/lib/python3.7/dist-packages/keras/engine/training.py:842 step_function  **\n        outputs = model.distribute_strategy.run(run_step, args=(data,))\n    /usr/local/lib/python3.7/dist-packages/tensorflow/python/distribute/distribute_lib.py:1286 run\n        return self._extended.call_for_each_replica(fn, args=args, kwargs=kwargs)\n    /usr/local/lib/python3.7/dist-packages/tensorflow/python/distribute/distribute_lib.py:2849 call_for_each_replica\n        return self._call_for_each_replica(fn, args, kwargs)\n    /usr/local/lib/python3.7/dist-packages/tensorflow/python/distribute/distribute_lib.py:3632 _call_for_each_replica\n        return fn(*args, **kwargs)\n    /usr/local/lib/python3.7/dist-packages/keras/engine/training.py:835 run_step  **\n        outputs = model.train_step(data)\n    /usr/local/lib/python3.7/dist-packages/keras/engine/training.py:787 train_step\n        y_pred = self(x, training=True)\n    /usr/local/lib/python3.7/dist-packages/keras/engine/base_layer.py:1020 __call__\n        input_spec.assert_input_compatibility(self.input_spec, inputs, self.name)\n    /usr/local/lib/python3.7/dist-packages/keras/engine/input_spec.py:269 assert_input_compatibility\n        ', found shape=' + display_shape(x.shape))\n\n    ValueError: Input 0 is incompatible with layer model_1: expected shape=(None, 10, 2), found shape=(None, 10, 7)\n"
          ]
        }
      ]
    },
    {
      "cell_type": "code",
      "metadata": {
        "colab": {
          "base_uri": "https://localhost:8080/"
        },
        "id": "JlMIjoyx3ec6",
        "outputId": "f3c43fd7-61f5-464b-b765-5899b83feaee"
      },
      "source": [
        "from sklearn.metrics import mean_squared_error\n",
        "loss, accuracy,mean_squared_error = model_GRU.evaluate(X_test, y_test, verbose=0)\n",
        "print('Accuracy: %f' % accuracy)\n",
        "print('Error Rate: %f' % (1 - accuracy))\n",
        "print('Mean Squared Error: %f' % mean_squared_error)"
      ],
      "execution_count": null,
      "outputs": [
        {
          "output_type": "stream",
          "name": "stdout",
          "text": [
            "Accuracy: 0.555200\n",
            "Error Rate: 0.444800\n",
            "Mean Squared Error: 0.060049\n"
          ]
        }
      ]
    },
    {
      "cell_type": "code",
      "metadata": {
        "id": "PuMnJc-1tFGG"
      },
      "source": [
        "new_index = dataset.iloc[:,0]\n",
        "new_index\n",
        "values = dataset.set_index(new_index)\n",
        "values = values.iloc[:,1:]\n",
        "values = values.iloc[:1500,[0,1,3,5,6,7,8]].astype('float32')\n",
        "values\n",
        "labels = dataset.iloc[:1500,-9]\n",
        "labels\n",
        "\n",
        "from sklearn.model_selection import train_test_split\n",
        "train_data, test_data, train_labels, test_labels = train_test_split(values, labels, test_size=0.20, random_state=88)"
      ],
      "execution_count": null,
      "outputs": []
    },
    {
      "cell_type": "code",
      "metadata": {
        "id": "vroNyHtsuBM2"
      },
      "source": [
        "train_labels = pd.array(train_labels)\n",
        "test_labels = pd.array(test_labels)"
      ],
      "execution_count": null,
      "outputs": []
    },
    {
      "cell_type": "code",
      "metadata": {
        "colab": {
          "base_uri": "https://localhost:8080/"
        },
        "id": "H3Nsg_UjuGRP",
        "outputId": "ecfd5b9c-1561-477f-bb1c-864dd84d6fb6"
      },
      "source": [
        "train = train_data\n",
        "scalers={}\n",
        "for i in train_data.columns:\n",
        "    scaler = MinMaxScaler(feature_range=(-1,1))\n",
        "    s_s = scaler.fit_transform(train[i].values.reshape(-1,1))\n",
        "    s_s= np.reshape(s_s,len(s_s))\n",
        "    scalers['scaler_'+ i] = scaler\n",
        "    train[i]=s_s\n",
        "test = test_data\n",
        "for i in test_data.columns:\n",
        "    scaler = scalers['scaler_'+i]\n",
        "    s_s = scaler.transform(test[i].values.reshape(-1,1))\n",
        "    s_s= np.reshape(s_s,len(s_s))\n",
        "    scalers['scaler_'+i] = scaler\n",
        "    test[i]=s_s"
      ],
      "execution_count": null,
      "outputs": [
        {
          "output_type": "stream",
          "name": "stderr",
          "text": [
            "/usr/local/lib/python3.7/dist-packages/ipykernel_launcher.py:8: SettingWithCopyWarning: \n",
            "A value is trying to be set on a copy of a slice from a DataFrame.\n",
            "Try using .loc[row_indexer,col_indexer] = value instead\n",
            "\n",
            "See the caveats in the documentation: https://pandas.pydata.org/pandas-docs/stable/user_guide/indexing.html#returning-a-view-versus-a-copy\n",
            "  \n",
            "/usr/local/lib/python3.7/dist-packages/ipykernel_launcher.py:8: SettingWithCopyWarning: \n",
            "A value is trying to be set on a copy of a slice from a DataFrame.\n",
            "Try using .loc[row_indexer,col_indexer] = value instead\n",
            "\n",
            "See the caveats in the documentation: https://pandas.pydata.org/pandas-docs/stable/user_guide/indexing.html#returning-a-view-versus-a-copy\n",
            "  \n",
            "/usr/local/lib/python3.7/dist-packages/ipykernel_launcher.py:8: SettingWithCopyWarning: \n",
            "A value is trying to be set on a copy of a slice from a DataFrame.\n",
            "Try using .loc[row_indexer,col_indexer] = value instead\n",
            "\n",
            "See the caveats in the documentation: https://pandas.pydata.org/pandas-docs/stable/user_guide/indexing.html#returning-a-view-versus-a-copy\n",
            "  \n",
            "/usr/local/lib/python3.7/dist-packages/ipykernel_launcher.py:8: SettingWithCopyWarning: \n",
            "A value is trying to be set on a copy of a slice from a DataFrame.\n",
            "Try using .loc[row_indexer,col_indexer] = value instead\n",
            "\n",
            "See the caveats in the documentation: https://pandas.pydata.org/pandas-docs/stable/user_guide/indexing.html#returning-a-view-versus-a-copy\n",
            "  \n",
            "/usr/local/lib/python3.7/dist-packages/ipykernel_launcher.py:8: SettingWithCopyWarning: \n",
            "A value is trying to be set on a copy of a slice from a DataFrame.\n",
            "Try using .loc[row_indexer,col_indexer] = value instead\n",
            "\n",
            "See the caveats in the documentation: https://pandas.pydata.org/pandas-docs/stable/user_guide/indexing.html#returning-a-view-versus-a-copy\n",
            "  \n",
            "/usr/local/lib/python3.7/dist-packages/ipykernel_launcher.py:8: SettingWithCopyWarning: \n",
            "A value is trying to be set on a copy of a slice from a DataFrame.\n",
            "Try using .loc[row_indexer,col_indexer] = value instead\n",
            "\n",
            "See the caveats in the documentation: https://pandas.pydata.org/pandas-docs/stable/user_guide/indexing.html#returning-a-view-versus-a-copy\n",
            "  \n",
            "/usr/local/lib/python3.7/dist-packages/ipykernel_launcher.py:8: SettingWithCopyWarning: \n",
            "A value is trying to be set on a copy of a slice from a DataFrame.\n",
            "Try using .loc[row_indexer,col_indexer] = value instead\n",
            "\n",
            "See the caveats in the documentation: https://pandas.pydata.org/pandas-docs/stable/user_guide/indexing.html#returning-a-view-versus-a-copy\n",
            "  \n",
            "/usr/local/lib/python3.7/dist-packages/ipykernel_launcher.py:15: SettingWithCopyWarning: \n",
            "A value is trying to be set on a copy of a slice from a DataFrame.\n",
            "Try using .loc[row_indexer,col_indexer] = value instead\n",
            "\n",
            "See the caveats in the documentation: https://pandas.pydata.org/pandas-docs/stable/user_guide/indexing.html#returning-a-view-versus-a-copy\n",
            "  from ipykernel import kernelapp as app\n",
            "/usr/local/lib/python3.7/dist-packages/ipykernel_launcher.py:15: SettingWithCopyWarning: \n",
            "A value is trying to be set on a copy of a slice from a DataFrame.\n",
            "Try using .loc[row_indexer,col_indexer] = value instead\n",
            "\n",
            "See the caveats in the documentation: https://pandas.pydata.org/pandas-docs/stable/user_guide/indexing.html#returning-a-view-versus-a-copy\n",
            "  from ipykernel import kernelapp as app\n",
            "/usr/local/lib/python3.7/dist-packages/ipykernel_launcher.py:15: SettingWithCopyWarning: \n",
            "A value is trying to be set on a copy of a slice from a DataFrame.\n",
            "Try using .loc[row_indexer,col_indexer] = value instead\n",
            "\n",
            "See the caveats in the documentation: https://pandas.pydata.org/pandas-docs/stable/user_guide/indexing.html#returning-a-view-versus-a-copy\n",
            "  from ipykernel import kernelapp as app\n",
            "/usr/local/lib/python3.7/dist-packages/ipykernel_launcher.py:15: SettingWithCopyWarning: \n",
            "A value is trying to be set on a copy of a slice from a DataFrame.\n",
            "Try using .loc[row_indexer,col_indexer] = value instead\n",
            "\n",
            "See the caveats in the documentation: https://pandas.pydata.org/pandas-docs/stable/user_guide/indexing.html#returning-a-view-versus-a-copy\n",
            "  from ipykernel import kernelapp as app\n",
            "/usr/local/lib/python3.7/dist-packages/ipykernel_launcher.py:15: SettingWithCopyWarning: \n",
            "A value is trying to be set on a copy of a slice from a DataFrame.\n",
            "Try using .loc[row_indexer,col_indexer] = value instead\n",
            "\n",
            "See the caveats in the documentation: https://pandas.pydata.org/pandas-docs/stable/user_guide/indexing.html#returning-a-view-versus-a-copy\n",
            "  from ipykernel import kernelapp as app\n",
            "/usr/local/lib/python3.7/dist-packages/ipykernel_launcher.py:15: SettingWithCopyWarning: \n",
            "A value is trying to be set on a copy of a slice from a DataFrame.\n",
            "Try using .loc[row_indexer,col_indexer] = value instead\n",
            "\n",
            "See the caveats in the documentation: https://pandas.pydata.org/pandas-docs/stable/user_guide/indexing.html#returning-a-view-versus-a-copy\n",
            "  from ipykernel import kernelapp as app\n",
            "/usr/local/lib/python3.7/dist-packages/ipykernel_launcher.py:15: SettingWithCopyWarning: \n",
            "A value is trying to be set on a copy of a slice from a DataFrame.\n",
            "Try using .loc[row_indexer,col_indexer] = value instead\n",
            "\n",
            "See the caveats in the documentation: https://pandas.pydata.org/pandas-docs/stable/user_guide/indexing.html#returning-a-view-versus-a-copy\n",
            "  from ipykernel import kernelapp as app\n"
          ]
        }
      ]
    },
    {
      "cell_type": "code",
      "metadata": {
        "id": "0vBU2N-puJov"
      },
      "source": [
        "def split_series(series, n_past, n_future):\n",
        "  # n_past ==> no of past observations\n",
        "  # n_future ==> no of future observations \n",
        "  X, y = list(), list()\n",
        "  for window_start in range(len(series)):\n",
        "    past_end = window_start + n_past\n",
        "    future_end = past_end + n_future\n",
        "    if future_end > len(series):\n",
        "      break\n",
        "    # slicing the past and future parts of the window\n",
        "    past, future = series[window_start:past_end, :], series[past_end:future_end, :]\n",
        "    X.append(past)\n",
        "    y.append(future)\n",
        "  return np.array(X), np.array(y)"
      ],
      "execution_count": null,
      "outputs": []
    },
    {
      "cell_type": "code",
      "metadata": {
        "id": "DpgxqnB6uNBh"
      },
      "source": [
        "n_past = 10\n",
        "n_future = 20\n",
        "n_features = 7"
      ],
      "execution_count": null,
      "outputs": []
    },
    {
      "cell_type": "code",
      "metadata": {
        "id": "3B8r_ug7uSXF"
      },
      "source": [
        "X_train, y_train = split_series(train.values,n_past, n_future)\n",
        "X_train = X_train.reshape((X_train.shape[0], X_train.shape[1],n_features))\n",
        "y_train = y_train.reshape((y_train.shape[0], y_train.shape[1], n_features))\n",
        "X_test, y_test = split_series(test.values,n_past, n_future)\n",
        "X_test = X_test.reshape((X_test.shape[0], X_test.shape[1], n_features))\n",
        "y_test = y_test.reshape((y_test.shape[0], y_test.shape[1], n_features))"
      ],
      "execution_count": null,
      "outputs": []
    },
    {
      "cell_type": "code",
      "metadata": {
        "colab": {
          "base_uri": "https://localhost:8080/"
        },
        "id": "2dfYYD3FuVuM",
        "outputId": "635573b5-ab36-4d3d-d79c-1d00e5441c9e"
      },
      "source": [
        "#LSTM\n",
        "encoder_inputs = tf.keras.layers.Input(shape=(n_past, n_features))\n",
        "encoder_l1 = tf.keras.layers.LSTM(2, activation='tanh',return_state=True) \n",
        "encoder_outputs1 = encoder_l1(encoder_inputs)\n",
        "encoder_states1 = encoder_outputs1[1:]\n",
        "decoder_inputs = tf.keras.layers.RepeatVector(n_future)(encoder_outputs1[0])\n",
        "decoder_l1 = tf.keras.layers.LSTM(2, return_sequences=True)(decoder_inputs,initial_state = encoder_states1)\n",
        "decoder_outputs1 = tf.keras.layers.TimeDistributed(tf.keras.layers.Dense(n_features))(decoder_l1)\n",
        "model_LSTM = tf.keras.models.Model(encoder_inputs,decoder_outputs1)\n",
        "\n",
        "model_LSTM.summary()"
      ],
      "execution_count": null,
      "outputs": [
        {
          "output_type": "stream",
          "name": "stdout",
          "text": [
            "Model: \"model_2\"\n",
            "__________________________________________________________________________________________________\n",
            "Layer (type)                    Output Shape         Param #     Connected to                     \n",
            "==================================================================================================\n",
            "input_3 (InputLayer)            [(None, 10, 7)]      0                                            \n",
            "__________________________________________________________________________________________________\n",
            "lstm_2 (LSTM)                   [(None, 2), (None, 2 80          input_3[0][0]                    \n",
            "__________________________________________________________________________________________________\n",
            "repeat_vector_2 (RepeatVector)  (None, 20, 2)        0           lstm_2[0][0]                     \n",
            "__________________________________________________________________________________________________\n",
            "lstm_3 (LSTM)                   (None, 20, 2)        40          repeat_vector_2[0][0]            \n",
            "                                                                 lstm_2[0][1]                     \n",
            "                                                                 lstm_2[0][2]                     \n",
            "__________________________________________________________________________________________________\n",
            "time_distributed_2 (TimeDistrib (None, 20, 7)        21          lstm_3[0][0]                     \n",
            "==================================================================================================\n",
            "Total params: 141\n",
            "Trainable params: 141\n",
            "Non-trainable params: 0\n",
            "__________________________________________________________________________________________________\n"
          ]
        }
      ]
    },
    {
      "cell_type": "code",
      "metadata": {
        "id": "rMfBiVujuYCC"
      },
      "source": [
        "from keras import backend as K\n",
        "\n",
        "def mean_squared_error(y_true, y_pred):\n",
        "    return K.mean(K.square(y_pred - y_true), axis=-1)"
      ],
      "execution_count": null,
      "outputs": []
    },
    {
      "cell_type": "code",
      "metadata": {
        "colab": {
          "base_uri": "https://localhost:8080/"
        },
        "id": "gcO1l7osua1w",
        "outputId": "f030e2bd-2b2b-4c5d-955a-d26999785f06"
      },
      "source": [
        "reduce_lr = tf.keras.callbacks.LearningRateScheduler(lambda x: 1e-3 * 0.90 ** x)\n",
        "\n",
        "#loss test\n",
        "model_LSTM.compile(optimizer=tf.keras.optimizers.Adam(learning_rate=.1e-3), loss=tf.keras.losses.MeanSquaredError(),metrics=['accuracy', 'mean_squared_error'])\n",
        "#model_LSTM.compile(optimizer=tf.keras.optimizers.Adam(learning_rate=.1e-3), loss=tf.keras.losses.binary_crossentropy,metrics=['accuracy',mean_squared_error])\n",
        "#model_LSTM.compile(optimizer=tf.keras.optimizers.Adam(learning_rate=.1e-3), loss=tf.keras.losses.categorical_crossentropy,metrics=['accuracy',mean_squared_error])\n",
        "#model_LSTM.compile(optimizer=tf.keras.optimizers.Adam(learning_rate=.1e-3), loss=tf.keras.losses.MeanSquaredError(),metrics=['accuracy',mean_squared_error])\n",
        "\n",
        "#optimizer test\n",
        "#model_LSTM.compile(optimizer=tf.keras.optimizers.SGD(learning_rate=.1e-3), loss=tf.keras.losses.Huber(),metrics=['accuracy', 'mean_squared_error'])\n",
        "#model_LSTM.compile(optimizer=tf.keras.optimizers.RMSprop(learning_rate=.1e-3), loss=tf.keras.losses.Huber(),metrics=['accuracy', 'mean_squared_error'])\n",
        "#model_LSTM.compile(optimizer=tf.keras.optimizers.Adadelta(learning_rate=.1e-3), loss=tf.keras.losses.Huber(),metrics=['accuracy',mean_squared_error])\n",
        "\n",
        "history_LSTM = model_LSTM.fit(X_train,y_train,epochs=100,validation_data=(X_test,y_test),batch_size=25,verbose=1,callbacks=[reduce_lr])"
      ],
      "execution_count": null,
      "outputs": [
        {
          "output_type": "stream",
          "name": "stdout",
          "text": [
            "Epoch 1/100\n",
            "42/44 [===========================>..] - ETA: 0s - loss: 0.1235 - accuracy: 0.6930 - mean_squared_error: 0.1235"
          ]
        },
        {
          "output_type": "stream",
          "name": "stderr",
          "text": [
            "Exception ignored in: <function IteratorResourceDeleter.__del__ at 0x7f8164f57b90>\n",
            "Traceback (most recent call last):\n",
            "  File \"/usr/local/lib/python3.7/dist-packages/tensorflow/python/data/ops/iterator_ops.py\", line 546, in __del__\n",
            "    handle=self._handle, deleter=self._deleter)\n",
            "  File \"/usr/local/lib/python3.7/dist-packages/tensorflow/python/ops/gen_dataset_ops.py\", line 1264, in delete_iterator\n",
            "    _ctx, \"DeleteIterator\", name, handle, deleter)\n",
            "KeyboardInterrupt: \n"
          ]
        },
        {
          "output_type": "stream",
          "name": "stdout",
          "text": [
            "44/44 [==============================] - 63s 1s/step - loss: 0.1237 - accuracy: 0.6934 - mean_squared_error: 0.1237 - val_loss: 0.1366 - val_accuracy: 0.6934 - val_mean_squared_error: 0.1366\n",
            "Epoch 2/100\n",
            "44/44 [==============================] - 1s 14ms/step - loss: 0.1236 - accuracy: 0.6934 - mean_squared_error: 0.1236 - val_loss: 0.1363 - val_accuracy: 0.6934 - val_mean_squared_error: 0.1363\n",
            "Epoch 3/100\n",
            "44/44 [==============================] - 1s 15ms/step - loss: 0.1236 - accuracy: 0.6934 - mean_squared_error: 0.1236 - val_loss: 0.1364 - val_accuracy: 0.6934 - val_mean_squared_error: 0.1364\n",
            "Epoch 4/100\n",
            "44/44 [==============================] - 1s 16ms/step - loss: 0.1236 - accuracy: 0.6934 - mean_squared_error: 0.1236 - val_loss: 0.1364 - val_accuracy: 0.6934 - val_mean_squared_error: 0.1364\n",
            "Epoch 5/100\n",
            "44/44 [==============================] - 1s 16ms/step - loss: 0.1236 - accuracy: 0.6934 - mean_squared_error: 0.1236 - val_loss: 0.1364 - val_accuracy: 0.6934 - val_mean_squared_error: 0.1364\n",
            "Epoch 6/100\n",
            "44/44 [==============================] - 1s 16ms/step - loss: 0.1236 - accuracy: 0.6934 - mean_squared_error: 0.1236 - val_loss: 0.1365 - val_accuracy: 0.6934 - val_mean_squared_error: 0.1365\n",
            "Epoch 7/100\n",
            "44/44 [==============================] - 1s 15ms/step - loss: 0.1236 - accuracy: 0.6934 - mean_squared_error: 0.1236 - val_loss: 0.1366 - val_accuracy: 0.6934 - val_mean_squared_error: 0.1366\n",
            "Epoch 8/100\n",
            "44/44 [==============================] - 1s 15ms/step - loss: 0.1236 - accuracy: 0.6934 - mean_squared_error: 0.1236 - val_loss: 0.1364 - val_accuracy: 0.6934 - val_mean_squared_error: 0.1364\n",
            "Epoch 9/100\n",
            "44/44 [==============================] - 1s 15ms/step - loss: 0.1236 - accuracy: 0.6934 - mean_squared_error: 0.1236 - val_loss: 0.1364 - val_accuracy: 0.6934 - val_mean_squared_error: 0.1364\n",
            "Epoch 10/100\n",
            "44/44 [==============================] - 1s 15ms/step - loss: 0.1236 - accuracy: 0.6934 - mean_squared_error: 0.1236 - val_loss: 0.1365 - val_accuracy: 0.6934 - val_mean_squared_error: 0.1365\n",
            "Epoch 11/100\n",
            "44/44 [==============================] - 1s 15ms/step - loss: 0.1236 - accuracy: 0.6934 - mean_squared_error: 0.1236 - val_loss: 0.1365 - val_accuracy: 0.6934 - val_mean_squared_error: 0.1365\n",
            "Epoch 12/100\n",
            "44/44 [==============================] - 1s 15ms/step - loss: 0.1236 - accuracy: 0.6934 - mean_squared_error: 0.1236 - val_loss: 0.1364 - val_accuracy: 0.6934 - val_mean_squared_error: 0.1364\n",
            "Epoch 13/100\n",
            "44/44 [==============================] - 1s 15ms/step - loss: 0.1236 - accuracy: 0.6934 - mean_squared_error: 0.1236 - val_loss: 0.1365 - val_accuracy: 0.6934 - val_mean_squared_error: 0.1365\n",
            "Epoch 14/100\n",
            "44/44 [==============================] - 1s 15ms/step - loss: 0.1236 - accuracy: 0.6934 - mean_squared_error: 0.1236 - val_loss: 0.1365 - val_accuracy: 0.6934 - val_mean_squared_error: 0.1365\n",
            "Epoch 15/100\n",
            "44/44 [==============================] - 1s 14ms/step - loss: 0.1236 - accuracy: 0.6934 - mean_squared_error: 0.1236 - val_loss: 0.1365 - val_accuracy: 0.6934 - val_mean_squared_error: 0.1365\n",
            "Epoch 16/100\n",
            "44/44 [==============================] - 1s 15ms/step - loss: 0.1236 - accuracy: 0.6934 - mean_squared_error: 0.1236 - val_loss: 0.1365 - val_accuracy: 0.6934 - val_mean_squared_error: 0.1365\n",
            "Epoch 17/100\n",
            "44/44 [==============================] - 1s 15ms/step - loss: 0.1236 - accuracy: 0.6934 - mean_squared_error: 0.1236 - val_loss: 0.1364 - val_accuracy: 0.6934 - val_mean_squared_error: 0.1364\n",
            "Epoch 18/100\n",
            "44/44 [==============================] - 1s 14ms/step - loss: 0.1236 - accuracy: 0.6934 - mean_squared_error: 0.1236 - val_loss: 0.1364 - val_accuracy: 0.6934 - val_mean_squared_error: 0.1364\n",
            "Epoch 19/100\n",
            "44/44 [==============================] - 1s 15ms/step - loss: 0.1236 - accuracy: 0.6934 - mean_squared_error: 0.1236 - val_loss: 0.1365 - val_accuracy: 0.6934 - val_mean_squared_error: 0.1365\n",
            "Epoch 20/100\n",
            "44/44 [==============================] - 1s 15ms/step - loss: 0.1236 - accuracy: 0.6934 - mean_squared_error: 0.1236 - val_loss: 0.1364 - val_accuracy: 0.6934 - val_mean_squared_error: 0.1364\n",
            "Epoch 21/100\n",
            "44/44 [==============================] - 1s 15ms/step - loss: 0.1236 - accuracy: 0.6934 - mean_squared_error: 0.1236 - val_loss: 0.1365 - val_accuracy: 0.6934 - val_mean_squared_error: 0.1365\n",
            "Epoch 22/100\n",
            "44/44 [==============================] - 1s 15ms/step - loss: 0.1236 - accuracy: 0.6934 - mean_squared_error: 0.1236 - val_loss: 0.1365 - val_accuracy: 0.6934 - val_mean_squared_error: 0.1365\n",
            "Epoch 23/100\n",
            "44/44 [==============================] - 1s 15ms/step - loss: 0.1236 - accuracy: 0.6934 - mean_squared_error: 0.1236 - val_loss: 0.1365 - val_accuracy: 0.6934 - val_mean_squared_error: 0.1365\n",
            "Epoch 24/100\n",
            "44/44 [==============================] - 1s 16ms/step - loss: 0.1236 - accuracy: 0.6934 - mean_squared_error: 0.1236 - val_loss: 0.1365 - val_accuracy: 0.6934 - val_mean_squared_error: 0.1365\n",
            "Epoch 25/100\n",
            "44/44 [==============================] - 1s 15ms/step - loss: 0.1236 - accuracy: 0.6934 - mean_squared_error: 0.1236 - val_loss: 0.1365 - val_accuracy: 0.6934 - val_mean_squared_error: 0.1365\n",
            "Epoch 26/100\n",
            "44/44 [==============================] - 1s 15ms/step - loss: 0.1236 - accuracy: 0.6934 - mean_squared_error: 0.1236 - val_loss: 0.1365 - val_accuracy: 0.6934 - val_mean_squared_error: 0.1365\n",
            "Epoch 27/100\n",
            "44/44 [==============================] - 1s 16ms/step - loss: 0.1236 - accuracy: 0.6934 - mean_squared_error: 0.1236 - val_loss: 0.1365 - val_accuracy: 0.6934 - val_mean_squared_error: 0.1365\n",
            "Epoch 28/100\n",
            "44/44 [==============================] - 1s 15ms/step - loss: 0.1236 - accuracy: 0.6934 - mean_squared_error: 0.1236 - val_loss: 0.1365 - val_accuracy: 0.6934 - val_mean_squared_error: 0.1365\n",
            "Epoch 29/100\n",
            "44/44 [==============================] - 1s 15ms/step - loss: 0.1236 - accuracy: 0.6934 - mean_squared_error: 0.1236 - val_loss: 0.1365 - val_accuracy: 0.6934 - val_mean_squared_error: 0.1365\n",
            "Epoch 30/100\n",
            "44/44 [==============================] - 1s 15ms/step - loss: 0.1236 - accuracy: 0.6934 - mean_squared_error: 0.1236 - val_loss: 0.1365 - val_accuracy: 0.6934 - val_mean_squared_error: 0.1365\n",
            "Epoch 31/100\n",
            "44/44 [==============================] - 1s 15ms/step - loss: 0.1236 - accuracy: 0.6934 - mean_squared_error: 0.1236 - val_loss: 0.1365 - val_accuracy: 0.6934 - val_mean_squared_error: 0.1365\n",
            "Epoch 32/100\n",
            "44/44 [==============================] - 1s 15ms/step - loss: 0.1236 - accuracy: 0.6934 - mean_squared_error: 0.1236 - val_loss: 0.1365 - val_accuracy: 0.6934 - val_mean_squared_error: 0.1365\n",
            "Epoch 33/100\n",
            "44/44 [==============================] - 1s 16ms/step - loss: 0.1236 - accuracy: 0.6934 - mean_squared_error: 0.1236 - val_loss: 0.1365 - val_accuracy: 0.6934 - val_mean_squared_error: 0.1365\n",
            "Epoch 34/100\n",
            "44/44 [==============================] - 1s 15ms/step - loss: 0.1236 - accuracy: 0.6934 - mean_squared_error: 0.1236 - val_loss: 0.1365 - val_accuracy: 0.6934 - val_mean_squared_error: 0.1365\n",
            "Epoch 35/100\n",
            "44/44 [==============================] - 1s 15ms/step - loss: 0.1236 - accuracy: 0.6934 - mean_squared_error: 0.1236 - val_loss: 0.1365 - val_accuracy: 0.6934 - val_mean_squared_error: 0.1365\n",
            "Epoch 36/100\n",
            "44/44 [==============================] - 1s 16ms/step - loss: 0.1236 - accuracy: 0.6934 - mean_squared_error: 0.1236 - val_loss: 0.1365 - val_accuracy: 0.6934 - val_mean_squared_error: 0.1365\n",
            "Epoch 37/100\n",
            "44/44 [==============================] - 1s 17ms/step - loss: 0.1236 - accuracy: 0.6934 - mean_squared_error: 0.1236 - val_loss: 0.1365 - val_accuracy: 0.6934 - val_mean_squared_error: 0.1365\n",
            "Epoch 38/100\n",
            "44/44 [==============================] - 1s 17ms/step - loss: 0.1236 - accuracy: 0.6934 - mean_squared_error: 0.1236 - val_loss: 0.1365 - val_accuracy: 0.6934 - val_mean_squared_error: 0.1365\n",
            "Epoch 39/100\n",
            "44/44 [==============================] - 1s 15ms/step - loss: 0.1236 - accuracy: 0.6934 - mean_squared_error: 0.1236 - val_loss: 0.1365 - val_accuracy: 0.6934 - val_mean_squared_error: 0.1365\n",
            "Epoch 40/100\n",
            "44/44 [==============================] - 1s 15ms/step - loss: 0.1236 - accuracy: 0.6934 - mean_squared_error: 0.1236 - val_loss: 0.1365 - val_accuracy: 0.6934 - val_mean_squared_error: 0.1365\n",
            "Epoch 41/100\n",
            "44/44 [==============================] - 1s 16ms/step - loss: 0.1236 - accuracy: 0.6934 - mean_squared_error: 0.1236 - val_loss: 0.1365 - val_accuracy: 0.6934 - val_mean_squared_error: 0.1365\n",
            "Epoch 42/100\n",
            "44/44 [==============================] - 1s 17ms/step - loss: 0.1236 - accuracy: 0.6934 - mean_squared_error: 0.1236 - val_loss: 0.1365 - val_accuracy: 0.6934 - val_mean_squared_error: 0.1365\n",
            "Epoch 43/100\n",
            "44/44 [==============================] - 1s 17ms/step - loss: 0.1236 - accuracy: 0.6934 - mean_squared_error: 0.1236 - val_loss: 0.1365 - val_accuracy: 0.6934 - val_mean_squared_error: 0.1365\n",
            "Epoch 44/100\n",
            "44/44 [==============================] - 1s 17ms/step - loss: 0.1236 - accuracy: 0.6934 - mean_squared_error: 0.1236 - val_loss: 0.1365 - val_accuracy: 0.6934 - val_mean_squared_error: 0.1365\n",
            "Epoch 45/100\n",
            "44/44 [==============================] - 1s 17ms/step - loss: 0.1236 - accuracy: 0.6934 - mean_squared_error: 0.1236 - val_loss: 0.1365 - val_accuracy: 0.6934 - val_mean_squared_error: 0.1365\n",
            "Epoch 46/100\n",
            "44/44 [==============================] - 1s 16ms/step - loss: 0.1236 - accuracy: 0.6934 - mean_squared_error: 0.1236 - val_loss: 0.1365 - val_accuracy: 0.6934 - val_mean_squared_error: 0.1365\n",
            "Epoch 47/100\n",
            "44/44 [==============================] - 1s 15ms/step - loss: 0.1236 - accuracy: 0.6934 - mean_squared_error: 0.1236 - val_loss: 0.1365 - val_accuracy: 0.6934 - val_mean_squared_error: 0.1365\n",
            "Epoch 48/100\n",
            "44/44 [==============================] - 1s 15ms/step - loss: 0.1236 - accuracy: 0.6934 - mean_squared_error: 0.1236 - val_loss: 0.1365 - val_accuracy: 0.6934 - val_mean_squared_error: 0.1365\n",
            "Epoch 49/100\n",
            "44/44 [==============================] - 1s 15ms/step - loss: 0.1236 - accuracy: 0.6934 - mean_squared_error: 0.1236 - val_loss: 0.1365 - val_accuracy: 0.6934 - val_mean_squared_error: 0.1365\n",
            "Epoch 50/100\n",
            "44/44 [==============================] - 1s 15ms/step - loss: 0.1236 - accuracy: 0.6934 - mean_squared_error: 0.1236 - val_loss: 0.1365 - val_accuracy: 0.6934 - val_mean_squared_error: 0.1365\n",
            "Epoch 51/100\n",
            "44/44 [==============================] - 1s 15ms/step - loss: 0.1236 - accuracy: 0.6934 - mean_squared_error: 0.1236 - val_loss: 0.1365 - val_accuracy: 0.6934 - val_mean_squared_error: 0.1365\n",
            "Epoch 52/100\n",
            "44/44 [==============================] - 1s 15ms/step - loss: 0.1236 - accuracy: 0.6934 - mean_squared_error: 0.1236 - val_loss: 0.1365 - val_accuracy: 0.6934 - val_mean_squared_error: 0.1365\n",
            "Epoch 53/100\n",
            "44/44 [==============================] - 1s 16ms/step - loss: 0.1236 - accuracy: 0.6934 - mean_squared_error: 0.1236 - val_loss: 0.1365 - val_accuracy: 0.6934 - val_mean_squared_error: 0.1365\n",
            "Epoch 54/100\n",
            "44/44 [==============================] - 1s 15ms/step - loss: 0.1236 - accuracy: 0.6934 - mean_squared_error: 0.1236 - val_loss: 0.1365 - val_accuracy: 0.6934 - val_mean_squared_error: 0.1365\n",
            "Epoch 55/100\n",
            "44/44 [==============================] - 1s 15ms/step - loss: 0.1236 - accuracy: 0.6934 - mean_squared_error: 0.1236 - val_loss: 0.1365 - val_accuracy: 0.6934 - val_mean_squared_error: 0.1365\n",
            "Epoch 56/100\n",
            "44/44 [==============================] - 1s 16ms/step - loss: 0.1236 - accuracy: 0.6934 - mean_squared_error: 0.1236 - val_loss: 0.1365 - val_accuracy: 0.6934 - val_mean_squared_error: 0.1365\n",
            "Epoch 57/100\n",
            "44/44 [==============================] - 1s 16ms/step - loss: 0.1236 - accuracy: 0.6934 - mean_squared_error: 0.1236 - val_loss: 0.1365 - val_accuracy: 0.6934 - val_mean_squared_error: 0.1365\n",
            "Epoch 58/100\n",
            "44/44 [==============================] - 1s 17ms/step - loss: 0.1236 - accuracy: 0.6934 - mean_squared_error: 0.1236 - val_loss: 0.1365 - val_accuracy: 0.6934 - val_mean_squared_error: 0.1365\n",
            "Epoch 59/100\n",
            "44/44 [==============================] - 1s 17ms/step - loss: 0.1236 - accuracy: 0.6934 - mean_squared_error: 0.1236 - val_loss: 0.1365 - val_accuracy: 0.6934 - val_mean_squared_error: 0.1365\n",
            "Epoch 60/100\n",
            "44/44 [==============================] - 1s 17ms/step - loss: 0.1236 - accuracy: 0.6934 - mean_squared_error: 0.1236 - val_loss: 0.1365 - val_accuracy: 0.6934 - val_mean_squared_error: 0.1365\n",
            "Epoch 61/100\n",
            "44/44 [==============================] - 1s 16ms/step - loss: 0.1236 - accuracy: 0.6934 - mean_squared_error: 0.1236 - val_loss: 0.1365 - val_accuracy: 0.6934 - val_mean_squared_error: 0.1365\n",
            "Epoch 62/100\n",
            "44/44 [==============================] - 1s 16ms/step - loss: 0.1236 - accuracy: 0.6934 - mean_squared_error: 0.1236 - val_loss: 0.1365 - val_accuracy: 0.6934 - val_mean_squared_error: 0.1365\n",
            "Epoch 63/100\n",
            "44/44 [==============================] - 1s 17ms/step - loss: 0.1236 - accuracy: 0.6934 - mean_squared_error: 0.1236 - val_loss: 0.1365 - val_accuracy: 0.6934 - val_mean_squared_error: 0.1365\n",
            "Epoch 64/100\n",
            "44/44 [==============================] - 1s 19ms/step - loss: 0.1236 - accuracy: 0.6934 - mean_squared_error: 0.1236 - val_loss: 0.1365 - val_accuracy: 0.6934 - val_mean_squared_error: 0.1365\n",
            "Epoch 65/100\n",
            "44/44 [==============================] - 1s 15ms/step - loss: 0.1236 - accuracy: 0.6934 - mean_squared_error: 0.1236 - val_loss: 0.1365 - val_accuracy: 0.6934 - val_mean_squared_error: 0.1365\n",
            "Epoch 66/100\n",
            "44/44 [==============================] - 1s 15ms/step - loss: 0.1236 - accuracy: 0.6934 - mean_squared_error: 0.1236 - val_loss: 0.1365 - val_accuracy: 0.6934 - val_mean_squared_error: 0.1365\n",
            "Epoch 67/100\n",
            "44/44 [==============================] - 1s 17ms/step - loss: 0.1236 - accuracy: 0.6934 - mean_squared_error: 0.1236 - val_loss: 0.1365 - val_accuracy: 0.6934 - val_mean_squared_error: 0.1365\n",
            "Epoch 68/100\n",
            "44/44 [==============================] - 1s 16ms/step - loss: 0.1236 - accuracy: 0.6934 - mean_squared_error: 0.1236 - val_loss: 0.1365 - val_accuracy: 0.6934 - val_mean_squared_error: 0.1365\n",
            "Epoch 69/100\n",
            "44/44 [==============================] - 1s 15ms/step - loss: 0.1236 - accuracy: 0.6934 - mean_squared_error: 0.1236 - val_loss: 0.1365 - val_accuracy: 0.6934 - val_mean_squared_error: 0.1365\n",
            "Epoch 70/100\n",
            "44/44 [==============================] - 1s 15ms/step - loss: 0.1236 - accuracy: 0.6934 - mean_squared_error: 0.1236 - val_loss: 0.1365 - val_accuracy: 0.6934 - val_mean_squared_error: 0.1365\n",
            "Epoch 71/100\n",
            "44/44 [==============================] - 1s 15ms/step - loss: 0.1236 - accuracy: 0.6934 - mean_squared_error: 0.1236 - val_loss: 0.1365 - val_accuracy: 0.6934 - val_mean_squared_error: 0.1365\n",
            "Epoch 72/100\n",
            "44/44 [==============================] - 1s 15ms/step - loss: 0.1236 - accuracy: 0.6934 - mean_squared_error: 0.1236 - val_loss: 0.1365 - val_accuracy: 0.6934 - val_mean_squared_error: 0.1365\n",
            "Epoch 73/100\n",
            "44/44 [==============================] - 1s 16ms/step - loss: 0.1236 - accuracy: 0.6934 - mean_squared_error: 0.1236 - val_loss: 0.1365 - val_accuracy: 0.6934 - val_mean_squared_error: 0.1365\n",
            "Epoch 74/100\n",
            "44/44 [==============================] - 1s 16ms/step - loss: 0.1236 - accuracy: 0.6934 - mean_squared_error: 0.1236 - val_loss: 0.1365 - val_accuracy: 0.6934 - val_mean_squared_error: 0.1365\n",
            "Epoch 75/100\n",
            "44/44 [==============================] - 1s 16ms/step - loss: 0.1236 - accuracy: 0.6934 - mean_squared_error: 0.1236 - val_loss: 0.1365 - val_accuracy: 0.6934 - val_mean_squared_error: 0.1365\n",
            "Epoch 76/100\n",
            "44/44 [==============================] - 1s 16ms/step - loss: 0.1236 - accuracy: 0.6934 - mean_squared_error: 0.1236 - val_loss: 0.1365 - val_accuracy: 0.6934 - val_mean_squared_error: 0.1365\n",
            "Epoch 77/100\n",
            "44/44 [==============================] - 1s 15ms/step - loss: 0.1236 - accuracy: 0.6934 - mean_squared_error: 0.1236 - val_loss: 0.1365 - val_accuracy: 0.6934 - val_mean_squared_error: 0.1365\n",
            "Epoch 78/100\n",
            "44/44 [==============================] - 1s 15ms/step - loss: 0.1236 - accuracy: 0.6934 - mean_squared_error: 0.1236 - val_loss: 0.1365 - val_accuracy: 0.6934 - val_mean_squared_error: 0.1365\n",
            "Epoch 79/100\n",
            "44/44 [==============================] - 1s 17ms/step - loss: 0.1236 - accuracy: 0.6934 - mean_squared_error: 0.1236 - val_loss: 0.1365 - val_accuracy: 0.6934 - val_mean_squared_error: 0.1365\n",
            "Epoch 80/100\n",
            "44/44 [==============================] - 1s 17ms/step - loss: 0.1236 - accuracy: 0.6934 - mean_squared_error: 0.1236 - val_loss: 0.1365 - val_accuracy: 0.6934 - val_mean_squared_error: 0.1365\n",
            "Epoch 81/100\n",
            "44/44 [==============================] - 1s 16ms/step - loss: 0.1236 - accuracy: 0.6934 - mean_squared_error: 0.1236 - val_loss: 0.1365 - val_accuracy: 0.6934 - val_mean_squared_error: 0.1365\n",
            "Epoch 82/100\n",
            "44/44 [==============================] - 1s 15ms/step - loss: 0.1236 - accuracy: 0.6934 - mean_squared_error: 0.1236 - val_loss: 0.1365 - val_accuracy: 0.6934 - val_mean_squared_error: 0.1365\n",
            "Epoch 83/100\n",
            "44/44 [==============================] - 1s 16ms/step - loss: 0.1236 - accuracy: 0.6934 - mean_squared_error: 0.1236 - val_loss: 0.1365 - val_accuracy: 0.6934 - val_mean_squared_error: 0.1365\n",
            "Epoch 84/100\n",
            "44/44 [==============================] - 1s 17ms/step - loss: 0.1236 - accuracy: 0.6934 - mean_squared_error: 0.1236 - val_loss: 0.1365 - val_accuracy: 0.6934 - val_mean_squared_error: 0.1365\n",
            "Epoch 85/100\n",
            "44/44 [==============================] - 1s 15ms/step - loss: 0.1236 - accuracy: 0.6934 - mean_squared_error: 0.1236 - val_loss: 0.1365 - val_accuracy: 0.6934 - val_mean_squared_error: 0.1365\n",
            "Epoch 86/100\n",
            "44/44 [==============================] - 1s 16ms/step - loss: 0.1236 - accuracy: 0.6934 - mean_squared_error: 0.1236 - val_loss: 0.1365 - val_accuracy: 0.6934 - val_mean_squared_error: 0.1365\n",
            "Epoch 87/100\n",
            "44/44 [==============================] - 1s 16ms/step - loss: 0.1236 - accuracy: 0.6934 - mean_squared_error: 0.1236 - val_loss: 0.1365 - val_accuracy: 0.6934 - val_mean_squared_error: 0.1365\n",
            "Epoch 88/100\n",
            "44/44 [==============================] - 1s 16ms/step - loss: 0.1236 - accuracy: 0.6934 - mean_squared_error: 0.1236 - val_loss: 0.1365 - val_accuracy: 0.6934 - val_mean_squared_error: 0.1365\n",
            "Epoch 89/100\n",
            "44/44 [==============================] - 1s 15ms/step - loss: 0.1236 - accuracy: 0.6934 - mean_squared_error: 0.1236 - val_loss: 0.1365 - val_accuracy: 0.6934 - val_mean_squared_error: 0.1365\n",
            "Epoch 90/100\n",
            "44/44 [==============================] - 1s 15ms/step - loss: 0.1236 - accuracy: 0.6934 - mean_squared_error: 0.1236 - val_loss: 0.1365 - val_accuracy: 0.6934 - val_mean_squared_error: 0.1365\n",
            "Epoch 91/100\n",
            "44/44 [==============================] - 1s 16ms/step - loss: 0.1236 - accuracy: 0.6934 - mean_squared_error: 0.1236 - val_loss: 0.1365 - val_accuracy: 0.6934 - val_mean_squared_error: 0.1365\n",
            "Epoch 92/100\n",
            "44/44 [==============================] - 1s 16ms/step - loss: 0.1236 - accuracy: 0.6934 - mean_squared_error: 0.1236 - val_loss: 0.1365 - val_accuracy: 0.6934 - val_mean_squared_error: 0.1365\n",
            "Epoch 93/100\n",
            "44/44 [==============================] - 1s 16ms/step - loss: 0.1236 - accuracy: 0.6934 - mean_squared_error: 0.1236 - val_loss: 0.1365 - val_accuracy: 0.6934 - val_mean_squared_error: 0.1365\n",
            "Epoch 94/100\n",
            "44/44 [==============================] - 1s 15ms/step - loss: 0.1236 - accuracy: 0.6934 - mean_squared_error: 0.1236 - val_loss: 0.1365 - val_accuracy: 0.6934 - val_mean_squared_error: 0.1365\n",
            "Epoch 95/100\n",
            "44/44 [==============================] - 1s 15ms/step - loss: 0.1236 - accuracy: 0.6934 - mean_squared_error: 0.1236 - val_loss: 0.1365 - val_accuracy: 0.6934 - val_mean_squared_error: 0.1365\n",
            "Epoch 96/100\n",
            "44/44 [==============================] - 1s 15ms/step - loss: 0.1236 - accuracy: 0.6934 - mean_squared_error: 0.1236 - val_loss: 0.1365 - val_accuracy: 0.6934 - val_mean_squared_error: 0.1365\n",
            "Epoch 97/100\n",
            "44/44 [==============================] - 1s 15ms/step - loss: 0.1236 - accuracy: 0.6934 - mean_squared_error: 0.1236 - val_loss: 0.1365 - val_accuracy: 0.6934 - val_mean_squared_error: 0.1365\n",
            "Epoch 98/100\n",
            "44/44 [==============================] - 1s 15ms/step - loss: 0.1236 - accuracy: 0.6934 - mean_squared_error: 0.1236 - val_loss: 0.1365 - val_accuracy: 0.6934 - val_mean_squared_error: 0.1365\n",
            "Epoch 99/100\n",
            "44/44 [==============================] - 1s 15ms/step - loss: 0.1236 - accuracy: 0.6934 - mean_squared_error: 0.1236 - val_loss: 0.1365 - val_accuracy: 0.6934 - val_mean_squared_error: 0.1365\n",
            "Epoch 100/100\n",
            "44/44 [==============================] - 1s 15ms/step - loss: 0.1236 - accuracy: 0.6934 - mean_squared_error: 0.1236 - val_loss: 0.1365 - val_accuracy: 0.6934 - val_mean_squared_error: 0.1365\n"
          ]
        }
      ]
    },
    {
      "cell_type": "code",
      "metadata": {
        "colab": {
          "base_uri": "https://localhost:8080/"
        },
        "id": "9tocgyNcu0Rz",
        "outputId": "a15d59a9-43c4-45a2-ba24-1debb2d232b9"
      },
      "source": [
        "from sklearn.metrics import mean_squared_error\n",
        "loss, accuracy,mean_squared_error = model_LSTM.evaluate(X_test, y_test, verbose=0)\n",
        "print('Accuracy: %f' % accuracy)\n",
        "print('Error Rate: %f' % (1 - accuracy))\n",
        "print('Mean Squared Error: %f' % mean_squared_error)"
      ],
      "execution_count": null,
      "outputs": [
        {
          "output_type": "stream",
          "name": "stdout",
          "text": [
            "Accuracy: 0.693400\n",
            "Error Rate: 0.306600\n",
            "Mean Squared Error: 0.155395\n"
          ]
        }
      ]
    }
  ]
}